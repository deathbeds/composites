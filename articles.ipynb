{
 "cells": [
  {
   "cell_type": "markdown",
   "metadata": {},
   "source": [
    "`articles` are `callable` user defined lists in python. Use arthimetic and list operations to compose dense higher-order functions.   "
   ]
  },
  {
   "cell_type": "code",
   "execution_count": 1,
   "metadata": {
    "collapsed": true
   },
   "outputs": [],
   "source": [
    "from functools import singledispatch, partialmethod, wraps\n",
    "from itertools import zip_longest\n",
    "from collections import ChainMap\n",
    "from toolz.curried import first, isiterable, partial, identity, count, get, concat, flip\n",
    "from copy import copy\n",
    "__all__ = 'a', 'an', 'the', 'then', 'f', 'star', 'flip', 'do', \n",
    "from operator import not_\n",
    "from collections import UserList, OrderedDict\n",
    "\n",
    "dunder = '__{}__'.format"
   ]
  },
  {
   "cell_type": "code",
   "execution_count": 2,
   "metadata": {
    "collapsed": true
   },
   "outputs": [],
   "source": [
    "def append_methods(cls, ignore=set()):\n",
    "    \"\"\"Methods to append functions to a composition.\"\"\"\n",
    "    # mimic **all** list methods onto the **cls**\n",
    "    for attr in dir(UserList):\n",
    "        if attr not in ignore and attr[0].islower():\n",
    "            setattr(cls, attr, partialmethod(list_attr, attr))\n",
    "    # attach the *, +, >>, - operators to the **cls**s\n",
    "    for other in ['mul', 'add', 'rshift' ,'sub']:\n",
    "        setattr(cls, dunder(other), getattr(cls, 'append'))        \n",
    "    return cls"
   ]
  },
  {
   "cell_type": "code",
   "execution_count": 3,
   "metadata": {
    "collapsed": true
   },
   "outputs": [],
   "source": [
    "def list_attr(self, attr, *args): \n",
    "    \"\"\"Surrogate function to map userlist attributes to the composition\"\"\"\n",
    "    return getattr(self.data, attr)(*args) or self"
   ]
  },
  {
   "cell_type": "markdown",
   "metadata": {},
   "source": [
    "# Composition"
   ]
  },
  {
   "cell_type": "code",
   "execution_count": 4,
   "metadata": {
    "collapsed": true
   },
   "outputs": [],
   "source": [
    "@append_methods\n",
    "class compose(UserList):\n",
    "    \"\"\"The main class for function composition.\"\"\"\n",
    "    \n",
    "    # __kwdefaults__ contains default arguments and values\n",
    "    __kwdefaults__ = ['data', list()],\n",
    "        \n",
    "    def __new__(cls, *args, **kwargs):\n",
    "        if not isinstance(cls.__kwdefaults__, OrderedDict):\n",
    "            cls.__kwdefaults__ = OrderedDict(cls.__kwdefaults__)\n",
    "        cls.__slots__ = tuple(cls.__kwdefaults__.keys())\n",
    "        return super().__new__(cls)\n",
    "    \n",
    "    def __init__(self, *args, **kwargs):\n",
    "        super().__init__()\n",
    "        for i, (slot, arg) in enumerate(zip_longest(self.__slots__, args)):\n",
    "            default = self.__kwdefaults__[slot]\n",
    "\n",
    "            arg = kwargs.pop(slot, copy(default) if i >= len(args) else arg)\n",
    "            \n",
    "            if slot == 'data' and isinstance(arg, dict): arg = arg.items()\n",
    "\n",
    "            if isiterable(default):\n",
    "                if not isiterable(arg):\n",
    "                    arg = type(default)([arg])\n",
    "                if not isinstance(arg, type(default)):\n",
    "                    arg = type(default)(arg)\n",
    "                    \n",
    "            setattr(self, slot, arg)\n",
    "         \n",
    "    # getattr stays here because some operations are defined below\n",
    "    def __getattr__(self, attr):\n",
    "        if hasattr(type(self), attr):\n",
    "            return getattr(type(self), attr)(self)\n",
    "        def wrapper(*args, **kwargs):\n",
    "            callable = self._attributes_[attr]\n",
    "            if args or kwargs:                    \n",
    "                callable = partial_attr(callable, *args, **kwargs)\n",
    "            return self.append(callable)\n",
    "        return wraps(self._attributes_[attr].data[0])(wrapper)\n",
    "        \n",
    "    def __getitem__(self, object):\n",
    "        # An empty slice returns self\n",
    "        if object == slice(None):\n",
    "            return self\n",
    "        # An iterable object is evaluated a callable map.\n",
    "        if isiterable(object) and not isinstance(object, str):\n",
    "            object = juxt(object)\n",
    "        # An other object is included in the composition.\n",
    "        if callable(object):\n",
    "            return self.append(object)\n",
    "        return super().__getitem__(object)\n",
    "\n",
    "    def __dir__(self):\n",
    "        \"\"\"List the attributes available on the object.\"\"\"\n",
    "        return list(super().__dir__()) + dir(self._attributes_)\n",
    "    \n",
    "    def __call__(self, *args, **kwargs):\n",
    "        \"\"\"Call an iterable as a function evaluating the arguments in serial.\"\"\"\n",
    "        for value in self:\n",
    "            args, kwargs = (\n",
    "                # Return the value of non-callables, they are constants\n",
    "                value if not callable(value) \n",
    "                # Otherwise call the function\n",
    "                else [value(*args, **kwargs)]), dict()\n",
    "        return args[0] if len(args) else None    \n",
    "    \n",
    "    \n",
    "    def __pow__(self, object):\n",
    "        \"\"\"a**(int,) is equivalent to typing checking\"\"\"\n",
    "        \n",
    "        # Make sure the object is a tuple if it is in a class.\n",
    "        if isinstance(object, type):\n",
    "            object = object,\n",
    "            \n",
    "        if isinstance(object, tuple):\n",
    "            object = partial(flip(isinstance), object)\n",
    "        \n",
    "        # Step through the function if the condition is true\n",
    "        return condition_attr(self, flip(ifthen), object)\n",
    "    \n",
    "    def __copy__(self):\n",
    "        new = type(self)()\n",
    "        new.__setstate__(tuple(map(copy, self.__getstate__()))) or new\n",
    "        new.data = list(map(copy, self))\n",
    "        return new\n",
    "\n",
    "    def __exit__(self, exc_type, exc_value, traceback):\n",
    "        pass\n",
    "    \n",
    "    __enter__ = __deepcopy__ = __copy__\n",
    "    \n",
    "    # Unary operations. \n",
    "    __abs__ = __call__\n",
    "    \n",
    "    def __pos__(self): return self[bool]\n",
    "    \n",
    "    def __neg__(self): return self[not_]\n",
    "    \n",
    "    def __reversed__(self): \n",
    "        return type(self)(super().__reversed__())\n",
    "    \n",
    "    __invert__ = __reversed__\n",
    "    \n",
    "    # State operations\n",
    "    def __getstate__(self):\n",
    "        return tuple(map(partial(getattr, self), self.__slots__))\n",
    "    \n",
    "    def __setstate__(self, state):\n",
    "        for key, value in zip(self.__slots__, state):\n",
    "            setattr(self, key, value)\n",
    "\n",
    "    def __repr__(self):\n",
    "        return ':'.join(map(repr, self.__getstate__()))\n",
    "        \n",
    "    \n",
    "    def __hash__(self):\n",
    "        return hash(tuple(self))"
   ]
  },
  {
   "cell_type": "code",
   "execution_count": 5,
   "metadata": {
    "collapsed": true
   },
   "outputs": [],
   "source": [
    "def partial_attr(callable: 'compose', *args, **kwargs):\n",
    "    # Attributes with partials are called immediately on the chain like `attrgetter`.\n",
    "    if type(callable[0]) is __import__('functools').partial:\n",
    "        return callable(*args, **kwargs) \n",
    "    return partial(callable, *args, **kwargs) "
   ]
  },
  {
   "cell_type": "markdown",
   "metadata": {},
   "source": [
    "## Compositions"
   ]
  },
  {
   "cell_type": "code",
   "execution_count": 30,
   "metadata": {
    "collapsed": true
   },
   "outputs": [],
   "source": [
    "class juxt(compose):\n",
    "    \"\"\"Any mapping is a callable, call each of its elements.\"\"\"\n",
    "    __kwdefaults__ = ['data', list()], ['type', tuple]\n",
    "    def __init__(self, *args):\n",
    "        super().__init__(*args)\n",
    "        if isiterable(args[0]) and not isinstance(args[0], type(self).__mro__[1]):\n",
    "            self.type = type(args[0])\n",
    "            \n",
    "    def __call__(self, *args, **kwargs):\n",
    "        result = list()\n",
    "        for callable in self:\n",
    "            if not isinstance(callable, (str, compose)) and isiterable(callable):\n",
    "                callable = juxt(callable)\n",
    "            \n",
    "            if not isinstance(callable, compose):\n",
    "                callable = compose([callable])\n",
    "            result.append(callable(*args, **kwargs))\n",
    "        return self.type(result)"
   ]
  },
  {
   "cell_type": "code",
   "execution_count": 7,
   "metadata": {
    "collapsed": true
   },
   "outputs": [],
   "source": [
    "class flip(compose):\n",
    "    \"\"\"Call a function with the positional arguments reversed\"\"\"\n",
    "    def __call__(self, *args, **kwargs):\n",
    "        return super(flip, self).__call__(*reversed(args), **kwargs)"
   ]
  },
  {
   "cell_type": "code",
   "execution_count": 8,
   "metadata": {
    "collapsed": true
   },
   "outputs": [],
   "source": [
    "class do(compose):\n",
    "    \"\"\"Call a function and return input argument.\"\"\"\n",
    "    def __call__(self, *args, **kwargs):\n",
    "        super(do, self).__call__(*args, **kwargs)\n",
    "        return args[0] if args else None"
   ]
  },
  {
   "cell_type": "code",
   "execution_count": 9,
   "metadata": {
    "collapsed": true
   },
   "outputs": [],
   "source": [
    "class star(compose):\n",
    "    \"\"\"Call a function starring the arguments for sequences and starring the keywords for containers.\"\"\"\n",
    "    def __call__(self, *args, **kwargs):\n",
    "        args = args[0] if len(args) is 1 else (args,)\n",
    "        if not isiterable(args): \n",
    "            args = [(args,)]\n",
    "        if isinstance(args, dict):\n",
    "            args = kwargs.update(args) or tuple()\n",
    "        return super(star, self).__call__(*args, **kwargs)"
   ]
  },
  {
   "cell_type": "markdown",
   "metadata": {},
   "source": [
    "## Conditional Compositions"
   ]
  },
  {
   "cell_type": "code",
   "execution_count": 10,
   "metadata": {
    "collapsed": true
   },
   "outputs": [],
   "source": [
    "class condition(compose):\n",
    "    __kwdefaults__ = ['condition', compose()], ['data', list()]"
   ]
  },
  {
   "cell_type": "code",
   "execution_count": 11,
   "metadata": {
    "collapsed": true
   },
   "outputs": [],
   "source": [
    "class ifthen(condition):\n",
    "    \"\"\"Evaluate a function if a condition is true.\"\"\"\n",
    "    def __call__(self, *args, **kwargs):\n",
    "        return self.condition(*args, **kwargs) and super(ifthen, self).__call__(*args, **kwargs)\n",
    "\n",
    "class ifnot(condition):\n",
    "    \"\"\"Evaluate a function if a condition is false.\"\"\"\n",
    "    def __call__(self, *args, **kwargs):\n",
    "        return self.condition(*args, **kwargs) or super(ifnot, self).__call__(*args, **kwargs)"
   ]
  },
  {
   "cell_type": "code",
   "execution_count": 12,
   "metadata": {
    "collapsed": true
   },
   "outputs": [],
   "source": [
    "class step(condition):\n",
    "    \"\"\"Evaluate a function only if a condition is true.\"\"\"\n",
    "    def __call__(self, *args, **kwargs):\n",
    "        result = self.condition(*args, **kwargs)\n",
    "        return result and super(step, self).__call__(result)"
   ]
  },
  {
   "cell_type": "markdown",
   "metadata": {},
   "source": [
    "## Exception compositon"
   ]
  },
  {
   "cell_type": "code",
   "execution_count": 13,
   "metadata": {
    "collapsed": true
   },
   "outputs": [],
   "source": [
    "class excepts(compose):\n",
    "    \"\"\"Allow acception when calling a function\"\"\"\n",
    "    __kwdefaults__ = ['data', identity], ['exceptions', tuple()], \n",
    "    \n",
    "    def __call__(self, *args, **kwargs):\n",
    "        try:\n",
    "            return super(excepts, self).__call__(*args, **kwargs)\n",
    "        except self.exceptions as e:\n",
    "            return e"
   ]
  },
  {
   "cell_type": "code",
   "execution_count": 14,
   "metadata": {},
   "outputs": [
    {
     "data": {
      "text/plain": [
       "__main__.condition"
      ]
     },
     "execution_count": 14,
     "metadata": {},
     "output_type": "execute_result"
    }
   ],
   "source": [
    "append_methods(condition, {'append'})"
   ]
  },
  {
   "cell_type": "markdown",
   "metadata": {},
   "source": [
    "## Generic attributes\n",
    "\n",
    "Append attributes to the composition object from other Python namespaces.\n",
    "\n",
    "    'builtins', 'pathlib', 'operator', 'json', 'toolz'"
   ]
  },
  {
   "cell_type": "code",
   "execution_count": 15,
   "metadata": {
    "collapsed": true
   },
   "outputs": [],
   "source": [
    "@singledispatch\n",
    "def resolve_attr(parent, object):\n",
    "    \"\"\"How to resolve decorated attribute values.\"\"\"\n",
    "    return (isinstance(object, compose) and identity or compose)(object)\n",
    "\n",
    "@resolve_attr.register(partial)\n",
    "def _resolve_attr(parent, object):\n",
    "    return object\n",
    "\n",
    "@resolve_attr.register(type)\n",
    "def _resolve_attr(parent, object):\n",
    "    return flip(object)"
   ]
  },
  {
   "cell_type": "code",
   "execution_count": 16,
   "metadata": {
    "collapsed": true
   },
   "outputs": [],
   "source": [
    "class attributes(ChainMap):\n",
    "    def __getitem__(self, key):\n",
    "        for mapping in self.maps:\n",
    "            try:\n",
    "                return resolve_attr(mapping, getattr(mapping, '__dict__', mapping)[key],)\n",
    "            except KeyError: \n",
    "                pass\n",
    "        try:\n",
    "            return self.new_child(type(key) is str and __import__(key) or key)\n",
    "        except:\n",
    "            raise AttributeError(key)\n",
    "        \n",
    "    def __dir__(self):\n",
    "        return concat(map(lambda x: getattr(x, '__dict__', x).keys(), self.maps))\n",
    "        \n",
    "compose._attributes_ = attributes()['builtins']['pathlib'][__import__('pathlib').Path].new_child(\n",
    "    {\n",
    "        k: (\n",
    "            partial if k.endswith('getter')  \n",
    "            # some need to flip\n",
    "            else flip) (v)\n",
    "        for k, v in vars(__import__('operator')).items()\n",
    "    }\n",
    ")['json']['toolz']"
   ]
  },
  {
   "cell_type": "code",
   "execution_count": 17,
   "metadata": {
    "collapsed": true
   },
   "outputs": [],
   "source": [
    "def condition_attr(self, callable, object):\n",
    "    \"\"\"Append attributes for condition compositions.\"\"\"\n",
    "    return type(self)().append(callable(self, object))\n",
    "\n",
    "def right_attr(self, attr, other):\n",
    "    \"\"\"Add the right attribute operations to the function\"\"\"\n",
    "    return getattr(compose([other]), attr)(self)\n",
    "\n",
    "def extra_methods(cls):\n",
    "    cls.__and__ = partialmethod(condition_attr, step)\n",
    "    cls.__or__ = partialmethod(condition_attr, ifnot)\n",
    "    cls.__xor__ = partialmethod(condition_attr, excepts)\n",
    "    cls.__truediv__ = property(partial(flip(cls.__getattr__), 'map'))\n",
    "    cls.__floordiv__ = property(partial(flip(cls.__getattr__), 'filter'))\n",
    "    cls.__matmul__ = property(partial(flip(cls.__getattr__), 'groupby'))\n",
    "    cls.__mod__ = property(partial(flip(cls.__getattr__), 'reduce'))\n",
    "    cls.__lshift__ = property(partial(flip(cls.__getattr__), 'do'))\n",
    "\n",
    "    for other in ['mul', 'add', 'rshift' ,'sub', 'and', 'or', 'xor', 'truediv', 'floordiv', 'matmul', 'mod', 'lshift']:\n",
    "        setattr(cls, dunder('i'+other), getattr(compose, dunder(other)))\n",
    "        setattr(cls, dunder('r'+other), partialmethod(right_attr, dunder(other)))\n",
    "        \n",
    "        \n",
    "    return cls"
   ]
  },
  {
   "cell_type": "code",
   "execution_count": 18,
   "metadata": {},
   "outputs": [
    {
     "data": {
      "text/plain": [
       "__main__.compose"
      ]
     },
     "execution_count": 18,
     "metadata": {},
     "output_type": "execute_result"
    }
   ],
   "source": [
    "extra_methods(compose)"
   ]
  },
  {
   "cell_type": "markdown",
   "metadata": {},
   "source": [
    "# Composition Stack"
   ]
  },
  {
   "cell_type": "code",
   "execution_count": 19,
   "metadata": {
    "collapsed": true
   },
   "outputs": [],
   "source": [
    "class stack(compose):\n",
    "    \"\"\"A composition stack with push and pop methods.  It chains compositions together\n",
    "    allowing a chainable api to map, filter, reduce, and groupby functions.|\n",
    "    \"\"\"\n",
    "    __kwdefaults__ = ['data', list([compose()])], \n",
    "    \n",
    "    def __init__(self, *args):\n",
    "        super().__init__(*args)\n",
    "        # nested copy\n",
    "        self.data = list(map(copy, self.data))\n",
    "\n",
    "    def push(self, type=compose):\n",
    "        self.data.append(type())\n",
    "        return self\n",
    "    \n",
    "    def pop(self, *args):\n",
    "        self.data.pop(*args)\n",
    "        return self\n",
    "\n",
    "    def append(self, *args, **kwargs):\n",
    "        try:\n",
    "            self.data[-1].append(*args, **kwargs)\n",
    "        except AttributeError:\n",
    "            self.push()\n",
    "            self.data[-1].append(*args, **kwargs)\n",
    "        return self    \n",
    "\n",
    "    def __bool__(self):\n",
    "        return any(map(bool, self))"
   ]
  },
  {
   "cell_type": "code",
   "execution_count": 20,
   "metadata": {},
   "outputs": [
    {
     "data": {
      "text/plain": [
       "__main__.stack"
      ]
     },
     "execution_count": 20,
     "metadata": {},
     "output_type": "execute_result"
    }
   ],
   "source": [
    "extra_methods(append_methods(stack, {'pop', 'append'}))"
   ]
  },
  {
   "cell_type": "markdown",
   "metadata": {},
   "source": [
    "# Composition Factory\n",
    "\n",
    "`call` is a stack factory.  Use call to:\n",
    "\n",
    "* Create partial - `a(*args, **kwargs)`\n",
    "* Generate new compositions."
   ]
  },
  {
   "cell_type": "code",
   "execution_count": 21,
   "metadata": {},
   "outputs": [
    {
     "data": {
      "text/plain": [
       "__main__.call"
      ]
     },
     "execution_count": 21,
     "metadata": {},
     "output_type": "execute_result"
    }
   ],
   "source": [
    "class call(stack):\n",
    "    args, kwargs = tuple(), dict()    \n",
    "    \n",
    "    def append(self, object=None):\n",
    "        if self.args or self.kwargs:\n",
    "            object = partial(object, *self.args, **self.kwargs)\n",
    "        return stack().append(object)\n",
    "    \n",
    "    def __getitem__(self, object):\n",
    "        if object == slice(None):  \n",
    "            return stack()\n",
    "        return super().__getitem__(object)\n",
    "    \n",
    "    def __pow__(self, object):\n",
    "        return stack()**object\n",
    "    \n",
    "    def __call__(self, *args, **kwargs):     \n",
    "        self = type(self)()\n",
    "        self.args, self.kwargs = args, kwargs\n",
    "        return self\n",
    "        \n",
    "extra_methods(append_methods(call, {'append'}))"
   ]
  },
  {
   "cell_type": "code",
   "execution_count": 22,
   "metadata": {
    "collapsed": true
   },
   "outputs": [],
   "source": [
    "a = an = the = then = f = call()"
   ]
  }
 ],
 "metadata": {
  "anaconda-cloud": {},
  "kernelspec": {
   "display_name": "Python 3",
   "language": "python",
   "name": "python3"
  },
  "language_info": {
   "codemirror_mode": {
    "name": "ipython",
    "version": 3
   },
   "file_extension": ".py",
   "mimetype": "text/x-python",
   "name": "python",
   "nbconvert_exporter": "python",
   "pygments_lexer": "ipython3",
   "version": "3.5.3"
  },
  "nbconvert": {
   "nbconvert.exporters.templateexporter.TemplateExporter": {
    "JupyterApp": {
     "config_file": "./fidget/config.py"
    }
   }
  }
 },
 "nbformat": 4,
 "nbformat_minor": 2
}
