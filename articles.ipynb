{
 "cells": [
  {
   "cell_type": "code",
   "execution_count": 1,
   "metadata": {
    "collapsed": true
   },
   "outputs": [],
   "source": [
    "from collections import UserList\n",
    "from functools import partialmethod, wraps\n",
    "from inspect import signature, getdoc, getsource\n",
    "from itertools import zip_longest, starmap\n",
    "from operator import attrgetter, not_, eq, methodcaller, itemgetter\n",
    "from toolz.curried import isiterable, identity, concat, concatv, flip, cons, merge, memoize\n",
    "from toolz import map, groupby, filter, reduce\n",
    "from copy import copy\n",
    "dunder = '__{}__'.format\n",
    "__all__ = 'a', 'an', 'the', 'star', 'do', 'λ', 'juxt', 'compose', 'parallel', 'memo', 'then', 'ifthen', 'ifnot', 'excepts', 'instance', 'partial'"
   ]
  },
  {
   "cell_type": "code",
   "execution_count": 2,
   "metadata": {
    "collapsed": true
   },
   "outputs": [],
   "source": [
    "class functions(UserList):\n",
    "    \"\"\"functions is a callable list.\n",
    "    \n",
    "    >>> assert functions([range, len])(2, 10) is 8\n",
    "    >>> f = functions()\n",
    "    >>> assert f.copy() is not f and f.copy()[range] > f\n",
    "    \"\"\"\n",
    "    __slots__ = 'data',\n",
    "    _annotations_ = None\n",
    "    _name_ = None\n",
    "        \n",
    "    def __init__(self, data=None):\n",
    "        super().__init__(data and not isiterable(data) and [data] or data or list())\n",
    "        self.__qualname__ = __name__ + '.' + type(self).__name__\n",
    "    \n",
    "    def __call__(self, *args, **kwargs):\n",
    "        for value in self:\n",
    "            args, kwargs = ([value(*args, **kwargs)] if callable(value) else [value]), dict()\n",
    "        return args[0] if len(args) else None    \n",
    "    \n",
    "    def __getitem__(self, object):\n",
    "        if object == slice(None): return self        \n",
    "        return self.data[object] if isinstance(object, (int, slice)) else self.append(object)\n",
    "    \n",
    "    def __getattr__(self, attr, *args, **kwargs):\n",
    "        try:\n",
    "            return object.__getattribute__(self, attr)\n",
    "        except Exception as e:\n",
    "            if callable(attr):\n",
    "                return self[args or kwargs and partial(attr, *args, **kwargs) or attr]\n",
    "            raise e\n",
    "\n",
    "    def append(self, object):\n",
    "        return  self.data.append(object) or not self.data[0] and self.data.pop(0) or self        \n",
    "    \n",
    "    def __repr__(self):\n",
    "        return (type(self).__name__ or 'λ').replace('compose', 'λ') + ':' + super().__repr__()\n",
    "\n",
    "    @property\n",
    "    def __name__(self): return self._name_ or type(self).__name__\n",
    "            \n",
    "    @property\n",
    "    def __annotations__(self): \n",
    "        return self._annotations_ or self and getattr(self[0], dunder('annotations'), None) or {}\n",
    "    \n",
    "    @property\n",
    "    def __signature__(self): return signature(self[0])\n",
    "    \n",
    "    def __exit__(self, exc_type, exc_value, traceback): pass\n",
    "    def __hash__(self): return hash(tuple(self))\n",
    "    def __bool__(self): return any(self.data)\n",
    "    def __abs__(self): return self.__call__\n",
    "    def __reversed__(self): return type(self)(list(reversed(self.data)))      \n",
    "    def __getstate__(self): return tuple(getattr(self, slot) for slot in self.__slots__)\n",
    "    def __setstate__(self, state):\n",
    "        for attr, value in zip(self.__slots__, state): setattr(self, attr, value)\n",
    "            \n",
    "    def __copy__(self, memo=None):\n",
    "        new = type(self)()\n",
    "        return new.__setstate__(tuple(map(copy, self.__getstate__()))) or new\n",
    "\n",
    "    copy = __enter__ = __deepcopy__ = __copy__"
   ]
  },
  {
   "cell_type": "code",
   "execution_count": 3,
   "metadata": {
    "collapsed": true
   },
   "outputs": [],
   "source": [
    "class partial(__import__('functools').partial):\n",
    "    \"\"\"partial overloads functools.partial to provide equality and documentation.\n",
    "    \n",
    "    >>> f = partial(range, 10) \n",
    "    >>> f == partial(range, 10)\n",
    "    >>> assert partial(range, 10, 20) == partial(range, 10)\n",
    "    \"\"\"\n",
    "    def __eq__(self, other):\n",
    "        return isinstance(other, partial) and all(\n",
    "            (a is b) or (a == b) for a, b in zip_longest(*(cons(_.func, _.args) for _ in [self, other])))\n",
    "    \n",
    "    @property\n",
    "    def __doc__(self): return getdoc(self.func)\n",
    "\n",
    "class partial_attribute(partial):\n",
    "    \"\"\"partial_attribute is a partial for MethodType attributes.\n",
    "    \n",
    "    >>> f = partial_attribute(str.replace, 'x', 'y')\n",
    "    >>> assert f('xy') == 'yy'\n",
    "    \"\"\"\n",
    "    def __call__(self, object):\n",
    "        return callable(self.func) and self.func(object, *self.args, **self.keywords) or self.func"
   ]
  },
  {
   "cell_type": "code",
   "execution_count": 4,
   "metadata": {
    "collapsed": true
   },
   "outputs": [],
   "source": [
    "class compose(functions):\n",
    "    \"\"\"compose provides syntactic sugar to functions.\n",
    "    \n",
    "    Prefer using the factory articles `a`, `an`, `the`, and `λ` because they save\n",
    "    on typography in both naming and the use of parenthesis.\n",
    "    \n",
    "    >>> def mul(x): return x*10\n",
    "    >>> compose()[range].map(range).builtins.list()\n",
    "    λ:[<class 'range'>, partial(<class 'map'>, <class 'range'>), <class 'list'>]\n",
    "    \"\"\"\n",
    "    def __getitem__(self, object):\n",
    "        \"\"\"Use brackets to append functions to the composition.\n",
    "        >>> compose()[range][list]\n",
    "        λ:[<class 'range'>, <class 'list'>]\n",
    "        \n",
    "        Iterable items are juxtaposed.\n",
    "        >>> compose()[range][list, type]\n",
    "        λ:[<class 'range'>, juxt:[<class 'list'>, <class 'type'>]]\n",
    "        \"\"\"\n",
    "        if isiterable(object) and not isinstance(object, (str, compose)):\n",
    "            object = juxt(object)\n",
    "        return super().__getitem__(object)\n",
    "\n",
    "    def __getattr__(self, attr, *args, **kwargs):\n",
    "        \"\"\"extensible attribute method relying on compose.attributer\n",
    "        \n",
    "        >>> assert a.range().len() == a.builtins.range().builtins.len() == a[range].len()\n",
    "        \"\"\"\n",
    "        if callable(attr): return self[:][partial(attr, *args, **kwargs)]\n",
    "        try:\n",
    "            return super().__getattr__(attr, *args, **kwargs)\n",
    "        except AttributeError as e:\n",
    "            return getattr(attributer(self.attributer, None, self[:]), attr)\n",
    "\n",
    "    def __lshift__(self, object):          return self[do(object)]\n",
    "    def __xor__(self, object=slice(None)):             return excepts(object)[self]\n",
    "    def __or__(self, object=slice(None)):         return ifnot(self)[object] # There is no reasonable way to make this an attribute?\n",
    "    def __and__(self, object=slice(None)):        return ifthen(self)[object]\n",
    "    def __pow__(self, object=slice(None)):\n",
    "        self = self[:]\n",
    "        if isinstance(object, str):\n",
    "            return setattr(self, '_name_', object) or self\n",
    "        if isinstance(object, dict):\n",
    "            return setattr(self, '_annotations_', object) or self\n",
    "        return instance(object)[self]\n",
    "    __mul__ = __add__ = __rshift__ = __sub__ = __getitem__\n",
    "    __truediv__  = partialmethod(__getattr__, map)\n",
    "    __floordiv__ = partialmethod(__getattr__, filter)\n",
    "    __matmul__   = partialmethod(__getattr__, groupby)\n",
    "    __mod__      = partialmethod(__getattr__, reduce)\n",
    "    __pos__ = partialmethod(__getitem__, bool)\n",
    "    __neg__ = partialmethod(__getitem__, not_)\n",
    "    __invert__ = functions.__reversed__    \n",
    "\n",
    "    def __dir__(self): return super().__dir__() + dir(attributer(self.attributer))\n",
    "\n",
    "compose.attributer = list(map(__import__, [\n",
    "        'toolz', 'requests', 'builtins', 'json', 'pickle', 'io', \n",
    "        'collections', 'itertools', 'functools', 'pathlib', 'importlib', 'inspect']))\n",
    "compose.attributer.insert( 0, dict(fnmatch=partial(flip, __import__('fnmatch').fnmatch)))\n",
    "compose.attributer.append({\n",
    "        k: (partial if k.endswith('getter') or k.endswith('caller') else flip)(v)\n",
    "        for k, v in vars(__import__('operator')).items()})"
   ]
  },
  {
   "cell_type": "code",
   "execution_count": 5,
   "metadata": {
    "collapsed": true
   },
   "outputs": [],
   "source": [
    "compose.__truediv__.__doc__ = \"\"\">>> compose() / range\n",
    "λ:[partial(<class 'map'>, <class 'range'>)]\"\"\"\n",
    "compose.__floordiv__.__doc__ = \"\"\">>> compose() // range\n",
    "λ:[partial(<class 'filter'>, <class 'range'>)]\"\"\"\n",
    "compose.__matmul__.__doc__ = \"\"\">>> compose() @ range\n",
    "λ:[partial(<class 'groupby'>, <class 'range'>)]\"\"\"\n",
    "compose.__mod__.__doc__ = \"\"\">>> compose() % range\n",
    "λ:[partial(<class 'reduce'>, <class 'range'>)]\"\"\""
   ]
  },
  {
   "cell_type": "code",
   "execution_count": 6,
   "metadata": {
    "collapsed": true
   },
   "outputs": [],
   "source": [
    "class attributer(object):\n",
    "    \"\"\"attributer discovers attributes as functions \n",
    "    \n",
    "    >>> attrs = attributer([__import__('builtins'), __import__('operator')])\n",
    "    >>> assert attrs.range() == attrs.builtins.range() and attrs.range()[0] is range\n",
    "    >>> assert attrs.add()[0] is __import__('operator').add\n",
    "    \"\"\"\n",
    "    def __init__(self, maps=list(), parent=None, composition=None):\n",
    "        self._mapping, self.composition, self.parent = list(not isiterable(maps) and [maps] or maps), composition, parent\n",
    "\n",
    "    @property\n",
    "    def _map_(self): return slice(None) if self._mapping[0] is getdoc else self._mapping[0]\n",
    "    \n",
    "    @property\n",
    "    def _maps_(self): return [getattr(object, dunder('dict'), object) for object in self._mapping]\n",
    "    \n",
    "    def __getitem__(self, item):\n",
    "        for object in self._mapping:\n",
    "            if getattr(object, dunder('name'), \"\"\"\"\"\") == item: \n",
    "                return object, None\n",
    "        for raw, object in zip(self._mapping, self._maps_):\n",
    "            if item in object: \n",
    "                return object[item], raw\n",
    "        raise AttributeError(item)\n",
    "\n",
    "    def __dir__(self):\n",
    "        keys = list()\n",
    "        for raw, object in zip(self._mapping, self._maps_):\n",
    "            keys += [getattr(raw, dunder('name'), \"\"\"\"\"\")] + list(object.keys())\n",
    "        return list(sorted(filter(bool, keys)))\n",
    "            \n",
    "    def __getattr__(self, value): return self.__class__(*self[value], self.composition)\n",
    "    def __repr__(self): return repr(self._map_)\n",
    "    \n",
    "    @property\n",
    "    def __doc__(self):\n",
    "        try:\n",
    "            return getdoc(self._map_) or inspect.getsource(self._map_)\n",
    "        except: pass\n",
    "    \n",
    "    def __call__(self, *args, **kwargs):\n",
    "        value = self._map_\n",
    "        return (self.composition or compose())[\n",
    "            callable(value) and (\n",
    "                isinstance(self.parent, type) and partial_attribute(value, *args, **kwargs)\n",
    "                or type(value) is partial and not (value.args or value.keywords) and value.func(*args, **kwargs) \n",
    "                or (args or kwargs) and partial(value, *args, **kwargs)) or value]"
   ]
  },
  {
   "cell_type": "code",
   "execution_count": 7,
   "metadata": {
    "collapsed": true
   },
   "outputs": [],
   "source": [
    "class do(compose):\n",
    "    \"\"\"\n",
    "    >>> assert not compose()[print](10) and do()[print](10) is 10\n",
    "    10\n",
    "    10\n",
    "    \"\"\"\n",
    "    \n",
    "    def __call__(self, *args, **kwargs):\n",
    "        super(do, self).__call__(*args, **kwargs)\n",
    "        return args[0] if args else None"
   ]
  },
  {
   "cell_type": "code",
   "execution_count": 8,
   "metadata": {
    "collapsed": true
   },
   "outputs": [],
   "source": [
    "class juxt(compose):\n",
    "    \"\"\"juxtapose functions.\n",
    "    \n",
    "    >>> juxt([range, type])(10)\n",
    "    [range(0, 10), <class 'int'>]\n",
    "    \"\"\"\n",
    "    __slots__ = 'data', 'type'\n",
    "    \n",
    "    def __init__(self, data=None, type=None):\n",
    "        if isiterable(data) and not isinstance(data, self.__class__.__mro__[1]):\n",
    "            self.type = type or data.__class__ or tuple\n",
    "        super().__init__(list(data.items()) if issubclass(self.type, dict) else list(data) or list())\n",
    "\n",
    "    def __call__(self, *args, **kwargs):\n",
    "        result = list()\n",
    "        for callable in self.data:\n",
    "            if not isinstance(callable, (str, compose)) and isiterable(callable):\n",
    "                callable = juxt(callable)\n",
    "            if not isinstance(callable, compose):\n",
    "                callable = compose([callable])            \n",
    "            result.append(callable(*args, **kwargs))\n",
    "        return self.type(result)"
   ]
  },
  {
   "cell_type": "code",
   "execution_count": 9,
   "metadata": {
    "collapsed": true
   },
   "outputs": [],
   "source": [
    "class condition(compose):\n",
    "    __slots__ = 'condition', 'data'\n",
    "    def __init__(self, condition=bool, data=None):\n",
    "        setattr(self, 'condition', condition) or super().__init__(data)\n",
    "        \n",
    "class ifthen(condition):\n",
    "    def __call__(self, *args, **kwargs):\n",
    "        return self.condition(*args, **kwargs) and super(ifthen, self).__call__(*args, **kwargs)\n",
    "\n",
    "class ifnot(condition):\n",
    "    def __call__(self, *args, **kwargs):\n",
    "        return self.condition(*args, **kwargs) or super(ifnot, self).__call__(*args, **kwargs)\n",
    "\n",
    "class instance(ifthen):\n",
    "    def __init__(self, condition=None, data=None):        \n",
    "        if isinstance(condition, type): condition = condition,            \n",
    "        if isinstance(condition, tuple): condition = partial(flip(isinstance), condition)\n",
    "        super().__init__(condition, data)"
   ]
  },
  {
   "cell_type": "code",
   "execution_count": 10,
   "metadata": {
    "collapsed": true
   },
   "outputs": [],
   "source": [
    "class FalseException(object):\n",
    "    def __init__(self, exception): self.exception = exception\n",
    "    def __bool__(self):  return False\n",
    "    def __repr__(self): return repr(self.exception)\n",
    "\n",
    "class excepts(compose):\n",
    "    __slots__ = 'exceptions', 'data'\n",
    "    def __init__(self, exceptions=None, data=None):\n",
    "        setattr(self, 'exceptions', exceptions) or super().__init__(data)\n",
    "    \n",
    "    def __call__(self, *args, **kwargs):\n",
    "        try: return super(excepts, self).__call__(*args, **kwargs)\n",
    "        except self.exceptions as e:\n",
    "            return FalseException(e)"
   ]
  },
  {
   "cell_type": "code",
   "execution_count": 11,
   "metadata": {
    "collapsed": true
   },
   "outputs": [],
   "source": [
    "def right_attr(self, attr, object):\n",
    "    return compose()[object].__getattr__(attr)(self[:])\n",
    "\n",
    "def op_attr(self, attr, value): \n",
    "    return object.__getattribute__(self[:], attr)(value)\n",
    "        \n",
    "for other in ['mul', 'add', 'rshift' ,'sub', 'and', 'or', 'xor', 'truediv', 'floordiv', 'matmul', 'mod', 'lshift', 'pow']:\n",
    "    setattr(compose, dunder('i'+other), partialmethod(op_attr, dunder(other))) \n",
    "    setattr(compose, dunder('r'+other), partialmethod(right_attr, dunder(other)))\n",
    "\n",
    "for key, other in zip(('do', 'excepts', 'instance'), ('lshift', 'xor', 'pow')):\n",
    "    setattr(compose, key, getattr(compose, dunder(other)))\n",
    "\n",
    "del other, key"
   ]
  },
  {
   "cell_type": "code",
   "execution_count": 12,
   "metadata": {
    "collapsed": true
   },
   "outputs": [],
   "source": [
    "class factory(compose):\n",
    "    \"\"\"A factory for compositions.\n",
    "    \n",
    "    >>> a.range()\n",
    "    λ:[<class 'range'>]\n",
    "    \"\"\"\n",
    "    __slots__ = 'args', 'kwargs', 'data'\n",
    "    def __init__(self, args=None, kwargs=None):\n",
    "        self.args, self.kwargs, self.data = args, kwargs, list()\n",
    "        \n",
    "    def __getitem__(self, attr):\n",
    "        if isinstance(self.args, tuple) and  isinstance(self.kwargs, dict):\n",
    "            attr = attr == slice(None) and abs(self) or partial(attr, *self.args, **self.kwargs)\n",
    "        return compose()[attr]\n",
    "            \n",
    "    def __call__(self, *args, **kwargs):\n",
    "        return (\n",
    "            next(concatv(self.args, args)) if isinstance(self.args, tuple) and  isinstance(self.kwargs, dict) \n",
    "            else factory(args, kwargs))\n",
    "    \n",
    "    __mul__ = __add__ = __rshift__ = __sub__ = push = __getitem__\n",
    "\n",
    "a = an = the = then = λ = factory(compose)"
   ]
  },
  {
   "cell_type": "code",
   "execution_count": 13,
   "metadata": {
    "collapsed": true
   },
   "outputs": [],
   "source": [
    "class parallel(compose):\n",
    "    def __init__(self, jobs=4, data=None):\n",
    "        setattr(self, 'jobs', jobs) or super().__init__(data)\n",
    "        \n",
    "    def map(self, function):\n",
    "        return super().__getattr__('map')(__import__('joblib').delayed(function))\n",
    "    \n",
    "    def __call__(self, *args, **kwargs):\n",
    "        return __import__('joblib').Parallel(self.jobs)(super().__call__(*args, **kwargs))\n",
    "        \n",
    "    __truediv__ = map\n",
    "\n",
    "class memo(compose):\n",
    "    def __init__(self, cache=None, data=None):\n",
    "        self.cache = dict() if cache is None else getattr(data, 'cache', cache)\n",
    "        super().__init__(data)\n",
    "\n",
    "    @property\n",
    "    def __call__(self): return memoize(super().__call__, cache=self.cache)\n",
    "\n",
    "class star(compose):\n",
    "    def __call__(self, *inputs):\n",
    "        args, kwargs = list(), dict()\n",
    "        [kwargs.update(**input) if isinstance(input, dict) else args.extend(input) for input in inputs]\n",
    "        return super().__call__(*args, **kwargs)"
   ]
  },
  {
   "cell_type": "code",
   "execution_count": 14,
   "metadata": {
    "collapsed": true
   },
   "outputs": [],
   "source": [
    "    class dispatch(compose):\n",
    "        def __init__(self, *data):\n",
    "            self.dispatch = None\n",
    "            super().__init__(isinstance(data[0], dict) and list(data.items()) or data)\n",
    "        \n",
    "        def __call__(self, arg):\n",
    "            if not self.dispatch:\n",
    "                self.dispatch = __import__('functools').singledispatch(compose())\n",
    "                for cls, func in self.data: self.dispatch.register(cls, func)\n",
    "            return self.dispatch.dispatch(type(arg))(arg)"
   ]
  },
  {
   "cell_type": "code",
   "execution_count": 15,
   "metadata": {
    "collapsed": true
   },
   "outputs": [],
   "source": [
    "    def load_ipython_extension(ip=__import__('IPython').get_ipython()):\n",
    "        if ip: ip.Completer.use_jedi = False\n",
    "    load_ipython_extension()"
   ]
  },
  {
   "cell_type": "code",
   "execution_count": 16,
   "metadata": {},
   "outputs": [
    {
     "name": "stdout",
     "output_type": "stream",
     "text": [
      "[NbConvertApp] Converting notebook articles.ipynb to python\n",
      "[NbConvertApp] Writing 15043 bytes to articles.py\n"
     ]
    }
   ],
   "source": [
    "    if __name__ == '__main__':\n",
    "        !jupyter nbconvert --to python --TemplateExporter.exclude_input_prompt=True articles.ipynb\n",
    "        !python -m doctest articles.py"
   ]
  },
  {
   "cell_type": "code",
   "execution_count": null,
   "metadata": {
    "collapsed": true
   },
   "outputs": [],
   "source": []
  }
 ],
 "metadata": {
  "anaconda-cloud": {},
  "kernelspec": {
   "display_name": "Python 3",
   "language": "python",
   "name": "python3"
  },
  "language_info": {
   "codemirror_mode": {
    "name": "ipython",
    "version": 3
   },
   "file_extension": ".py",
   "mimetype": "text/x-python",
   "name": "python",
   "nbconvert_exporter": "python",
   "pygments_lexer": "ipython3",
   "version": "3.5.3"
  },
  "nbconvert": {
   "nbconvert.exporters.templateexporter.TemplateExporter": {
    "JupyterApp": {
     "config_file": "./fidget/config.py"
    }
   }
  }
 },
 "nbformat": 4,
 "nbformat_minor": 2
}
