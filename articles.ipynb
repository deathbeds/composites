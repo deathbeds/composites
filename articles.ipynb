{
 "cells": [
  {
   "cell_type": "markdown",
   "metadata": {},
   "source": [
    "`articles` are `callable` user defined lists in python. Use arthimetic and list operations to compose dense higher-order functions."
   ]
  },
  {
   "cell_type": "code",
   "execution_count": 34,
   "metadata": {
    "collapsed": true
   },
   "outputs": [],
   "source": [
    "from functools import singledispatch, partialmethod, wraps\n",
    "from itertools import zip_longest, starmap\n",
    "from collections import ChainMap\n",
    "from operator import attrgetter\n",
    "from toolz.curried import first, isiterable, identity, count, get, concat, flip, memoize, cons\n",
    "from toolz import map, groupby, filter, reduce\n",
    "from copy import copy\n",
    "__all__ = 'a', 'an', 'the', 'then', 'f', 'star', 'flip', 'do', 'copy', 'compose', 'stack', 'memoize'\n",
    "from operator import not_, eq\n",
    "from collections import UserList, OrderedDict\n",
    "dunder = '__{}__'.format"
   ]
  },
  {
   "cell_type": "code",
   "execution_count": 35,
   "metadata": {},
   "outputs": [],
   "source": [
    "class partial(__import__('functools').partial):\n",
    "    def __eq__(self, other):\n",
    "        if isinstance(other, partial):\n",
    "            result = True\n",
    "            for a, b in zip_longest(*(cons(_.func, _.args) for _ in [self, other])):\n",
    "                result &= (a is b) or (a == b)\n",
    "        return locals().get('result', False)"
   ]
  },
  {
   "cell_type": "markdown",
   "metadata": {},
   "source": [
    "# Composition"
   ]
  },
  {
   "cell_type": "code",
   "execution_count": 36,
   "metadata": {},
   "outputs": [],
   "source": [
    "class compose(UserList):\n",
    "    \"\"\"The main class for function composition.\"\"\"\n",
    "    # __kwdefaults__ contains default arguments and values\n",
    "    __kwdefaults__ = ['data', list()],\n",
    "        \n",
    "    def __new__(cls, *args, **kwargs):\n",
    "        if not isinstance(cls.__kwdefaults__, OrderedDict):\n",
    "            cls.__kwdefaults__ = OrderedDict(cls.__kwdefaults__)\n",
    "        cls.__slots__ = tuple(cls.__kwdefaults__.keys())\n",
    "        return super().__new__(cls)\n",
    "    \n",
    "    def __init__(self, *args, **kwargs):\n",
    "        super().__init__()\n",
    "        for i, (slot, arg) in enumerate(zip_longest(self.__slots__, args)):\n",
    "            default = self.__kwdefaults__[slot]\n",
    "            if i >= len(args):\n",
    "                arg = copy(default)\n",
    "                \n",
    "            arg = kwargs.pop(slot, arg)\n",
    "            \n",
    "            if slot == 'data' and arg is None:\n",
    "                arg = list()\n",
    "            if isiterable(default):\n",
    "                if not isiterable(arg):\n",
    "                    arg = type(default)([arg])\n",
    "                if not isinstance(arg, type(default)):\n",
    "                    arg = type(default)(arg)\n",
    "            setattr(self, slot, arg)\n",
    "        self.data = list(self.data)\n",
    "            \n",
    "                                \n",
    "    def __getattr__(self, attr, *args, **kwargs):\n",
    "        try:\n",
    "            return object.__getattr__(self, attr)\n",
    "        except: pass\n",
    "        value = callable(attr) and attr or self._attributes_[attr]\n",
    "        if attr is value:\n",
    "            if args or kwargs:\n",
    "                return self[partial(value, *args, **kwargs)]\n",
    "            return self[value]\n",
    "        def wrapper(*args, **kwargs):\n",
    "            nonlocal value\n",
    "            self[\n",
    "                value(*args, **kwargs) if type(value) is partial\n",
    "                else partial(value, *args, **kwargs) if args or kwargs\n",
    "                else value]\n",
    "            return self\n",
    "        return wraps(getattr(value, 'func', value))(wrapper)\n",
    "        \n",
    "    __truediv__ = partialmethod(__getattr__, map)\n",
    "    __floordiv__ = partialmethod(__getattr__, filter)\n",
    "    __matmul__ = partialmethod(__getattr__, groupby)\n",
    "    __mod__ = partialmethod(__getattr__, reduce)\n",
    "\n",
    "\n",
    "    def __getitem__(self, object):\n",
    "        # An empty slice returns self\n",
    "        if object == slice(None):\n",
    "            return self        \n",
    "        if isinstance(object, (int, slice)): \n",
    "            try:\n",
    "                return self.data[object]\n",
    "            except IndexError as e:\n",
    "                raise e\n",
    "        # An iterable object is evaluated a callable map.\n",
    "        if isiterable(object) and not isinstance(object, (str, compose)):\n",
    "            object = juxt(object)\n",
    "        # An other object is included in the composition.\n",
    "        return self.append(object) or self\n",
    "\n",
    "\n",
    "    def __dir__(self):\n",
    "        return list(super().__dir__()) + dir(self._attributes_)\n",
    "    \n",
    "    def __call__(self, *args, **kwargs):\n",
    "        \"\"\"Call an iterable as a function evaluating the arguments in serial.\"\"\"\n",
    "        \n",
    "        try:\n",
    "            if args[0] in attrgetter('tqdm', 'tqdm_notebook')(__import__('tqdm')):\n",
    "                self, args = args[0](self), args[1:]\n",
    "        except: pass\n",
    "            \n",
    "        for value in self:\n",
    "            args, kwargs = (\n",
    "                # Return the value of non-callables, they are constants\n",
    "                [value] if not callable(value) \n",
    "                # Otherwise call the function\n",
    "                else [value(*args, **kwargs)]), dict()\n",
    "        return args[0] if len(args) else None    \n",
    "    \n",
    "    def __lshift__(self, object): return compose([self, do(object)])\n",
    "    def __xor__(self, object): return compose([excepts(object, self)])\n",
    "    def __or__(self, object=None): return ifnot(self, object)\n",
    "    def __and__(self, object=None): return ifthen(self, object)\n",
    "    def __pow__(self, object=None): return instance(object)\n",
    "    \n",
    "    \n",
    "    def __copy__(self):\n",
    "        new = type(self)(*map(copy, self.__getstate__()))\n",
    "        new.data = list(map(copy, self.data))\n",
    "        return new\n",
    "\n",
    "    def __exit__(self, exc_type, exc_value, traceback): pass\n",
    "    \n",
    "    __enter__ = __deepcopy__ = __copy__\n",
    "    __abs__ = __call__\n",
    "    \n",
    "    def __pos__(self): return self[bool]\n",
    "    def __neg__(self): return self[not_]\n",
    "    \n",
    "    def __reversed__(self): \n",
    "        return type(self)(super().__reversed__())\n",
    "    \n",
    "    __invert__ = __reversed__\n",
    "    \n",
    "    # State operations\n",
    "    def __getstate__(self):\n",
    "        return tuple(map(self.__dict__.get, self.__slots__))\n",
    "    \n",
    "    def __setstate__(self, state):\n",
    "        for key, value in zip(self.__slots__, state):\n",
    "            setattr(self, key, value)\n",
    "\n",
    "    def __repr__(self):\n",
    "        return (type(self).__name__ or 'λ').replace('compose', 'λ') + '>' + ':'.join(map(repr, self.__getstate__()))   \n",
    "    \n",
    "    def __hash__(self):\n",
    "        return hash(tuple(self))\n",
    "    \n",
    "    __name__ = property(__repr__)\n",
    "    __mul__ = __add__ = __rshift__ = __sub__ = __getitem__\n",
    "    \n",
    "    _attributes_ = dict()\n",
    "    \n",
    "    def __dir__(self):\n",
    "        return super().__dir__() + dir(self._attributes_)\n",
    "    \n",
    "    ifthen = __and__\n",
    "    ifnot = __or__\n",
    "    excepts = __xor__"
   ]
  },
  {
   "cell_type": "code",
   "execution_count": 37,
   "metadata": {
    "collapsed": true
   },
   "outputs": [],
   "source": [
    "class attributes(ChainMap):\n",
    "    def __getitem__(self, key):\n",
    "        for mapping in self.maps:\n",
    "            try:\n",
    "                value = getattr(mapping, '__dict__', mapping)[key]\n",
    "                if callable(value):\n",
    "                    return (type(mapping) is type and flip or identity)(value)\n",
    "            except KeyError: \n",
    "                pass\n",
    "        try:\n",
    "            return self.new_child(type(key) is str and __import__(key) or key)\n",
    "        except:\n",
    "            raise AttributeError(key)\n",
    "        \n",
    "    def __dir__(self): \n",
    "        return concat(map(lambda x: [\n",
    "            k for k, v in getattr(x, '__dict__', x).items() if callable(v)\n",
    "        ], self.maps))\n",
    "\n",
    "compose._attributes_ = attributes()['builtins']['collections']['pathlib'][__import__('pathlib').Path].new_child({\n",
    "        k: (\n",
    "            partial if k.endswith('getter') or k.endswith('caller')\n",
    "            # some need to flip\n",
    "            else flip)(v)\n",
    "        for k, v in vars(__import__('operator')).items()\n",
    "    })['json']['requests'][__import__('requests').Response]['toolz']"
   ]
  },
  {
   "cell_type": "code",
   "execution_count": 38,
   "metadata": {
    "collapsed": true
   },
   "outputs": [],
   "source": [
    "class juxt(compose):\n",
    "    \"\"\"Any mapping is a callable, call each of its elements.\"\"\"\n",
    "    __kwdefaults__ = ['data', list()], ['type', tuple]\n",
    "    def __init__(self, data=None, _type=tuple):\n",
    "        super().__init__()\n",
    "        if isiterable(data) and not isinstance(data, type(self).__mro__[1]):\n",
    "            self.type = type(data)\n",
    "        self.data = list(data.items()) if issubclass(self.type, dict) else list(data) or list()\n",
    "\n",
    "    def __call__(self, *args, **kwargs):\n",
    "        result = list()\n",
    "        for callable in self.data:\n",
    "            if not isinstance(callable, (str, compose)) and isiterable(callable):\n",
    "                callable = juxt(callable)\n",
    "            if not isinstance(callable, compose):\n",
    "                callable = compose([callable])            \n",
    "            result.append(callable(*args, **kwargs))\n",
    "        return self.type(result)"
   ]
  },
  {
   "cell_type": "code",
   "execution_count": 39,
   "metadata": {
    "collapsed": true
   },
   "outputs": [],
   "source": [
    "class flip(compose):\n",
    "    \"\"\"Call a function with the positional arguments reversed\"\"\"\n",
    "    def __call__(self, *args, **kwargs):\n",
    "        return super(flip, self).__call__(*reversed(args), **kwargs)"
   ]
  },
  {
   "cell_type": "code",
   "execution_count": 40,
   "metadata": {
    "collapsed": true
   },
   "outputs": [],
   "source": [
    "class do(compose):\n",
    "    \"\"\"Call a function and return input argument.\"\"\"\n",
    "    def __call__(self, *args, **kwargs):\n",
    "        super(do, self).__call__(*args, **kwargs)\n",
    "        return args[0] if args else None"
   ]
  },
  {
   "cell_type": "code",
   "execution_count": 41,
   "metadata": {
    "collapsed": true
   },
   "outputs": [],
   "source": [
    "class star(compose):\n",
    "    \"\"\"Call a function starring the arguments for sequences and starring the keywords for containers.\"\"\"\n",
    "    def __call__(self, *args, **kwargs):\n",
    "        args = args[0] if len(args) is 1 else (args,)\n",
    "        if not isiterable(args): \n",
    "            args = [(args,)]\n",
    "        if isinstance(args, dict):\n",
    "            args = kwargs.update(args) or tuple()\n",
    "        return super(star, self).__call__(*args, **kwargs)"
   ]
  },
  {
   "cell_type": "code",
   "execution_count": 42,
   "metadata": {
    "collapsed": true
   },
   "outputs": [],
   "source": [
    "class condition(compose):\n",
    "    condition = None\n",
    "    __kwdefaults__ = ['condition', compose()], ['data', list()]\n",
    "    \n",
    "    def __call__(self, *args, **kwargs):\n",
    "        if not self: \n",
    "            return True\n",
    "        return super().__call__(*args, **kwargs)"
   ]
  },
  {
   "cell_type": "code",
   "execution_count": 43,
   "metadata": {
    "collapsed": true
   },
   "outputs": [],
   "source": [
    "class ifthen(condition):\n",
    "    \"\"\"Evaluate a function if a condition is true.\"\"\"\n",
    "    def __call__(self, *args, **kwargs):\n",
    "        return self.condition(*args, **kwargs) and super(ifthen, self).__call__(*args, **kwargs)\n",
    "\n",
    "class ifnot(condition):\n",
    "    \"\"\"Evaluate a function if a condition is false.\"\"\"\n",
    "    def __call__(self, *args, **kwargs):\n",
    "        return self.condition(*args, **kwargs) or super(ifnot, self).__call__(*args, **kwargs)"
   ]
  },
  {
   "cell_type": "code",
   "execution_count": 44,
   "metadata": {
    "collapsed": true
   },
   "outputs": [],
   "source": [
    "class instance(ifthen):\n",
    "    \"\"\"Evaluate a function if a condition is true.\"\"\"\n",
    "    def __init__(self, object=None, data=None):        \n",
    "        if isinstance(object, type):\n",
    "            object = object,            \n",
    "        if isinstance(object, tuple):\n",
    "            object = partial(flip(isinstance), object)\n",
    "        super().__init__(object, data or list())"
   ]
  },
  {
   "cell_type": "code",
   "execution_count": 45,
   "metadata": {
    "collapsed": true
   },
   "outputs": [],
   "source": [
    "class excepts(compose):\n",
    "    \"\"\"Allow acception when calling a function\"\"\"\n",
    "    exceptions = None\n",
    "    __kwdefaults__ = ['exceptions', tuple()], ['data', compose()]\n",
    "    \n",
    "    def __call__(self, *args, **kwargs):\n",
    "        try:\n",
    "            return super(excepts, self).__call__(*args, **kwargs)\n",
    "        except self.exceptions as e:\n",
    "            return e"
   ]
  },
  {
   "cell_type": "code",
   "execution_count": 70,
   "metadata": {
    "collapsed": true
   },
   "outputs": [],
   "source": [
    "class stack(compose):\n",
    "    \"\"\"A composition stack with push and pop methods.  It chains compositions together\n",
    "    allowing a chainable api to map, filter, reduce, and groupby functions.|\n",
    "    \"\"\"\n",
    "    __kwdefaults__ = ['data', list([compose()])], \n",
    "    \n",
    "    def __init__(self, *args):\n",
    "        super().__init__(*args)\n",
    "        # nested copy\n",
    "        self.data = list(map(copy, self.data))\n",
    "\n",
    "    def push(self, type=compose, *args):\n",
    "        if isinstance(self, call): self = stack()\n",
    "        if not isinstance(type, compose):\n",
    "            type = type(*args)\n",
    "        not self and self.pop()\n",
    "        return self.append(type) or self\n",
    "    \n",
    "    def pop(self, *args):\n",
    "        self.data.pop(*args)\n",
    "        return self\n",
    "    \n",
    "    def __getitem__(self, *args, **kwargs):\n",
    "        if object == slice(None):\n",
    "            return self        \n",
    "        if args and isinstance(args[0], (int, slice)): \n",
    "            try:\n",
    "                return self.data[args[0]]\n",
    "            except IndexError as e:\n",
    "                raise e\n",
    "        try:\n",
    "            self.data[-1].__getitem__(*args, **kwargs)\n",
    "        except AttributeError:\n",
    "            self.push()\n",
    "            self.data[-1].__getitem__(*args, **kwargs)\n",
    "        return self    \n",
    "    \n",
    "    __getattr__ = compose.__getattr__\n",
    "    \n",
    "\n",
    "    @property\n",
    "    def compose(self): return compose(list(concat(self.data)))\n",
    "    \n",
    "    def __bool__(self): return any(self)\n",
    "    \n",
    "    stack = partialmethod(push)\n",
    "    __pow__ = instance = partialmethod(push, instance)   \n",
    "    do = partialmethod(push, do)\n",
    "    def __lshift__(self, other): return self.do()[other]\n",
    "    __mul__ = __add__ = __rshift__ = __sub__ = push = __getitem__"
   ]
  },
  {
   "cell_type": "code",
   "execution_count": 71,
   "metadata": {
    "collapsed": true
   },
   "outputs": [],
   "source": [
    "def right_attr(self, attr, other):\n",
    "    \"\"\"Add the right attribute operations to the function\"\"\"\n",
    "    return getattr(type(self)([other]), attr)(self)\n",
    "\n",
    "for other in ['mul', 'add', 'rshift' ,'sub', 'and', 'or', 'xor', 'truediv', 'floordiv', 'matmul', 'mod', 'lshift']:\n",
    "    setattr(compose, dunder('i'+other), getattr(compose, dunder(other)))\n",
    "    setattr(compose, dunder('r'+other), partialmethod(right_attr, dunder(other)))"
   ]
  },
  {
   "cell_type": "code",
   "execution_count": 72,
   "metadata": {
    "collapsed": true
   },
   "outputs": [],
   "source": [
    "class call(stack):\n",
    "    args, kwargs = tuple(), dict()\n",
    "                                \n",
    "    def __getattr__(self, attr):\n",
    "        return stack().__getattr__(attr)\n",
    "\n",
    "    def __getitem__(self, attr):\n",
    "        if attr == slice(None): return stack()\n",
    "        if self.args or self.kwargs:\n",
    "            attr = partial(attr, *self.args, **self.kwargs)\n",
    "        return stack().__getitem__(attr)\n",
    "        \n",
    "    def __call__(self, *args, **kwargs):     \n",
    "        self = type(self)()\n",
    "        self.args, self.kwargs = args, kwargs\n",
    "        return self\n",
    "    \n",
    "    def __pow__(self, object): return stack()**object\n",
    "    __mul__ = __add__ = __rshift__ = __sub__ = push = __getitem__"
   ]
  },
  {
   "cell_type": "code",
   "execution_count": 73,
   "metadata": {
    "collapsed": true
   },
   "outputs": [],
   "source": [
    "a = an = the = then = f = call()"
   ]
  }
 ],
 "metadata": {
  "anaconda-cloud": {},
  "kernelspec": {
   "display_name": "Python 3",
   "language": "python",
   "name": "python3"
  },
  "language_info": {
   "codemirror_mode": {
    "name": "ipython",
    "version": 3
   },
   "file_extension": ".py",
   "mimetype": "text/x-python",
   "name": "python",
   "nbconvert_exporter": "python",
   "pygments_lexer": "ipython3",
   "version": "3.5.3"
  },
  "nbconvert": {
   "nbconvert.exporters.templateexporter.TemplateExporter": {
    "JupyterApp": {
     "config_file": "./fidget/config.py"
    }
   }
  }
 },
 "nbformat": 4,
 "nbformat_minor": 2
}
