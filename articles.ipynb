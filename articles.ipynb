{
 "cells": [
  {
   "cell_type": "code",
   "execution_count": 1,
   "metadata": {
    "collapsed": true
   },
   "outputs": [],
   "source": [
    "from collections import UserList\n",
    "from functools import partialmethod, wraps\n",
    "from inspect import getfullargspec\n",
    "from itertools import zip_longest, starmap\n",
    "from operator import attrgetter, not_, eq, methodcaller, itemgetter\n",
    "from toolz.curried import isiterable, identity, concat, concatv, flip, cons, merge\n",
    "from toolz import map, groupby, filter, reduce\n",
    "from copy import copy\n",
    "dunder = '__{}__'.format\n",
    "__all__ = 'a', 'an', 'the', 'star', 'do', 'flip', 'compose', 'composite', 'λ', 'this', 'juxt'"
   ]
  },
  {
   "cell_type": "code",
   "execution_count": 2,
   "metadata": {
    "collapsed": true
   },
   "outputs": [],
   "source": [
    "class functions(UserList):\n",
    "    \"\"\"A composition of functions.\"\"\"\n",
    "    def __init__(self, data=None):\n",
    "        if data and not isiterable(data):\n",
    "            data = [data]\n",
    "        super().__init__(data or list())\n",
    "    \n",
    "    def __call__(self, *args, **kwargs):\n",
    "        \"\"\"Call an iterable as a function evaluating the arguments in serial.\"\"\"                    \n",
    "        for value in self:\n",
    "            args, kwargs = (\n",
    "                [value(*args, **kwargs)] if callable(value) else [value]), dict()\n",
    "        return args[0] if len(args) else None    \n",
    "        \n",
    "    def __copy__(self):\n",
    "        compose = type(self)(*map(copy, self.__getstate__()))\n",
    "        compose.data = list(map(copy, self.data))\n",
    "        return compose\n",
    "    \n",
    "    copy = __copy__\n",
    "\n",
    "    def __exit__(self, exc_type, exc_value, traceback): pass\n",
    "    \n",
    "    __enter__ = __deepcopy__ = __copy__\n",
    "    __abs__ = __call__\n",
    "    \n",
    "    def __reversed__(self): \n",
    "        self.data = type(self.data)(reversed(self.data))\n",
    "        return self\n",
    "    \n",
    "    def __repr__(self):\n",
    "        return (type(self).__name__ or 'λ').replace('compose', 'λ') + '>' + ':'.join(map(repr, self.__getstate__()))   \n",
    "    __name__ = property(__repr__)\n",
    "    \n",
    "    def __hash__(self): return hash(tuple(self))\n",
    "    def __bool__(self): return any(self.data)\n",
    "    def __getstate__(self, state=None):\n",
    "        keys = getfullargspec(type(self)).args[1:]\n",
    "        if state is None:\n",
    "            return tuple(map(self.__dict__.get, keys))\n",
    "        for key, value in zip(keys, state):\n",
    "            setattr(self, key, value)\n",
    "            \n",
    "    __setstate__ = __getstate__\n",
    "\n",
    "    def __getitem__(self, object):\n",
    "        if object == slice(None): return self        \n",
    "        if isinstance(object, (int, slice)): \n",
    "            try:\n",
    "                return self.data[object]\n",
    "            except IndexError as e: raise e\n",
    "        return self.append(object) or self"
   ]
  },
  {
   "cell_type": "code",
   "execution_count": 3,
   "metadata": {
    "collapsed": true
   },
   "outputs": [],
   "source": [
    "class partial(__import__('functools').partial):\n",
    "    def __eq__(self, other, result = False):\n",
    "        if isinstance(other, partial):\n",
    "            result = True\n",
    "            for a, b in zip_longest(*(cons(_.func, _.args) for _ in [self, other])):\n",
    "                result &= (a is b) or (a == b)\n",
    "        return result"
   ]
  },
  {
   "cell_type": "code",
   "execution_count": 4,
   "metadata": {
    "collapsed": true
   },
   "outputs": [],
   "source": [
    "class attributes(functions):\n",
    "    def __getitem__(self, key):\n",
    "        try:\n",
    "            return super().__getitem__(type(key) is str and __import__(key) or key)\n",
    "        except:\n",
    "            raise AttributeError(key)\n",
    "\n",
    "    def __call__(self, key):\n",
    "        for mapping in reversed(self.data):\n",
    "            value = getattr(mapping, '__dict__', mapping).get(key, None)\n",
    "            if value and callable(value):\n",
    "                return (type(mapping) is type and flipped or identity)(value)\n",
    "\n",
    "    def __dir__(self): \n",
    "        return [\n",
    "            key for object in self.data \n",
    "            for key, value in getattr(object, dunder('dict'), object).items()\n",
    "            if callable(value)]"
   ]
  },
  {
   "cell_type": "code",
   "execution_count": 5,
   "metadata": {
    "collapsed": true
   },
   "outputs": [],
   "source": [
    "class compose(functions):\n",
    "    \"\"\"A composition of functions.\"\"\"\n",
    "    _attributes_ = attributes()\n",
    "    \n",
    "    def __getattr__(self, attr, *args, **kwargs):\n",
    "        try:\n",
    "            return object.__getattr__(self, attr)\n",
    "        except: pass\n",
    "        \n",
    "        value = callable(attr) and attr or self._attributes_(attr)\n",
    "        if attr is value:\n",
    "            if args or kwargs:\n",
    "                return self[partial(value, *args, **kwargs)]\n",
    "            return self[value]\n",
    "        def wrapper(*args, **kwargs):\n",
    "            nonlocal value\n",
    "            (self.data[-1] if isinstance(self, composite) else self)[\n",
    "                value(*args, **kwargs) if type(value) == partial\n",
    "                else partial(value, *args, **kwargs) if args or kwargs\n",
    "                else value]\n",
    "            return self\n",
    "        \n",
    "        \n",
    "        return wraps(getattr(value, 'func', value))(wrapper)\n",
    "        \n",
    "    __truediv__  = partialmethod(__getattr__, map)\n",
    "    __floordiv__ = partialmethod(__getattr__, filter)\n",
    "    __matmul__   = partialmethod(__getattr__, groupby)\n",
    "    __mod__      = partialmethod(__getattr__, reduce)\n",
    "\n",
    "\n",
    "    def __getitem__(self, object):\n",
    "        if isiterable(object) and not isinstance(object, (str, compose)):\n",
    "            object = juxt(object)\n",
    "        return super().__getitem__(object)\n",
    "    \n",
    "    __mul__ = __add__ = __rshift__ = __sub__ = __getitem__\n",
    "    \n",
    "    def __lshift__(self, object):          return do(object)\n",
    "    def __xor__(self, object):             return excepts(object, self)\n",
    "    def __or__(self, object=None):         return ifnot(self, object)\n",
    "    def __and__(self, object=None):        return ifthen(self, object)\n",
    "    def __pow__(self, object=None):        return instance(object, self)\n",
    "    \n",
    "    __pos__ = partialmethod(__getitem__, bool)\n",
    "    __neg__ = partialmethod(__getitem__, not_)\n",
    "    __invert__ = functions.__reversed__\n",
    "    \n",
    "    def __dir__(self):\n",
    "        return super().__dir__() + dir(self._attributes_)\n",
    "    \n",
    "compose._attributes_[dict(fnmatch=flip(__import__('fnmatch').fnmatch))][{\n",
    "        k: (partial if k.endswith('getter') or k.endswith('caller') else flip)(v)\n",
    "        for k, v in vars(__import__('operator')).items()\n",
    "}]['inspect']['builtins']['itertools']['collections']['pathlib'][__import__('pathlib').Path]['json']['requests']['toolz'];"
   ]
  },
  {
   "cell_type": "code",
   "execution_count": 6,
   "metadata": {
    "collapsed": true
   },
   "outputs": [],
   "source": [
    "class do(compose):\n",
    "    def __call__(self, *args, **kwargs):\n",
    "        super(do, self).__call__(*args, **kwargs)\n",
    "        return args[0] if args else None\n",
    "    \n",
    "class flipped(compose):\n",
    "    def __call__(self, *args, **kwargs):\n",
    "        return super().__call__(*reversed(args), **kwargs)"
   ]
  },
  {
   "cell_type": "code",
   "execution_count": 7,
   "metadata": {
    "collapsed": true
   },
   "outputs": [],
   "source": [
    "class juxt(compose):\n",
    "    \"\"\"Any mapping is a callable, call each of its elements.\"\"\"\n",
    "    def __init__(self, data=None, type=None):\n",
    "        if isiterable(data) and not isinstance(data, self.__class__.__mro__[1]):\n",
    "            self.type = type or data.__class__ or tuple\n",
    "        super().__init__(\n",
    "            list(data.items()) if issubclass(self.type, dict) else list(data) or list())\n",
    "\n",
    "    def __call__(self, *args, **kwargs):\n",
    "        result = list()\n",
    "        for callable in self.data:\n",
    "            if not isinstance(callable, (str, compose)) and isiterable(callable):\n",
    "                callable = juxt(callable)\n",
    "            if not isinstance(callable, compose):\n",
    "                callable = compose([callable])            \n",
    "            result.append(callable(*args, **kwargs))\n",
    "        return self.type(result)"
   ]
  },
  {
   "cell_type": "code",
   "execution_count": 8,
   "metadata": {
    "collapsed": true
   },
   "outputs": [],
   "source": [
    "class condition(compose):\n",
    "    def __init__(self, condition=None, data=None):\n",
    "        setattr(self, 'condition', condition) or super().__init__(data)\n",
    "\n",
    "    def __call__(self, *args, **kwargs):\n",
    "        return super().__call__(*args, **kwargs) if self else True\n",
    "\n",
    "class ifthen(condition):\n",
    "    \"\"\"Evaluate a function if a condition is true.\"\"\"\n",
    "    def __call__(self, *args, **kwargs):\n",
    "        return self.condition(*args, **kwargs) and super(ifthen, self).__call__(*args, **kwargs)\n",
    "\n",
    "class ifnot(condition):\n",
    "    \"\"\"Evaluate a function if a condition is false.\"\"\"\n",
    "    def __call__(self, *args, **kwargs):\n",
    "        return self.condition(*args, **kwargs) or super(ifnot, self).__call__(*args, **kwargs)\n",
    "\n",
    "class instance(ifthen):\n",
    "    \"\"\"Evaluate a function if a condition is true.\"\"\"\n",
    "    def __init__(self, condition=None, data=None):        \n",
    "        if isinstance(condition, type):\n",
    "            condition = condition,            \n",
    "        if isinstance(condition, tuple):\n",
    "            condition = partial(flip(isinstance), condition)\n",
    "        super().__init__(condition, data or list())"
   ]
  },
  {
   "cell_type": "code",
   "execution_count": 9,
   "metadata": {
    "collapsed": true
   },
   "outputs": [],
   "source": [
    "class FalseException(compose):\n",
    "    def __init__(self, exception):        \n",
    "        self.exception = exception\n",
    "    def __bool__(self):  return False\n",
    "\n",
    "class excepts(compose):\n",
    "    \"\"\"Allow acception when calling a function\"\"\"\n",
    "    def __init__(self, exceptions=None, data=None):\n",
    "        setattr(self, 'exceptions', exceptions) or super().__init__(data)\n",
    "    \n",
    "    def __call__(self, *args, **kwargs):\n",
    "        try:\n",
    "            return super(excepts, self).__call__(*args, **kwargs)\n",
    "        except self.exceptions as e:\n",
    "            return FalseException(e)"
   ]
  },
  {
   "cell_type": "code",
   "execution_count": 10,
   "metadata": {
    "collapsed": true
   },
   "outputs": [],
   "source": [
    "class composite(compose):\n",
    "    \"\"\"A composite composition with push and pop methods.  It chains compositions together\n",
    "    allowing a chainable api to map, filter, reduce, and groupby functions.|\n",
    "    \"\"\"\n",
    "    def __init__(self, data=None):\n",
    "        super().__init__([data or compose()])\n",
    "    \n",
    "    def __getattr__(self, attr):\n",
    "        if isinstance(self, factory): self = composite()\n",
    "        def wrapped(*args, **kwargs):\n",
    "            nonlocal self, attr\n",
    "            self.data[-1] = getattr(self.data[-1], attr)(*args, **kwargs)\n",
    "            return self\n",
    "        return wraps(super(composite, self).__getattr__(attr))(wrapped)\n",
    "        \n",
    "    def push(self, type=compose, *args):\n",
    "        self[type(*args)]\n",
    "        not self.data[0] and self.pop(0)\n",
    "        return self\n",
    "    \n",
    "\n",
    "    def __getitem__(self, *args, **kwargs):\n",
    "        if isinstance(self, factory): self = composite()\n",
    "        if args[0] == slice(None): return self\n",
    "        if args and isinstance(args[0], (int, slice)): \n",
    "            try:\n",
    "                return self.data[args[0]]\n",
    "            except IndexError as e:\n",
    "                raise e\n",
    "        try:\n",
    "            self[-1].__getitem__(*args, **kwargs)\n",
    "        except AttributeError:\n",
    "            self.push()\n",
    "            self[-1].__getitem__(*args, **kwargs)\n",
    "        return self    \n",
    "        \n",
    "    __mul__ = __add__ = __rshift__ = __sub__ = __getitem__\n",
    "\n",
    "for cls in [ifthen, ifnot, excepts, do, instance]: \n",
    "    setattr(composite, cls.__name__, partialmethod(composite.push, cls))"
   ]
  },
  {
   "cell_type": "code",
   "execution_count": 11,
   "metadata": {
    "collapsed": true
   },
   "outputs": [],
   "source": [
    "def right_attr(self, attr, other):\n",
    "    self = self[:]\n",
    "    return op_attr(type(self)(compose(other)), attr, self)\n",
    "\n",
    "def op_attr(self, attr, other): \n",
    "    if isinstance(self, factory): self = self[:]\n",
    "    if isinstance(self, composite):\n",
    "        self.data[-1] = object.__getattribute__(self.data[-1], attr)(other)\n",
    "    else:\n",
    "        self = object.__getattribute__(self, attr)(other)\n",
    "    return self\n",
    "    \n",
    "for other in ['and', 'or', 'xor', 'truediv', 'floordiv', 'matmul', 'mod', 'lshift', 'pow']:\n",
    "    setattr(composite, dunder(other), partialmethod(op_attr, dunder(other)))\n",
    "    \n",
    "for other in ['mul', 'add', 'rshift' ,'sub', 'and', 'or', 'xor', 'truediv', 'floordiv', 'matmul', 'mod', 'lshift', 'pow']:\n",
    "    setattr(compose, dunder('i'+other), partialmethod(op_attr, dunder(other)))\n",
    "    setattr(compose, dunder('r'+other), partialmethod(right_attr, dunder(other)))\n",
    "    setattr(composite, dunder('r'+other), partialmethod(right_attr, dunder(other)))"
   ]
  },
  {
   "cell_type": "code",
   "execution_count": 12,
   "metadata": {
    "collapsed": true
   },
   "outputs": [],
   "source": [
    "class factory(composite):\n",
    "    __slots__ = 'args', 'kwargs'\n",
    "    \n",
    "    def __getitem__(self, attr):\n",
    "        if attr == slice(None): attr = composite()\n",
    "        if isinstance(self.args, tuple) and  isinstance(self.kwargs, dict):\n",
    "            attr = partial(attr, *self.args, **self.kwargs)\n",
    "        return super().__getitem__(attr)\n",
    "        \n",
    "    def __call__(self, *args, **kwargs):\n",
    "        if isinstance(self.args, tuple) and  isinstance(self.kwargs, dict):\n",
    "            return self[:](*concatv(self.args, args), **merge(self.kwargs, kwargs))\n",
    "        self = type(self)()\n",
    "        self.args, self.kwargs = args, kwargs\n",
    "        return self\n",
    "    \n",
    "    __mul__ = __add__ = __rshift__ = __sub__ = push = __getitem__\n",
    "\n",
    "a = an = the = λ = factory()"
   ]
  },
  {
   "cell_type": "code",
   "execution_count": 13,
   "metadata": {
    "collapsed": true
   },
   "outputs": [],
   "source": [
    "class stargetter:\n",
    "    def __init__(self, attr, *args, **kwargs):\n",
    "        self.attr, self.args, self.kwargs = attr, args, kwargs\n",
    "\n",
    "    def __call__(self, object):\n",
    "        object = attrgetter(self.attr)(object)\n",
    "        if callable(object):\n",
    "            return object(*self.args, **self.kwargs)\n",
    "        return object\n",
    "    \n",
    "class this(compose):\n",
    "    class this_attributes(attributes):\n",
    "        def __call__(self, attr):\n",
    "            return partial(stargetter, attr)\n",
    "\n",
    "    _attributes_ = this_attributes()\n",
    "    def __getitem__(self, attr):\n",
    "        if isinstance(attr, str):\n",
    "            return self[itemgetter(attr)]\n",
    "        return super().__getitem__(attr)\n",
    "\n",
    "class star(compose):\n",
    "    \"\"\"Call a function starring the arguments for sequences and starring the keywords for containers.\"\"\"\n",
    "    def __call__(self, *args, **kwargs):\n",
    "        args = args[0] if len(args) is 1 else (args,)\n",
    "        if not isiterable(args): \n",
    "            args = [(args,)]\n",
    "        if isinstance(args, dict):\n",
    "            args = kwargs.update(args) or tuple()\n",
    "        return super(star, self).__call__(*args, **kwargs)"
   ]
  },
  {
   "cell_type": "code",
   "execution_count": 14,
   "metadata": {},
   "outputs": [
    {
     "name": "stdout",
     "output_type": "stream",
     "text": [
      "[NbConvertApp] Converting notebook articles.ipynb to python\n",
      "[NbConvertApp] Writing 12676 bytes to articles.py\n"
     ]
    }
   ],
   "source": [
    "    if __name__ == '__main__':\n",
    "        !jupyter nbconvert --to python --TemplateExporter.exclude_input_prompt=True articles.ipynb"
   ]
  }
 ],
 "metadata": {
  "anaconda-cloud": {},
  "kernelspec": {
   "display_name": "Python 3",
   "language": "python",
   "name": "python3"
  },
  "language_info": {
   "codemirror_mode": {
    "name": "ipython",
    "version": 3
   },
   "file_extension": ".py",
   "mimetype": "text/x-python",
   "name": "python",
   "nbconvert_exporter": "python",
   "pygments_lexer": "ipython3",
   "version": "3.5.3"
  },
  "nbconvert": {
   "nbconvert.exporters.templateexporter.TemplateExporter": {
    "JupyterApp": {
     "config_file": "./fidget/config.py"
    }
   }
  }
 },
 "nbformat": 4,
 "nbformat_minor": 2
}
