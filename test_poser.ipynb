{
 "cells": [
  {
   "cell_type": "code",
   "execution_count": 22,
   "metadata": {},
   "outputs": [],
   "source": [
    "from toolz.curried import *\n",
    "from poser import *\n",
    "import poser as fake"
   ]
  },
  {
   "cell_type": "code",
   "execution_count": 23,
   "metadata": {},
   "outputs": [],
   "source": [
    "\"\"\"test_namespace\"\"\"\n",
    "assert all(map(vars(fake).__contains__, fake.__all__))"
   ]
  },
  {
   "cell_type": "code",
   "execution_count": 24,
   "metadata": {},
   "outputs": [],
   "source": [
    "\"\"\"test_functional\"\"\"\n",
    "f = functional()\n",
    "f.append(partial(range, 1))\n",
    "assert f(10) == range(1, 10)\n",
    "f.append(len)\n",
    "assert f(10) == 9\n",
    "f.append(type)\n",
    "assert f(10) is int\n",
    "assert f == functional((partial(range, 1), len, type))\n",
    "assert f != functional((partial(range, 1), len, str))"
   ]
  },
  {
   "cell_type": "code",
   "execution_count": 25,
   "metadata": {},
   "outputs": [],
   "source": [
    "\"\"\"test_functional_decorator\"\"\"\n",
    "@functional\n",
    "def chainable(x):\n",
    "    return range(x), type(x)\n",
    "\n",
    "chainable.append(map(type)).append(tuple)\n",
    "assert chainable(10) == (range, type)"
   ]
  },
  {
   "cell_type": "code",
   "execution_count": 26,
   "metadata": {},
   "outputs": [],
   "source": [
    "\"\"\"test_polymorphic_append\"\"\"\n",
    "assert (a[callable] \n",
    "        == a.append(callable)\n",
    "        == a.callable() \n",
    "        == a +  callable\n",
    "        == a -  callable\n",
    "        == a >> callable\n",
    "        == a *  callable)"
   ]
  },
  {
   "cell_type": "code",
   "execution_count": 27,
   "metadata": {},
   "outputs": [],
   "source": [
    "\"\"\"test_logic_state\"\"\"\n",
    "assert not (a or a.append())"
   ]
  },
  {
   "cell_type": "markdown",
   "metadata": {},
   "source": [
    "# Composite Functions"
   ]
  },
  {
   "cell_type": "code",
   "execution_count": 28,
   "metadata": {},
   "outputs": [],
   "source": [
    "assert not a and isinstance(a, fake.simple)\n",
    "f = a.append()\n",
    "assert not f and isinstance(f, fake.proposition)\n",
    "assert len(f) is 0"
   ]
  },
  {
   "cell_type": "markdown",
   "metadata": {},
   "source": [
    "## Composite Operations"
   ]
  },
  {
   "cell_type": "code",
   "execution_count": 29,
   "metadata": {},
   "outputs": [],
   "source": [
    "\"\"\"test_iteratable_functions\"\"\"\n",
    "assert a.groupby(callable)          == a @  callable\n",
    "assert a.map(callable)              == a /  callable\n",
    "assert a.filter(callable)           == a // callable\n",
    "# assert a.ifthen(type)[callable]     == a[type] &  callable\n",
    "# assert a.ifnot(type)[callable]      == a[type] |  callable\n",
    "# assert a.instance(type)[callable]   == a ** type * callable\n",
    "assert a.do(callable)               == a << callable\n",
    "# assert a.excepts(Exception)[type]   == a[type]^Exception"
   ]
  },
  {
   "cell_type": "markdown",
   "metadata": {},
   "source": [
    "## Examples"
   ]
  },
  {
   "cell_type": "code",
   "execution_count": 30,
   "metadata": {},
   "outputs": [],
   "source": [
    "f = a**int*range\n",
    "assert f(10) == range(10)\n",
    "assert not f('abc')\n",
    "assert not f(10.)"
   ]
  },
  {
   "cell_type": "code",
   "execution_count": 31,
   "metadata": {},
   "outputs": [],
   "source": [
    "f = a*str.upper^Exception\n",
    "assert f('abc') == 'ABC'\n",
    "assert not f(10)"
   ]
  },
  {
   "cell_type": "code",
   "execution_count": 32,
   "metadata": {},
   "outputs": [],
   "source": [
    "f = a**int*range | a**str*str.upper\n",
    "assert f(10) == range(10)\n",
    "assert f('abc') == 'ABC'"
   ]
  },
  {
   "cell_type": "code",
   "execution_count": 33,
   "metadata": {},
   "outputs": [],
   "source": [
    "f = (a * str.upper ^ Exception) | a**int*range\n",
    "assert f('abc') == 'ABC'\n",
    "assert f(10) == range(10)\n",
    "assert not f(10.)"
   ]
  },
  {
   "cell_type": "markdown",
   "metadata": {},
   "source": [
    "# Juxtapositions\n",
    "\n",
    "Juxtpositions operate on iterable objects."
   ]
  },
  {
   "cell_type": "code",
   "execution_count": 34,
   "metadata": {},
   "outputs": [],
   "source": [
    "f = a * range * [type, len]\n",
    "assert f(10) == [range, 10]"
   ]
  },
  {
   "cell_type": "code",
   "execution_count": 35,
   "metadata": {},
   "outputs": [],
   "source": [
    "f = a * range * {type, len}\n",
    "assert f(10) == set([range, 10])"
   ]
  },
  {
   "cell_type": "code",
   "execution_count": 36,
   "metadata": {},
   "outputs": [],
   "source": [
    "f = a * range * {'a': type, len: len}\n",
    "assert isinstance(f(10), dict)"
   ]
  },
  {
   "cell_type": "markdown",
   "metadata": {},
   "source": [
    "## Incremental Operators"
   ]
  },
  {
   "cell_type": "code",
   "execution_count": 37,
   "metadata": {},
   "outputs": [],
   "source": [
    "f = a * range\n",
    "f += len\n",
    "assert f == a[range][len]"
   ]
  },
  {
   "cell_type": "code",
   "execution_count": 38,
   "metadata": {},
   "outputs": [],
   "source": [
    "f = a\n",
    "f **= int\n",
    "f *= range\n",
    "assert f(10) == range(10)"
   ]
  },
  {
   "cell_type": "code",
   "execution_count": 39,
   "metadata": {},
   "outputs": [],
   "source": [
    "f = a * range\n",
    "f @= a.floordiv(2)\n",
    "assert f == a.range().groupby(a.floordiv(2))"
   ]
  },
  {
   "cell_type": "code",
   "execution_count": 40,
   "metadata": {},
   "outputs": [],
   "source": [
    "f = a * str.upper\n",
    "f ^= TypeError\n",
    "assert f('abc') and not f(10)"
   ]
  },
  {
   "cell_type": "markdown",
   "metadata": {},
   "source": [
    "## Right Operators"
   ]
  },
  {
   "cell_type": "code",
   "execution_count": 41,
   "metadata": {},
   "outputs": [
    {
     "data": {
      "text/plain": [
       "{str: ['test'], int: [0, 1, 2, 3, 4, 5, 6, 7, 8, 9]}"
      ]
     },
     "execution_count": 41,
     "metadata": {},
     "output_type": "execute_result"
    }
   ],
   "source": [
    "assert range @ a.type() == a[range] @ a.type()\n",
    "(a[range].cons('test') @ a.type())(10)"
   ]
  },
  {
   "cell_type": "markdown",
   "metadata": {},
   "source": [
    "# Copies"
   ]
  },
  {
   "cell_type": "code",
   "execution_count": 42,
   "metadata": {},
   "outputs": [],
   "source": [
    "f = a[range] @ a.floordiv(2)\n",
    "from copy import copy\n",
    "copy(f)[len]\n",
    "assert f is not copy(f) and f == copy(f)"
   ]
  }
 ],
 "metadata": {
  "anaconda-cloud": {},
  "kernelspec": {
   "display_name": "Python 3",
   "language": "python",
   "name": "python3"
  },
  "language_info": {
   "codemirror_mode": {
    "name": "ipython",
    "version": 3
   },
   "file_extension": ".py",
   "mimetype": "text/x-python",
   "name": "python",
   "nbconvert_exporter": "python",
   "pygments_lexer": "ipython3",
   "version": "3.6.3"
  }
 },
 "nbformat": 4,
 "nbformat_minor": 2
}
