{
 "cells": [
  {
   "cell_type": "code",
   "execution_count": 1,
   "metadata": {},
   "outputs": [],
   "source": [
    "from toolz.curried import *\n",
    "from functools import partialmethod\n",
    "\n",
    "try:\n",
    "    from .fidgets import *\n",
    "    from .fidgets import Compose, Does, Groups, Reduces, Maps, Filters, Stars, Flips, Composes, calls\n",
    "except:\n",
    "    from fidgets import *\n",
    "    from fidgets import Compose, Does, Groups, Reduces, Maps, Filters, Stars, Flips, Composes, calls\n",
    "\n",
    "__all__ = 'a', 'an', 'the', 'then', 'stacks'"
   ]
  },
  {
   "cell_type": "code",
   "execution_count": 2,
   "metadata": {},
   "outputs": [],
   "source": [
    "class Stacks(Composes): \n",
    "    \"\"\"A stack of composite functions.\"\"\"\n",
    "    def push(self, callable=Composes):\n",
    "        self.function[callable()]\n",
    "        return self\n",
    "        \n",
    "    def __getitem__(self, item=None):\n",
    "        if self._factory_:\n",
    "             self = super().__getitem__()\n",
    "        assert not self._factory_\n",
    "        len(self) is 0 and self.push()\n",
    "        self.function[-1][item]\n",
    "        return self\n",
    "    \n",
    "    def __getattr__(self, attr):\n",
    "        self = self[:]\n",
    "        def _wrapped_attr(*args, **kwargs):\n",
    "            self.function[-1].__getattr__(attr)(*args, **kwargs)\n",
    "            return self\n",
    "        return _wrapped_attr   \n",
    "    \n",
    "    def pop(self, index=-1):\n",
    "        self.function = self.function[:-1]\n",
    "        return self\n",
    "    \n",
    "    pipe = __getitem__\n",
    "    \n",
    "    groups = partialmethod(push, Groups)\n",
    "    filters = partialmethod(push, Filters)\n",
    "    stars = partialmethod(push, Stars)    \n",
    "    does = partialmethod(push, Does)    \n",
    "    reduces = partialmethod(push, Reduces)\n",
    "    maps = partialmethod(push, Maps)\n",
    "    composes = partialmethod(push, Composes)"
   ]
  },
  {
   "cell_type": "code",
   "execution_count": 3,
   "metadata": {},
   "outputs": [],
   "source": [
    "stacks = type('_Stacks_', (Stacks,), dict())()\n",
    "stacks.function = Compose([Stacks])\n",
    "\n",
    "a = an = the = then= stacks\n",
    "\n",
    "for article in list(__all__) : \n",
    "    setattr(Stacks, article, property(identity))"
   ]
  }
 ],
 "metadata": {
  "anaconda-cloud": {},
  "kernelspec": {
   "display_name": "Python 3",
   "language": "python",
   "name": "python3"
  },
  "language_info": {
   "codemirror_mode": {
    "name": "ipython",
    "version": 3
   },
   "file_extension": ".py",
   "mimetype": "text/x-python",
   "name": "python",
   "nbconvert_exporter": "python",
   "pygments_lexer": "ipython3",
   "version": "3.5.3"
  },
  "nbconvert": {
   "nbconvert.exporters.templateexporter.TemplateExporter": {
    "JupyterApp": {
     "config_file": "./fidget/config.py"
    }
   }
  }
 },
 "nbformat": 4,
 "nbformat_minor": 2
}
