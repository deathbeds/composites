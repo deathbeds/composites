{
 "cells": [
  {
   "cell_type": "markdown",
   "metadata": {},
   "source": [
    "# fidgets\n",
    "\n",
    "* pipes - compose functions in serial to pipe arguments through.\n",
    "* juxts - juxtapose the same arguments on many functi\n",
    "* does - compose a function that returns the input arguments\n",
    "* flips - compose a function that flips the input arguments before evaluation\n",
    "* stars - compose a function starring sequence arguments and container keywords \n",
    "* maps - \n",
    "* filters\n",
    "* groups\n",
    "* reduces"
   ]
  },
  {
   "cell_type": "code",
   "execution_count": 1,
   "metadata": {},
   "outputs": [],
   "source": [
    "try:\n",
    "    from .callables import flipped, do, starred, Compose, Partial, Juxtapose\n",
    "    from .attributes import Attributes, Operators, composed\n",
    "except Exception as e:\n",
    "    from callables import flipped, do, starred, Compose, Partial, Juxtapose\n",
    "    from attributes import Attributes, Operators, composed\n",
    "    \n",
    "from functools import wraps\n",
    "\n",
    "from operator import attrgetter\n",
    "from toolz.curried import groupby, compose, merge, reduce, filter, map\n",
    "_attribute_ = \"__{}{}__\".format"
   ]
  },
  {
   "cell_type": "code",
   "execution_count": 2,
   "metadata": {},
   "outputs": [],
   "source": [
    "__all__ = ['flips', 'stars', 'does', 'maps', 'filters', 'groups', 'reduces']\n",
    "functions = (flipped, starred, do, map, filter, groupby, reduce)"
   ]
  },
  {
   "cell_type": "code",
   "execution_count": 3,
   "metadata": {
    "collapsed": true
   },
   "outputs": [],
   "source": [
    "class Factory(Partial):\n",
    "    @property\n",
    "    def _factory_(self):\n",
    "          return type(self).__name__.startswith('_') and type(self).__name__.endswith('_')\n",
    "        \n",
    "    def __getitem__(self, object=slice(None), *args, **kwargs):\n",
    "        self = self.function() if self._factory_ else self\n",
    "        \n",
    "        return super(Factory, self).__getitem__(\n",
    "            object() if isinstance(object, Factory) and object._factory_ else object, \n",
    "            *args, **kwargs)\n",
    "\n",
    "    __mul__ = __add__ = __rshift__ = __sub__ = __getitem__\n",
    "    __invert__, __pow__ = Partial.__reversed__, Operators.__xor__\n",
    "    \n",
    "    def __lshift__(self, object):\n",
    "        return Does()[object] if self._factory_ else self[do(object)]\n"
   ]
  },
  {
   "cell_type": "code",
   "execution_count": 4,
   "metadata": {
    "collapsed": true
   },
   "outputs": [],
   "source": [
    "class Pipes(Factory, Operators, Attributes): \n",
    "    @property\n",
    "    def __doc__(self):\n",
    "        return '\\n'.join([\n",
    "            (getattr(function, 'func', function).__doc__ or \"\") + \"\\n---\\n\" \n",
    "            for function in self])\n",
    "\n",
    "class Juxts(Factory):\n",
    "    _wrapper, _composition = map(staticmethod, (tuple, Juxtapose))"
   ]
  },
  {
   "cell_type": "code",
   "execution_count": 5,
   "metadata": {},
   "outputs": [],
   "source": [
    "for name, function in zip(__all__, functions):\n",
    "    locals().update({name.capitalize(): type(name.capitalize(), (Pipes,), {'_wrapper': staticmethod(function)})})\n",
    "\n",
    "__all__ += ['pipes', 'juxts']\n",
    "\n",
    "for fidget in __all__:\n",
    "    callable = locals()[fidget.capitalize()]\n",
    "    locals()[fidget] = type('_{}_'.format(fidget.capitalize()), (callable,), {})()\n",
    "    locals()[fidget].function = Compose([callable])\n",
    "    \n",
    "__all__ += ['a', 'an', 'the']; a = an = the = pipes\n",
    "\n",
    "for op, func in (('matmul', 'groupby'), ('truediv', 'map'), ('floordiv', 'filter'), ('mod', 'reduce')):\n",
    "    setattr(Pipes, _attribute_('', op), property(Compose(attrgetter(func))))\n",
    "Pipes.__div__  = Pipes.__truediv__ "
   ]
  },
  {
   "cell_type": "code",
   "execution_count": 6,
   "metadata": {
    "collapsed": true
   },
   "outputs": [],
   "source": [
    "def fallback(attr):\n",
    "    def fallback(right, left):\n",
    "        return getattr(Pipes()[left], attr)(Pipes()[right])\n",
    "    return wraps(getattr(Pipes, attr))(fallback)"
   ]
  },
  {
   "cell_type": "code",
   "execution_count": 7,
   "metadata": {
    "collapsed": true
   },
   "outputs": [],
   "source": [
    "for attr in ['add', 'sub', 'mul', 'matmul','div', 'truediv', 'floordiv', 'mod', 'lshift', 'rshift', 'and', 'xor', 'or', 'pow']:\n",
    "    setattr(Pipes, _attribute_('i', attr), getattr(Pipes, _attribute_('', attr)))\n",
    "    setattr(Pipes, _attribute_('r', attr), fallback(_attribute_('', attr)))"
   ]
  },
  {
   "cell_type": "code",
   "execution_count": 8,
   "metadata": {},
   "outputs": [],
   "source": [
    "Pipes.attributes['fidget'] = {\n",
    "    f.__name__: composed(f) for f in (groupby, reduce, filter, map)}\n",
    "Pipes.attributes['fidget'].update({\n",
    "    key: getattr(Pipes, _attribute_('', value)) \n",
    "    for key, value in [['call']*2, ['do', 'lshift'], ['pipe',  'getitem'], ['ifthen','xor'], ['step', 'and'], ['ifnot', 'or']]})"
   ]
  }
 ],
 "metadata": {
  "anaconda-cloud": {},
  "kernelspec": {
   "display_name": "Python 3",
   "language": "python",
   "name": "python3"
  },
  "language_info": {
   "codemirror_mode": {
    "name": "ipython",
    "version": 3
   },
   "file_extension": ".py",
   "mimetype": "text/x-python",
   "name": "python",
   "nbconvert_exporter": "python",
   "pygments_lexer": "ipython3",
   "version": "3.5.3"
  },
  "nbconvert": {
   "nbconvert.exporters.templateexporter.TemplateExporter": {
    "JupyterApp": {
     "config_file": "./fidget/config.py"
    }
   }
  }
 },
 "nbformat": 4,
 "nbformat_minor": 2
}
