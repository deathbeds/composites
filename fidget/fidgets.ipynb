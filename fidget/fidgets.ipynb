{
 "cells": [
  {
   "cell_type": "markdown",
   "metadata": {},
   "source": [
    "# fidgets\n",
    "\n",
    "* pipes - compose functions in serial to pipe arguments through.\n",
    "* juxts - juxtapose the same arguments on many functi\n",
    "* does - compose a function that returns the input arguments\n",
    "* flips - compose a function that flips the input arguments before evaluation\n",
    "* stars - compose a function starring sequence arguments and container keywords \n",
    "* maps - \n",
    "* filters\n",
    "* groups\n",
    "* reduces"
   ]
  },
  {
   "cell_type": "code",
   "execution_count": 84,
   "metadata": {},
   "outputs": [],
   "source": [
    "try:\n",
    "    from .functions import flipped, do, starred, step, ifthen, ifnot, excepts\n",
    "    from .composites import Compose, Partial, Juxtapose, calls\n",
    "except Exception as e:\n",
    "    from functions import flipped, do, starred, step, ifthen, ifnot, excepts\n",
    "    from composites import Compose, Partial, Juxtapose, calls\n",
    "    \n",
    "from functools import wraps, partialmethod\n",
    "from operator import attrgetter\n",
    "from toolz.curried import groupby, compose, merge, reduce, filter, map, partial, merge, isiterable, flip, complement, interpose, concat, identity\n",
    "from inspect import signature\n",
    "from importlib import import_module\n",
    "from six import PY3\n",
    "_attribute_ = \"__{}{}__\".format\n",
    "_isinstance_ = flip(isinstance)"
   ]
  },
  {
   "cell_type": "code",
   "execution_count": 85,
   "metadata": {},
   "outputs": [],
   "source": [
    "__all__ = ['flips', 'stars', 'does', 'maps', 'filters', 'groups', 'reduces']\n",
    "functions = (flipped, starred, do, map, filter, groupby, reduce)"
   ]
  },
  {
   "cell_type": "code",
   "execution_count": 86,
   "metadata": {},
   "outputs": [],
   "source": [
    "def _composed(callable):\n",
    "    def composed(*args, **kwargs):\n",
    "        args = (calls(args[0]), *args[1:])\n",
    "        return callable(*args, **kwargs)\n",
    "    return wraps(callable)(composed)\n",
    "\n",
    "\n",
    "def _curried(callable):\n",
    "    def curried(*args):\n",
    "        function = callable\n",
    "        for arg in args:\n",
    "            function = function(arg)\n",
    "        return function\n",
    "    return wraps(callable)(curried)"
   ]
  },
  {
   "cell_type": "code",
   "execution_count": 119,
   "metadata": {},
   "outputs": [],
   "source": [
    "class Operations(object):    \n",
    "    _attributes = list()\n",
    "\n",
    "    def _and_(self, callable, object):\n",
    "        self = self[:]\n",
    "        self.function = Composes()[Compose([callable(self.function, Compose([object]))])]\n",
    "        return self\n",
    "    \n",
    "    __or__ = partialmethod(_and_, ifnot)\n",
    "    __and__ = partialmethod(_and_, step)\n",
    "    \n",
    "    def __xor__(self, object):\n",
    "        object = type(object) is type and (object,) or object\n",
    "        self = self[:]\n",
    "        self.function = Composes()[\n",
    "            Compose([excepts(object, self.function)])]\n",
    "        return self\n",
    "\n",
    "    def __pow__(self, object):\n",
    "        object = type(object) is type and (object,) or object\n",
    "        self = self[:]\n",
    "        self.function = Composes()[\n",
    "            Compose([ifthen(callable(object) and object or _isinstance_(object), self.function)])]\n",
    "        return self\n",
    "\n",
    "    \n",
    "    def __pos__(self):\n",
    "        return self[bool]\n",
    "\n",
    "    def __neg__(self):\n",
    "        return self[complement(bool)]\n",
    "            \n",
    "    def __round__(self, n):\n",
    "        self.function.function = list(interpose(n, self.function.function))\n",
    "        return self\n",
    "    \n",
    "    _attributes = list()\n",
    "\n",
    "    def __getattr__(self, attribute):\n",
    "        for dict in reversed(self._attributes):\n",
    "            dict = getattr(dict, '__dict__', dict)\n",
    "            if attribute in dict:\n",
    "                callable = dict[attribute]\n",
    "                \n",
    "                doc = callable.__doc__\n",
    "                try:\n",
    "                    sig = signature(callable)\n",
    "                except:\n",
    "                    sig=None\n",
    "\n",
    "                callable = partial(self.__getitem__, callable)\n",
    "                \n",
    "                PY3 and setattr(callable, '__doc__', doc)\n",
    "                sig and setattr(callable, '__signature__', sig)\n",
    "                \n",
    "                return callable\n",
    "        raise AttributeError(\"No attribute {}\".format(attribute))\n",
    "\n",
    "    def __dir__(self):\n",
    "        return set(concat(map(dir, self._attributes)))"
   ]
  },
  {
   "cell_type": "code",
   "execution_count": 120,
   "metadata": {
    "collapsed": true
   },
   "outputs": [],
   "source": [
    "class Factory(Partial):\n",
    "    @property\n",
    "    def _factory_(self):\n",
    "          return type(self).__name__.startswith('_') and type(self).__name__.endswith('_')\n",
    "        \n",
    "    def __getitem__(self, object=slice(None), *args, **kwargs):\n",
    "        self = self.function() if self._factory_ else self\n",
    "        \n",
    "        return super(Factory, self).__getitem__(\n",
    "            object() if isinstance(object, Factory) and object._factory_ else object, \n",
    "            *args, **kwargs)\n",
    "    \n",
    "    def __lshift__(self, object):\n",
    "        return Does()[object] if self._factory_ else self[do(object)]\n",
    "\n",
    "    __mul__ = __add__ = __rshift__ = __sub__ = __getitem__\n",
    "    __invert__= Partial.__reversed__\n",
    " "
   ]
  },
  {
   "cell_type": "code",
   "execution_count": 121,
   "metadata": {
    "collapsed": true
   },
   "outputs": [],
   "source": [
    "class Composes(Factory, Operations): \n",
    "    @property\n",
    "    def __doc__(self):\n",
    "        return '\\n'.join([\n",
    "            (getattr(function, 'func', function).__doc__ or \"\") + \"\\n---\\n\" \n",
    "            for function in self])\n",
    "\n",
    "class Juxts(Factory):\n",
    "    _wrapper, _composition = map(staticmethod, (tuple, Juxtapose))"
   ]
  },
  {
   "cell_type": "code",
   "execution_count": 122,
   "metadata": {},
   "outputs": [],
   "source": [
    "for op, func in (('matmul', 'groupby'), ('truediv', 'map'), ('floordiv', 'filter'), ('mod', 'reduce')):\n",
    "    setattr(Composes, _attribute_('', op), property(Compose(attrgetter(func))))\n",
    "Composes.__div__  = Composes.__truediv__ \n",
    "\n",
    "def _right_fallback(attr):\n",
    "    def fallback(right, left):\n",
    "        return getattr(Composes()[left], attr)(Composes()[right])\n",
    "    return wraps(getattr(Composes, attr))(fallback)\n",
    "\n",
    "for attr in ['add', 'sub', 'mul', 'matmul','div', 'truediv', 'floordiv', 'mod', 'lshift', 'rshift', 'and', 'xor', 'or', 'pow']:\n",
    "    setattr(Composes, _attribute_('i', attr), getattr(Composes, _attribute_('', attr)))\n",
    "    setattr(Composes, _attribute_('r', attr), _right_fallback(_attribute_('', attr)))\n",
    "\n",
    "Operations._attributes = list()\n",
    "Operations._attributes.append(__import__('pathlib'))\n",
    "from pathlib import Path\n",
    "Operations._attributes.append({\n",
    "     k: flipped(getattr(Path, k)) for k in dir(Path) if k[0]!='_' and callable(getattr(Path, k))\n",
    "})\n",
    "Operations._attributes.append(__import__('json'))\n",
    "Operations._attributes.append(__import__('itertools'))\n",
    "Operations._attributes.append(__import__('collections'))\n",
    "Operations._attributes.append(__import__('six').moves.builtins)\n",
    "Operations._attributes.append({\n",
    "    key: _curried(value) if key in ['attrgetter', 'methodcaller', 'itemgetter'] else flipped(value)\n",
    "    for key, value in vars(__import__('operator')).items() if key[0].islower()\n",
    "})\n",
    "Operations._attributes.append({\n",
    "    key: _composed(value) if any(map(key.endswith, ('filter', 'map'))) else value\n",
    "    for key, value in vars(__import__('toolz')).items() if key[0].islower()\n",
    "})\n"
   ]
  },
  {
   "cell_type": "code",
   "execution_count": 123,
   "metadata": {},
   "outputs": [],
   "source": [
    "for name, function in zip(__all__, functions):\n",
    "    locals().update({name.capitalize(): type(name.capitalize(), (Composes,), {'_wrapper': staticmethod(function)})})\n",
    "\n",
    "__all__ += ['composes', 'juxts']\n",
    "\n",
    "for fidget in __all__:\n",
    "    _callable = locals()[fidget.capitalize()]\n",
    "    locals()[fidget] = type('_{}_'.format(fidget.capitalize()), (_callable,), {})()\n",
    "    locals()[fidget].function = Compose([_callable])"
   ]
  },
  {
   "cell_type": "code",
   "execution_count": 124,
   "metadata": {},
   "outputs": [],
   "source": [
    "Composes._attributes.append({\n",
    "    f.__name__: _composed(f) for f in (groupby, reduce, filter, map)})\n",
    "Composes._attributes.append({\n",
    "    key: getattr(Composes, _attribute_('', value)) \n",
    "    for key, value in [['call']*2, ['do', 'lshift'], ['pipe',  'getitem'], ['ifthen','xor'], ['step', 'and'], ['ifnot', 'or']]})"
   ]
  },
  {
   "cell_type": "markdown",
   "metadata": {},
   "source": [
    "        from pandas import *\n",
    "\n",
    "        (\n",
    "            composes.Path('/Users/tonyfast/gists/')\n",
    "            .rglob('*.ipynb').take(3)\n",
    "            / [str, composes.read_text() * composes(as_version=4)[__import__('nbformat').reads]]\n",
    "            * composes.dict().valmap(composes.get('cells')[DataFrame]) \n",
    "            * concat\n",
    "        )()\n"
   ]
  }
 ],
 "metadata": {
  "anaconda-cloud": {},
  "kernelspec": {
   "display_name": "Python 3",
   "language": "python",
   "name": "python3"
  },
  "language_info": {
   "codemirror_mode": {
    "name": "ipython",
    "version": 3
   },
   "file_extension": ".py",
   "mimetype": "text/x-python",
   "name": "python",
   "nbconvert_exporter": "python",
   "pygments_lexer": "ipython3",
   "version": "3.5.3"
  },
  "nbconvert": {
   "nbconvert.exporters.templateexporter.TemplateExporter": {
    "JupyterApp": {
     "config_file": "./fidget/config.py"
    }
   }
  }
 },
 "nbformat": 4,
 "nbformat_minor": 2
}
