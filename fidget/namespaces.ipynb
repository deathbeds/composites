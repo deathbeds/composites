{
 "cells": [
  {
   "cell_type": "code",
   "execution_count": 1,
   "metadata": {
    "collapsed": true
   },
   "outputs": [],
   "source": [
    "try:\n",
    "    from .callables import flipped\n",
    "    from .objects import  Compose, dispatch\n",
    "except:\n",
    "    from callables import flipped\n",
    "    from objects import  Compose, dispatch\n",
    "    \n",
    "from collections import OrderedDict\n",
    "from functools import wraps\n",
    "from operator import attrgetter\n",
    "from inspect import signature\n",
    "from toolz.curried import map, partial, merge\n",
    "from six import PY3\n",
    "_attribute_ = \"__{}{}__\".format"
   ]
  },
  {
   "cell_type": "code",
   "execution_count": 14,
   "metadata": {
    "collapsed": true
   },
   "outputs": [],
   "source": [
    "def composed(callable):\n",
    "    def composed(*args, **kwargs):\n",
    "        args = (dispatch(args[0]), *args[1:])\n",
    "        return callable(*args, **kwargs)\n",
    "    return wraps(callable)(composed)"
   ]
  },
  {
   "cell_type": "code",
   "execution_count": 6,
   "metadata": {
    "collapsed": true
   },
   "outputs": [],
   "source": [
    "def curried(callable):\n",
    "    def curried(*args):\n",
    "        function = callable\n",
    "        for arg in args:\n",
    "            function = function(arg)\n",
    "        return function\n",
    "    return wraps(callable)(curried)"
   ]
  },
  {
   "cell_type": "code",
   "execution_count": 7,
   "metadata": {
    "collapsed": true
   },
   "outputs": [],
   "source": [
    "class Namespaces(object):\n",
    "    namespaces = OrderedDict({'fidget': {}})\n",
    "\n",
    "    def __getattr__(self, attr):\n",
    "        for namespace in reversed(self.namespaces.values()):\n",
    "            if attr in namespace:\n",
    "                callable = namespace[attr]\n",
    "                doc = callable.__doc__\n",
    "                try:\n",
    "                    sig = signature(callable)\n",
    "                except:\n",
    "                    sig=None\n",
    "\n",
    "                if callable in merge(map(vars, type(self).__mro__)).values():\n",
    "                    callable = partial(callable, self)\n",
    "                else:\n",
    "                    callable = partial(self.__getitem__, callable)\n",
    "                \n",
    "                PY3 and setattr(callable, '__doc__', doc)\n",
    "                sig and setattr(callable, '__signature__', sig)\n",
    "                \n",
    "                return callable\n",
    "        raise AttributeError(\"No attribute {}\".format(attr))\n",
    "\n",
    "    def __dir__(self):\n",
    "        return list(super(Namespaces, self).__dir__()) + list(\n",
    "            merge(self.namespaces.values()).keys())"
   ]
  },
  {
   "cell_type": "code",
   "execution_count": 8,
   "metadata": {
    "collapsed": true
   },
   "outputs": [],
   "source": [
    "Namespaces.namespaces['itertools'] = vars(__import__('itertools'))\n",
    "Namespaces.namespaces['collections'] = vars(__import__('collections'))\n",
    "Namespaces.namespaces['builtins'] = vars(__import__('builtins', fromlist=['six.moves']))\n",
    "Namespaces.namespaces['operator'] = {\n",
    "    key: curried(value) if key in ['attrgetter', 'methodcaller', 'itemgetter'] else flipped(value)\n",
    "    for key, value in vars(__import__('operator')).items() if key[0].islower()\n",
    "}\n",
    "Namespaces.namespaces['toolz'] = {\n",
    "    key: composed(value) if any(map(key.endswith, ('filter', 'map'))) else value\n",
    "    for key, value in vars(__import__('toolz')).items() if key[0].islower()\n",
    "}"
   ]
  }
 ],
 "metadata": {
  "anaconda-cloud": {},
  "kernelspec": {
   "display_name": "Python 3",
   "language": "python",
   "name": "python3"
  },
  "language_info": {
   "codemirror_mode": {
    "name": "ipython",
    "version": 3
   },
   "file_extension": ".py",
   "mimetype": "text/x-python",
   "name": "python",
   "nbconvert_exporter": "python",
   "pygments_lexer": "ipython3",
   "version": "3.5.3"
  },
  "nbconvert": {
   "nbconvert.exporters.templateexporter.TemplateExporter": {
    "JupyterApp": {
     "config_file": "./fidget/config.py"
    }
   }
  }
 },
 "nbformat": 4,
 "nbformat_minor": 2
}
