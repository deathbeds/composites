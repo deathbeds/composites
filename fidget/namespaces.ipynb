{
 "cells": [
  {
   "cell_type": "code",
   "execution_count": 2,
   "metadata": {
    "collapsed": true
   },
   "outputs": [],
   "source": [
    "try:\n",
    "    from .callables import flipped\n",
    "    from .objects import  Compose\n",
    "    from .model import Models, _attribute_\n",
    "except:\n",
    "    from callables import flipped\n",
    "    from objects import  Compose\n",
    "    from model import Models, _attribute_\n",
    "    \n",
    "from functools import wraps\n",
    "from toolz.curried import groupby, reduce, filter, map"
   ]
  },
  {
   "cell_type": "code",
   "execution_count": 3,
   "metadata": {
    "collapsed": true
   },
   "outputs": [],
   "source": [
    "def composed(callable):\n",
    "    def composed(*args, **kwargs):\n",
    "        args = (Compose._dispatch_(args[0]), *args[1:])\n",
    "        return callable(*args, **kwargs)\n",
    "    return wraps(callable)(composed)"
   ]
  },
  {
   "cell_type": "code",
   "execution_count": 4,
   "metadata": {
    "collapsed": true
   },
   "outputs": [],
   "source": [
    "def curried(callable):\n",
    "    def curried(*args):\n",
    "        function = callable\n",
    "        for arg in args:\n",
    "            function = function(arg)\n",
    "        return function\n",
    "    return wraps(callable)(curried)"
   ]
  },
  {
   "cell_type": "code",
   "execution_count": 5,
   "metadata": {
    "collapsed": true
   },
   "outputs": [],
   "source": [
    "Models.namespaces['fidget'].update({f.__name__: composed(f) for f in (groupby, reduce, filter, map)})\n",
    "Models.namespaces['fidget'].update({\n",
    "    key: getattr(Models, _attribute_('', value)) \n",
    "    for key, value in [['call']*2, ['do', 'lshift'], ['pipe',  'getitem'], ['ifthen','xor'], ['step', 'and'], ['ifnot', 'or']]\n",
    "})\n",
    "Models.namespaces['toolz'] = {\n",
    "    key: composed(value) if any(map(key.endswith, ('filter', 'map'))) else value\n",
    "    for key, value in vars(__import__('toolz')).items() if key[0].islower()\n",
    "}\n",
    "Models.namespaces['itertools'] = vars(__import__('itertools'))\n",
    "Models.namespaces['operator'] = {\n",
    "    key: curried(value) if key in ['attrgetter', 'methodcaller', 'itemgetter'] else flipped(value)\n",
    "    for key, value in vars(__import__('operator')).items() if key[0].islower()\n",
    "}\n",
    "Models.namespaces['builtins'] = vars(__import__('builtins', fromlist=['six.moves']))\n",
    "Models.namespaces['collections'] = vars(__import__('collections'))"
   ]
  }
 ],
 "metadata": {
  "anaconda-cloud": {},
  "kernelspec": {
   "display_name": "Python 3",
   "language": "python",
   "name": "python3"
  },
  "language_info": {
   "codemirror_mode": {
    "name": "ipython",
    "version": 3
   },
   "file_extension": ".py",
   "mimetype": "text/x-python",
   "name": "python",
   "nbconvert_exporter": "python",
   "pygments_lexer": "ipython3",
   "version": "3.5.3"
  },
  "nbconvert": {
   "nbconvert.exporters.templateexporter.TemplateExporter": {
    "JupyterApp": {
     "config_file": "./fidget/config.py"
    }
   }
  }
 },
 "nbformat": 4,
 "nbformat_minor": 2
}
