{
 "cells": [
  {
   "cell_type": "code",
   "execution_count": 1,
   "metadata": {},
   "outputs": [],
   "source": [
    "try:\n",
    "    from . import model\n",
    "    from .model import *\n",
    "    from . import namespaces\n",
    "except:\n",
    "    import model\n",
    "    from model import *\n",
    "    import namespaces\n",
    "__all__ = model.__all__"
   ]
  },
  {
   "cell_type": "code",
   "execution_count": 2,
   "metadata": {
    "collapsed": true
   },
   "outputs": [],
   "source": [
    "try:\n",
    "    from IPython import get_ipython\n",
    "\n",
    "    class Magic(model.Models):\n",
    "        def _decorate_(self, function):\n",
    "            return get_ipython().register_magic_function(\n",
    "                models[does[stars.second()[function.function]]][None],\n",
    "                magic_kind='cell',\n",
    "                magic_name=self.args[0])\n",
    "    __all__.append('Magic')\n",
    "except:\n",
    "    pass"
   ]
  },
  {
   "cell_type": "code",
   "execution_count": 3,
   "metadata": {
    "collapsed": true
   },
   "outputs": [],
   "source": [
    "def load_ipython_extension(ip):\n",
    "    \"\"\"%%fidget magic that displays code cells as markdown, then runs the cell.\n",
    "    \"\"\"\n",
    "    from IPython import display\n",
    "    Magic('fidget')[does[display.Markdown][display.display], ip.run_cell]()"
   ]
  },
  {
   "cell_type": "code",
   "execution_count": null,
   "metadata": {
    "collapsed": true
   },
   "outputs": [],
   "source": []
  }
 ],
 "metadata": {
  "anaconda-cloud": {},
  "kernelspec": {
   "display_name": "Python 3",
   "language": "python",
   "name": "python3"
  },
  "language_info": {
   "codemirror_mode": {
    "name": "ipython",
    "version": 3
   },
   "file_extension": ".py",
   "mimetype": "text/x-python",
   "name": "python",
   "nbconvert_exporter": "python",
   "pygments_lexer": "ipython3",
   "version": "3.5.3"
  },
  "nbconvert": {
   "nbconvert.exporters.templateexporter.TemplateExporter": {
    "JupyterApp": {
     "config_file": "./fidget/config.py"
    }
   }
  }
 },
 "nbformat": 4,
 "nbformat_minor": 2
}
