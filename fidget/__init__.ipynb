{
 "cells": [
  {
   "cell_type": "code",
   "execution_count": 2,
   "metadata": {},
   "outputs": [],
   "source": [
    "try:\n",
    "    from .sequence import _l, _t, _list_, _tuple_\n",
    "    from .container import _s, _d, _f, _dict_, _conditional_, _set_\n",
    "    from .composite import _x, stars, _comp_, _pmoc_, x_\n",
    "except:\n",
    "    from sequence import _l, _t, _list_, _tuple_\n",
    "    from container import _s, _d, _f, _dict_, _conditional_, _set_\n",
    "    from composite import _x, stars, _comp_, _pmoc_, x_\n",
    "    "
   ]
  },
  {
   "cell_type": "code",
   "execution_count": 1,
   "metadata": {},
   "outputs": [],
   "source": [
    "__all__ = [\n",
    "    '_x', 'x_', '_s', '_d', '_l', '_t', '_f', 'stars', '_comp_', '_pmoc_',\n",
    "    '_dict_', '_list_', '_conditional_', '_set_', '_tuple_'\n",
    "]"
   ]
  },
  {
   "cell_type": "code",
   "execution_count": 2,
   "metadata": {},
   "outputs": [],
   "source": [
    "from toolz.curried.operator import *\n",
    "import toolz.curried.operator\n",
    "from toolz.curried import *\n",
    "import toolz.curried"
   ]
  },
  {
   "cell_type": "code",
   "execution_count": 5,
   "metadata": {},
   "outputs": [],
   "source": [
    "not_private = complement(compose(eq('_'), first))\n",
    "\n",
    "__all__ = list(concatv(\n",
    "    filter(not_private, dir(toolz.curried)),\n",
    "    filter(not_private, dir(toolz.curried.operator)),\n",
    "    __all__\n",
    "))"
   ]
  }
 ],
 "metadata": {
  "kernelspec": {
   "display_name": "Python 3",
   "language": "python",
   "name": "python3"
  },
  "language_info": {
   "codemirror_mode": {
    "name": "ipython",
    "version": 3
   },
   "file_extension": ".py",
   "mimetype": "text/x-python",
   "name": "python",
   "nbconvert_exporter": "python",
   "pygments_lexer": "ipython3",
   "version": "3.5.2"
  }
 },
 "nbformat": 4,
 "nbformat_minor": 1
}
