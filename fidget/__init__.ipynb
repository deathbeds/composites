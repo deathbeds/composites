{
 "cells": [
  {
   "cell_type": "code",
   "execution_count": 1,
   "metadata": {
    "collapsed": true
   },
   "outputs": [],
   "source": [
    "try:\n",
    "    from .sequence import _s, _l, _t, _list_, _tuple_, _set_, _sequence_\n",
    "    from .container import _d, _f, _dict_, _condition_\n",
    "    from .composite import _x, stars, _comp_, _pmoc_, x_\n",
    "    from .chain import self, this\n",
    "    from .recipes import functor, juxt, compose, Compose\n",
    "except:\n",
    "    from sequence import _s, _l, _t, _list_, _tuple_, _set_, _sequence_\n",
    "    from container import  _d, _f, _dict_, _condition_\n",
    "    from composite import _x, stars, _comp_, _pmoc_, x_\n",
    "    from chain import self, this\n",
    "    from recipes import functor, juxt, compose, Compose"
   ]
  },
  {
   "cell_type": "code",
   "execution_count": 2,
   "metadata": {
    "collapsed": true
   },
   "outputs": [],
   "source": [
    "__all__ = [\n",
    "    '_x', 'x_', '_s', '_d', '_l', '_t', '_f', 'stars', '_comp_', '_pmoc_',\n",
    "    '_dict_', '_list_', '_condition_', '_set_', '_tuple_', 'this', 'self', \n",
    "    '_sequence_'\n",
    "]"
   ]
  },
  {
   "cell_type": "code",
   "execution_count": 3,
   "metadata": {
    "collapsed": true
   },
   "outputs": [],
   "source": [
    "from toolz.curried.operator import *\n",
    "import toolz.curried.operator\n",
    "from toolz.curried import *\n",
    "import toolz.curried\n",
    "from copy import copy\n",
    "\n",
    "try:\n",
    "    from .recipes import functor, juxt, compose, Compose\n",
    "except:\n",
    "    from recipes import functor, juxt, compose, Compose"
   ]
  },
  {
   "cell_type": "code",
   "execution_count": 4,
   "metadata": {
    "collapsed": true
   },
   "outputs": [],
   "source": [
    "not_private = complement(compose(eq('_'), first))\n",
    "\n",
    "__all__ = list(concatv(\n",
    "    filter(not_private, dir(toolz.curried)),\n",
    "    filter(not_private, dir(toolz.curried.operator)),\n",
    "    ['copy', 'functor', 'juxt', 'compose', 'Compose'], __all__\n",
    "))"
   ]
  }
 ],
 "metadata": {
  "kernelspec": {
   "display_name": "Python 3",
   "language": "python",
   "name": "python3"
  },
  "language_info": {
   "codemirror_mode": {
    "name": "ipython",
    "version": 3
   },
   "file_extension": ".py",
   "mimetype": "text/x-python",
   "name": "python",
   "nbconvert_exporter": "python",
   "pygments_lexer": "ipython3",
   "version": "3.6.0"
  }
 },
 "nbformat": 4,
 "nbformat_minor": 1
}
