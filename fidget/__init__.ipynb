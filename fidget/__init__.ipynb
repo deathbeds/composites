{
 "cells": [
  {
   "cell_type": "code",
   "execution_count": 2,
   "metadata": {
    "collapsed": true
   },
   "outputs": [],
   "source": [
    "try:\n",
    "    from .callables import call\n",
    "    from .objects import Compose\n",
    "    from .calls import *\n",
    "except:\n",
    "    from callables import call\n",
    "    from objects import Compose\n",
    "    from calls import *\n",
    "\n",
    "__all__ = ['calls', 'does', 'filters', 'flips', 'maps', 'stars', 'reduces', 'groups'] # noqa: F822\n",
    "\n",
    "for name in __all__:\n",
    "    func = locals()[name.capitalize()]\n",
    "    locals()[name] = type('_{}_'.format(func.__name__), (func, ), {})(function=Compose([func]))\n",
    "    \n",
    "del func, name\n",
    "__all__ += ['call']"
   ]
  },
  {
   "cell_type": "code",
   "execution_count": 2,
   "metadata": {
    "collapsed": true
   },
   "outputs": [],
   "source": [
    "Calls.namespaces['toolz'] = vars(__import__('toolz'))"
   ]
  },
  {
   "cell_type": "code",
   "execution_count": null,
   "metadata": {
    "collapsed": true
   },
   "outputs": [],
   "source": [
    "try:\n",
    "    from IPython import get_ipython\n",
    "\n",
    "    class Magic(Calls):\n",
    "        def _decorate_(self, function):\n",
    "            return get_ipython().register_magic_function(\n",
    "                calls[does[stars.second()[function.function]]][None],\n",
    "                magic_kind='cell',\n",
    "                magic_name=self.args[0])\n",
    "\n",
    "    __all__.append('Magic')\n",
    "except:\n",
    "    pass"
   ]
  },
  {
   "cell_type": "code",
   "execution_count": null,
   "metadata": {
    "collapsed": true
   },
   "outputs": [],
   "source": [
    "def load_ipython_extension(ip):\n",
    "    \"\"\"%%fidget magic that displays code cells as markdown, then runs the cell.\n",
    "    \"\"\"\n",
    "    from IPython import display\n",
    "    Magic('fidget')[does[display.Markdown][display.display], ip.run_cell]()"
   ]
  }
 ],
 "metadata": {
  "anaconda-cloud": {},
  "kernelspec": {
   "display_name": "Python 3",
   "language": "python",
   "name": "python3"
  },
  "language_info": {
   "codemirror_mode": {
    "name": "ipython",
    "version": 3
   },
   "file_extension": ".py",
   "mimetype": "text/x-python",
   "name": "python",
   "nbconvert_exporter": "python",
   "pygments_lexer": "ipython3",
   "version": "3.5.3"
  },
  "nbconvert": {
   "nbconvert.exporters.templateexporter.TemplateExporter": {
    "JupyterApp": {
     "config_file": "./fidget/config.py"
    }
   }
  }
 },
 "nbformat": 4,
 "nbformat_minor": 2
}
