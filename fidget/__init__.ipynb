{
 "cells": [
  {
   "cell_type": "code",
   "execution_count": 1,
   "metadata": {
    "collapsed": true
   },
   "outputs": [
    {
     "name": "stdout",
     "output_type": "stream",
     "text": [
      "[NbConvertApp] Converting notebook __init__.ipynb to python\r\n",
      "[NbConvertApp] Writing 157 bytes to __init__.py\r\n",
      "[NbConvertApp] Converting notebook attributes.ipynb to python\r\n",
      "[NbConvertApp] Writing 4250 bytes to attributes.py\r\n",
      "[NbConvertApp] Converting notebook callables.ipynb to python\r\n",
      "[NbConvertApp] Writing 2906 bytes to callables.py\r\n",
      "[NbConvertApp] Converting notebook objects.ipynb to python\r\n",
      "[NbConvertApp] Writing 4126 bytes to objects.py\r\n",
      "[NbConvertApp] Converting notebook state.ipynb to python\r\n",
      "[NbConvertApp] Writing 2248 bytes to state.py\r\n",
      "[NbConvertApp] Converting notebook sugar.ipynb to python\r\n",
      "[NbConvertApp] Writing 3415 bytes to sugar.py\r\n"
     ]
    }
   ],
   "source": [
    "try:\n",
    "    from . import fidgets\n",
    "    from .fidgets import *\n",
    "except:\n",
    "    import fidgets\n",
    "    from fidgets import *\n",
    "__all__ = fidgets.__all__"
   ]
  }
 ],
 "metadata": {
  "anaconda-cloud": {},
  "kernelspec": {
   "display_name": "Python 3",
   "language": "python",
   "name": "python3"
  },
  "language_info": {
   "codemirror_mode": {
    "name": "ipython",
    "version": 3
   },
   "file_extension": ".py",
   "mimetype": "text/x-python",
   "name": "python",
   "nbconvert_exporter": "python",
   "pygments_lexer": "ipython3",
   "version": "3.5.3"
  },
  "nbconvert": {
   "nbconvert.exporters.templateexporter.TemplateExporter": {
    "JupyterApp": {
     "config_file": "./fidget/config.py"
    }
   }
  }
 },
 "nbformat": 4,
 "nbformat_minor": 2
}
