{
 "cells": [
  {
   "cell_type": "code",
   "execution_count": 2,
   "metadata": {},
   "outputs": [],
   "source": [
    "try:\n",
    "    from .callables import call\n",
    "    from .classes import Compose\n",
    "    from .calls import *\n",
    "except:\n",
    "    from callables import call\n",
    "    from classes import Compose\n",
    "    from calls import *\n",
    "\n",
    "__all__ = ['calls', 'does', 'filters', 'flips', 'maps', 'stars', 'reduces', 'groups'] # noqa: F822\n",
    "\n",
    "for name in __all__:\n",
    "    func = locals()[name.capitalize()]\n",
    "    locals()[name] = type('_{}_'.format(func.__name__), (func, ), {})(function=Compose([func]))\n",
    "    \n",
    "del func, name\n",
    "__all__ += ['call']"
   ]
  },
  {
   "cell_type": "code",
   "execution_count": 2,
   "metadata": {
    "collapsed": true
   },
   "outputs": [],
   "source": [
    "Calls.namespaces['toolz'] = vars(__import__('toolz'))"
   ]
  }
 ],
 "metadata": {
  "anaconda-cloud": {},
  "kernelspec": {
   "display_name": "Python 3",
   "language": "python",
   "name": "python3"
  },
  "nbconvert": {
   "nbconvert.exporters.templateexporter.TemplateExporter": {
    "JupyterApp": {
     "config_file": "./fidget/config.py"
    }
   }
  }
 },
 "nbformat": 4,
 "nbformat_minor": 2
}
