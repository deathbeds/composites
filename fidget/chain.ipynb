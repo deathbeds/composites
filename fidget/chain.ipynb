{
 "cells": [
  {
   "cell_type": "code",
   "execution_count": 2,
   "metadata": {
    "collapsed": true
   },
   "outputs": [],
   "source": [
    "try:\n",
    "    from .recipes import compose\n",
    "except:\n",
    "    from recipes import compose\n",
    "from toolz.curried import do, partial, last, get, pipe, filter, concatv\n",
    "from toolz.curried.operator import attrgetter, itemgetter"
   ]
  },
  {
   "cell_type": "code",
   "execution_count": 3,
   "metadata": {
    "collapsed": true
   },
   "outputs": [],
   "source": [
    "class ChainGenerator(object):\n",
    "    \"\"\"Generate This and Self compositions.\n",
    "    \"\"\"\n",
    "    def __init__(self, func):\n",
    "        self.func = func # Union[This, Self]\n",
    "        \n",
    "    def __getattr__(self, attr):\n",
    "        # (str) -> Union[This, Self]\n",
    "        return getattr(self.func(), attr)\n",
    "    \n",
    "    def __getitem__(self, attr):\n",
    "        # (str) -> Union[This, Self]\n",
    "        return self.func()[attr]"
   ]
  },
  {
   "cell_type": "code",
   "execution_count": 4,
   "metadata": {
    "collapsed": true
   },
   "outputs": [],
   "source": [
    "def call(args, kwargs, obj): \n",
    "    return obj(*args, **kwargs)"
   ]
  },
  {
   "cell_type": "code",
   "execution_count": 5,
   "metadata": {
    "collapsed": true
   },
   "outputs": [],
   "source": [
    "class This(object):\n",
    "    def __init__(self, funcs=[], ):\n",
    "        self.funcs = funcs.copy()\n",
    "        self.funcs.append([])\n",
    "    \n",
    "    def __getattr__(self, attr):\n",
    "        last(self.funcs).append(attrgetter(attr))\n",
    "        return self\n",
    "    \n",
    "    def __getitem__(self, item):\n",
    "        self.funcs[-1] = itemgetter(item)\n",
    "        return self.__class__(self.funcs)\n",
    "    \n",
    "    def __call__(self, *args, **kwargs):\n",
    "        if last(self.funcs) ==  []:\n",
    "            return self.fn(args[0])\n",
    "        self.compose_func(*args, **kwargs)\n",
    "        if self.__class__ is Self:\n",
    "            self.funcs[-1] = do(self.funcs[-1])\n",
    "        return self.__class__(self.funcs)\n",
    "        \n",
    "    def compose_object(self):\n",
    "        if isinstance(last(self.funcs), list):\n",
    "            self.funcs[-1] = compose(*reversed(last(self.funcs)))\n",
    "    \n",
    "    def compose_func(self, *args, **kwargs):\n",
    "        if isinstance(last(self.funcs), list):\n",
    "            self.funcs[-1] = compose(*concatv(\n",
    "                [partial(call, args, kwargs)], \n",
    "                filter(bool, reversed(last(self.funcs)))\n",
    "            ))\n",
    "        \n",
    "    @property\n",
    "    def fn(self):\n",
    "        self.compose_object()\n",
    "        return compose(*pipe(self.funcs, reversed, filter(bool)))\n",
    "    \n",
    "class Self(This): pass"
   ]
  },
  {
   "cell_type": "code",
   "execution_count": 6,
   "metadata": {
    "collapsed": false
   },
   "outputs": [],
   "source": [
    "this = ChainGenerator(This)\n",
    "self = ChainGenerator(Self)"
   ]
  },
  {
   "cell_type": "code",
   "execution_count": 7,
   "metadata": {
    "collapsed": true
   },
   "outputs": [],
   "source": [
    "# import pandas as pd\n",
    "\n",
    "# df = pd.util.testing.makeDataFrame()\n",
    "\n",
    "# this.sum( ).index.fn( df ) \n"
   ]
  },
  {
   "cell_type": "markdown",
   "metadata": {},
   "source": [
    "__*fin*__"
   ]
  }
 ],
 "metadata": {
  "kernelspec": {
   "display_name": "Python 3",
   "language": "python",
   "name": "python3"
  },
  "language_info": {
   "codemirror_mode": {
    "name": "ipython",
    "version": 3
   },
   "file_extension": ".py",
   "mimetype": "text/x-python",
   "name": "python",
   "nbconvert_exporter": "python",
   "pygments_lexer": "ipython3",
   "version": "3.6.0"
  }
 },
 "nbformat": 4,
 "nbformat_minor": 1
}
