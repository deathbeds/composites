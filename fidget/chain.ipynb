{
 "cells": [
  {
   "cell_type": "code",
   "execution_count": 2,
   "metadata": {},
   "outputs": [],
   "source": [
    "from toolz.functoolz import Compose\n",
    "from toolz.curried.operator import attrgetter\n",
    "from toolz.curried import first, last, compose, concatv, merge"
   ]
  },
  {
   "cell_type": "code",
   "execution_count": 30,
   "metadata": {},
   "outputs": [],
   "source": [
    "class ChainBase(object):\n",
    "    def __init__(self, obj=[], *args, **kwargs):\n",
    "        self.funcs = [obj]\n",
    "        self.args = args\n",
    "        self.kwargs = kwargs\n",
    "        \n",
    "    def __getattr__(self, attr):\n",
    "        if callable(last(self.funcs)) or len(self.funcs) == 1:\n",
    "            self.funcs.append([])\n",
    "        last(self.funcs).append(attrgetter(attr))\n",
    "        return self\n",
    "    \n",
    "    def __call__(self, *args, **kwargs):\n",
    "        last(self.funcs).append((args, kwargs))\n",
    "        self.funcs.append([])\n",
    "        return self\n",
    "    \n",
    "    def compose(self, obj=None):\n",
    "        if obj is None:\n",
    "            obj = first(self.funcs)\n",
    "        for func in filter(bool, self.funcs[1:]):\n",
    "            args, kwargs = last(func)\n",
    "            output = compose(Compose, list, reversed)(func[:-1])(obj)(\n",
    "                *concatv(self.args, args), **merge(self.kwargs, kwargs)\n",
    "            )\n",
    "            if self.recurse: \n",
    "                obj = output\n",
    "        return obj\n",
    "    \n",
    "    @property\n",
    "    def _(self): \n",
    "        return self.compose()"
   ]
  },
  {
   "cell_type": "code",
   "execution_count": 50,
   "metadata": {},
   "outputs": [],
   "source": [
    "class ChainFactory(object):\n",
    "    def __init__(self, chain):\n",
    "        self.chain = chain\n",
    "    \n",
    "    def __getattr__(self, attr):\n",
    "        return getattr(self.chain(None), attr)\n",
    "    \n",
    "    def __call__(self, obj):\n",
    "        return self.chain(obj)"
   ]
  },
  {
   "cell_type": "code",
   "execution_count": 51,
   "metadata": {},
   "outputs": [],
   "source": [
    "class Self(ChainBase):\n",
    "    recurse = False\n",
    "class This(ChainBase):\n",
    "    recurse = True"
   ]
  },
  {
   "cell_type": "code",
   "execution_count": 53,
   "metadata": {},
   "outputs": [],
   "source": [
    "_self_ = ChainFactory(Self)\n",
    "_this_ = ChainFactory(This)"
   ]
  },
  {
   "cell_type": "code",
   "execution_count": null,
   "metadata": {},
   "outputs": [],
   "source": [
    "# import pandas\n",
    "\n",
    "# df  = pandas.util.testing.makeDataFrame()\n",
    "# _this_(df).sum().count()._"
   ]
  },
  {
   "cell_type": "markdown",
   "metadata": {},
   "source": [
    "__*fin*__"
   ]
  }
 ],
 "metadata": {
  "kernelspec": {
   "display_name": "Python [conda env:py27]",
   "language": "python",
   "name": "conda-env-py27-py"
  },
  "language_info": {
   "codemirror_mode": {
    "name": "ipython",
    "version": 2
   },
   "file_extension": ".py",
   "mimetype": "text/x-python",
   "name": "python",
   "nbconvert_exporter": "python",
   "pygments_lexer": "ipython2",
   "version": "2.7.12"
  }
 },
 "nbformat": 4,
 "nbformat_minor": 1
}
