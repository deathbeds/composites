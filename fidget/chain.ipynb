{
 "cells": [
  {
   "cell_type": "code",
   "execution_count": 3,
   "metadata": {},
   "outputs": [],
   "source": [
    "try:\n",
    "    from .recipes import juxt\n",
    "except:\n",
    "    from recipes import juxt\n",
    "\n",
    "from toolz.functoolz import Compose\n",
    "\n",
    "from toolz.curried.operator import attrgetter\n",
    "from toolz.curried import first, last, compose, concatv, merge"
   ]
  },
  {
   "cell_type": "code",
   "execution_count": 33,
   "metadata": {},
   "outputs": [],
   "source": [
    "class Chain(object):\n",
    "    def __init__(self, obj=compose(type,list,range), *args, **kwargs):\n",
    "        self.funcs = [obj]\n",
    "        self.args = args\n",
    "        self.kwargs = kwargs\n",
    "        \n",
    "    def __getattr__(self, attr):\n",
    "        if callable(last(self.funcs)) or len(self.funcs) == 1:\n",
    "            self.funcs.append([])\n",
    "        last(self.funcs).append(attrgetter(attr))\n",
    "        return self\n",
    "    \n",
    "    def __call__(self, *args, **kwargs):\n",
    "        last(self.funcs).append((args, kwargs))\n",
    "        self.funcs.append([])\n",
    "        return self\n",
    "    \n",
    "    def compose(self, obj=None):\n",
    "        if obj is None:\n",
    "            obj = first(self.funcs)\n",
    "        for func in filter(bool, self.funcs[1:]):\n",
    "            args, kwargs = last(func)\n",
    "            compose(Compose, list, reversed)(func[:-1])(obj)(\n",
    "                *concatv(self.args, args), **merge(self.kwargs, kwargs)\n",
    "            )\n",
    "        return obj\n",
    "    \n",
    "    @property\n",
    "    def _(self): \n",
    "        return self.compose()"
   ]
  },
  {
   "cell_type": "code",
   "execution_count": 36,
   "metadata": {},
   "outputs": [],
   "source": [
    "class ChainFactory(object):\n",
    "    def __getattribute__(self, attr):\n",
    "        return getattr(Chain(None), attr)\n",
    "    \n",
    "    def __call__(self, obj):\n",
    "        return Chain(obj)\n",
    "_c = _chain_ = ChainFactory()"
   ]
  },
  {
   "cell_type": "code",
   "execution_count": null,
   "metadata": {},
   "outputs": [],
   "source": [
    "# import pandas\n",
    "\n",
    "# df  = pandas.util.testing.makeDataFrame()\n",
    "# _c(df).sum().count()._"
   ]
  },
  {
   "cell_type": "markdown",
   "metadata": {},
   "source": [
    "__*fin*__"
   ]
  }
 ],
 "metadata": {
  "kernelspec": {
   "display_name": "Python 3",
   "language": "python",
   "name": "python3"
  },
  "language_info": {
   "codemirror_mode": {
    "name": "ipython",
    "version": 3
   },
   "file_extension": ".py",
   "mimetype": "text/x-python",
   "name": "python",
   "nbconvert_exporter": "python",
   "pygments_lexer": "ipython3",
   "version": "3.5.2"
  }
 },
 "nbformat": 4,
 "nbformat_minor": 1
}
