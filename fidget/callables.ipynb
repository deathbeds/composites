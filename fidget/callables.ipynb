{
 "cells": [
  {
   "cell_type": "markdown",
   "metadata": {},
   "source": [
    "# `callables`\n",
    "\n",
    "Collections of special callable objects."
   ]
  },
  {
   "cell_type": "code",
   "execution_count": 52,
   "metadata": {},
   "outputs": [],
   "source": [
    "from functools import total_ordering\n",
    "from toolz.curried import compose, first, isiterable, partial, identity\n",
    "from six import iteritems, PY3\n",
    "from decorator import decorator, decorate\n",
    "from types import LambdaType\n",
    "from inspect import getsource, signature\n",
    "from operator import eq\n",
    "\n",
    "__all__ = 'functor', 'flipped', 'do', 'starred', 'ifthen', 'ifnot', 'step', 'excepts', 'Compose', 'Juxtapose'"
   ]
  },
  {
   "cell_type": "code",
   "execution_count": null,
   "metadata": {},
   "outputs": [],
   "source": [
    "@total_ordering\n",
    "class State(object):\n",
    "    \"\"\"Base attributes for callables and fidgets.\"\"\"\n",
    "    \n",
    "    def __init__(self, *args, **kwargs):\n",
    "        for i, slot in enumerate(self.__slots__):\n",
    "            setattr(self, slot, args[i])\n",
    "        self.kwargs = kwargs\n",
    "        \n",
    "    def __getstate__(self):\n",
    "        return tuple(map(partial(getattr, self), self.__slots__))\n",
    "    \n",
    "    def __setstate__(self, state):\n",
    "        for key, value in zip(self.__slots__, state):\n",
    "            setattr(self, key, value)\n",
    "        \n",
    "    def __copy__(self, *args):\n",
    "        new = type(self)()\n",
    "        return new.__setstate__(tuple(map(copy, self.__getstate__()))) or new\n",
    "\n",
    "    def __hash__(self):\n",
    "        values = []\n",
    "        for slot in self.__slots__:\n",
    "            values += [hashiter(getattr(self, slot))]\n",
    "        return hash(tuple(values))\n",
    "    \n",
    "    def __eq__(self, other):\n",
    "        return isinstance(other, State) and hash(self) == hash(other)\n",
    "    \n",
    "    def __enter__(self):\n",
    "        return copy(self[:])\n",
    "    \n",
    "    def __exit__(self, exc_type, exc_value, traceback):\n",
    "        pass\n",
    "    \n",
    "    def __abs__(self):\n",
    "        return self.__call__\n",
    "    \n",
    "    def __lt__(self, other):\n",
    "        if isinstance(other, State):\n",
    "            return (len(self) < len(other)) and all(eq(*i) for i in zip(self, other))\n",
    "        return False\n",
    "\n",
    "    def __len__(self):\n",
    "        return sum(1 for f in self)\n",
    "    \n",
    "    @property\n",
    "    def __signature__(self):\n",
    "        try:\n",
    "            return signature(\n",
    "                first(self.function) if isiterable(self.function) else \n",
    "                self.function) \n",
    "        except:\n",
    "            return signature(self.__call__)\n",
    "\n",
    "   \n",
    "    __deepcopy__ = __copy__"
   ]
  },
  {
   "cell_type": "code",
   "execution_count": 53,
   "metadata": {},
   "outputs": [],
   "source": [
    "def hashiter(object):\n",
    "    \"\"\"Hash an interable container.\"\"\"\n",
    "    if isiterable(object):\n",
    "        if isinstance(object, dict):\n",
    "            values = []\n",
    "            for key, value in object.items():\n",
    "                values +=[(key, hashiter(value))]\n",
    "        else:\n",
    "            values = []\n",
    "            for value in object:\n",
    "                values += [hashiter(value)]\n",
    "        object = (type(object), tuple(values))\n",
    "    return hash(object)"
   ]
  },
  {
   "cell_type": "code",
   "execution_count": 54,
   "metadata": {},
   "outputs": [],
   "source": [
    "class functor(State):\n",
    "    \"\"\"A function that evaluates a callable or returns the value of a non-callable.\"\"\"\n",
    "    __slots__ = ('function',)\n",
    "    def __init__(self, function=identity):\n",
    "        super(functor, self).__init__(function)\n",
    "        \n",
    "    def __call__(self, *args, **kwargs):\n",
    "        return self.function(*args, **kwargs) if callable(self.function) else self.function\n",
    "    \n",
    "    def __repr__(self):\n",
    "        return repr(self.function)"
   ]
  },
  {
   "cell_type": "code",
   "execution_count": 55,
   "metadata": {},
   "outputs": [],
   "source": [
    "class flipped(functor):\n",
    "    \"\"\"Call a function with the arguments positional arguments reversed\"\"\"\n",
    "    def __call__(self, *args, **kwargs):\n",
    "        return super(flipped, self).__call__(*reversed(args), **kwargs)"
   ]
  },
  {
   "cell_type": "code",
   "execution_count": 56,
   "metadata": {},
   "outputs": [],
   "source": [
    "class do(functor):\n",
    "    \"\"\"Call a function and return input argument.\"\"\"\n",
    "    def __call__(self, *args, **kwargs):\n",
    "        super(do, self).__call__(*args, **kwargs)\n",
    "        return args[0] if args else None"
   ]
  },
  {
   "cell_type": "code",
   "execution_count": 57,
   "metadata": {
    "collapsed": true
   },
   "outputs": [],
   "source": [
    "class starred(functor):\n",
    "    \"\"\"Call a function starring the arguments for sequences and starring the keywords for containers.\"\"\"\n",
    "    def __call__(self, *args, **kwargs):\n",
    "        args = args[0] if len(args) is 1 else (args,)\n",
    "        if not isiterable(args): \n",
    "            args = [(args,)]\n",
    "        if isinstance(args, dict):\n",
    "            args = kwargs.update(args) or tuple()\n",
    "        return super(starred, self).__call__(*args, **kwargs)"
   ]
  },
  {
   "cell_type": "code",
   "execution_count": 63,
   "metadata": {},
   "outputs": [],
   "source": [
    "class Condition(functor):\n",
    "    \"\"\"Evaluate a function if a condition is true.\"\"\"\n",
    "    __slots__ = ('condition', 'function')\n",
    "    def __init__(self, condition=bool, function=identity):\n",
    "        super(functor, self).__init__(condition, function)"
   ]
  },
  {
   "cell_type": "code",
   "execution_count": 64,
   "metadata": {},
   "outputs": [],
   "source": [
    "class ifthen(Condition):\n",
    "    def __call__(self, *args, **kwargs):\n",
    "        return functor(self.condition)(*args, **kwargs) and super(ifthen, self).__call__(*args, **kwargs)\n",
    "\n",
    "class ifnot(Condition):\n",
    "    def __call__(self, *args, **kwargs):\n",
    "        return functor(self.condition)(*args, **kwargs) or super(ifnot, self).__call__(*args, **kwargs)"
   ]
  },
  {
   "cell_type": "code",
   "execution_count": 67,
   "metadata": {},
   "outputs": [],
   "source": [
    "class step(Condition):\n",
    "    def __call__(self, *args, **kwargs):\n",
    "        result = functor(self.condition)(*args, **kwargs)\n",
    "        return result and super(step, self).__call__(result)"
   ]
  },
  {
   "cell_type": "code",
   "execution_count": 69,
   "metadata": {
    "collapsed": true
   },
   "outputs": [],
   "source": [
    "class excepts(functor):\n",
    "    \"\"\"Allow acception when calling a function\"\"\"\n",
    "    __slots__ = ('exceptions', 'function')\n",
    "    \n",
    "    def __init__(self, exceptions=tuple(), function=identity):\n",
    "        super(functor, self).__init__(copy(exceptions), function)\n",
    "\n",
    "    def __call__(self, *args, **kwargs):\n",
    "        try:\n",
    "            return super(excepts, self).__call__(*args, **kwargs)\n",
    "        except self.exceptions as e:\n",
    "            return exception(e)"
   ]
  },
  {
   "cell_type": "code",
   "execution_count": 70,
   "metadata": {
    "collapsed": true
   },
   "outputs": [],
   "source": [
    "class Functions(State):  \n",
    "    \"\"\"Base class for chainable functions.\"\"\"\n",
    "    __slots__ = ('function',)\n",
    "    def __getitem__(self, object=slice(None)):   \n",
    "        return object != slice(None) and self.append(object) or self \n",
    "    \n",
    "    def __repr__(self):\n",
    "        return repr(self.function)\n",
    "    \n",
    "    @property\n",
    "    def append(self):\n",
    "        return self.function.append\n",
    "    \n",
    "    __name__ = __repr__\n",
    "    \n",
    "    def __contains__(self, object):\n",
    "        return any(object == function for function in self)\n",
    "    \n",
    "    def __delitem__(self, object):\n",
    "        self.function = list(fn for fn in self if fn != object)\n",
    "        return self\n",
    "    \n",
    "    def __setitem__(self, attr, object):\n",
    "        self.function = list(object if fn == attr else fn for fn in self)\n",
    "        return self  \n",
    "    \n",
    "    def __iter__(self):\n",
    "        for function in self.function:\n",
    "            yield function\n",
    "\n",
    "    def __reversed__(self):\n",
    "        self.function = type(self.function)(reversed(self.function))\n",
    "        return self"
   ]
  },
  {
   "cell_type": "code",
   "execution_count": 71,
   "metadata": {},
   "outputs": [],
   "source": [
    "def _dispatch(object):\n",
    "    \"\"\"Evaluate sequences and containers as functions\"\"\"\n",
    "    if isinstance(object, (dict, set, list, tuple)):\n",
    "        return Juxtapose(object, type(object))\n",
    "    return functor(object)"
   ]
  },
  {
   "cell_type": "code",
   "execution_count": 72,
   "metadata": {
    "collapsed": true
   },
   "outputs": [],
   "source": [
    "class Callable(Functions):\n",
    "    \"\"\"Base class for chainable functions through the getitem api.\"\"\"\n",
    "    __slots__ = ('args', 'keywords', 'function', 'type')\n",
    "            \n",
    "    def __getitem__(self, object=slice(None), *args, **kwargs):\n",
    "        if isinstance(object, slice):\n",
    "            object, self = Compose(self.function[object]), copy(self)\n",
    "            self.function = object\n",
    "            return self\n",
    "               \n",
    "        return super(Callable, self).__getitem__(\n",
    "            (args or kwargs) and partial(object, *args, **kwargs) or object)\n",
    "    \n",
    "    @property\n",
    "    def append(self): return self.function.append\n",
    "    \n",
    "    @property\n",
    "    def __call__(self):\n",
    "        return partial(self.function, *self.args, **self.keywords)"
   ]
  },
  {
   "cell_type": "code",
   "execution_count": 73,
   "metadata": {},
   "outputs": [],
   "source": [
    "class Compose(Callable):\n",
    "    \"\"\"Function compose in serial.\"\"\"\n",
    "    \n",
    "    def __init__(self, object=None, type=functor):\n",
    "        if object is None:\n",
    "            object = list()\n",
    "        if not isiterable(object) or isinstance(object, (str,)):\n",
    "            object = [object]\n",
    "        \n",
    "        super(Compose, self).__init__(tuple(), dict(), object, type)\n",
    "        \n",
    "        \n",
    "    def __call__(self, *args, **kwargs):\n",
    "        try:\n",
    "            for i, object in enumerate(self):\n",
    "                try:\n",
    "                    args, kwargs = (_dispatch(object)(*args, **kwargs),), {}\n",
    "                except Exception as e:\n",
    "                    # Could analyze current state.\n",
    "                    raise Exception('on {}th callable `{}` in {}'.format(\n",
    "                        i+1, \n",
    "                        (isinstance(object, LambdaType) and compose(first, str.splitlines, getsource) or identity)(object) \n",
    "                        , self\n",
    "                    )) from e\n",
    "        except StopIteration:\n",
    "            pass\n",
    "        return first(args)"
   ]
  },
  {
   "cell_type": "code",
   "execution_count": 74,
   "metadata": {},
   "outputs": [],
   "source": [
    "class Juxtapose(Callable):\n",
    "    \"\"\"Composed many functions for the sample inputs.\"\"\"\n",
    "    def __init__(self, function=None, type=tuple):\n",
    "        if isinstance(function, dict):\n",
    "            function = compose(tuple, iteritems)(function)\n",
    "        super(Juxtapose, self).__init__(tuple(), dict(), function or list(), type)\n",
    "        \n",
    "    def __call__(self, *args, **kwargs):\n",
    "        return self.type([_dispatch(function)(*args, **kwargs) for function in self]) "
   ]
  },
  {
   "cell_type": "code",
   "execution_count": 83,
   "metadata": {
    "collapsed": true
   },
   "outputs": [],
   "source": [
    "class Partial(Callable):\n",
    "    \"\"\"Compose functions with parital arguments and keywords.\"\"\"\n",
    "    \n",
    "    _composition, _wrapper = map(staticmethod, (Compose, functor))\n",
    "    \n",
    "    def __init__(self, *args, **kwargs):\n",
    "        super(Partial, self).__init__(args, kwargs, self._composition(), self._wrapper)\n",
    "        \n",
    "    def __getitem__(self, object=slice(None), *args, **kwargs):\n",
    "        if isinstance(object, slice):\n",
    "            object, self = Compose(self.function.function[object]), copy(self)\n",
    "            self.function = object\n",
    "            return self\n",
    "               \n",
    "        return super(Partial, self).__getitem__(\n",
    "            (args or kwargs) and partial(object, *args, **kwargs) or object)\n",
    "    \n",
    "    @property\n",
    "    def append(self):\n",
    "        return self.function.function.append\n",
    "    \n",
    "    @property\n",
    "    def __call__(self):\n",
    "        return partial(\n",
    "            self._wrapper(self.function), *self.args, **self.keywords)"
   ]
  },
  {
   "cell_type": "code",
   "execution_count": 76,
   "metadata": {
    "collapsed": true
   },
   "outputs": [],
   "source": [
    "if PY3:\n",
    "    def doc(self):\n",
    "        return getattr(first(self), '__doc__', '')\n",
    "    \n",
    "    for func in __all__:\n",
    "        setattr(locals()[func], '__doc__', property(doc))"
   ]
  }
 ],
 "metadata": {
  "anaconda-cloud": {},
  "kernelspec": {
   "display_name": "Python 3",
   "language": "python",
   "name": "python3"
  },
  "language_info": {
   "codemirror_mode": {
    "name": "ipython",
    "version": 3
   },
   "file_extension": ".py",
   "mimetype": "text/x-python",
   "name": "python",
   "nbconvert_exporter": "python",
   "pygments_lexer": "ipython3",
   "version": "3.5.3"
  },
  "nbconvert": {
   "nbconvert.exporters.templateexporter.TemplateExporter": {
    "JupyterApp": {
     "config_file": "./fidget/config.py"
    }
   }
  }
 },
 "nbformat": 4,
 "nbformat_minor": 2
}
