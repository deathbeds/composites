{
 "cells": [
  {
   "cell_type": "code",
   "execution_count": 1,
   "metadata": {
    "collapsed": true
   },
   "outputs": [],
   "source": [
    "try:\n",
    "    from .state import State, Signature\n",
    "except:\n",
    "    from state import State, Signature\n",
    "from copy import copy\n",
    "from six import PY3\n",
    "from toolz import isiterable, identity\n",
    "\n",
    "__all__ = ['functor', 'flipped', 'do', 'starred', 'ifthen', 'ifnot', 'step', 'excepts']"
   ]
  },
  {
   "cell_type": "code",
   "execution_count": 3,
   "metadata": {
    "collapsed": true
   },
   "outputs": [],
   "source": [
    "class functor(State, Signature):\n",
    "    __slots__ = ('function',)\n",
    "    def __init__(self, function=identity):\n",
    "        super(functor, self).__init__(function)\n",
    "        \n",
    "    def __call__(self, *args, **kwargs):\n",
    "        return self.function(*args, **kwargs) if callable(\n",
    "            self.function) else self.function\n",
    "    \n",
    "    def __repr__(self):\n",
    "        return repr(self.function)\n",
    "    \n",
    "class flipped(functor):\n",
    "    def __call__(self, *args, **kwargs):\n",
    "        return super(flipped, self).__call__(*reversed(args), **kwargs)\n",
    "    \n",
    "class do(functor):\n",
    "    def __call__(self, *args, **kwargs):\n",
    "        super(do, self).__call__(*args, **kwargs)\n",
    "        return args[0] if args else None"
   ]
  },
  {
   "cell_type": "code",
   "execution_count": 4,
   "metadata": {
    "collapsed": true
   },
   "outputs": [],
   "source": [
    "class starred(functor):\n",
    "    def __call__(self, *args, **kwargs):\n",
    "        args = args[0] if len(args) is 1 else (args,)\n",
    "        if not isiterable(args): \n",
    "            args = [(args,)]\n",
    "        if isinstance(args, dict):\n",
    "            args = kwargs.update(args) or tuple()\n",
    "        return super(starred, self).__call__(*args, **kwargs)"
   ]
  },
  {
   "cell_type": "code",
   "execution_count": 43,
   "metadata": {
    "collapsed": true
   },
   "outputs": [],
   "source": [
    "class condition(functor):\n",
    "    __slots__ = ('condition', 'function')\n",
    "    def __init__(self, condition=bool, function=identity):\n",
    "        super(functor, self).__init__(condition, function)\n",
    "\n",
    "class ifthen(condition):\n",
    "    def __call__(self, *args, **kwargs):\n",
    "        return functor(self.condition)(*args, **kwargs) and super(ifthen, self).__call__(*args, **kwargs)\n",
    "\n",
    "class ifnot(condition):\n",
    "    def __call__(self, *args, **kwargs):\n",
    "        return functor(self.condition)(*args, **kwargs) or super(ifnot, self).__call__(*args, **kwargs)\n",
    "\n",
    "class step(condition):\n",
    "    def __call__(self, *args, **kwargs):\n",
    "        result = functor(self.condition)(*args, **kwargs)\n",
    "        return result and super(step, self).__call__(result)"
   ]
  },
  {
   "cell_type": "code",
   "execution_count": 44,
   "metadata": {
    "collapsed": true
   },
   "outputs": [],
   "source": [
    "class excepts(functor):\n",
    "    __slots__ = ('exceptions', 'function')\n",
    "    def __init__(self, exceptions=tuple(), function=identity):\n",
    "        super(functor, self).__init__(copy(exceptions), function)\n",
    "\n",
    "    def __call__(self, *args, **kwargs):\n",
    "        try:\n",
    "            return super(excepts, self).__call__(*args, **kwargs)\n",
    "        except self.exceptions as e:\n",
    "            return exception(e)"
   ]
  },
  {
   "cell_type": "code",
   "execution_count": 45,
   "metadata": {
    "collapsed": true
   },
   "outputs": [],
   "source": [
    "class exception(State):\n",
    "    __slots__ = ('exception',)\n",
    "    def __init__(self, exception=tuple()):\n",
    "        super(functor, self).__init__(copy(exception))\n",
    "\n",
    "    def __bool__(self):\n",
    "        return not self.exception\n",
    "\n",
    "    def __repr__(self):\n",
    "        return repr(self.exception)"
   ]
  },
  {
   "cell_type": "code",
   "execution_count": 46,
   "metadata": {
    "collapsed": true
   },
   "outputs": [],
   "source": [
    "def doc(self):\n",
    "    return getattr(self.function, '__doc__', '')\n",
    "\n",
    "if PY3:\n",
    "    for func in map(locals().__getitem__, __all__):\n",
    "        setattr(func, '__doc__', property(doc))"
   ]
  }
 ],
 "metadata": {
  "anaconda-cloud": {},
  "kernelspec": {
   "display_name": "Python 3",
   "language": "python",
   "name": "python3"
  },
  "language_info": {
   "codemirror_mode": {
    "name": "ipython",
    "version": 3
   },
   "file_extension": ".py",
   "mimetype": "text/x-python",
   "name": "python",
   "nbconvert_exporter": "python",
   "pygments_lexer": "ipython3",
   "version": "3.5.3"
  },
  "nbconvert": {
   "nbconvert.exporters.templateexporter.TemplateExporter": {
    "JupyterApp": {
     "config_file": "./fidget/config.py"
    }
   }
  }
 },
 "nbformat": 4,
 "nbformat_minor": 2
}
