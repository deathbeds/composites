{
 "cells": [
  {
   "cell_type": "code",
   "execution_count": 33,
   "metadata": {
    "collapsed": true
   },
   "outputs": [],
   "source": [
    "try:\n",
    "    from .state import State\n",
    "    from .callables import call, functor\n",
    "\n",
    "except:\n",
    "    from state import State\n",
    "    from callables import call, functor\n",
    "\n",
    "from copy import copy\n",
    "from toolz.curried import compose, first, isiterable\n",
    "from six import iteritems"
   ]
  },
  {
   "cell_type": "code",
   "execution_count": 34,
   "metadata": {
    "collapsed": true
   },
   "outputs": [],
   "source": [
    "class Append(State):\n",
    "    __slots__ = ('function',)\n",
    "    def __init__(self, function=None, *args):      \n",
    "        if function is None:\n",
    "            function = list()\n",
    "        \n",
    "        if not isiterable(function) or isinstance(function, (str, )):\n",
    "            function = [function]\n",
    "            \n",
    "        super(Append, self).__init__(function, *args)\n",
    "   \n",
    "    def __getitem__(self, object=slice(None)):   \n",
    "        if object is call: \n",
    "            return abs(self)\n",
    "        \n",
    "        if isinstance(object, call):\n",
    "            return object(self)()\n",
    "        \n",
    "        return object != slice(None) and self.append(object) or self \n",
    "    \n",
    "    def __repr__(self):\n",
    "        return repr(self.function)\n",
    "    \n",
    "    def append(self, object):\n",
    "        self.function.append(object)"
   ]
  },
  {
   "cell_type": "code",
   "execution_count": 35,
   "metadata": {
    "collapsed": true
   },
   "outputs": [],
   "source": [
    "class Functions(object):\n",
    "    def __contains__(self, object):\n",
    "        return any(object == function for function in self)\n",
    "    \n",
    "    def __delitem__(self, object):\n",
    "        self.function = list(fn for fn in self if fn != object)\n",
    "        return self\n",
    "    \n",
    "    def __setitem__(self, attr, object):\n",
    "        self.function = list(object if fn == attr else fn for fn in self)\n",
    "        return self  \n",
    "    \n",
    "    def __iter__(self):\n",
    "        for function in self.function:\n",
    "            yield function\n",
    "\n",
    "    def __reversed__(self):\n",
    "        self.function = type(self.function)(reversed(self.function))\n",
    "        return self"
   ]
  },
  {
   "cell_type": "code",
   "execution_count": 36,
   "metadata": {
    "collapsed": true
   },
   "outputs": [],
   "source": [
    "class Composite(object):\n",
    "    @staticmethod\n",
    "    def _dispatch_(function):\n",
    "        return isinstance(function, (dict, set, list, tuple)) and Juxtapose(function, type(function)) or functor(function)"
   ]
  },
  {
   "cell_type": "code",
   "execution_count": 42,
   "metadata": {
    "collapsed": true
   },
   "outputs": [],
   "source": [
    "class Composition(Append, Composite, Functions):\n",
    "    pass"
   ]
  },
  {
   "cell_type": "code",
   "execution_count": 43,
   "metadata": {
    "collapsed": true
   },
   "outputs": [],
   "source": [
    "class Juxtapose(Composition):\n",
    "    __slots__ = ('function', 'type')\n",
    "    def __init__(self, function, type_=None):      \n",
    "        if isinstance(function, dict):\n",
    "            type_ = type(function)\n",
    "            function = compose(tuple, iteritems)(function)\n",
    "        super(Juxtapose, self).__init__(function, type_)\n",
    "\n",
    "    def __call__(self, *args, **kwargs):\n",
    "        return self.type(call(*args)(self._dispatch_(function))(**kwargs) for function in self)    "
   ]
  },
  {
   "cell_type": "code",
   "execution_count": 38,
   "metadata": {
    "collapsed": true
   },
   "outputs": [],
   "source": [
    "class Compose(Composition):\n",
    "    def __call__(self, *args, **kwargs):\n",
    "        for function in self:\n",
    "            args, kwargs = (call(*args)(self._dispatch_(function))(**kwargs),), {}\n",
    "        return first(args)"
   ]
  },
  {
   "cell_type": "code",
   "execution_count": 39,
   "metadata": {
    "collapsed": true
   },
   "outputs": [],
   "source": [
    "class Partial(Composition):\n",
    "    __slots__ = ('args', 'keywords', 'function')\n",
    "    @property\n",
    "    def __call__(self):\n",
    "        return call(*self.args, **self.keywords)"
   ]
  },
  {
   "cell_type": "code",
   "execution_count": 40,
   "metadata": {
    "collapsed": true
   },
   "outputs": [],
   "source": [
    "class Composer(Partial):\n",
    "    def __init__(self, *args, **kwargs):\n",
    "        function = kwargs.pop('function', Compose())\n",
    "        if not callable(function):\n",
    "            function = Compose(function)\n",
    "        super(Partial, self).__init__(args, kwargs, function)\n",
    "    \n",
    "    def __getitem__(self, object=slice(None), *args, **kwargs):\n",
    "        if isinstance(object, slice):\n",
    "            object, self = self.function.function[object], copy(self)\n",
    "            self.function = Compose(object)\n",
    "            return self\n",
    "               \n",
    "        return super(Composer, self).__getitem__(\n",
    "            (args or kwargs) and call(*args, **kwargs)(object) or object)\n",
    "    \n",
    "    def append(self, object):\n",
    "        self.function.function.append(object)"
   ]
  },
  {
   "cell_type": "code",
   "execution_count": 41,
   "metadata": {
    "collapsed": true
   },
   "outputs": [],
   "source": [
    "class Calls(Composer):\n",
    "    _decorate_ = staticmethod(functor)\n",
    "    @property\n",
    "    def __call__(self):\n",
    "        return super(Calls, self).__call__(self._decorate_(self.function))"
   ]
  }
 ],
 "metadata": {
  "anaconda-cloud": {},
  "kernelspec": {
   "display_name": "Python 3",
   "language": "python",
   "name": "python3"
  },
  "language_info": {
   "codemirror_mode": {
    "name": "ipython",
    "version": 3
   },
   "file_extension": ".py",
   "mimetype": "text/x-python",
   "name": "python",
   "nbconvert_exporter": "python",
   "pygments_lexer": "ipython3",
   "version": "3.5.3"
  },
  "nbconvert": {
   "nbconvert.exporters.templateexporter.TemplateExporter": {
    "JupyterApp": {
     "config_file": "./fidget/config.py"
    }
   }
  }
 },
 "nbformat": 4,
 "nbformat_minor": 2
}
