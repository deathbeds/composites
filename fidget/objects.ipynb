{
 "cells": [
  {
   "cell_type": "code",
   "execution_count": 1,
   "metadata": {
    "collapsed": true
   },
   "outputs": [],
   "source": [
    "try:\n",
    "    from .state import State, Signature\n",
    "    from .callables import functor\n",
    "\n",
    "except:\n",
    "    from state import State, Signature\n",
    "    from callables import functor\n",
    "\n",
    "from copy import copy\n",
    "from toolz.curried import compose, first, isiterable, partial\n",
    "from six import iteritems, PY3"
   ]
  },
  {
   "cell_type": "code",
   "execution_count": 2,
   "metadata": {
    "collapsed": true
   },
   "outputs": [],
   "source": [
    "class Append(State):    \n",
    "    def __getitem__(self, object=slice(None)):   \n",
    "        return object != slice(None) and self.append(object) or self \n",
    "    \n",
    "    def __repr__(self):\n",
    "        return repr(self.function)\n",
    "    \n",
    "    @property\n",
    "    def append(self):\n",
    "        return self.function.append"
   ]
  },
  {
   "cell_type": "code",
   "execution_count": 3,
   "metadata": {
    "collapsed": true
   },
   "outputs": [],
   "source": [
    "class Functions(Signature):  \n",
    "    __slots__ = ('function',)     \n",
    "    \n",
    "    def __contains__(self, object):\n",
    "        return any(object == function for function in self)\n",
    "    \n",
    "    def __delitem__(self, object):\n",
    "        self.function = list(fn for fn in self if fn != object)\n",
    "        return self\n",
    "    \n",
    "    def __setitem__(self, attr, object):\n",
    "        self.function = list(object if fn == attr else fn for fn in self)\n",
    "        return self  \n",
    "    \n",
    "    def __iter__(self):\n",
    "        for function in self.function:\n",
    "            yield function\n",
    "\n",
    "    def __reversed__(self):\n",
    "        self.function = type(self.function)(reversed(self.function))\n",
    "        return self"
   ]
  },
  {
   "cell_type": "code",
   "execution_count": 4,
   "metadata": {},
   "outputs": [],
   "source": [
    "def dispatch(object):\n",
    "    if isinstance(object, (dict, set, list, tuple)):\n",
    "        return Juxtapose(object, type(object))\n",
    "    return functor(object)"
   ]
  },
  {
   "cell_type": "code",
   "execution_count": 5,
   "metadata": {},
   "outputs": [],
   "source": [
    "class Composition(Functions, Append):\n",
    "    __slots__ = ('function', 'type')\n",
    "\n",
    "    def __init__(self, object, type=None):\n",
    "        if not isiterable(object) or isinstance(object, (str,)):\n",
    "            object = [object]\n",
    "        super(Composition, self).__init__(object, type)\n",
    "        \n",
    "    def __call__(self, *args, **kwargs):\n",
    "        try:\n",
    "            for i, object in enumerate(self):\n",
    "                args, kwargs = (dispatch(object)(*args, **kwargs),), {}\n",
    "        except StopIteration:\n",
    "            pass\n",
    "        return first(args)"
   ]
  },
  {
   "cell_type": "code",
   "execution_count": 6,
   "metadata": {
    "collapsed": true
   },
   "outputs": [],
   "source": [
    "class Juxtapose(Composition):\n",
    "    def __init__(self, function, type=first):\n",
    "        if isinstance(function, dict):\n",
    "            function = compose(tuple, iteritems)(function)\n",
    "        super(Juxtapose, self).__init__(function, type)\n",
    "\n",
    "    def __call__(self, *args, **kwargs):\n",
    "        return self.type([dispatch(function)(*args, **kwargs) for function in self]) "
   ]
  },
  {
   "cell_type": "code",
   "execution_count": 21,
   "metadata": {
    "collapsed": true
   },
   "outputs": [],
   "source": [
    "class Compose(Composition):\n",
    "    def __init__(self, function=None, type=functor):\n",
    "        super(Compose, self).__init__(list() if function is None else function, type)\n",
    "\n",
    "    def __call__(self, *args, **kwargs):\n",
    "        return self.type(super(Compose, self).__call__)(*args, **kwargs)"
   ]
  },
  {
   "cell_type": "code",
   "execution_count": 18,
   "metadata": {
    "collapsed": true
   },
   "outputs": [],
   "source": [
    "class Partial(Functions, Append):\n",
    "    wrapper = staticmethod(functor)\n",
    "    __slots__ = ('args', 'keywords', 'function')\n",
    "    def __init__(self, *args, **kwargs):\n",
    "        super(Partial, self).__init__(args, kwargs, Compose(type=self.wrapper))\n",
    "        \n",
    "    def __getitem__(self, object=slice(None), *args, **kwargs):\n",
    "        if isinstance(object, slice):\n",
    "            object, self = self.function.function[object], copy(self)\n",
    "            self.function = Compose(object)\n",
    "            return self\n",
    "               \n",
    "        return super(Partial, self).__getitem__(\n",
    "            (args or kwargs) and partial(object, *args, **kwargs) or object)\n",
    "    \n",
    "    @property\n",
    "    def append(self):\n",
    "        return self.function.function.append\n",
    "    \n",
    "    @property\n",
    "    def __call__(self):\n",
    "        return partial(self.function, *self.args, **self.keywords)"
   ]
  },
  {
   "cell_type": "code",
   "execution_count": 19,
   "metadata": {
    "collapsed": true
   },
   "outputs": [],
   "source": [
    "def doc(self):\n",
    "    return getattr(first(self), '__doc__', '')\n",
    "\n",
    "if PY3:\n",
    "    for func in [Compose, Juxtapose]:\n",
    "        setattr(func, '__doc__', property(doc))"
   ]
  }
 ],
 "metadata": {
  "anaconda-cloud": {},
  "kernelspec": {
   "display_name": "Python 3",
   "language": "python",
   "name": "python3"
  },
  "language_info": {
   "codemirror_mode": {
    "name": "ipython",
    "version": 3
   },
   "file_extension": ".py",
   "mimetype": "text/x-python",
   "name": "python",
   "nbconvert_exporter": "python",
   "pygments_lexer": "ipython3",
   "version": "3.5.3"
  },
  "nbconvert": {
   "nbconvert.exporters.templateexporter.TemplateExporter": {
    "JupyterApp": {
     "config_file": "./fidget/config.py"
    }
   }
  }
 },
 "nbformat": 4,
 "nbformat_minor": 2
}
