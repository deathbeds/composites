{
 "cells": [
  {
   "cell_type": "code",
   "execution_count": 1,
   "metadata": {},
   "outputs": [],
   "source": [
    "# %reload_ext autoreload\n",
    "# %autoreload 2"
   ]
  },
  {
   "cell_type": "code",
   "execution_count": 3,
   "metadata": {},
   "outputs": [],
   "source": [
    "try:\n",
    "    from .model import Callable, CallableFactory\n",
    "    from .recipes import juxt\n",
    "except:\n",
    "    from model import Callable, CallableFactory\n",
    "    from recipes import juxt\n",
    "\n",
    "from traitlets import List, Tuple, validate\n",
    "import traitlets\n",
    "from toolz.curried import compose, concatv"
   ]
  },
  {
   "cell_type": "code",
   "execution_count": 4,
   "metadata": {},
   "outputs": [],
   "source": [
    "class SequenceCallable(Callable):\n",
    "    \"\"\"Apply function composition to List objects. \n",
    "    \"\"\"\n",
    "    generator = traitlets.Callable(juxt)\n",
    "    \n",
    "    @property\n",
    "    def compose(self):\n",
    "        return super(SequenceCallable, self).compose(\n",
    "            self.generator(self.funcs)\n",
    "        )"
   ]
  },
  {
   "cell_type": "code",
   "execution_count": 5,
   "metadata": {
    "collapsed": false
   },
   "outputs": [],
   "source": [
    "class ListCallable(SequenceCallable):\n",
    "    \"\"\"Apply function composition to List objects. \n",
    "    \"\"\"\n",
    "    funcs = List(list())\n",
    "    \n",
    "    @property\n",
    "    def coerce(self):\n",
    "        return getattr(self.traits()['funcs'], 'klass', None)\n",
    "\n",
    "    @property\n",
    "    def compose(self):\n",
    "        composition = super(ListCallable, self).compose\n",
    "        return compose(self.coerce, composition)\n",
    "    \n",
    "    def append(self, item):\n",
    "        self.funcs = self.coerce(concatv(self.funcs, (item, )))\n",
    "        return self"
   ]
  },
  {
   "cell_type": "code",
   "execution_count": 6,
   "metadata": {
    "collapsed": false
   },
   "outputs": [],
   "source": [
    "class TupleCallable(ListCallable):\n",
    "    \"\"\"Apply function composition to Tuple objects. \n",
    "    \"\"\"\n",
    "    funcs = Tuple(tuple())"
   ]
  },
  {
   "cell_type": "code",
   "execution_count": 7,
   "metadata": {},
   "outputs": [],
   "source": [
    "_l = _list_ = CallableFactory(funcs=ListCallable)\n",
    "_t = _tuple_ = CallableFactory(funcs=TupleCallable)"
   ]
  },
  {
   "cell_type": "markdown",
   "metadata": {},
   "source": [
    "__*fin*__"
   ]
  }
 ],
 "metadata": {
  "kernelspec": {
   "display_name": "Python 3",
   "language": "python",
   "name": "python3"
  },
  "language_info": {
   "codemirror_mode": {
    "name": "ipython",
    "version": 3
   },
   "file_extension": ".py",
   "mimetype": "text/x-python",
   "name": "python",
   "nbconvert_exporter": "python",
   "pygments_lexer": "ipython3",
   "version": "3.5.2"
  }
 },
 "nbformat": 4,
 "nbformat_minor": 1
}
