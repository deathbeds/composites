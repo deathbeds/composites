{
 "cells": [
  {
   "cell_type": "code",
   "execution_count": 49,
   "metadata": {},
   "outputs": [],
   "source": [
    "try:\n",
    "    from .model import Callable, CallableFactory\n",
    "    from .recipes import juxt\n",
    "except:\n",
    "    from model import Callable, CallableFactory\n",
    "    from recipes import juxt\n",
    "\n",
    "from collections import OrderedDict\n",
    "from traitlets import Any, List, Tuple, validate, Set\n",
    "import traitlets\n",
    "from toolz.curried import compose, concatv, identity, partial"
   ]
  },
  {
   "cell_type": "code",
   "execution_count": 50,
   "metadata": {},
   "outputs": [],
   "source": [
    "class SequenceCallable(Callable):\n",
    "    \"\"\"Apply function composition to List objects. \n",
    "    \"\"\"\n",
    "    funcs = Any(tuple())\n",
    "    generator = traitlets.Callable(juxt)\n",
    "    \n",
    "    @property\n",
    "    def coerce(self):\n",
    "        return getattr(self.traits()['funcs'], 'klass', identity)\n",
    "\n",
    "    @property\n",
    "    def compose(self):\n",
    "        return super(SequenceCallable, self).compose(\n",
    "            self.generator(self.funcs)\n",
    "        )\n",
    "    \n",
    "    def append(self, item):\n",
    "        self.funcs = self.coerce(concatv(self.funcs, (item,)))\n",
    "        return self"
   ]
  },
  {
   "cell_type": "code",
   "execution_count": 51,
   "metadata": {
    "collapsed": false
   },
   "outputs": [],
   "source": [
    "class ListCallable(SequenceCallable):\n",
    "    \"\"\"Apply function composition to List objects. \n",
    "    \"\"\"\n",
    "    funcs = List(list())\n",
    "    \n",
    "    @property\n",
    "    def compose(self):\n",
    "        composition = super(ListCallable, self).compose\n",
    "        return compose(self.coerce, composition)"
   ]
  },
  {
   "cell_type": "code",
   "execution_count": 52,
   "metadata": {
    "collapsed": false
   },
   "outputs": [],
   "source": [
    "class TupleCallable(ListCallable):\n",
    "    \"\"\"Apply function composition to Tuple objects. \n",
    "    \"\"\"\n",
    "    funcs = Tuple(tuple())"
   ]
  },
  {
   "cell_type": "code",
   "execution_count": 53,
   "metadata": {},
   "outputs": [],
   "source": [
    "class SetCallable(ListCallable):\n",
    "    \"\"\"Apply function composition to Set objects. \n",
    "    \"\"\"\n",
    "    funcs = Set(set())    \n",
    "    \n",
    "    @property\n",
    "    def compose(self):\n",
    "        return compose(\n",
    "            OrderedDict, partial(zip, list(self.funcs)),\n",
    "            super(SetCallable, self).compose\n",
    "        )\n",
    "    \n",
    "    def append(self, item):\n",
    "        self.funcs.add(item)\n",
    "        self.funcs = self.funcs\n",
    "        return self"
   ]
  },
  {
   "cell_type": "code",
   "execution_count": 54,
   "metadata": {},
   "outputs": [],
   "source": [
    "_sequence_ = CallableFactory(funcs=SequenceCallable)\n",
    "_l = _list_ = CallableFactory(funcs=ListCallable)\n",
    "_t = _tuple_ = CallableFactory(funcs=TupleCallable)\n",
    "_s = _set_ = CallableFactory(funcs=SetCallable)"
   ]
  },
  {
   "cell_type": "markdown",
   "metadata": {},
   "source": [
    "__*fin*__"
   ]
  }
 ],
 "metadata": {
  "kernelspec": {
   "display_name": "Python [default]",
   "language": "python",
   "name": "python3"
  },
  "language_info": {
   "codemirror_mode": {
    "name": "ipython",
    "version": 3
   },
   "file_extension": ".py",
   "mimetype": "text/x-python",
   "name": "python",
   "nbconvert_exporter": "python",
   "pygments_lexer": "ipython3",
   "version": "3.5.2"
  }
 },
 "nbformat": 4,
 "nbformat_minor": 1
}
