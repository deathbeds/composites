{
 "cells": [
  {
   "cell_type": "code",
   "execution_count": 1,
   "metadata": {},
   "outputs": [],
   "source": [
    "try:\n",
    "    from .sequence import _list_, _tuple_, SequenceCallable\n",
    "    from .container import _dict_, _conditional_, _set_\n",
    "    from .model import CallableFactory\n",
    "    from .recipes import item_to_args, functor, compose_slice, juxt\n",
    "except:\n",
    "    from sequence import _list_, _tuple_, SequenceCallable\n",
    "    from container import _dict_, _conditional_, _set_\n",
    "    from model import CallableFactory\n",
    "    from recipes import item_to_args, functor, compose_slice, juxt\n",
    "\n",
    "\n",
    "from toolz.functoolz import Compose\n",
    "from toolz.curried import (\n",
    "    compose, map, complement, reduce, groupby, do, excepts, filter, flip, identity, get, first, second, concatv)\n",
    "from collections import Iterable, OrderedDict\n",
    "import traitlets"
   ]
  },
  {
   "cell_type": "code",
   "execution_count": 2,
   "metadata": {},
   "outputs": [],
   "source": [
    "dispatcher = _conditional_[\n",
    "    OrderedDict(map(juxt(compose(flip(isinstance), first), second),\n",
    "    [[(str, int, float), get], [set, _set_.__getitem__], [slice, compose_slice],\n",
    "    [list, _list_.__getitem__], [dict, _dict_.__getitem__], \n",
    "    [tuple, _tuple_.__getitem__], \n",
    "    [Iterable, compose(_tuple_.__getitem__, tuple)]   ]))\n",
    "]"
   ]
  },
  {
   "cell_type": "code",
   "execution_count": 6,
   "metadata": {},
   "outputs": [],
   "source": [
    "class CompositeSugarMixin:        \n",
    "    def __mul__(self, value):\n",
    "        return self[map(dispatcher(value))]\n",
    "    \n",
    "    def __truediv__(self, value):\n",
    "        return self[filter(dispatcher(value))]\n",
    "\n",
    "    def __floordiv__(self, value):\n",
    "        return self[reduce(dispatcher(value))]\n",
    "\n",
    "    def __mod__(self, value):\n",
    "        return self[filter(complement(dispatcher(value)))]\n",
    "    \n",
    "    def __matmul__(self, value):\n",
    "        return self[groupby(dispatcher(value))]\n",
    "    \n",
    "    def __lshift__(self, value):\n",
    "        return self[do(dispatcher(value))]\n",
    "    \n",
    "    def __or__(self, value):\n",
    "        self.set_trait('post', compose(\n",
    "            excepts(Exception, handler=functor(value)), self.post\n",
    "        ))\n",
    "        return self\n",
    "    \n",
    "    def __and__(self, value):\n",
    "        return self.copy()[value]"
   ]
  },
  {
   "cell_type": "code",
   "execution_count": 9,
   "metadata": {},
   "outputs": [],
   "source": [
    "class Composite(CompositeSugarMixin, SequenceCallable):   \n",
    "    funcs = traitlets.List(list())\n",
    "    generator = traitlets.Callable(compose(Compose, list, map(dispatcher), reversed))\n",
    "            \n",
    "    def copy(self, *args, **kwargs):\n",
    "        return self.__class__(\n",
    "            funcs=list(self.funcs),\n",
    "            args=list(args or self.args),\n",
    "            kwargs=dict(kwargs or self.kwargs)\n",
    "        )\n",
    "    def append(self, item):\n",
    "        self.funcs = list(concatv(self.funcs, (item,)))\n",
    "        return self"
   ]
  },
  {
   "cell_type": "code",
   "execution_count": 10,
   "metadata": {},
   "outputs": [],
   "source": [
    "class Stars(Composite):\n",
    "    def __call__(self, item=[]):\n",
    "        args, kwargs = item_to_args(item)\n",
    "        return super(Stars, self).__call__(*args, **kwargs)\n",
    "    \n",
    "class FlipComposite(Composite):\n",
    "    flip = True"
   ]
  },
  {
   "cell_type": "code",
   "execution_count": 11,
   "metadata": {},
   "outputs": [],
   "source": [
    "_x = _comp_ = CallableFactory(funcs=Composite)\n",
    "x_ = _pmoc_ = CallableFactory(funcs=FlipComposite)\n",
    "stars = CallableFactory(funcs=Stars)"
   ]
  },
  {
   "cell_type": "markdown",
   "metadata": {},
   "source": [
    "__*fin*__"
   ]
  }
 ],
 "metadata": {
  "kernelspec": {
   "display_name": "Python 3",
   "language": "python",
   "name": "python3"
  },
  "language_info": {
   "codemirror_mode": {
    "name": "ipython",
    "version": 3
   },
   "file_extension": ".py",
   "mimetype": "text/x-python",
   "name": "python",
   "nbconvert_exporter": "python",
   "pygments_lexer": "ipython3",
   "version": "3.5.2"
  }
 },
 "nbformat": 4,
 "nbformat_minor": 1
}
