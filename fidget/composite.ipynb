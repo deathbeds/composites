{
 "cells": [
  {
   "cell_type": "code",
   "execution_count": 1,
   "metadata": {},
   "outputs": [],
   "source": [
    "try:\n",
    "    from .sequence import _list_, _tuple_, SequenceCallable, _sequence_, _set_\n",
    "    from .container import _dict_, _condition_\n",
    "    from .model import CallableFactory\n",
    "    from .recipes import item_to_args, functor, compose_slice, juxt\n",
    "except:\n",
    "    from sequence import _list_, _tuple_, SequenceCallable, _sequence_, _set_\n",
    "    from container import _dict_, _condition_\n",
    "    from model import CallableFactory\n",
    "    from recipes import item_to_args, functor, compose_slice, juxt\n",
    "\n",
    "\n",
    "from toolz.functoolz import Compose\n",
    "from toolz.curried import (\n",
    "    compose, map, complement, reduce, groupby, do, excepts, filter, flip, identity, get, first, second, concatv, partial)\n",
    "from collections import Iterable, OrderedDict\n",
    "import traitlets\n",
    "from inspect import isgenerator"
   ]
  },
  {
   "cell_type": "code",
   "execution_count": 2,
   "metadata": {},
   "outputs": [],
   "source": [
    "def _check_types(types, value):\n",
    "    return isinstance(value, types)"
   ]
  },
  {
   "cell_type": "code",
   "execution_count": 3,
   "metadata": {},
   "outputs": [],
   "source": [
    "dispatcher = _condition_[    \n",
    "    OrderedDict([\n",
    "        [partial(_check_types, (str, int, float)), get], \n",
    "        [partial(_check_types, set), _set_.__getitem__], \n",
    "        [partial(_check_types, slice), compose_slice],\n",
    "        [partial(_check_types, list), _list_.__getitem__], \n",
    "        [partial(_check_types, dict), _dict_.__getitem__], \n",
    "        [partial(_check_types, tuple), _tuple_.__getitem__],\n",
    "        [isgenerator, _sequence_.__getitem__],\n",
    "        [identity, identity]\n",
    "    ])\n",
    "].compose"
   ]
  },
  {
   "cell_type": "code",
   "execution_count": 4,
   "metadata": {},
   "outputs": [],
   "source": [
    "class CompositeAttributes:  \n",
    "    def pipe(self, value):\n",
    "        return self[value]\n",
    "\n",
    "    def do(self, value):\n",
    "        return self.pipe(do(dispatcher(value)))\n",
    "    \n",
    "    def filter(self, value):\n",
    "        return self.pipe(filter(dispatcher(value)))\n",
    "\n",
    "    def filterfalse(self, value):\n",
    "        return self.pipe(filter(complement(dispatcher(value))))\n",
    "\n",
    "    def groupby(self, value):\n",
    "        return self.pipe(groupby(dispatcher(value)))\n",
    "\n",
    "    def identity(self, value):\n",
    "        return self.pipe(value)()\n",
    "\n",
    "    def map(self, value):\n",
    "        return self.pipe(map(dispatcher(value)))\n",
    "\n",
    "    def reduce(self, value):\n",
    "        return self.pipe(reduce(dispatcher(value)))\n",
    "\n",
    "    def excepts(self, value):\n",
    "        return self.__class__(args=self.args, kwargs=self.kwargs)[\n",
    "            excepts(Exception, self.compose, handler=functor(value))\n",
    "        ]"
   ]
  },
  {
   "cell_type": "code",
   "execution_count": 5,
   "metadata": {},
   "outputs": [],
   "source": [
    "class CompositeSugarMixin(CompositeAttributes):        \n",
    "    def __mul__(self, value):\n",
    "        return self.map(value)\n",
    "    \n",
    "    def __truediv__(self, value):\n",
    "        return self.filter(value)\n",
    "\n",
    "    def __floordiv__(self, value):\n",
    "        return self.reduce(value)\n",
    "\n",
    "    def __mod__(self, value):\n",
    "        return self.filterfalse(value)\n",
    "    \n",
    "    def __matmul__(self, value):\n",
    "        return self.groupby(value)\n",
    "    \n",
    "    def __lshift__(self, value):\n",
    "        return self.do(value)\n",
    "    \n",
    "    def __or__(self, value):\n",
    "        return self.excepts(value)"
   ]
  },
  {
   "cell_type": "code",
   "execution_count": 6,
   "metadata": {},
   "outputs": [],
   "source": [
    "class Composite(CompositeSugarMixin, SequenceCallable):   \n",
    "    funcs = traitlets.List(list())\n",
    "    generator = traitlets.Callable(compose(Compose, list, map(dispatcher), reversed))\n",
    "            \n",
    "    def append(self, item):\n",
    "        self.set_trait('funcs', list(concatv(self.funcs, (item,))))\n",
    "        return self"
   ]
  },
  {
   "cell_type": "code",
   "execution_count": 7,
   "metadata": {},
   "outputs": [],
   "source": [
    "class Stars(Composite):\n",
    "    def __call__(self, item=[]):\n",
    "        args, kwargs = item_to_args(item)\n",
    "        return super(Stars, self).__call__(*args, **kwargs)\n",
    "    \n",
    "class FlipComposite(Composite):\n",
    "    flip = True"
   ]
  },
  {
   "cell_type": "code",
   "execution_count": 8,
   "metadata": {},
   "outputs": [],
   "source": [
    "_x = _comp_ = CallableFactory(funcs=Composite)\n",
    "x_ = _pmoc_ = CallableFactory(funcs=FlipComposite)\n",
    "stars = CallableFactory(funcs=Stars)"
   ]
  },
  {
   "cell_type": "markdown",
   "metadata": {},
   "source": [
    "__*fin*__"
   ]
  }
 ],
 "metadata": {
  "kernelspec": {
   "display_name": "Python [default]",
   "language": "python",
   "name": "python3"
  },
  "language_info": {
   "codemirror_mode": {
    "name": "ipython",
    "version": 3
   },
   "file_extension": ".py",
   "mimetype": "text/x-python",
   "name": "python",
   "nbconvert_exporter": "python",
   "pygments_lexer": "ipython3",
   "version": "3.5.2"
  }
 },
 "nbformat": 4,
 "nbformat_minor": 1
}
