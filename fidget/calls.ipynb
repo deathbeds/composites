{
 "cells": [
  {
   "cell_type": "markdown",
   "metadata": {},
   "source": [
    "> `fidget` uses the python data model to compose higher-order functions.\n",
    "\n",
    "---"
   ]
  },
  {
   "cell_type": "code",
   "execution_count": 8,
   "metadata": {
    "collapsed": true
   },
   "outputs": [],
   "source": [
    "try:\n",
    "    from .objects import  Functions, Composer, Attributes, Compose\n",
    "    from .callables import flipped, do, step, starred, excepts, ifnot, ifthen\n",
    "except Exception as e:\n",
    "    from objects import  Functions, Composer, Attributes, Compose\n",
    "    from callables import flipped, do, step, starred, excepts, ifnot, ifthen\n",
    "    \n",
    "from functools import wraps\n",
    "from toolz.curried import (isiterable, flip, complement, interpose, groupby, partial, reduce, filter, map)\n",
    "\n",
    "__all__ = ['Flips', 'Stars', 'Does', 'Maps', 'Filters', 'Groups', 'Reduces']\n",
    "_calls_ = (flipped, starred, do, map, filter, groupby, reduce)"
   ]
  },
  {
   "cell_type": "code",
   "execution_count": 9,
   "metadata": {
    "collapsed": true
   },
   "outputs": [],
   "source": [
    "class Calls(Composer, Attributes):\n",
    "    def __xor__(self, object):\n",
    "        self, _isinstance = self[:], flip(isinstance)  # noqa: F823\n",
    "        if not isiterable(object) and isinstance(object, type):\n",
    "            object = (object,)\n",
    "        if isiterable(object):\n",
    "            if all(map(_isinstance(type), object)) and all(map(flip(issubclass)(BaseException), object)):\n",
    "                self.function = Compose(excepts(object, self.function))\n",
    "                return self\n",
    "            \n",
    "            if all(map(_isinstance(BaseException), object)):\n",
    "                object = tuple(map(type, object))\n",
    "                \n",
    "            if all(map(_isinstance(type), object)):\n",
    "                object = _isinstance(object)\n",
    "\n",
    "        self.function = Compose([ifthen(Compose([object]), self.function)])\n",
    "        return self\n",
    "\n",
    "    def __or__(self, object):\n",
    "        self = self[:]\n",
    "        self.function = Compose([ifnot(self.function, Compose([object]))])\n",
    "        return self\n",
    "    \n",
    "    def __and__(self, object):\n",
    "        self = self[:]\n",
    "        self.function = Compose([step(self.function, Compose([object]))])\n",
    "        return self\n",
    "    \n",
    "    def __pos__(self):\n",
    "        return self[bool]\n",
    "\n",
    "    def __neg__(self):\n",
    "        return self[complement(bool)]\n",
    "        \n",
    "    def __lshift__(self, object):\n",
    "        return Does()[object] if self._factory_ else self[do(object)]\n",
    "    \n",
    "    def __round__(self, n):\n",
    "        self.function.function = list(interpose(n, self.function.function))\n",
    "        return self\n",
    "    \n",
    "    __invert__, __pow__ = Functions.__reversed__, __xor__\n",
    "    __mul__ = __add__ = __rshift__ = __sub__ = Composer.__getitem__"
   ]
  },
  {
   "cell_type": "code",
   "execution_count": 10,
   "metadata": {
    "collapsed": true
   },
   "outputs": [],
   "source": [
    "_attribute_ = \"__{}{}__\".format"
   ]
  },
  {
   "cell_type": "code",
   "execution_count": 11,
   "metadata": {
    "collapsed": true
   },
   "outputs": [],
   "source": [
    "for attr, method in [\n",
    "    ['call']*2, ['do', 'lshift'], ['pipe',  'getitem'], ['ifthen','xor'], ['step', 'and'], ['ifnot', 'or']]: \n",
    "    setattr(Calls, attr, getattr(Calls, _attribute_('', method)))"
   ]
  },
  {
   "cell_type": "code",
   "execution_count": 12,
   "metadata": {
    "collapsed": true
   },
   "outputs": [],
   "source": [
    "def operator(attr, method, partialize=False, juxtapose=False, force=False, cls=Calls):\n",
    "    if force or not hasattr(cls, attr):\n",
    "        def operator(self, *args, **kwargs):\n",
    "            if len(args) is 1 and juxtapose and not partialize:\n",
    "                args = (Compose([args[0]]),)\n",
    "\n",
    "            return self[\n",
    "                method(*args, **kwargs) if partialize else partial(method, *args, **kwargs)\n",
    "                if args or kwargs else method]\n",
    "\n",
    "        setattr(cls, attr, getattr(cls, attr, wraps(method)(operator)))\n",
    "        \n",
    "\n",
    "for attr, method in [('__matmul__', groupby), ('__div__', map), ('__truediv__', map), ('__floordiv__', filter), ('__mod__', reduce)]:\n",
    "    operator(attr, method, True) or setattr(Calls, method.__name__, getattr(Calls, attr))"
   ]
  },
  {
   "cell_type": "code",
   "execution_count": 13,
   "metadata": {
    "collapsed": true
   },
   "outputs": [],
   "source": [
    "def fallback(attr):\n",
    "    def fallback(right, left):\n",
    "        right = right[:]\n",
    "        return getattr(type(right)()[left], attr)(right)\n",
    "    return wraps(getattr(Calls, attr))(fallback)"
   ]
  },
  {
   "cell_type": "code",
   "execution_count": 14,
   "metadata": {
    "collapsed": true
   },
   "outputs": [],
   "source": [
    "for attr in ['add', 'sub', 'mul', 'matmul','div', 'truediv', 'floordiv', 'mod', 'lshift', 'rshift', 'and', 'xor', 'or', 'pow']:\n",
    "    setattr(Calls, _attribute_('i', attr), getattr(Calls, _attribute_('', attr)))\n",
    "    setattr(Calls, _attribute_('r', attr), fallback(_attribute_('', attr)))"
   ]
  },
  {
   "cell_type": "code",
   "execution_count": null,
   "metadata": {
    "collapsed": true
   },
   "outputs": [],
   "source": [
    "for name, func in (('Flips', flipped), ('Stars', starred), ('Does', do), (\n",
    "        'Maps', map), ('Filters', filter), ('Groups', groupby), ('Reduces', reduce)):\n",
    "    locals().update({name: type(name, (Calls, ), {'_decorate_': staticmethod(func)})})"
   ]
  },
  {
   "cell_type": "code",
   "execution_count": 16,
   "metadata": {
    "collapsed": true
   },
   "outputs": [],
   "source": [
    "__all__ += ['Calls']"
   ]
  }
 ],
 "metadata": {
  "anaconda-cloud": {},
  "kernelspec": {
   "display_name": "Python 3",
   "language": "python",
   "name": "python3"
  },
  "language_info": {
   "codemirror_mode": {
    "name": "ipython",
    "version": 3
   },
   "file_extension": ".py",
   "mimetype": "text/x-python",
   "name": "python",
   "nbconvert_exporter": "python",
   "pygments_lexer": "ipython3",
   "version": "3.5.3"
  },
  "nbconvert": {
   "nbconvert.exporters.templateexporter.TemplateExporter": {
    "JupyterApp": {
     "config_file": "./fidget/config.py"
    }
   }
  }
 },
 "nbformat": 4,
 "nbformat_minor": 2
}
