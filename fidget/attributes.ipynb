{
 "cells": [
  {
   "cell_type": "code",
   "execution_count": 1,
   "metadata": {
    "collapsed": true
   },
   "outputs": [],
   "source": [
    "try:\n",
    "\n",
    "    from .callables import flipped, step, excepts, ifnot, ifthen, Compose, _dispatch\n",
    "except Exception as e:\n",
    "    from callables import flipped, step, excepts, ifnot, ifthen, Compose, _dispatch\n",
    "    \n",
    "from collections import OrderedDict\n",
    "from functools import wraps\n",
    "from inspect import signature\n",
    "from importlib import import_module\n",
    "from toolz.curried import map, partial, merge, isiterable, flip, complement, interpose\n",
    "from six import PY3\n",
    "_attribute_ = \"__{}{}__\".format\n",
    "_isinstance_ = flip(isinstance)"
   ]
  },
  {
   "cell_type": "code",
   "execution_count": 20,
   "metadata": {
    "collapsed": true
   },
   "outputs": [],
   "source": [
    "def composed(callable):\n",
    "    def composed(*args, **kwargs):\n",
    "        args = (_dispatch(args[0]), *args[1:])\n",
    "        return callable(*args, **kwargs)\n",
    "    return wraps(callable)(composed)"
   ]
  },
  {
   "cell_type": "code",
   "execution_count": 21,
   "metadata": {
    "collapsed": true
   },
   "outputs": [],
   "source": [
    "def curried(callable):\n",
    "    def curried(*args):\n",
    "        function = callable\n",
    "        for arg in args:\n",
    "            function = function(arg)\n",
    "        return function\n",
    "    return wraps(callable)(curried)"
   ]
  },
  {
   "cell_type": "code",
   "execution_count": 22,
   "metadata": {},
   "outputs": [],
   "source": [
    "class Imports(OrderedDict):\n",
    "    def __missing__(self, key):\n",
    "        self[key] = vars(import_module(key))\n",
    "        return self\n",
    "    \n",
    "    def __setitem__(self, key, value):\n",
    "        if isinstance(value, str):\n",
    "            value = vars(import_module(value))\n",
    "        return super(Imports, self).__setitem__(key, value) or self"
   ]
  },
  {
   "cell_type": "code",
   "execution_count": 23,
   "metadata": {
    "collapsed": true
   },
   "outputs": [],
   "source": [
    "class Attributes(object):\n",
    "    attributes = Imports()\n",
    "\n",
    "    def __getattr__(self, attribute):\n",
    "        for section in reversed(self.attributes.values()):\n",
    "            if attribute in section:\n",
    "                callable = section[attribute]\n",
    "                doc = callable.__doc__\n",
    "                try:\n",
    "                    sig = signature(callable)\n",
    "                except:\n",
    "                    sig=None\n",
    "\n",
    "                if callable in merge(map(vars, type(self).__mro__)).values():\n",
    "                    callable = partial(callable, self)\n",
    "                else:\n",
    "                    callable = partial(self.__getitem__, callable)\n",
    "                \n",
    "                PY3 and setattr(callable, '__doc__', doc)\n",
    "                sig and setattr(callable, '__signature__', sig)\n",
    "                \n",
    "                return callable\n",
    "        raise AttributeError(\"No attribute {}\".format(attribute))\n",
    "\n",
    "    def __dir__(self):\n",
    "        return list(super(Attributes, self).__dir__()) + list(\n",
    "            merge(self.attributes.values()).keys())"
   ]
  },
  {
   "cell_type": "code",
   "execution_count": 24,
   "metadata": {
    "collapsed": true
   },
   "outputs": [],
   "source": [
    "Attributes.attributes['itertools']\n",
    "Attributes.attributes['collections']\n",
    "Attributes.attributes['builtins'] = 'six.moves.builtins'\n",
    "Attributes.attributes['operator'] = {\n",
    "    key: curried(value) if key in ['attrgetter', 'methodcaller', 'itemgetter'] else flipped(value)\n",
    "    for key, value in vars(__import__('operator')).items() if key[0].islower()\n",
    "}\n",
    "Attributes.attributes['toolz'] = {\n",
    "    key: composed(value) if any(map(key.endswith, ('filter', 'map'))) else value\n",
    "    for key, value in vars(__import__('toolz')).items() if key[0].islower()\n",
    "}"
   ]
  },
  {
   "cell_type": "code",
   "execution_count": 25,
   "metadata": {},
   "outputs": [],
   "source": [
    "class Operators(object):    \n",
    "    def __xor__(self, object):\n",
    "        self = self[:]  # noqa: F823\n",
    "        if not isiterable(object) and isinstance(object, type):\n",
    "            object = (object,)\n",
    "            \n",
    "        if isiterable(object):\n",
    "            if all(map(_isinstance_(type), object)) and all(map(flip(issubclass)(BaseException), object)):\n",
    "                self.function = Compose(excepts(object, self.function))\n",
    "                return self\n",
    "            \n",
    "            if all(map(_isinstance_(BaseException), object)):\n",
    "                object = tuple(map(type, object))\n",
    "                \n",
    "            if all(map(_isinstance_(type), object)):\n",
    "                object = _isinstance_(object)\n",
    "\n",
    "        self.function = Compose([ifthen(Compose([object]), self.function)])\n",
    "        return self\n",
    "\n",
    "    def __or__(self, object):\n",
    "        self = self[:]\n",
    "        self.function = Compose([ifnot(self.function, Compose([object]))])\n",
    "        return self\n",
    "    \n",
    "    def __and__(self, object):\n",
    "        self = self[:]\n",
    "        self.function = Compose([step(self.function, Compose([object]))])\n",
    "        return self\n",
    "    \n",
    "    def __pos__(self):\n",
    "        return self[bool]\n",
    "\n",
    "    def __neg__(self):\n",
    "        return self[complement(bool)]\n",
    "            \n",
    "    def __round__(self, n):\n",
    "        self.function.function = list(interpose(n, self.function.function))\n",
    "        return self"
   ]
  }
 ],
 "metadata": {
  "anaconda-cloud": {},
  "kernelspec": {
   "display_name": "Python 3",
   "language": "python",
   "name": "python3"
  },
  "language_info": {
   "codemirror_mode": {
    "name": "ipython",
    "version": 3
   },
   "file_extension": ".py",
   "mimetype": "text/x-python",
   "name": "python",
   "nbconvert_exporter": "python",
   "pygments_lexer": "ipython3",
   "version": "3.5.3"
  },
  "nbconvert": {
   "nbconvert.exporters.templateexporter.TemplateExporter": {
    "JupyterApp": {
     "config_file": "./fidget/config.py"
    }
   }
  }
 },
 "nbformat": 4,
 "nbformat_minor": 2
}
