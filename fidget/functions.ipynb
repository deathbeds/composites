{
 "cells": [
  {
   "cell_type": "markdown",
   "metadata": {},
   "source": [
    "# `callables`\n",
    "\n",
    "Collections of special callable objects."
   ]
  },
  {
   "cell_type": "code",
   "execution_count": 1,
   "metadata": {},
   "outputs": [],
   "source": [
    "from functools import total_ordering, singledispatch\n",
    "from toolz.curried import first, isiterable, partial, identity, count\n",
    "from copy import copy\n",
    "from six import PY3\n",
    "from typing import Mapping, Text, Sequence\n",
    "from inspect import signature, getdoc\n",
    "from operator import eq\n",
    "\n",
    "__all__ = 'functor', 'flipped', 'do', 'starred', 'ifthen', 'ifnot', 'step', 'excepts'"
   ]
  },
  {
   "cell_type": "code",
   "execution_count": 2,
   "metadata": {},
   "outputs": [],
   "source": [
    "@total_ordering\n",
    "class State(object):\n",
    "    \"\"\"Base attributes for callables and fidgets.\"\"\"\n",
    "    \n",
    "    def __init__(self, *args, **kwargs):\n",
    "        for i, slot in enumerate(self.__slots__):\n",
    "            setattr(self, slot, args[i])\n",
    "        self.kwargs = kwargs\n",
    "        \n",
    "    def __getstate__(self):\n",
    "        return tuple(map(partial(getattr, self), self.__slots__))\n",
    "    \n",
    "    def __setstate__(self, state):\n",
    "        for key, value in zip(self.__slots__, state):\n",
    "            setattr(self, key, value)\n",
    "        \n",
    "    def __copy__(self, *args):\n",
    "        new = type(self)()\n",
    "        return new.__setstate__(tuple(map(copy, self.__getstate__()))) or new\n",
    "\n",
    "    def __hash__(self):\n",
    "        values = []\n",
    "        for slot in self.__slots__:\n",
    "            values += [hashed(getattr(self, slot))]\n",
    "        return hash(tuple(values))\n",
    "    \n",
    "    def __eq__(self, other):\n",
    "        return isinstance(other, State) and hash(self) == hash(other)\n",
    "    \n",
    "    def __enter__(self):\n",
    "        return copy(self[:])\n",
    "    \n",
    "    def __exit__(self, exc_type, exc_value, traceback):\n",
    "        pass\n",
    "        \n",
    "    def __lt__(self, other):\n",
    "        if isinstance(other, State):\n",
    "            return (len(self) < len(other)) and all(eq(*i) for i in zip(self, other))\n",
    "        return False\n",
    "\n",
    "    def __len__(self):\n",
    "        return sum(1 for f in self)\n",
    "    \n",
    "    @property\n",
    "    def __signature__(self):\n",
    "        try:\n",
    "            return signature(\n",
    "                first(self.function) if isiterable(self.function) else \n",
    "                self.function) \n",
    "        except:\n",
    "            return signature(self.__call__)\n",
    "\n",
    "   \n",
    "    __deepcopy__ = __copy__"
   ]
  },
  {
   "cell_type": "code",
   "execution_count": 3,
   "metadata": {},
   "outputs": [],
   "source": [
    "@singledispatch\n",
    "def hashable(object):\n",
    "    \"\"\"Hash mappings and sequences\"\"\"\n",
    "    return object\n",
    "\n",
    "@hashable.register(Mapping)\n",
    "def _(object):\n",
    "    return type(object), tuple(\n",
    "        (hashable(key), hashable(value)) for key, value in object.items())\n",
    "\n",
    "hashable.register(Text, identity)\n",
    "\n",
    "@hashable.register(Sequence)\n",
    "def _(object):\n",
    "    return type(object), tuple(hashable(value) for value in object)\n",
    "\n",
    "def hashed(object): \n",
    "    return hash(hashable(object))"
   ]
  },
  {
   "cell_type": "code",
   "execution_count": 4,
   "metadata": {},
   "outputs": [],
   "source": [
    "class functor(State):\n",
    "    \"\"\"A function that evaluates a callable or returns the value of a non-callable.\"\"\"\n",
    "    __slots__ = ('function',)\n",
    "    def __init__(self, function=identity):\n",
    "        super(functor, self).__init__(function)\n",
    "        \n",
    "    def __call__(self, *args, **kwargs):\n",
    "        return self.function(*args, **kwargs) if callable(self.function) else self.function\n",
    "    \n",
    "    def __repr__(self):\n",
    "        return repr(self.function)\n",
    "    \n",
    "    def __abs__(self):\n",
    "        return self.__call__"
   ]
  },
  {
   "cell_type": "code",
   "execution_count": 5,
   "metadata": {},
   "outputs": [],
   "source": [
    "class flipped(functor):\n",
    "    \"\"\"Call a function with the arguments positional arguments reversed\"\"\"\n",
    "    def __call__(self, *args, **kwargs):\n",
    "        return super(flipped, self).__call__(*reversed(args), **kwargs)"
   ]
  },
  {
   "cell_type": "code",
   "execution_count": 6,
   "metadata": {},
   "outputs": [],
   "source": [
    "class do(functor):\n",
    "    \"\"\"Call a function and return input argument.\"\"\"\n",
    "    def __call__(self, *args, **kwargs):\n",
    "        super(do, self).__call__(*args, **kwargs)\n",
    "        return args[0] if args else None"
   ]
  },
  {
   "cell_type": "code",
   "execution_count": 7,
   "metadata": {
    "collapsed": true
   },
   "outputs": [],
   "source": [
    "class starred(functor):\n",
    "    \"\"\"Call a function starring the arguments for sequences and starring the keywords for containers.\"\"\"\n",
    "    def __call__(self, *args, **kwargs):\n",
    "        args = args[0] if len(args) is 1 else (args,)\n",
    "        if not isiterable(args): \n",
    "            args = [(args,)]\n",
    "        if isinstance(args, dict):\n",
    "            args = kwargs.update(args) or tuple()\n",
    "        return super(starred, self).__call__(*args, **kwargs)"
   ]
  },
  {
   "cell_type": "code",
   "execution_count": 8,
   "metadata": {},
   "outputs": [],
   "source": [
    "class Condition(functor):\n",
    "    \"\"\"Evaluate a function if a condition is true.\"\"\"\n",
    "    __slots__ = ('condition', 'function')\n",
    "    def __init__(self, condition=bool, function=identity):\n",
    "        super(functor, self).__init__(condition, function)"
   ]
  },
  {
   "cell_type": "code",
   "execution_count": 9,
   "metadata": {},
   "outputs": [],
   "source": [
    "class ifthen(Condition):\n",
    "    def __call__(self, *args, **kwargs):\n",
    "        return functor(self.condition)(*args, **kwargs) and super(ifthen, self).__call__(*args, **kwargs)\n",
    "\n",
    "class ifnot(Condition):\n",
    "    def __call__(self, *args, **kwargs):\n",
    "        return functor(self.condition)(*args, **kwargs) or super(ifnot, self).__call__(*args, **kwargs)"
   ]
  },
  {
   "cell_type": "code",
   "execution_count": 10,
   "metadata": {},
   "outputs": [],
   "source": [
    "class step(Condition):\n",
    "    def __call__(self, *args, **kwargs):\n",
    "        result = functor(self.condition)(*args, **kwargs)\n",
    "        return result and super(step, self).__call__(result)"
   ]
  },
  {
   "cell_type": "code",
   "execution_count": 14,
   "metadata": {
    "collapsed": true
   },
   "outputs": [],
   "source": [
    "class excepts(functor):\n",
    "    \"\"\"Allow acception when calling a function\"\"\"\n",
    "    __slots__ = ('exceptions', 'function')\n",
    "    \n",
    "    def __init__(self, exceptions=tuple(), function=identity):\n",
    "        super(functor, self).__init__(copy(exceptions), function)\n",
    "\n",
    "    def __call__(self, *args, **kwargs):\n",
    "        try:\n",
    "            return super(excepts, self).__call__(*args, **kwargs)\n",
    "        except self.exceptions as e:\n",
    "            return e"
   ]
  },
  {
   "cell_type": "code",
   "execution_count": 13,
   "metadata": {
    "collapsed": true
   },
   "outputs": [],
   "source": [
    "if PY3:\n",
    "    def doc(self):\n",
    "        return isiterable(self) and count(self) and getdoc(first(self)) or getdoc(self.function)\n",
    "    \n",
    "    for func in __all__:\n",
    "        setattr(locals()[func], '__doc__', property(doc))"
   ]
  },
  {
   "cell_type": "code",
   "execution_count": null,
   "metadata": {},
   "outputs": [],
   "source": []
  }
 ],
 "metadata": {
  "anaconda-cloud": {},
  "kernelspec": {
   "display_name": "Python 3",
   "language": "python",
   "name": "python3"
  },
  "language_info": {
   "codemirror_mode": {
    "name": "ipython",
    "version": 3
   },
   "file_extension": ".py",
   "mimetype": "text/x-python",
   "name": "python",
   "nbconvert_exporter": "python",
   "pygments_lexer": "ipython3",
   "version": "3.5.3"
  },
  "nbconvert": {
   "nbconvert.exporters.templateexporter.TemplateExporter": {
    "JupyterApp": {
     "config_file": "./fidget/config.py"
    }
   }
  }
 },
 "nbformat": 4,
 "nbformat_minor": 2
}
