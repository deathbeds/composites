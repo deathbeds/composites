{
 "cells": [
  {
   "cell_type": "markdown",
   "metadata": {},
   "source": [
    "> `fidget` uses the python data model to compose higher-order functions.\n",
    "\n",
    "---"
   ]
  },
  {
   "cell_type": "code",
   "execution_count": 18,
   "metadata": {
    "collapsed": true
   },
   "outputs": [],
   "source": [
    "try:\n",
    "    from .base import State\n",
    "    from .callables import call, functor\n",
    "except:\n",
    "    from base import State\n",
    "    from callables import call, functor\n",
    "\n",
    "from copy import copy\n",
    "from collections import OrderedDict\n",
    "from toolz.curried import compose, first, isiterable, partial, map, merge\n",
    "from six import iteritems, PY3"
   ]
  },
  {
   "cell_type": "code",
   "execution_count": 2,
   "metadata": {
    "collapsed": true
   },
   "outputs": [],
   "source": [
    "class Append(State):\n",
    "    __slots__ = ('function',)\n",
    "    def __init__(self, function=None, *args):      \n",
    "        if function is None:\n",
    "            function = list()\n",
    "        \n",
    "        if not isiterable(function) or isinstance(function, (str, )):\n",
    "            function = [function]\n",
    "            \n",
    "        super(Append, self).__init__(function, *args)\n",
    "   \n",
    "    def __getitem__(self, object=slice(None)):   \n",
    "        if isinstance(object, Append) and object._factory_:\n",
    "            object = object()\n",
    "            \n",
    "        if object is call: \n",
    "            return abs(self)\n",
    "        \n",
    "        if isinstance(object, call):\n",
    "            return object(self)()\n",
    "        \n",
    "        return object != slice(None) and self.append(object) or self \n",
    "    \n",
    "    def __repr__(self):\n",
    "        return repr(self.function)\n",
    "    \n",
    "    def append(self, object):\n",
    "        self.function.append(object)"
   ]
  },
  {
   "cell_type": "code",
   "execution_count": 3,
   "metadata": {
    "collapsed": true
   },
   "outputs": [],
   "source": [
    "class Functions(Append):\n",
    "    def __contains__(self, object):\n",
    "        return any(object == function for function in self)\n",
    "    \n",
    "    def __delitem__(self, object):\n",
    "        self.function = list(fn for fn in self if fn != object)\n",
    "        return self\n",
    "    \n",
    "    def __setitem__(self, attr, object):\n",
    "        self.function = list(object if fn == attr else fn for fn in self)\n",
    "        return self  \n",
    "    \n",
    "    def __iter__(self):\n",
    "        for function in self.function:\n",
    "            yield function\n",
    "\n",
    "    def __reversed__(self):\n",
    "        self.function = type(self.function)(reversed(self.function))\n",
    "        return self"
   ]
  },
  {
   "cell_type": "code",
   "execution_count": 4,
   "metadata": {
    "collapsed": true
   },
   "outputs": [],
   "source": [
    "class Composite(Functions):\n",
    "    def _dispatch_(self, function):\n",
    "        return isinstance(function, (dict, set, list, tuple)) and Juxtapose(function, type(function)) or functor(function)"
   ]
  },
  {
   "cell_type": "code",
   "execution_count": null,
   "metadata": {
    "collapsed": true
   },
   "outputs": [],
   "source": [
    "class Juxtapose(Composite):\n",
    "    __slots__ = ('function', 'type')\n",
    "    def __init__(self, function, type_=None):      \n",
    "        if isinstance(function, dict):\n",
    "            type_ = type(function)\n",
    "            function = compose(tuple, iteritems)(function)\n",
    "        super(Juxtapose, self).__init__(function, type_)\n",
    "\n",
    "    def __call__(self, *args, **kwargs):\n",
    "        return self.type(call(*args)(self._dispatch_(function))(**kwargs) for function in self)    "
   ]
  },
  {
   "cell_type": "code",
   "execution_count": 5,
   "metadata": {
    "collapsed": true
   },
   "outputs": [],
   "source": [
    "class Compose(Composite):\n",
    "    def __call__(self, *args, **kwargs):\n",
    "        for function in self:\n",
    "            args, kwargs = (call(*args)(self._dispatch_(function))(**kwargs),), {}\n",
    "        return first(args)"
   ]
  },
  {
   "cell_type": "code",
   "execution_count": 6,
   "metadata": {
    "collapsed": true
   },
   "outputs": [],
   "source": [
    "class Partial(Functions):\n",
    "    __slots__ = ('args', 'keywords', 'function')\n",
    "    _decorate_, _composite_ = map(staticmethod, (functor, Compose))\n",
    "    \n",
    "    def __init__(self, *args, **kwargs):\n",
    "        function = kwargs.pop('function', self._composite_())\n",
    "        if not callable(function):\n",
    "            function = self._composite_(function)\n",
    "        super(Partial, self).__init__(args, kwargs, function)\n",
    "                \n",
    "    @property\n",
    "    def __call__(self):\n",
    "        return call(*self.args, **self.keywords)(self._decorate_(self.function))\n",
    "    \n",
    "    def append(self, object):\n",
    "        self.function.function.append(object)"
   ]
  },
  {
   "cell_type": "code",
   "execution_count": 7,
   "metadata": {
    "collapsed": true
   },
   "outputs": [],
   "source": [
    "class Composer(Partial):\n",
    "    attributes = OrderedDict()\n",
    "    @property\n",
    "    def _factory_(self):\n",
    "          return type(self).__name__.startswith('_') and type(self).__name__.endswith('_')\n",
    "    \n",
    "    def __getitem__(self, object=slice(None), *args, **kwargs):\n",
    "        if self._factory_:\n",
    "            self = self.function()\n",
    "\n",
    "        if isinstance(object, slice):\n",
    "            object, self = self.function.function[object], copy(self)\n",
    "            self.function = self._composite_(object)\n",
    "            return self\n",
    "               \n",
    "        return super(Composer, self).__getitem__(\n",
    "            (args or kwargs) and call(*args, **kwargs)(object) or object)"
   ]
  },
  {
   "cell_type": "code",
   "execution_count": 20,
   "metadata": {
    "collapsed": true
   },
   "outputs": [],
   "source": [
    "class Attributes(object):\n",
    "    namespaces = OrderedDict({'custom': {}})\n",
    "    def __getattr__(self, attr):\n",
    "        for ns in self.namespaces.values():\n",
    "            if attr in ns:\n",
    "                function = partial(self.__getitem__, ns[attr])\n",
    "                return PY3 and setattr(function, '__doc__',  getattr(ns[attr], '__doc__', \"\")) or function\n",
    "        raise AttributeError(\"No attribute {}\".format(attr))\n",
    "        \n",
    "    def __dir__(self):\n",
    "        return list(super(Attributes, self).__dir__()) + list(merge(self.namespaces.values()).keys())"
   ]
  }
 ],
 "metadata": {
  "anaconda-cloud": {},
  "kernelspec": {
   "display_name": "Python 3",
   "language": "python",
   "name": "python3"
  },
  "language_info": {
   "codemirror_mode": {
    "name": "ipython",
    "version": 3
   },
   "file_extension": ".py",
   "mimetype": "text/x-python",
   "name": "python",
   "nbconvert_exporter": "python",
   "pygments_lexer": "ipython3",
   "version": "3.5.3"
  },
  "nbconvert": {
   "nbconvert.exporters.templateexporter.TemplateExporter": {
    "JupyterApp": {
     "config_file": "./fidget/config.py"
    }
   }
  }
 },
 "nbformat": 4,
 "nbformat_minor": 2
}
