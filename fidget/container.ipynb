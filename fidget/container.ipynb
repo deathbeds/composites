{
 "cells": [
  {
   "cell_type": "code",
   "execution_count": 1,
   "metadata": {},
   "outputs": [],
   "source": [
    "try:\n",
    "    from .model import (\n",
    "        Callable, CallableFactory\n",
    "    )\n",
    "    from .recipes import functor, raises, juxt\n",
    "except:\n",
    "    from model import (\n",
    "        Callable, CallableFactory\n",
    "    )\n",
    "    from recipes import functor, raises, juxt\n",
    "\n",
    "from collections import OrderedDict\n",
    "from traitlets import Any, Dict, validate\n",
    "\n",
    "from six import iteritems\n",
    "from toolz.curried import excepts, first, filter, compose, partial"
   ]
  },
  {
   "cell_type": "code",
   "execution_count": 2,
   "metadata": {},
   "outputs": [],
   "source": [
    "class ContainerCallable(Callable):\n",
    "    funcs = Dict()\n",
    "    excepts = Any(None)\n",
    "    \n",
    "    @validate('funcs')\n",
    "    def _validate_value(self, change):\n",
    "        funcs = change.pop('value', OrderedDict())\n",
    "        if not isinstance(funcs, OrderedDict):\n",
    "            return OrderedDict(funcs)\n",
    "        return funcs\n",
    "    \n",
    "    @property\n",
    "    def compose(self):\n",
    "        return super(ContainerCallable, self).compose(\n",
    "            juxt(\n",
    "                map(partial(juxt, excepts=self.excepts or raises),\n",
    "                    iteritems(self.funcs)))\n",
    "        )\n",
    "    \n",
    "    def append(self, value):\n",
    "        if not isinstance(value, dict):\n",
    "            value = OrderedDict((value,))\n",
    "        for key, value in iteritems(value):\n",
    "            self.funcs[key] = value\n",
    "        self.set_trait('funcs', self.funcs)\n",
    "        return self"
   ]
  },
  {
   "cell_type": "code",
   "execution_count": 3,
   "metadata": {
    "collapsed": true
   },
   "outputs": [],
   "source": [
    "class DictCallable(ContainerCallable):\n",
    "    \"\"\"Apply function composition to Dict objects. \n",
    "    \"\"\"\n",
    "    @property\n",
    "    def compose(self):\n",
    "        return compose(OrderedDict, super(DictCallable, self).compose)"
   ]
  },
  {
   "cell_type": "code",
   "execution_count": 4,
   "metadata": {
    "collapsed": true
   },
   "outputs": [],
   "source": [
    "class ConditionCallable(ContainerCallable):\n",
    "    \"\"\"Apply function composition to Dict objects. \n",
    "    \"\"\"\n",
    "    @property\n",
    "    def compose(self):\n",
    "        return compose(excepts(StopIteration, compose(first, first, filter(excepts(\n",
    "            Exception, first, functor(False)\n",
    "        ))), functor(None)), super(ConditionCallable, self).compose)"
   ]
  },
  {
   "cell_type": "code",
   "execution_count": 6,
   "metadata": {},
   "outputs": [],
   "source": [
    "_d = _dict_ = CallableFactory(funcs=DictCallable)\n",
    "_f = _condition_ = CallableFactory(funcs=ConditionCallable)"
   ]
  },
  {
   "cell_type": "markdown",
   "metadata": {},
   "source": [
    "__*fin*__"
   ]
  }
 ],
 "metadata": {
  "kernelspec": {
   "display_name": "Python [default]",
   "language": "python",
   "name": "python3"
  },
  "language_info": {
   "codemirror_mode": {
    "name": "ipython",
    "version": 3
   },
   "file_extension": ".py",
   "mimetype": "text/x-python",
   "name": "python",
   "nbconvert_exporter": "python",
   "pygments_lexer": "ipython3",
   "version": "3.5.2"
  }
 },
 "nbformat": 4,
 "nbformat_minor": 1
}
