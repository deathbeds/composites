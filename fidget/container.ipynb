{
 "cells": [
  {
   "cell_type": "code",
   "execution_count": 1,
   "metadata": {},
   "outputs": [],
   "source": [
    "# %reload_ext autoreload\n",
    "# %autoreload 2"
   ]
  },
  {
   "cell_type": "code",
   "execution_count": 1,
   "metadata": {},
   "outputs": [],
   "source": [
    "try:\n",
    "    from .model import (\n",
    "        Callables, CallableFactory\n",
    "    )\n",
    "    from .recipes import functor, raises, juxt\n",
    "    from .sequence import ListCallable\n",
    "except:\n",
    "    from model import (\n",
    "        Callables, CallableFactory\n",
    "    )\n",
    "    from recipes import functor, raises, juxt\n",
    "    from sequence import ListCallable\n",
    "\n",
    "from collections import OrderedDict\n",
    "from traitlets import Any, Set, Dict, Callable\n",
    "\n",
    "from six import iteritems\n",
    "from toolz.curried import excepts, first, filter, compose, partial, identity\n",
    "from traitlets import validate"
   ]
  },
  {
   "cell_type": "code",
   "execution_count": 2,
   "metadata": {},
   "outputs": [],
   "source": [
    "class ContainerCallable(Callables):\n",
    "    funcs = Dict()\n",
    "    post = Callable(identity)\n",
    "    excepts = Any(None)\n",
    "    \n",
    "    @validate('funcs')\n",
    "    def _validate_value(self, change):\n",
    "        funcs = change.pop('value', OrderedDict())\n",
    "        if not isinstance(funcs, OrderedDict):\n",
    "            return OrderedDict(funcs)\n",
    "        return funcs\n",
    "    \n",
    "    @property\n",
    "    def compose(self):\n",
    "        return super(ContainerCallable, self).compose(\n",
    "            juxt(map(partial(juxt, excepts=self.excepts or raises), iteritems(self.funcs)))\n",
    "        )\n",
    "    \n",
    "    def append(self, value):\n",
    "        if not isinstance(value, dict):\n",
    "            value = OrderedDict((value,))\n",
    "        for key, value in iteritems(value):\n",
    "            self.funcs[key] = value\n",
    "        self.funcs = self.funcs\n",
    "        return self"
   ]
  },
  {
   "cell_type": "code",
   "execution_count": 3,
   "metadata": {
    "collapsed": true
   },
   "outputs": [],
   "source": [
    "class DictCallable(ContainerCallable):\n",
    "    \"\"\"Apply function composition to Dict objects. \n",
    "    \"\"\"\n",
    "    @property\n",
    "    def compose(self):\n",
    "        return compose(OrderedDict, super(DictCallable, self).compose)"
   ]
  },
  {
   "cell_type": "code",
   "execution_count": 4,
   "metadata": {
    "collapsed": true
   },
   "outputs": [],
   "source": [
    "class ConditionCallable(ContainerCallable):\n",
    "    \"\"\"Apply function composition to Dict objects. \n",
    "    \"\"\"\n",
    "    @property\n",
    "    def compose(self):\n",
    "        return compose(excepts(StopIteration, compose(first, first, filter(excepts(\n",
    "            Exception, first, functor(False)\n",
    "        ))), functor(None)), super(ConditionCallable, self).compose)"
   ]
  },
  {
   "cell_type": "code",
   "execution_count": 5,
   "metadata": {},
   "outputs": [],
   "source": [
    "class SetCallable(ListCallable):\n",
    "    \"\"\"Apply function composition to Set objects. \n",
    "    \"\"\"\n",
    "    funcs = Set(set())    \n",
    "    \n",
    "    @property\n",
    "    def compose(self):\n",
    "        return compose(\n",
    "            OrderedDict, partial(zip, list(self.funcs)),\n",
    "            super(SetCallable, self).compose\n",
    "        )\n",
    "    \n",
    "    def append(self, item):\n",
    "        self.funcs.add(item)\n",
    "        self.funcs = self.funcs\n",
    "        return self"
   ]
  },
  {
   "cell_type": "code",
   "execution_count": 6,
   "metadata": {},
   "outputs": [],
   "source": [
    "_s = _set_ = CallableFactory(funcs=SetCallable)\n",
    "_d = _dict_ = CallableFactory(funcs=DictCallable)\n",
    "_f = _conditional_ = CallableFactory(funcs=ConditionCallable)"
   ]
  },
  {
   "cell_type": "markdown",
   "metadata": {},
   "source": [
    "__*fin*__"
   ]
  }
 ],
 "metadata": {
  "kernelspec": {
   "display_name": "Python 3",
   "language": "python",
   "name": "python3"
  },
  "language_info": {
   "codemirror_mode": {
    "name": "ipython",
    "version": 3
   },
   "file_extension": ".py",
   "mimetype": "text/x-python",
   "name": "python",
   "nbconvert_exporter": "python",
   "pygments_lexer": "ipython3",
   "version": "3.5.2"
  }
 },
 "nbformat": 4,
 "nbformat_minor": 1
}
