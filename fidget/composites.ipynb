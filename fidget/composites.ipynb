{
 "cells": [
  {
   "cell_type": "markdown",
   "metadata": {},
   "source": [
    "# `callables`\n",
    "\n",
    "Collections of special callable objects."
   ]
  },
  {
   "cell_type": "code",
   "execution_count": 6,
   "metadata": {},
   "outputs": [],
   "source": [
    "try:\n",
    "    from .functions import State, functor\n",
    "except:\n",
    "    from functions import State, functor\n",
    "    \n",
    "from functools import singledispatch\n",
    "from toolz.curried import compose, first, isiterable, partial, identity, count\n",
    "from copy import copy\n",
    "from six import iteritems, PY3\n",
    "from types import LambdaType\n",
    "from typing import Mapping, Text, Sequence\n",
    "from inspect import getsource, getdoc\n",
    "\n",
    "__all__ = 'Compose', 'Juxtapose'"
   ]
  },
  {
   "cell_type": "code",
   "execution_count": 12,
   "metadata": {
    "collapsed": true
   },
   "outputs": [],
   "source": [
    "class Functions(State):  \n",
    "    \"\"\"Base class for chainable functions.\"\"\"\n",
    "    __slots__ = ('function',)\n",
    "    def __getitem__(self, object=slice(None)):   \n",
    "        if isinstance(object, int): \n",
    "            return self.function[object]\n",
    "        return object != slice(None) and self.append(object) or self \n",
    "    \n",
    "    def __repr__(self):\n",
    "        return repr(self.function)\n",
    "    \n",
    "    @property\n",
    "    def append(self):\n",
    "        return self.function.append\n",
    "    \n",
    "    __name__ = __repr__\n",
    "    \n",
    "    def __contains__(self, object):\n",
    "        return any(object == function for function in self)\n",
    "    \n",
    "    def __delitem__(self, object):\n",
    "        self.function = list(fn for fn in self if fn != object)\n",
    "        return self\n",
    "    \n",
    "    def __setitem__(self, attr, object):\n",
    "        self.function = list(object if fn == attr else fn for fn in self)\n",
    "        return self  \n",
    "    \n",
    "    def __iter__(self):\n",
    "        for function in self.function:\n",
    "            yield function\n",
    "\n",
    "    def __reversed__(self):\n",
    "        self.function = type(self.function)(reversed(self.function))\n",
    "        return self"
   ]
  },
  {
   "cell_type": "code",
   "execution_count": 14,
   "metadata": {
    "collapsed": true
   },
   "outputs": [],
   "source": [
    "class Callable(Functions):\n",
    "    \"\"\"Base class for chainable functions through the getitem api.\"\"\"\n",
    "    __slots__ = ('args', 'keywords', 'function', 'type')\n",
    "            \n",
    "    def __getitem__(self, object=slice(None), *args, **kwargs):\n",
    "        if isinstance(object, slice):\n",
    "            object, self = Compose(self.function[object]), copy(self)\n",
    "            self.function = object\n",
    "            return self\n",
    "               \n",
    "        return super(Callable, self).__getitem__(\n",
    "            (args or kwargs) and partial(object, *args, **kwargs) or object)\n",
    "    \n",
    "    @property\n",
    "    def append(self): return self.function.append\n",
    "    \n",
    "    @property\n",
    "    def __call__(self):\n",
    "        return partial(self.function, *self.args, **self.keywords)"
   ]
  },
  {
   "cell_type": "code",
   "execution_count": 15,
   "metadata": {},
   "outputs": [],
   "source": [
    "class Compose(Callable):\n",
    "    \"\"\"Function compose in serial.\"\"\"\n",
    "    \n",
    "    def __init__(self, object=None, type=functor):\n",
    "        if object is None:\n",
    "            object = list()\n",
    "        if not isiterable(object) or isinstance(object, (str,)):\n",
    "            object = [object]\n",
    "        \n",
    "        super(Compose, self).__init__(tuple(), dict(), object, type)\n",
    "        \n",
    "        \n",
    "    def __call__(self, *args, **kwargs):\n",
    "        try:\n",
    "            for i, object in enumerate(self):\n",
    "                try:\n",
    "                    args, kwargs = (calls(object)(*args, **kwargs),), {}\n",
    "                except Exception as e:\n",
    "                    # Could analyze current state.\n",
    "                    raise Exception('on {}th callable `{}` in {}'.format(\n",
    "                        i+1, \n",
    "                        (isinstance(object, LambdaType) and compose(first, str.splitlines, getsource) or identity)(object) \n",
    "                        , self\n",
    "                    )) from e\n",
    "        except StopIteration:\n",
    "            pass\n",
    "        return first(args)"
   ]
  },
  {
   "cell_type": "code",
   "execution_count": 26,
   "metadata": {},
   "outputs": [],
   "source": [
    "class Juxtapose(Callable):\n",
    "    \"\"\"Composed many functions for the sample inputs.\"\"\"\n",
    "    def __init__(self, function=None, type=tuple):\n",
    "        if isinstance(function, dict):\n",
    "            function = compose(tuple, iteritems)(function)\n",
    "        super(Juxtapose, self).__init__(tuple(), dict(), function or list(), type)\n",
    "        \n",
    "    def __call__(self, *args, **kwargs):\n",
    "        return self.type([calls(function)(*args, **kwargs) for function in self]) "
   ]
  },
  {
   "cell_type": "code",
   "execution_count": 32,
   "metadata": {},
   "outputs": [
    {
     "data": {
      "text/plain": [
       "__main__.functor"
      ]
     },
     "execution_count": 32,
     "metadata": {},
     "output_type": "execute_result"
    }
   ],
   "source": [
    "@singledispatch\n",
    "def calls(object): return None\n",
    "\n",
    "calls.register(Text, functor)\n",
    "\n",
    "@calls.register(Mapping)\n",
    "@calls.register(Sequence)\n",
    "def _(object): return Juxtapose(object, type(object))\n",
    "\n",
    "calls.register(object, functor)"
   ]
  },
  {
   "cell_type": "code",
   "execution_count": 33,
   "metadata": {
    "collapsed": true
   },
   "outputs": [],
   "source": [
    "class Partial(Callable):\n",
    "    \"\"\"Compose functions with parital arguments and keywords.\"\"\"\n",
    "    \n",
    "    _composition, _wrapper = map(staticmethod, (Compose, functor))\n",
    "    \n",
    "    def __init__(self, *args, **kwargs):\n",
    "        super(Partial, self).__init__(args, kwargs, self._composition(), self._wrapper)\n",
    "        \n",
    "    def __getitem__(self, object=slice(None), *args, **kwargs):\n",
    "        if isinstance(object, slice):\n",
    "            object, self = Compose(self.function.function[object]), copy(self)\n",
    "            self.function = object\n",
    "            return self\n",
    "               \n",
    "        return super(Partial, self).__getitem__(\n",
    "            (args or kwargs) and partial(object, *args, **kwargs) or object)\n",
    "    \n",
    "    @property\n",
    "    def append(self):\n",
    "        return self.function.function.append\n",
    "    \n",
    "    @property\n",
    "    def __call__(self):\n",
    "        return partial(\n",
    "            self._wrapper(self.function), *self.args, **self.keywords)"
   ]
  },
  {
   "cell_type": "code",
   "execution_count": 37,
   "metadata": {
    "collapsed": true
   },
   "outputs": [],
   "source": [
    "if PY3:\n",
    "    def doc(self):\n",
    "        return isiterable(self) and count(self) and getdoc(first(self)) or getdoc(self.function)\n",
    "    \n",
    "    for func in __all__:\n",
    "        setattr(locals()[func], '__doc__', property(doc))"
   ]
  }
 ],
 "metadata": {
  "anaconda-cloud": {},
  "kernelspec": {
   "display_name": "Python 3",
   "language": "python",
   "name": "python3"
  },
  "language_info": {
   "codemirror_mode": {
    "name": "ipython",
    "version": 3
   },
   "file_extension": ".py",
   "mimetype": "text/x-python",
   "name": "python",
   "nbconvert_exporter": "python",
   "pygments_lexer": "ipython3",
   "version": "3.5.3"
  },
  "nbconvert": {
   "nbconvert.exporters.templateexporter.TemplateExporter": {
    "JupyterApp": {
     "config_file": "./fidget/config.py"
    }
   }
  }
 },
 "nbformat": 4,
 "nbformat_minor": 2
}
