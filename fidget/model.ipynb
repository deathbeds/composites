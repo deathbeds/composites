{
 "cells": [
  {
   "cell_type": "code",
   "execution_count": 1,
   "metadata": {},
   "outputs": [],
   "source": [
    "try:\n",
    "    from .objects import  Compose, Partial\n",
    "    from .callables import flipped, do, step, starred, excepts, ifnot, ifthen\n",
    "    from .namespaces import Namespaces, composed\n",
    "except Exception as e:\n",
    "    from objects import  Compose, Partial\n",
    "    from callables import flipped, do, step, starred, excepts, ifnot, ifthen\n",
    "    from namespaces import Namespaces, composed\n",
    "    \n",
    "from functools import wraps\n",
    "from operator import attrgetter\n",
    "from toolz.curried import (isiterable, flip, complement, interpose, groupby, compose, merge, reduce, filter, map)\n",
    "_attribute_ = \"__{}{}__\".format"
   ]
  },
  {
   "cell_type": "code",
   "execution_count": 2,
   "metadata": {},
   "outputs": [],
   "source": [
    "__all__ = ['flips', 'stars', 'does', 'maps', 'filters', 'groups', 'reduces']\n",
    "functions = (flipped, starred, do, map, filter, groupby, reduce)\n",
    "\n",
    "_mro_ = compose(dict.values, merge, map(vars), attrgetter('__mro__'), type)\n",
    "_isinstance_ = flip(isinstance)"
   ]
  },
  {
   "cell_type": "code",
   "execution_count": 3,
   "metadata": {
    "collapsed": true
   },
   "outputs": [],
   "source": [
    "class Syntax(object):    \n",
    "    def __xor__(self, object):\n",
    "        self = self[:]  # noqa: F823\n",
    "        if not isiterable(object) and isinstance(object, type):\n",
    "            object = (object,)\n",
    "            \n",
    "        if isiterable(object):\n",
    "            if all(map(_isinstance_(type), object)) and all(map(flip(issubclass)(BaseException), object)):\n",
    "                self.function = Compose(excepts(object, self.function))\n",
    "                return self\n",
    "            \n",
    "            if all(map(_isinstance_(BaseException), object)):\n",
    "                object = tuple(map(type, object))\n",
    "                \n",
    "            if all(map(_isinstance_(type), object)):\n",
    "                object = _isinstance_(object)\n",
    "\n",
    "        self.function = Compose([ifthen(Compose([object]), self.function)])\n",
    "        return self\n",
    "\n",
    "    def __or__(self, object):\n",
    "        self = self[:]\n",
    "        self.function = Compose([ifnot(self.function, Compose([object]))])\n",
    "        return self\n",
    "    \n",
    "    def __and__(self, object):\n",
    "        self = self[:]\n",
    "        self.function = Compose([step(self.function, Compose([object]))])\n",
    "        return self\n",
    "    \n",
    "    def __pos__(self):\n",
    "        return self[bool]\n",
    "\n",
    "    def __neg__(self):\n",
    "        return self[complement(bool)]\n",
    "        \n",
    "    def __lshift__(self, object):\n",
    "        return Does()[object] if self._factory_ else self[do(object)]\n",
    "    \n",
    "    def __round__(self, n):\n",
    "        self.function.function = list(interpose(n, self.function.function))\n",
    "        return self\n",
    "    \n",
    "    __invert__, __pow__ = Partial.__reversed__, __xor__"
   ]
  },
  {
   "cell_type": "code",
   "execution_count": 4,
   "metadata": {
    "collapsed": true
   },
   "outputs": [],
   "source": [
    "class Models(Partial, Syntax, Namespaces):\n",
    "    @property\n",
    "    def _factory_(self):\n",
    "          return type(self).__name__.startswith('_') and type(self).__name__.endswith('_')\n",
    "        \n",
    "    def __getitem__(self, object=slice(None), *args, **kwargs):\n",
    "        self = self.function() if self._factory_ else self\n",
    "        \n",
    "        return super(Models, self).__getitem__(\n",
    "            object() if isinstance(object, Models) and object._factory_ else object, \n",
    "            *args, **kwargs)\n",
    "    \n",
    "    def __call__(self, *args, **kwargs):\n",
    "        return super(Models, self).__call__(*args, **kwargs)\n",
    "        \n",
    "    __mul__ = __add__ = __rshift__ = __sub__ = __getitem__\n",
    "    \n",
    "    @property\n",
    "    def __doc__(self):\n",
    "        string=\"\"\n",
    "        for function in self:\n",
    "            string += (getattr(function, 'func', function).__doc__ or \"\") + \"\\n---\\n\"\n",
    "        return string"
   ]
  },
  {
   "cell_type": "code",
   "execution_count": 5,
   "metadata": {},
   "outputs": [],
   "source": [
    "for name, function in zip(__all__, functions):\n",
    "    locals().update({name.capitalize(): type(name.capitalize(), (Models,), {'wrapper': staticmethod(function)})})\n",
    "\n",
    "__all__ += ['models']\n",
    "\n",
    "for fidget in __all__:\n",
    "    callable = locals()[fidget.capitalize()]\n",
    "    locals()[fidget] = type('_{}_'.format(fidget.capitalize()), (callable,), {})()\n",
    "    locals()[fidget].function = Compose([callable])\n",
    "\n",
    "for op, func in (('matmul', 'groupby'), ('truediv', 'map'), ('floordiv', 'filter'), ('mod', 'reduce')):\n",
    "    setattr(Models, _attribute_('', op), property(Compose(attrgetter(func))))\n",
    "Models.__div__  = Models.__truediv__ "
   ]
  },
  {
   "cell_type": "code",
   "execution_count": 6,
   "metadata": {
    "collapsed": true
   },
   "outputs": [],
   "source": [
    "def fallback(attr):\n",
    "    def fallback(right, left):\n",
    "        return getattr(Models()[left], attr)(right.function)\n",
    "    return wraps(getattr(Models, attr))(fallback)"
   ]
  },
  {
   "cell_type": "code",
   "execution_count": 7,
   "metadata": {
    "collapsed": true
   },
   "outputs": [],
   "source": [
    "for attr in ['add', 'sub', 'mul', 'matmul','div', 'truediv', 'floordiv', 'mod', 'lshift', 'rshift', 'and', 'xor', 'or', 'pow']:\n",
    "    setattr(Models, _attribute_('i', attr), getattr(Models, _attribute_('', attr)))\n",
    "    setattr(Models, _attribute_('r', attr), fallback(_attribute_('', attr)))"
   ]
  },
  {
   "cell_type": "code",
   "execution_count": 8,
   "metadata": {},
   "outputs": [],
   "source": [
    "Models.namespaces['fidget'] = {\n",
    "    f.__name__: composed(f) for f in (groupby, reduce, filter, map)}\n",
    "Models.namespaces['fidget'].update({\n",
    "    key: getattr(Models, _attribute_('', value)) \n",
    "    for key, value in [['call']*2, ['do', 'lshift'], ['pipe',  'getitem'], ['ifthen','xor'], ['step', 'and'], ['ifnot', 'or']]})"
   ]
  }
 ],
 "metadata": {
  "anaconda-cloud": {},
  "kernelspec": {
   "display_name": "Python 3",
   "language": "python",
   "name": "python3"
  },
  "language_info": {
   "codemirror_mode": {
    "name": "ipython",
    "version": 3
   },
   "file_extension": ".py",
   "mimetype": "text/x-python",
   "name": "python",
   "nbconvert_exporter": "python",
   "pygments_lexer": "ipython3",
   "version": "3.5.3"
  },
  "nbconvert": {
   "nbconvert.exporters.templateexporter.TemplateExporter": {
    "JupyterApp": {
     "config_file": "./fidget/config.py"
    }
   }
  }
 },
 "nbformat": 4,
 "nbformat_minor": 2
}
