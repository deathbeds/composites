{
 "cells": [
  {
   "cell_type": "code",
   "execution_count": 1,
   "metadata": {
    "collapsed": true
   },
   "outputs": [],
   "source": [
    "try:\n",
    "    from .objects import  Compose, Calls, Juxtapose\n",
    "    from .callables import flipped, do, step, starred, excepts, ifnot, ifthen\n",
    "except Exception as e:\n",
    "    from objects import  Compose, Calls, Juxtapose\n",
    "    from callables import flipped, do, step, starred, excepts, ifnot, ifthen\n",
    "    \n",
    "from collections import OrderedDict\n",
    "from functools import partial, wraps\n",
    "from six import PY3\n",
    "from operator import attrgetter\n",
    "from toolz.curried import (isiterable, flip, complement, interpose, groupby, merge, reduce, filter, map)\n",
    "_attribute_ = \"__{}{}__\".format"
   ]
  },
  {
   "cell_type": "code",
   "execution_count": 2,
   "metadata": {
    "collapsed": true
   },
   "outputs": [],
   "source": [
    "__all__ = ['flips', 'stars', 'does', 'maps', 'filters', 'groups', 'reduces']\n",
    "functions = (flipped, starred, do, map, filter, groupby, reduce)"
   ]
  },
  {
   "cell_type": "code",
   "execution_count": 25,
   "metadata": {
    "collapsed": true
   },
   "outputs": [],
   "source": [
    "class Namespaces(object):\n",
    "    namespaces = OrderedDict({'fidget': {}})\n",
    "    def __getattr__(self, attr):\n",
    "        for namespace in self.namespaces.values():\n",
    "            if attr in namespace:\n",
    "                callable = namespace[attr]\n",
    "                doc = callable.__doc__\n",
    "                if callable in merge(map(vars, type(self).__mro__)).values():\n",
    "                    callable = partial(callable, self)\n",
    "                else:\n",
    "                    callable = partial(self.__getitem__, callable)\n",
    "                return PY3 and setattr(callable, '__doc__',  doc) or callable\n",
    "        raise AttributeError(\"No attribute {}\".format(attr))\n",
    "        \n",
    "    def __dir__(self):\n",
    "        return list(super(Namespaces, self).__dir__()) + list(merge(self.namespaces.values()).keys())"
   ]
  },
  {
   "cell_type": "code",
   "execution_count": 26,
   "metadata": {},
   "outputs": [],
   "source": [
    "class Syntax(object):    \n",
    "    def __xor__(self, object):\n",
    "        self, _isinstance = self[:], flip(isinstance)  # noqa: F823\n",
    "        if not isiterable(object) and isinstance(object, type):\n",
    "            object = (object,)\n",
    "        if isiterable(object):\n",
    "            if all(map(_isinstance(type), object)) and all(map(flip(issubclass)(BaseException), object)):\n",
    "                self.function = Compose(excepts(object, self.function))\n",
    "                return self\n",
    "            \n",
    "            if all(map(_isinstance(BaseException), object)):\n",
    "                object = tuple(map(type, object))\n",
    "                \n",
    "            if all(map(_isinstance(type), object)):\n",
    "                object = _isinstance(object)\n",
    "\n",
    "        self.function = Compose([ifthen(Compose([object]), self.function)])\n",
    "        return self\n",
    "\n",
    "    def __or__(self, object):\n",
    "        self = self[:]\n",
    "        self.function = Compose([ifnot(self.function, Compose([object]))])\n",
    "        return self\n",
    "    \n",
    "    def __and__(self, object):\n",
    "        self = self[:]\n",
    "        self.function = Compose([step(self.function, Compose([object]))])\n",
    "        return self\n",
    "    \n",
    "    def __pos__(self):\n",
    "        return self[bool]\n",
    "\n",
    "    def __neg__(self):\n",
    "        return self[complement(bool)]\n",
    "        \n",
    "    def __lshift__(self, object):\n",
    "        return Does()[object] if self._factory_ else self[do(object)]\n",
    "    \n",
    "    def __round__(self, n):\n",
    "        self.function.function = list(interpose(n, self.function.function))\n",
    "        return self\n",
    "    \n",
    "    __invert__, __pow__ = Calls.__reversed__, __xor__"
   ]
  },
  {
   "cell_type": "code",
   "execution_count": 27,
   "metadata": {
    "collapsed": true
   },
   "outputs": [],
   "source": [
    "class Models(Calls, Syntax, Namespaces):\n",
    "    @property\n",
    "    def _factory_(self):\n",
    "          return type(self).__name__.startswith('_') and type(self).__name__.endswith('_')\n",
    "        \n",
    "    def __getitem__(self, object=slice(None), *args, **kwargs):\n",
    "        self = self.function() if self._factory_ else self\n",
    "\n",
    "        return super(Models, self).__getitem__(\n",
    "            object() if isinstance(object, Models) and object._factory_ else object, \n",
    "            *args, **kwargs)\n",
    "    \n",
    "    __mul__ = __add__ = __rshift__ = __sub__ = __getitem__"
   ]
  },
  {
   "cell_type": "code",
   "execution_count": 28,
   "metadata": {},
   "outputs": [],
   "source": [
    "@property\n",
    "def doc(self):\n",
    "    string=\"\"\n",
    "    for function in self:\n",
    "        string += getattr(function, 'func', function).__doc__ or \"\" + \"\\n---\\n\"\n",
    "    return string\n",
    "\n",
    "for klass in (Models, Compose, Juxtapose):\n",
    "    klass.__doc__ = doc"
   ]
  },
  {
   "cell_type": "code",
   "execution_count": 29,
   "metadata": {
    "collapsed": true
   },
   "outputs": [],
   "source": [
    "for name, function in zip(__all__, functions):\n",
    "    locals().update({name.capitalize(): type(name, (Models,), {'_decorate_': staticmethod(function)})})"
   ]
  },
  {
   "cell_type": "code",
   "execution_count": 30,
   "metadata": {
    "collapsed": true
   },
   "outputs": [],
   "source": [
    "__all__ += ['models']"
   ]
  },
  {
   "cell_type": "code",
   "execution_count": 31,
   "metadata": {
    "collapsed": true
   },
   "outputs": [],
   "source": [
    "for fidget in __all__:\n",
    "    callable = locals()[fidget.capitalize()]\n",
    "    locals()[fidget] = type('_{}_'.format(fidget.capitalize()), (callable,), {})(function=Compose([callable]))"
   ]
  },
  {
   "cell_type": "code",
   "execution_count": 32,
   "metadata": {
    "collapsed": true
   },
   "outputs": [],
   "source": [
    "for op, func in (('matmul', 'groupby'), ('truediv', 'map'), ('floordiv', 'filter'), ('mod', 'reduce')):\n",
    "    setattr(Models, _attribute_('', op), property(Compose(attrgetter(func))))\n",
    "Models.__div__  = Models.__truediv__ "
   ]
  },
  {
   "cell_type": "code",
   "execution_count": 33,
   "metadata": {
    "collapsed": true
   },
   "outputs": [],
   "source": [
    "def fallback(attr):\n",
    "    def fallback(right, left):\n",
    "        right = right[:]\n",
    "        return getattr(type(right)()[left], attr)(right)\n",
    "    return wraps(getattr(Models, attr))(fallback)"
   ]
  },
  {
   "cell_type": "code",
   "execution_count": 34,
   "metadata": {
    "collapsed": true
   },
   "outputs": [],
   "source": [
    "for attr in ['add', 'sub', 'mul', 'matmul','div', 'truediv', 'floordiv', 'mod', 'lshift', 'rshift', 'and', 'xor', 'or', 'pow']:\n",
    "    setattr(Models, _attribute_('i', attr), getattr(Models, _attribute_('', attr)))\n",
    "    setattr(Models, _attribute_('r', attr), fallback(_attribute_('', attr)))"
   ]
  }
 ],
 "metadata": {
  "anaconda-cloud": {},
  "kernelspec": {
   "display_name": "Python 3",
   "language": "python",
   "name": "python3"
  },
  "language_info": {
   "codemirror_mode": {
    "name": "ipython",
    "version": 3
   },
   "file_extension": ".py",
   "mimetype": "text/x-python",
   "name": "python",
   "nbconvert_exporter": "python",
   "pygments_lexer": "ipython3",
   "version": "3.5.3"
  },
  "nbconvert": {
   "nbconvert.exporters.templateexporter.TemplateExporter": {
    "JupyterApp": {
     "config_file": "./fidget/config.py"
    }
   }
  }
 },
 "nbformat": 4,
 "nbformat_minor": 2
}
