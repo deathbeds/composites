{
 "cells": [
  {
   "cell_type": "code",
   "execution_count": 3,
   "metadata": {
    "collapsed": true
   },
   "outputs": [],
   "source": [
    "try:\n",
    "    from .recipes import item_to_args\n",
    "except:\n",
    "    from recipes import item_to_args\n",
    "from collections import Sequence\n",
    "from traitlets import HasTraits, Tuple, Dict\n",
    "import traitlets\n",
    "from toolz.curried import identity, merge, compose, partial, flip, isiterable\n",
    "from inspect import isgenerator"
   ]
  },
  {
   "cell_type": "code",
   "execution_count": 4,
   "metadata": {},
   "outputs": [],
   "source": [
    "class CallableSugar:\n",
    "    def __pow__(self, value):\n",
    "        args, kwargs = item_to_args(value)\n",
    "        if args: \n",
    "            self.set_trait('args', args)\n",
    "        if kwargs: \n",
    "            self.set_trait('kwargs', merge(self.kwargs, kwargs))\n",
    "        return self\n",
    "    \n",
    "    def __rshift__(self, value):\n",
    "        if value is compose:\n",
    "            return self.compose\n",
    "        if value is identity:\n",
    "            return self()\n",
    "        return self[value]"
   ]
  },
  {
   "cell_type": "code",
   "execution_count": 5,
   "metadata": {},
   "outputs": [],
   "source": [
    "class Base(HasTraits):\n",
    "    args = Tuple(tuple())\n",
    "    kwargs = Dict(dict())\n",
    "    flip = False\n",
    "\n",
    "    @property\n",
    "    def __getstate__(self):\n",
    "        return self.compose.__getstate__\n",
    "\n",
    "    @property\n",
    "    def __setstate__(self):\n",
    "        return self.compose.__setstate__\n",
    "        \n",
    "    def __repr__(self):\n",
    "        if self.args or self.kwargs:\n",
    "            return repr(self())\n",
    "        return repr({\n",
    "            'args': self.args, 'kwargs': self.kwargs, 'funcs': self.funcs\n",
    "        })"
   ]
  },
  {
   "cell_type": "code",
   "execution_count": 6,
   "metadata": {},
   "outputs": [],
   "source": [
    "class Callable(CallableSugar, Base):    \n",
    "    def compose(self, func):\n",
    "        \"\"\"Returns a pickleable callable of the current state.\n",
    "        \"\"\"\n",
    "        if self.flip:\n",
    "            func = flip(func)\n",
    "        if self.args or self.kwargs:\n",
    "            return partial(func, *self.args, **self.kwargs)\n",
    "        return func\n",
    "    \n",
    "    @property\n",
    "    def _(self):\n",
    "        \"\"\"Shorthand, literate syntax.\n",
    "        \"\"\"\n",
    "        return self.compose\n",
    "    \n",
    "    def __call__(self, *args, **kwargs):\n",
    "        \"\"\"Call a higher order function\n",
    "        \"\"\"\n",
    "        return self.compose(*args, **kwargs)\n",
    "\n",
    "    \n",
    "    def __getitem__(self, item=None):\n",
    "        if item is None or item == slice(None):\n",
    "            return self\n",
    "        return self.append(item)"
   ]
  },
  {
   "cell_type": "code",
   "execution_count": 7,
   "metadata": {},
   "outputs": [],
   "source": [
    "class CallableFactory(Callable):\n",
    "    funcs = traitlets.Callable()\n",
    "    \n",
    "    def __call__(self, *args, **kwargs):\n",
    "        return self.funcs(args=args, kwargs=kwargs)\n",
    "    \n",
    "    @property\n",
    "    def coerce(self):\n",
    "        return getattr(\n",
    "            self.__class__.funcs, 'klass', identity\n",
    "        )\n",
    "    \n",
    "    def __getitem__(self, item=slice(None)):\n",
    "        if isinstance(self.funcs, type) and not issubclass(self.funcs, HasTraits):\n",
    "            return self.funcs(item)\n",
    "        if isinstance(item, dict):\n",
    "            return self.funcs(funcs=item)\n",
    "        \n",
    "        funcs = self.funcs()\n",
    "        if item == slice(None):\n",
    "            return funcs \n",
    "        if isgenerator(item):\n",
    "            item = self.coerce(item)\n",
    "        if not isiterable(item):\n",
    "            item = (item,)\n",
    "        for i in item:\n",
    "            funcs.append(i)\n",
    "        return funcs\n",
    "            \n",
    "        \n",
    "    def __rshift__(self, value):\n",
    "        return self.funcs()[value]\n",
    "    \n",
    "    def __pow__(self, value):\n",
    "        return self.funcs() ** value\n",
    "    \n",
    "    def __and__(self, value):\n",
    "        return self.funcs()[value]"
   ]
  },
  {
   "cell_type": "markdown",
   "metadata": {},
   "source": [
    "__*fin*__"
   ]
  }
 ],
 "metadata": {
  "kernelspec": {
   "display_name": "Python 3",
   "language": "python",
   "name": "python3"
  },
  "language_info": {
   "codemirror_mode": {
    "name": "ipython",
    "version": 3
   },
   "file_extension": ".py",
   "mimetype": "text/x-python",
   "name": "python",
   "nbconvert_exporter": "python",
   "pygments_lexer": "ipython3",
   "version": "3.5.2"
  }
 },
 "nbformat": 4,
 "nbformat_minor": 2
}
