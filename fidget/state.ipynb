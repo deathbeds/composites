{
 "cells": [
  {
   "cell_type": "code",
   "execution_count": 1,
   "metadata": {
    "collapsed": true
   },
   "outputs": [],
   "source": [
    "from copy import copy\n",
    "from functools import partial, total_ordering\n",
    "from operator import eq"
   ]
  },
  {
   "cell_type": "code",
   "execution_count": 2,
   "metadata": {
    "collapsed": true
   },
   "outputs": [],
   "source": [
    "def hashdict(attr):\n",
    "    value = []\n",
    "    for item in attr.items():\n",
    "        value += [[]]\n",
    "        for part in item:\n",
    "            if isinstance(part, dict):\n",
    "                part = hashdict(part)\n",
    "                \n",
    "            value[-1] += [part]\n",
    "        value[-1] = tuple(value[-1])\n",
    "    return tuple(value)"
   ]
  },
  {
   "cell_type": "code",
   "execution_count": 3,
   "metadata": {},
   "outputs": [],
   "source": [
    "@total_ordering\n",
    "class State(object):\n",
    "    def __init__(self, *args, **kwargs):\n",
    "        for i, slot in enumerate(self.__slots__):\n",
    "            setattr(self, slot, kwargs.pop(slot, args[i] if i < len(args) else None))\n",
    "        \n",
    "    def __getstate__(self):\n",
    "        return tuple(map(partial(getattr, self), self.__slots__))\n",
    "\n",
    "    def __setstate__(self, state):\n",
    "        for key, value in zip(self.__slots__, state):\n",
    "            setattr(self, key, value)\n",
    "        \n",
    "    def __copy__(self, *args):\n",
    "        new = type(self)()\n",
    "        return new.__setstate__(tuple(map(copy, self.__getstate__()))) or new\n",
    "\n",
    "    def __hash__(self):\n",
    "        values = []\n",
    "        for attr in self.__slots__:\n",
    "            if isinstance(attr, dict):\n",
    "                attr = hashdict(attr)\n",
    "            values += [hash(attr)]\n",
    "        return hash(tuple(values))\n",
    "    \n",
    "    def __eq__(self, other):\n",
    "        return isinstance(other, State) and hash(self) == hash(other)\n",
    "    \n",
    "    def __enter__(self):\n",
    "        return copy(self[:])\n",
    "    \n",
    "    def __exit__(self, exc_type, exc_value, traceback):\n",
    "        pass\n",
    "    \n",
    "    def __abs__(self):\n",
    "        return self.__call__\n",
    "    \n",
    "    def __lt__(self, other):\n",
    "        if isinstance(other, State):\n",
    "            return (len(self) < len(other)) and all(eq(*i) for i in zip(self, other))\n",
    "        return False\n",
    "\n",
    "    def __len__(self):\n",
    "        return sum(1 for f in self)\n",
    "   \n",
    "    __deepcopy__ = __copy__"
   ]
  }
 ],
 "metadata": {
  "anaconda-cloud": {},
  "kernelspec": {
   "display_name": "Python 3",
   "language": "python",
   "name": "python3"
  },
  "language_info": {
   "codemirror_mode": {
    "name": "ipython",
    "version": 3
   },
   "file_extension": ".py",
   "mimetype": "text/x-python",
   "name": "python",
   "nbconvert_exporter": "python",
   "pygments_lexer": "ipython3",
   "version": "3.5.3"
  },
  "nbconvert": {
   "nbconvert.exporters.templateexporter.TemplateExporter": {
    "JupyterApp": {
     "config_file": "./fidget/config.py"
    }
   }
  }
 },
 "nbformat": 4,
 "nbformat_minor": 2
}
