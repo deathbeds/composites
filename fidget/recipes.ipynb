{
 "cells": [
  {
   "cell_type": "code",
   "execution_count": 23,
   "metadata": {
    "collapsed": true
   },
   "outputs": [],
   "source": [
    "from toolz.curried import (\n",
    "    isiterable, take, drop, take_nth, compose, \n",
    "    filter, interpose, identity, flip, concat, map, pipe, first, excepts\n",
    ")\n",
    "from toolz.functoolz import juxt as tlz_juxt\n",
    "from six import iteritems\n",
    "from toolz.curried.operator import attrgetter\n",
    "from toolz.functoolz import Compose"
   ]
  },
  {
   "cell_type": "code",
   "execution_count": 25,
   "metadata": {
    "collapsed": true
   },
   "outputs": [],
   "source": [
    "class functor(tlz_juxt):\n",
    "    def __init__(self, value):\n",
    "        self.funcs = value \n",
    "    \n",
    "    def __call__(self, *args, **kwargs):\n",
    "        if callable(self.funcs):\n",
    "            return self.funcs(*args, **kwargs)\n",
    "        return self.funcs"
   ]
  },
  {
   "cell_type": "code",
   "execution_count": 26,
   "metadata": {},
   "outputs": [],
   "source": [
    "def star_arguments(args, kwargs, function):\n",
    "    return function(*args, **kwargs)"
   ]
  },
  {
   "cell_type": "code",
   "execution_count": 27,
   "metadata": {},
   "outputs": [],
   "source": [
    "def item_to_args(obj):\n",
    "    \"\"\"heuristics for converting an object to args & kwargs.\"\"\"\n",
    "    args, kwargs = tuple(), dict()\n",
    "    if bool(obj):\n",
    "        if isinstance(obj, dict):\n",
    "            kwargs = obj\n",
    "        elif isiterable(obj):\n",
    "            args = tuple(obj)\n",
    "        else:\n",
    "            args = (obj,)\n",
    "    return args, kwargs"
   ]
  },
  {
   "cell_type": "code",
   "execution_count": 28,
   "metadata": {},
   "outputs": [],
   "source": [
    "def compose_slice(slice):\n",
    "    \"\"\"compose functions that parity a slice.\n",
    "    \"\"\"\n",
    "    sliced = []\n",
    "    if slice.stop:\n",
    "        sliced.append(take(slice.stop))\n",
    "    if slice.start:\n",
    "        sliced.append(drop(slice.start))\n",
    "    if slice.step:\n",
    "        sliced.append(take_nth(slice.step))\n",
    "    return Compose(sliced or identity)\n"
   ]
  },
  {
   "cell_type": "code",
   "execution_count": 29,
   "metadata": {},
   "outputs": [],
   "source": [
    "def raises(e):\n",
    "    raise e"
   ]
  },
  {
   "cell_type": "code",
   "execution_count": 52,
   "metadata": {},
   "outputs": [],
   "source": [
    "class juxt(tlz_juxt):\n",
    "    def __init__(self, *funcs, **kwargs):\n",
    "        self.excepts = kwargs.pop('excepts', None)\n",
    "        if isinstance(first(funcs), dict) and len(funcs) == 1:\n",
    "            funcs = [iteritems(funcs)]\n",
    "        super(juxt, self).__init__(*funcs)\n",
    "\n",
    "    def __call__(self, *args, **kwargs):\n",
    "        for func in map(functor, self.funcs):\n",
    "            yield excepts(\n",
    "                Exception, func, \n",
    "                handler=functor(self.excepts)\n",
    "                if self.excepts is not None else raises\n",
    "            )(*args, **kwargs)"
   ]
  },
  {
   "cell_type": "code",
   "execution_count": null,
   "metadata": {},
   "outputs": [],
   "source": [
    "def flip(func, *args):\n",
    "    return func(*reversed(args))"
   ]
  },
  {
   "cell_type": "code",
   "execution_count": 24,
   "metadata": {},
   "outputs": [],
   "source": [
    "# def docify(klass, *args):\n",
    "#     return pipe(\n",
    "#         [args, type(klass).__mro__],\n",
    "#         concat, filter(flip(hasattr)('__doc__')),\n",
    "#         filter(attrgetter('__doc__')),\n",
    "#         map(attrgetter('__name__', '__doc__')),\n",
    "#         map(interpose(' - ')),\n",
    "#         map(' '.join),\n",
    "#         '\\n'.join,\n",
    "#     )"
   ]
  },
  {
   "cell_type": "markdown",
   "metadata": {},
   "source": [
    "__*fin*__"
   ]
  }
 ],
 "metadata": {
  "kernelspec": {
   "display_name": "Python [default]",
   "language": "python",
   "name": "python3"
  },
  "language_info": {
   "codemirror_mode": {
    "name": "ipython",
    "version": 3
   },
   "file_extension": ".py",
   "mimetype": "text/x-python",
   "name": "python",
   "nbconvert_exporter": "python",
   "pygments_lexer": "ipython3",
   "version": "3.5.2"
  }
 },
 "nbformat": 4,
 "nbformat_minor": 2
}
