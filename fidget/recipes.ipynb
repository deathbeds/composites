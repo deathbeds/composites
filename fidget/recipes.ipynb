{
 "cells": [
  {
   "cell_type": "code",
   "execution_count": 33,
   "metadata": {
    "collapsed": true
   },
   "outputs": [],
   "source": [
    "from toolz.curried import (\n",
    "    isiterable, take, drop, take_nth, compose, \n",
    "    filter, interpose, identity, flip, concat, map, pipe, first, excepts, concatv\n",
    ")\n",
    "from toolz.functoolz import juxt\n",
    "from six import iteritems\n",
    "from toolz.curried.operator import attrgetter\n",
    "from toolz.functoolz import Compose"
   ]
  },
  {
   "cell_type": "code",
   "execution_count": 52,
   "metadata": {
    "collapsed": true
   },
   "outputs": [],
   "source": [
    "class Compose(Compose):\n",
    "    def __call__(self, *args, **kwargs):\n",
    "        for func in iter(self):\n",
    "            args, kwargs = (func(*args, **kwargs),), {}\n",
    "        return args[0]\n",
    "    \n",
    "    def __iter__(self):\n",
    "        for func in concatv([self.first], self.funcs):\n",
    "            if not callable(func): \n",
    "                func = functor(func)\n",
    "            yield func"
   ]
  },
  {
   "cell_type": "code",
   "execution_count": 49,
   "metadata": {
    "collapsed": true
   },
   "outputs": [],
   "source": [
    "def compose(*funcs):\n",
    "    if not funcs:\n",
    "        return identity\n",
    "    if len(funcs) == 1:\n",
    "        return funcs[0]\n",
    "    else:\n",
    "        return Compose(funcs)"
   ]
  },
  {
   "cell_type": "code",
   "execution_count": 40,
   "metadata": {
    "collapsed": true
   },
   "outputs": [],
   "source": [
    "def flip(func, *args):\n",
    "    return func(*reversed(args))"
   ]
  },
  {
   "cell_type": "code",
   "execution_count": 36,
   "metadata": {
    "collapsed": true
   },
   "outputs": [],
   "source": [
    "class juxt(juxt):\n",
    "    def __init__(self, *funcs, **kwargs):\n",
    "        self.excepts = kwargs.pop('excepts', None)\n",
    "        if isinstance(first(funcs), dict) and len(funcs) == 1:\n",
    "            funcs = [iteritems(funcs)]\n",
    "        super(juxt, self).__init__(*funcs)\n",
    "\n",
    "    def __call__(self, *args, **kwargs):\n",
    "        for func in iter(self):\n",
    "            yield func(*args, **kwargs)\n",
    "            \n",
    "    def __iter__(self):\n",
    "        for func in self.funcs:\n",
    "            if not callable(func): \n",
    "                func = functor(func)\n",
    "            yield func"
   ]
  },
  {
   "cell_type": "code",
   "execution_count": 37,
   "metadata": {
    "collapsed": true
   },
   "outputs": [],
   "source": [
    "class functor:\n",
    "    def __init__(self, value):\n",
    "        self.funcs = value \n",
    "    \n",
    "    def __call__(self, *args, **kwargs):\n",
    "        if callable(self.funcs):\n",
    "            return self.funcs(*args, **kwargs)\n",
    "        return self.funcs"
   ]
  },
  {
   "cell_type": "code",
   "execution_count": 4,
   "metadata": {
    "collapsed": true
   },
   "outputs": [],
   "source": [
    "def star_arguments(args, kwargs, function):\n",
    "    return function(*args, **kwargs)"
   ]
  },
  {
   "cell_type": "code",
   "execution_count": 1,
   "metadata": {
    "collapsed": true
   },
   "outputs": [],
   "source": [
    "def item_to_args(obj):\n",
    "    \"\"\"heuristics for converting an object to args & kwargs.\"\"\"\n",
    "    args, kwargs = tuple(), dict()\n",
    "    if obj is not None:\n",
    "        if isinstance(obj, dict):\n",
    "            kwargs = obj\n",
    "        elif isinstance(obj, tuple):\n",
    "            args = obj\n",
    "        else:\n",
    "            args = obj,\n",
    "    return args, kwargs"
   ]
  },
  {
   "cell_type": "code",
   "execution_count": 6,
   "metadata": {
    "collapsed": true
   },
   "outputs": [],
   "source": [
    "def compose_slice(slice):\n",
    "    \"\"\"compose functions that parity a slice.\n",
    "    \"\"\"\n",
    "    sliced = []\n",
    "    if slice.stop:\n",
    "        sliced.append(take(slice.stop))\n",
    "    if slice.start:\n",
    "        sliced.append(drop(slice.start))\n",
    "    if slice.step:\n",
    "        sliced.append(take_nth(slice.step))\n",
    "    return Compose(sliced or identity)\n"
   ]
  },
  {
   "cell_type": "code",
   "execution_count": 7,
   "metadata": {
    "collapsed": true
   },
   "outputs": [],
   "source": [
    "def raises(e):\n",
    "    raise e"
   ]
  },
  {
   "cell_type": "code",
   "execution_count": 24,
   "metadata": {
    "collapsed": true
   },
   "outputs": [],
   "source": [
    "# def docify(klass, *args):\n",
    "#     return pipe(\n",
    "#         [args, type(klass).__mro__],\n",
    "#         concat, filter(flip(hasattr)('__doc__')),\n",
    "#         filter(attrgetter('__doc__')),\n",
    "#         map(attrgetter('__name__', '__doc__')),\n",
    "#         map(interpose(' - ')),\n",
    "#         map(' '.join),\n",
    "#         '\\n'.join,\n",
    "#     )"
   ]
  },
  {
   "cell_type": "markdown",
   "metadata": {},
   "source": [
    "__*fin*__"
   ]
  }
 ],
 "metadata": {
  "kernelspec": {
   "display_name": "Python 3",
   "language": "python",
   "name": "python3"
  },
  "language_info": {
   "codemirror_mode": {
    "name": "ipython",
    "version": 3
   },
   "file_extension": ".py",
   "mimetype": "text/x-python",
   "name": "python",
   "nbconvert_exporter": "python",
   "pygments_lexer": "ipython3",
   "version": "3.6.0"
  }
 },
 "nbformat": 4,
 "nbformat_minor": 2
}
