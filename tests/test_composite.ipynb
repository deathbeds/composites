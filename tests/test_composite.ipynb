{
 "cells": [
  {
   "cell_type": "code",
   "execution_count": 6,
   "metadata": {},
   "outputs": [],
   "source": [
    "from fidget import *\n",
    "from fidget import _x, x_, _comp_, _pmoc_\n",
    "from pickle import dumps"
   ]
  },
  {
   "cell_type": "code",
   "execution_count": 7,
   "metadata": {},
   "outputs": [],
   "source": [
    "def test_equivalence():\n",
    "    assert _comp_ is _x\n",
    "    assert _pmoc_ is x_"
   ]
  },
  {
   "cell_type": "code",
   "execution_count": 3,
   "metadata": {},
   "outputs": [],
   "source": [
    "def test_some_chain():\n",
    "    assert _x[range, list, len](10) == 10\n",
    "    assert _x[:][range][list][len](10) == 10\n",
    "    assert _x(10)[range][list][len]() == 10\n",
    "    assert _x(10)[range][list][len] >> identity == 10\n",
    "    assert _x ** 10 >> range >> list >> len >> identity == 10\n",
    "    assert dumps(_x ** 10 >> range >> list >> len)"
   ]
  },
  {
   "cell_type": "code",
   "execution_count": null,
   "metadata": {},
   "outputs": [],
   "source": [
    "def test_pickle():\n",
    "    assert dumps(_x ** 10 >> range >> list >> len)\n",
    "    assert dumps(_x ** 10 >> range >> list >> [len, type])"
   ]
  },
  {
   "cell_type": "code",
   "execution_count": 5,
   "metadata": {},
   "outputs": [],
   "source": [
    "def test_some_chain():\n",
    "    assert _x[range, list, [len, type]](10) == [10, list]\n",
    "    assert _x[:][range][list][len, type](10) == (10, list)\n",
    "    assert _x[:][range][list][[len, type]](10) == [10, list]\n",
    "    assert _x(10)[range][list][len, type]() == (10, list)\n",
    "    assert _x(10)[range][list][[len, type]]() == [10, list]\n",
    "    assert _x(10)[range][list][[len, type]] >> identity == [10, list]\n",
    "    assert _x ** 10 >> range >> list >> [len, type] >> identity == [10, list]"
   ]
  },
  {
   "cell_type": "code",
   "execution_count": null,
   "metadata": {},
   "outputs": [],
   "source": []
  }
 ],
 "metadata": {
  "kernelspec": {
   "display_name": "Python [conda root]",
   "language": "python",
   "name": "conda-root-py"
  },
  "language_info": {
   "codemirror_mode": {
    "name": "ipython",
    "version": 3
   },
   "file_extension": ".py",
   "mimetype": "text/x-python",
   "name": "python",
   "nbconvert_exporter": "python",
   "pygments_lexer": "ipython3",
   "version": "3.5.2"
  }
 },
 "nbformat": 4,
 "nbformat_minor": 2
}
