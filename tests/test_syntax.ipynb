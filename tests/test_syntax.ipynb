{
 "cells": [
  {
   "cell_type": "markdown",
   "metadata": {},
   "source": [
    "# Callables syntax\n",
    "\n",
    "## Generic Sugar\n",
    "\n",
    "> In order of binding.\n",
    "\n",
    "* Add normal or keyword arguments `**`\n",
    "    * `_xx[:] ** dict()` defines keywords arguments, keywords are merged and keys are considered, immutable(not enforced)\n",
    "    * `_xx[:] ** tuple()` defines normal arguments, arguments are replaced\n",
    "* Append to value `>>`\n",
    "    * `_xx[:][range] >> list == _xx[:][range][list] == _xx[range, list]` \n",
    "* Call a callable \n",
    "    * `identity` returns the evaluated callable from `_xx.args` and `_xx.kwargs`.\n",
    "    * `compose` returns the function composition\n",
    "    * Otherwise call the chain with the item as the file function."
   ]
  },
  {
   "cell_type": "code",
   "execution_count": 1,
   "metadata": {},
   "outputs": [],
   "source": [
    "from fidget import *\n",
    "import pytest"
   ]
  },
  {
   "cell_type": "code",
   "execution_count": 2,
   "metadata": {},
   "outputs": [],
   "source": [
    "parameters = pytest.mark.parametrize(\"_xx\", [\n",
    "    _list_, _tuple_, _set_, _dict_, _comp_, _condition_\n",
    "])"
   ]
  },
  {
   "cell_type": "code",
   "execution_count": 3,
   "metadata": {},
   "outputs": [],
   "source": [
    "@parameters\n",
    "def test_init(_xx):\n",
    "    assert isinstance(_x[:], type(_x()))"
   ]
  },
  {
   "cell_type": "code",
   "execution_count": null,
   "metadata": {},
   "outputs": [],
   "source": [
    "from toolz.curried import merge"
   ]
  },
  {
   "cell_type": "code",
   "execution_count": 36,
   "metadata": {},
   "outputs": [],
   "source": [
    "@parameters\n",
    "def test_arguments(_xx):\n",
    "    # A function with arguments and keywords\n",
    "    truth = _xx('test', 42, 'foo', 'bar', keyword='value')\n",
    "    \n",
    "    # Append arguments\n",
    "    callable = _xx[:] ** ('test', 42, 'foo', 'bar')\n",
    "    assert callable.args == truth.args\n",
    "    \n",
    "    # Append keywords\n",
    "    callable ** {'keyword': 'value'}\n",
    "    assert callable.kwargs == truth.kwargs and callable.args == truth.args\n",
    "    \n",
    "    # Change Arguments\n",
    "    callable ** ('new',)\n",
    "    assert callable.args == ('new',)\n",
    "    \n",
    "    # Change Keywords\n",
    "    callable ** {'new': 'object', 'keyword': 'updated'}\n",
    "    with pytest.raises(AssertionError):\n",
    "        assert callable.kwargs == {'new': 'object'} \n",
    "    assert callable.kwargs == merge(\n",
    "        {'new': 'object'}, {'keyword': 'updated'}\n",
    "    ) and callable.args == ('new',)    "
   ]
  },
  {
   "cell_type": "code",
   "execution_count": 18,
   "metadata": {},
   "outputs": [],
   "source": [
    "# def test_arguments():\n",
    "#     for callable in [\n",
    "#         _set_, _list_, _tuple_, _dict_, _chain_, _multipledispatch_, _conditional_\n",
    "#     ]:\n",
    "#         assert (callable[:] ** ('test', 42)).args == callable('test', 42).args"
   ]
  },
  {
   "cell_type": "code",
   "execution_count": null,
   "metadata": {},
   "outputs": [],
   "source": []
  }
 ],
 "metadata": {
  "kernelspec": {
   "display_name": "Python [default]",
   "language": "python",
   "name": "python3"
  },
  "language_info": {
   "codemirror_mode": {
    "name": "ipython",
    "version": 3
   },
   "file_extension": ".py",
   "mimetype": "text/x-python",
   "name": "python",
   "nbconvert_exporter": "python",
   "pygments_lexer": "ipython3",
   "version": "3.5.2"
  }
 },
 "nbformat": 4,
 "nbformat_minor": 2
}
