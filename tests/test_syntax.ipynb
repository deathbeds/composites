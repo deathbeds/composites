{
 "cells": [
  {
   "cell_type": "code",
   "execution_count": 3,
   "metadata": {},
   "outputs": [],
   "source": [
    "from fidget import *\n",
    "import pytest"
   ]
  },
  {
   "cell_type": "code",
   "execution_count": 14,
   "metadata": {},
   "outputs": [],
   "source": [
    "list_parameters = [_list_, _tuple_, _set_, _comp_]\n",
    "container_parameters = [_dict_, _comp_, _condition_]\n",
    "parameters = pytest.mark.parametrize(\"_xx\", concatv(list_parameters, container_parameters))"
   ]
  },
  {
   "cell_type": "code",
   "execution_count": 15,
   "metadata": {},
   "outputs": [],
   "source": [
    "@parameters\n",
    "def test_init(_xx):\n",
    "    assert isinstance(_x[:], type(_x()))"
   ]
  },
  {
   "cell_type": "code",
   "execution_count": 16,
   "metadata": {},
   "outputs": [],
   "source": [
    "@parameters\n",
    "def test_arguments(_xx):\n",
    "    # A function with arguments and keywords\n",
    "    truth = _xx('test', 42, 'foo', 'bar', keyword='value')\n",
    "    \n",
    "    # Append arguments\n",
    "    callable = _xx[:] ** ('test', 42, 'foo', 'bar')\n",
    "    assert callable.args == truth.args\n",
    "    \n",
    "    # Append keywords\n",
    "    callable ** {'keyword': 'value'}\n",
    "    assert callable.kwargs == truth.kwargs and callable.args == truth.args\n",
    "    \n",
    "    # Change Arguments\n",
    "    callable ** ('new',)\n",
    "    assert callable.args == ('new',)\n",
    "    \n",
    "    # Change Keywords\n",
    "    callable ** {'new': 'object', 'keyword': 'updated'}\n",
    "    with pytest.raises(AssertionError):\n",
    "        assert callable.kwargs == {'new': 'object'} \n",
    "    assert callable.kwargs == merge(\n",
    "        {'new': 'object'}, {'keyword': 'updated'}\n",
    "    ) and callable.args == ('new',)    "
   ]
  },
  {
   "cell_type": "code",
   "execution_count": 18,
   "metadata": {},
   "outputs": [],
   "source": [
    "@pytest.mark.parametrize(\"_xx\", list_parameters)\n",
    "def test_pickle_sequence(_xx):\n",
    "    assert _xx[range, type]._pickable\n",
    "    \n",
    "@pytest.mark.parametrize(\"_xx\", container_parameters)\n",
    "def test_pickle_container(_xx):\n",
    "    assert _xx[[str, range], [identity, type]]._pickable"
   ]
  },
  {
   "cell_type": "code",
   "execution_count": 13,
   "metadata": {},
   "outputs": [],
   "source": [
    "@pytest.mark.parametrize(\"_xx\", list_parameters)\n",
    "def test_copy(_xx):\n",
    "    composition = _xx[range, type]\n",
    "    assert composition is not composition.copy()"
   ]
  },
  {
   "cell_type": "code",
   "execution_count": 26,
   "metadata": {},
   "outputs": [],
   "source": [
    "@pytest.mark.parametrize(\"_xx\", list_parameters)\n",
    "def test_context(_xx):\n",
    "    g = _xx(10)[range][type]\n",
    "    funcs = g.funcs\n",
    "    with g as F:\n",
    "        q = F >> str >> type >> str >> type\n",
    "    assert g.funcs == funcs\n",
    "    assert g is not q"
   ]
  },
  {
   "cell_type": "code",
   "execution_count": 19,
   "metadata": {},
   "outputs": [],
   "source": [
    "@pytest.mark.parametrize(\"_xx\", list_parameters)\n",
    "def test_reverse(_xx):\n",
    "    composition = _xx[range, type]\n",
    "    assert reversed(composition)"
   ]
  }
 ],
 "metadata": {
  "kernelspec": {
   "display_name": "Python [default]",
   "language": "python",
   "name": "python3"
  },
  "language_info": {
   "codemirror_mode": {
    "name": "ipython",
    "version": 3
   },
   "file_extension": ".py",
   "mimetype": "text/x-python",
   "name": "python",
   "nbconvert_exporter": "python",
   "pygments_lexer": "ipython3",
   "version": "3.5.2"
  }
 },
 "nbformat": 4,
 "nbformat_minor": 2
}
