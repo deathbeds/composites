{
 "cells": [
  {
   "cell_type": "markdown",
   "metadata": {},
   "source": [
    "# `fidget` - A Python and Functional Programming Pidgin Syntax\n",
    "\n",
    "`fidget` helps you get started."
   ]
  },
  {
   "cell_type": "code",
   "execution_count": 1,
   "metadata": {},
   "outputs": [
    {
     "data": {
      "text/plain": [
       "'It is as easy as ABCDEFGHIJKLMNOPQRSTUVWXYZ'"
      ]
     },
     "execution_count": 1,
     "metadata": {},
     "output_type": "execute_result"
    }
   ],
   "source": [
    "from fidget import _x\n",
    "_x(97, 97+26)[range][_x(chr)[map]][''.join][str.upper]['It is as easy as {}'.format]"
   ]
  },
  {
   "cell_type": "code",
   "execution_count": 2,
   "metadata": {},
   "outputs": [],
   "source": [
    "add = _x(_x[lambda x: x+1, str])[map]"
   ]
  },
  {
   "cell_type": "code",
   "execution_count": 5,
   "metadata": {},
   "outputs": [
    {
     "data": {
      "text/plain": [
       "'It is import to mix narrative and code for a 1, 2, 3 👊.'"
      ]
     },
     "execution_count": 5,
     "metadata": {},
     "output_type": "execute_result"
    }
   ],
   "source": [
    "from jinja2 import Template\n",
    "Template(\"\"\"It is import to mix narrative and code for a {{\n",
    "_x[:][range][add][list][', '.join](3)\n",
    "}} 👊.\"\"\").render(\n",
    "    list=list, **globals()\n",
    ")"
   ]
  },
  {
   "cell_type": "markdown",
   "metadata": {},
   "source": [
    "## Composite Functions\n",
    "\n",
    "|short|long|desc|\n",
    "|------|--------------|------------------------|\n",
    "|  _x  | _comp_       |  A composite function. |\n",
    "|  x_  | _pmoc_       |  A composite function with the argument order reversed. | \n",
    "\n",
    "## Juxtapose Functions\n",
    "\n",
    "|short|long|desc|\n",
    "|------|--------------|------------------------|\n",
    "| none | _sequence_   |  A composition from a generator that yields a generator. |\n",
    "|  _t  | _tuple_      |  A composition from a tuple that yields a tuple. |\n",
    "|  _l  | _list_       |  A composition from a list that yields a list. | \n",
    "|  _s  | _set_        |  A composition from a set that yields a dict with the set functions as keys. |\n",
    "|  _d  | _dict_       |  A composition from a dict that yields a dict with the keys and values evaluated. |\n",
    "|  _f  | _condition_  |  A composition that can handle logic.\n",
    "\n",
    "# Object Functions\n",
    "\n",
    "|long|desc|\n",
    "|------|--------------|------------------------|\n",
    "| _self | An chainable object.  |\n",
    "| _this | An chainable object with the value recursively evaluated. |\n",
    "\n",
    "# Tokens\n",
    "\n",
    "| key | desc |\n",
    "|----|------|\n",
    "| compose | Compose a higher-order function |\n",
    "| copy    | Copy a function |\n",
    "| identity | Reveal the identity of a composition. |"
   ]
  },
  {
   "cell_type": "markdown",
   "metadata": {},
   "source": [
    "---\n",
    "\n",
    "`fidget` provides typographically dense interfaces to functional programming objects in Python.  `fidget` is inspired by literate programming, it attempts to reduce the text required to displayed programming logic in software & data-driven narratives.\n",
    "\n",
    "All `fidget` objects, or `fidgets`, are pure python objects that do not modify the Abstract Syntax Tree.  All of the typographic features of `fidget` are extended from the Python Data Model.  The syntactic sugar for each `fidget` is designed with the [Operator Precedence](https://docs.python.org/3/reference/expressions.html#operator-precedence) in mind. \n",
    "\n",
    "`fidget` relies on `toolz` and `traitlets`.  `toolz` provides a python 2 and 3 compatible interface to functional programmming in pure Python.  `toolz` was designed with parallel computing in mind.  Consequently, `fidget` objects can be pickled and used in parallel computing tasks like `joblib`, `luigi`, or `dask`.  `traitlets` provides an method to interactively type check composite functions.\n",
    "\n",
    "The `fidget` namespace is design for a \"programming as UI\" experience.  In the minimal namespace, function methods and type can be modified with a single text character.  For example, `_l`, `_t`, and `_s` produce a `list`, `tuple`, and `set`, respectively.\n",
    "\n",
    "\n",
    "\n",
    "\n",
    "Other notes:\n",
    "\n",
    "* lazy\n",
    "* Everything is a function\n",
    "* Functions are immutable, Arguments and Keywords are Muttable\n",
    "\n",
    "More later:\n",
    "* interactive type checking\n",
    "* extensions"
   ]
  }
 ],
 "metadata": {
  "kernelspec": {
   "display_name": "Python [default]",
   "language": "python",
   "name": "python3"
  },
  "language_info": {
   "codemirror_mode": {
    "name": "ipython",
    "version": 3
   },
   "file_extension": ".py",
   "mimetype": "text/x-python",
   "name": "python",
   "nbconvert_exporter": "python",
   "pygments_lexer": "ipython3",
   "version": "3.5.2"
  }
 },
 "nbformat": 4,
 "nbformat_minor": 1
}
