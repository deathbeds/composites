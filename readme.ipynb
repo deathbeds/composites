{
 "cells": [
  {
   "cell_type": "markdown",
   "metadata": {},
   "source": [
    "# `articles` compose complex functions\n",
    "\n",
    "`articles` are untyped functional programming objects in Python _with all the side effects_.  They provide a typographically efficient way of expressing complex ideas in code.\n",
    "\n",
    "                pip install git+https://github.com/tonyfast/articles\n",
    "                \n",
    "---\n",
    "            \n",
    "        \n",
    "\n",
    "> `articles` is inspired by the [`d3js`](), [`pandas`](), [`underscorejs`](), and [`toolz`]() apis.\n",
    "\n",
    "   \n",
    "               "
   ]
  },
  {
   "cell_type": "markdown",
   "metadata": {},
   "source": [
    "* untyped lambda calculus\n",
    "* Higher-order functions enable partial application or currying, \n",
    "* Recursion"
   ]
  },
  {
   "cell_type": "code",
   "execution_count": 1,
   "metadata": {
    "collapsed": true
   },
   "outputs": [],
   "source": [
    "    %reload_ext literacy"
   ]
  },
  {
   "cell_type": "markdown",
   "metadata": {},
   "source": [
    "# compose functions with `a`, `an`, `the`, or `λ`"
   ]
  },
  {
   "cell_type": "code",
   "execution_count": 2,
   "metadata": {},
   "outputs": [
    {
     "data": {
      "text/markdown": [
       "    from articles import *; assert a is an is the is λ"
      ],
      "text/plain": [
       "<IPython.core.display.Markdown object>"
      ]
     },
     "metadata": {},
     "output_type": "display_data"
    }
   ],
   "source": [
    "    from articles import *; assert a is an is the is λ"
   ]
  },
  {
   "cell_type": "code",
   "execution_count": 3,
   "metadata": {},
   "outputs": [
    {
     "data": {
      "text/markdown": [
       "A basic example, __enumerate__ a __range__ and create a __dict__ionary.\n",
       "\n",
       "    f = the[range][reversed][enumerate][dict]\n",
       "    f(3), f"
      ],
      "text/plain": [
       "<IPython.core.display.Markdown object>"
      ]
     },
     "metadata": {},
     "output_type": "display_data"
    },
    {
     "data": {
      "text/plain": [
       "({0: 2, 1: 1, 2: 0},\n",
       " λ:[<class 'range'>, <class 'reversed'>, <class 'enumerate'>, <class 'dict'>])"
      ]
     },
     "execution_count": 3,
     "metadata": {},
     "output_type": "execute_result"
    }
   ],
   "source": [
    "A basic example, __enumerate__ a __range__ and create a __dict__ionary.\n",
    "\n",
    "    f = the[range][reversed][enumerate][dict]\n",
    "    f(3), f"
   ]
  },
  {
   "cell_type": "code",
   "execution_count": 4,
   "metadata": {},
   "outputs": [
    {
     "data": {
      "text/markdown": [
       "Each <b><code>[bracket]</code></b> may accept a __callable__ or __iterable__. In either case,\n",
       "a __callable__ is appended to the composition.  Compositions are immutable and may have\n",
       "arbitrary complexity.\n",
       "\n",
       "    g = f.copy()  # copy f from above so it remains unchanged.\n",
       "    g[type, len]\n",
       "    g[{'foo': a.do(print).len(), 'bar': the.identity()}]\n",
       "    assert f < g \n",
       "    g"
      ],
      "text/plain": [
       "<IPython.core.display.Markdown object>"
      ]
     },
     "metadata": {},
     "output_type": "display_data"
    },
    {
     "data": {
      "text/plain": [
       "λ:[<class 'range'>, <class 'reversed'>, <class 'enumerate'>, <class 'dict'>, juxt(<class 'tuple'>)[<class 'type'>, <built-in function len>], juxt(<class 'dict'>)[('foo', λ:[do:[<built-in function print>], <built-in function len>]), ('bar', λ:[<function identity at 0x1113929d8>])]]"
      ]
     },
     "execution_count": 4,
     "metadata": {},
     "output_type": "execute_result"
    }
   ],
   "source": [
    "Each <b><code>[bracket]</code></b> may accept a __callable__ or __iterable__. In either case,\n",
    "a __callable__ is appended to the composition.  Compositions are immutable and may have\n",
    "arbitrary complexity.\n",
    "\n",
    "    g = f.copy()  # copy f from above so it remains unchanged.\n",
    "    g[type, len]\n",
    "    g[{'foo': a.do(print).len(), 'bar': the.identity()}]\n",
    "    assert f < g \n",
    "    g"
   ]
  },
  {
   "cell_type": "markdown",
   "metadata": {},
   "source": [
    "Brackets juxtapose iterable objects."
   ]
  },
  {
   "cell_type": "code",
   "execution_count": 5,
   "metadata": {},
   "outputs": [
    {
     "data": {
      "text/markdown": [
       "    the[range, type], the[[range, type]], the[{range, type}], the[{'x': range, 'y': type}]"
      ],
      "text/plain": [
       "<IPython.core.display.Markdown object>"
      ]
     },
     "metadata": {},
     "output_type": "display_data"
    },
    {
     "data": {
      "text/plain": [
       "(λ:[juxt(<class 'tuple'>)[<class 'range'>, <class 'type'>]],\n",
       " λ:[juxt(<class 'list'>)[<class 'range'>, <class 'type'>]],\n",
       " λ:[juxt(<class 'set'>)[<class 'type'>, <class 'range'>]],\n",
       " λ:[juxt(<class 'dict'>)[('x', <class 'range'>), ('y', <class 'type'>)]])"
      ]
     },
     "execution_count": 5,
     "metadata": {},
     "output_type": "execute_result"
    }
   ],
   "source": [
    "    the[range, type], the[[range, type]], the[{range, type}], the[{'x': range, 'y': type}]"
   ]
  },
  {
   "cell_type": "markdown",
   "metadata": {},
   "source": [
    "Each each composition is immutable."
   ]
  },
  {
   "cell_type": "code",
   "execution_count": 6,
   "metadata": {},
   "outputs": [
    {
     "data": {
      "text/markdown": [
       "    assert f[len] is f; f"
      ],
      "text/plain": [
       "<IPython.core.display.Markdown object>"
      ]
     },
     "metadata": {},
     "output_type": "display_data"
    },
    {
     "data": {
      "text/plain": [
       "λ:[<class 'range'>, <class 'reversed'>, <class 'enumerate'>, <class 'dict'>, <built-in function len>]"
      ]
     },
     "execution_count": 6,
     "metadata": {},
     "output_type": "execute_result"
    }
   ],
   "source": [
    "    assert f[len] is f; f"
   ]
  },
  {
   "cell_type": "markdown",
   "metadata": {},
   "source": [
    "But it is easy to copy a composition."
   ]
  },
  {
   "cell_type": "code",
   "execution_count": 7,
   "metadata": {},
   "outputs": [
    {
     "data": {
      "text/markdown": [
       "    g = f.copy() \n",
       "    assert g is not f and g == f and g[type] > f"
      ],
      "text/plain": [
       "<IPython.core.display.Markdown object>"
      ]
     },
     "metadata": {},
     "output_type": "display_data"
    }
   ],
   "source": [
    "    g = f.copy() \n",
    "    assert g is not f and g == f and g[type] > f"
   ]
  },
  {
   "cell_type": "markdown",
   "metadata": {},
   "source": [
    "# compose functions with attributes\n",
    "\n",
    "Each composition has an extensible attribution system.  Attributes can be accessed in a shallow or verbose way."
   ]
  },
  {
   "cell_type": "code",
   "execution_count": 8,
   "metadata": {},
   "outputs": [
    {
     "data": {
      "text/markdown": [
       "    a.range() == a.builtins.range() == a[range]"
      ],
      "text/plain": [
       "<IPython.core.display.Markdown object>"
      ]
     },
     "metadata": {},
     "output_type": "display_data"
    },
    {
     "data": {
      "text/plain": [
       "True"
      ]
     },
     "execution_count": 8,
     "metadata": {},
     "output_type": "execute_result"
    }
   ],
   "source": [
    "    a.range() == a.builtins.range() == a[range]"
   ]
  },
  {
   "cell_type": "markdown",
   "metadata": {},
   "source": [
    "# compose functions with symbols"
   ]
  },
  {
   "cell_type": "code",
   "execution_count": 9,
   "metadata": {},
   "outputs": [
    {
     "data": {
      "text/markdown": [
       "    assert a /  range == a.map(range)\n",
       "    assert a // range == a.filter(range)\n",
       "    assert a @  range == a.groupby(range)\n",
       "    assert a %  range == a.reduce(range)"
      ],
      "text/plain": [
       "<IPython.core.display.Markdown object>"
      ]
     },
     "metadata": {},
     "output_type": "display_data"
    }
   ],
   "source": [
    "    assert a /  range == a.map(range)\n",
    "    assert a // range == a.filter(range)\n",
    "    assert a @  range == a.groupby(range)\n",
    "    assert a %  range == a.reduce(range)"
   ]
  },
  {
   "cell_type": "markdown",
   "metadata": {},
   "source": [
    "#### combine item getters, attributes, symbols, and other compositions to express complex ideas."
   ]
  },
  {
   "cell_type": "code",
   "execution_count": 10,
   "metadata": {},
   "outputs": [
    {
     "data": {
      "text/markdown": [
       "    f = a['test', 5, {42}]      / (a**str&[str.upper, str.capitalize]|a**int&a.range().map(\n",
       "         a.range(2).len()\n",
       "     ).list()|a**object&type) \\\n",
       "     * list\n",
       "    f()"
      ],
      "text/plain": [
       "<IPython.core.display.Markdown object>"
      ]
     },
     "metadata": {},
     "output_type": "display_data"
    },
    {
     "data": {
      "text/plain": [
       "[['TEST', 'Test'], [0, 0, 0, 1, 2], set]"
      ]
     },
     "execution_count": 10,
     "metadata": {},
     "output_type": "execute_result"
    }
   ],
   "source": [
    "    f = a['test', 5, {42}] \\\n",
    "     / (a**str&[str.upper, str.capitalize]|a**int&a.range().map(\n",
    "         a.range(2).len()\n",
    "     ).list()|a**object&type) \\\n",
    "     * list\n",
    "    f()"
   ]
  },
  {
   "cell_type": "markdown",
   "metadata": {},
   "source": [
    "#### use compositions recursively"
   ]
  },
  {
   "cell_type": "code",
   "execution_count": 11,
   "metadata": {},
   "outputs": [
    {
     "data": {
      "text/markdown": [
       "    f = a[:]\n",
       "    f[a**a.gt(5)*range | a**a.le(5)*a.add(1)[f]](4)"
      ],
      "text/plain": [
       "<IPython.core.display.Markdown object>"
      ]
     },
     "metadata": {},
     "output_type": "display_data"
    },
    {
     "data": {
      "text/plain": [
       "range(0, 6)"
      ]
     },
     "execution_count": 11,
     "metadata": {},
     "output_type": "execute_result"
    }
   ],
   "source": [
    "    f = a[:]\n",
    "    f[a**a.gt(5)*range | a**a.le(5)*a.add(1)[f]](4)"
   ]
  },
  {
   "cell_type": "markdown",
   "metadata": {},
   "source": [
    "## `articles` structure\n",
    "\n",
    "![](classes_No_Name.png)"
   ]
  },
  {
   "cell_type": "markdown",
   "metadata": {},
   "source": [
    "# Development"
   ]
  },
  {
   "cell_type": "code",
   "execution_count": 24,
   "metadata": {},
   "outputs": [
    {
     "data": {
      "text/markdown": [
       "    !jupyter nbconvert --to markdown --TemplateExporter.exclude_input=True readme.ipynb\n",
       "    !pyreverse -o png -bmy -fALL articles\n",
       "    !python -m doctest articles/composites.py articles/objects.py articles/conditions.ipynb\n",
       "    !echo complete"
      ],
      "text/plain": [
       "<IPython.core.display.Markdown object>"
      ]
     },
     "metadata": {},
     "output_type": "display_data"
    },
    {
     "name": "stdout",
     "output_type": "stream",
     "text": [
      "[NbConvertApp] Converting notebook readme.ipynb to markdown\r\n",
      "[NbConvertApp] Writing 4642 bytes to readme.md\r\n",
      "parsing articles/__init__.py...\r\n",
      "parsing /Users/tonyfast/fidget/articles/__init__.py...\r\n",
      "parsing /Users/tonyfast/fidget/articles/attributes.py...\r\n",
      "parsing /Users/tonyfast/fidget/articles/composites.py...\r\n",
      "parsing /Users/tonyfast/fidget/articles/conditions.py...\r\n",
      "parsing /Users/tonyfast/fidget/articles/objects.py...\r\n",
      "parsing /Users/tonyfast/fidget/articles/operations.py...\r\n",
      "parsing /Users/tonyfast/fidget/articles/partials.py...\r\n",
      "complete\r\n"
     ]
    }
   ],
   "source": [
    "    !jupyter nbconvert --to markdown --TemplateExporter.exclude_input=True readme.ipynb\n",
    "    !pyreverse -o png -bmy -fALL articles\n",
    "    !python -m doctest articles/composites.py articles/objects.py articles/conditions.ipynb\n",
    "    !echo complete"
   ]
  },
  {
   "cell_type": "code",
   "execution_count": null,
   "metadata": {
    "collapsed": true
   },
   "outputs": [],
   "source": []
  }
 ],
 "metadata": {
  "anaconda-cloud": {},
  "kernelspec": {
   "display_name": "Python 3",
   "language": "python",
   "name": "python3"
  },
  "language_info": {
   "codemirror_mode": {
    "name": "ipython",
    "version": 3
   },
   "file_extension": ".py",
   "mimetype": "text/x-python",
   "name": "python",
   "nbconvert_exporter": "python",
   "pygments_lexer": "ipython3",
   "version": "3.5.3"
  }
 },
 "nbformat": 4,
 "nbformat_minor": 2
}
