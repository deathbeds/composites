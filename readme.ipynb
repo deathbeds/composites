{
 "cells": [
  {
   "cell_type": "code",
   "execution_count": 2,
   "metadata": {},
   "outputs": [],
   "source": [
    "from fidget import *"
   ]
  },
  {
   "cell_type": "code",
   "execution_count": 3,
   "metadata": {},
   "outputs": [
    {
     "data": {
      "text/plain": [
       "{0: [0, 1, 2, 3], 1: [4, 5, 6, 7], 2: [8, 9]}"
      ]
     },
     "execution_count": 3,
     "metadata": {},
     "output_type": "execute_result"
    }
   ],
   "source": [
    "the[range].partition_all(4).enumerate().dict().valmap(list)(10)"
   ]
  },
  {
   "cell_type": "code",
   "execution_count": 7,
   "metadata": {},
   "outputs": [
    {
     "name": "stderr",
     "output_type": "stream",
     "text": [
      "[NbConvertApp] Converting notebook fidget/__init__.ipynb to python\n",
      "[NbConvertApp] Writing 167 bytes to fidget/__init__.py\n",
      "[NbConvertApp] Converting notebook fidget/attributes.ipynb to python\n",
      "[NbConvertApp] Writing 4204 bytes to fidget/attributes.py\n",
      "[NbConvertApp] Converting notebook fidget/callables.ipynb to python\n",
      "[NbConvertApp] Writing 9712 bytes to fidget/callables.py\n",
      "[NbConvertApp] Converting notebook fidget/fidgets.ipynb to python\n",
      "[NbConvertApp] Writing 3582 bytes to fidget/fidgets.py\n"
     ]
    }
   ],
   "source": [
    "%%bash \n",
    "jupyter nbconvert --to python fidget/*.ipynb"
   ]
  },
  {
   "cell_type": "code",
   "execution_count": 8,
   "metadata": {},
   "outputs": [
    {
     "name": "stdout",
     "output_type": "stream",
     "text": [
      "[NbConvertApp] Converting notebook readme.ipynb to markdown\r\n",
      "[NbConvertApp] Writing 1261 bytes to readme.md\r\n",
      "parsing fidget/__init__.py...\r\n",
      "parsing /Users/tonyfast/fidget/fidget/__init__.py...\r\n",
      "parsing /Users/tonyfast/fidget/fidget/attributes.py...\r\n",
      "parsing /Users/tonyfast/fidget/fidget/callables.py...\r\n",
      "parsing /Users/tonyfast/fidget/fidget/fidgets.py...\r\n"
     ]
    }
   ],
   "source": [
    "!jupyter nbconvert --to markdown readme.ipynb\n",
    "!pyreverse -o png fidget"
   ]
  },
  {
   "cell_type": "code",
   "execution_count": null,
   "metadata": {},
   "outputs": [],
   "source": []
  }
 ],
 "metadata": {
  "anaconda-cloud": {},
  "kernelspec": {
   "display_name": "Python 3",
   "language": "python",
   "name": "python3"
  },
  "language_info": {
   "codemirror_mode": {
    "name": "ipython",
    "version": 3
   },
   "file_extension": ".py",
   "mimetype": "text/x-python",
   "name": "python",
   "nbconvert_exporter": "python",
   "pygments_lexer": "ipython3",
   "version": "3.5.3"
  }
 },
 "nbformat": 4,
 "nbformat_minor": 2
}
