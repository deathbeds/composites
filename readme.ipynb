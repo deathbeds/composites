{
 "cells": [
  {
   "cell_type": "markdown",
   "metadata": {},
   "source": [
    "# `articles` compose functions\n",
    "\n",
    "`articles` provides a generic chainable model for function compositions.  `articles` relies on \n",
    "a large portion of the python data model to create a typographically dense interface to function \n",
    "compositions.\n",
    "\n",
    "                pip install git+https://github.com/tonyfast/articles\n",
    "                \n",
    "---\n",
    "            \n",
    "        \n",
    "\n",
    "> `articles` is inspired by the `d3js`, `pandas`, `underscorejs`, and `toolz` apis.\n",
    "\n",
    "   \n",
    "               "
   ]
  },
  {
   "cell_type": "code",
   "execution_count": 1,
   "metadata": {
    "collapsed": true
   },
   "outputs": [],
   "source": [
    "    from articles import *; assert a is an is the is λ"
   ]
  },
  {
   "cell_type": "markdown",
   "metadata": {},
   "source": [
    "## compose functions using brackets\n",
    "\n",
    "Each composition begins evaluation at the first element in the list."
   ]
  },
  {
   "cell_type": "code",
   "execution_count": 2,
   "metadata": {},
   "outputs": [
    {
     "data": {
      "text/plain": [
       "λ:[<class 'range'>, <class 'list'>]"
      ]
     },
     "execution_count": 2,
     "metadata": {},
     "output_type": "execute_result"
    }
   ],
   "source": [
    "    f = the[range][list]; f"
   ]
  },
  {
   "cell_type": "markdown",
   "metadata": {},
   "source": [
    "Brackets juxtapose iterable objects."
   ]
  },
  {
   "cell_type": "code",
   "execution_count": 3,
   "metadata": {},
   "outputs": [
    {
     "data": {
      "text/plain": [
       "(λ:[juxt((<class 'tuple'>,))[<class 'range'>, <class 'type'>]],\n",
       " λ:[juxt((<class 'list'>,))[<class 'range'>, <class 'type'>]],\n",
       " λ:[juxt((<class 'set'>,))[<class 'type'>, <class 'range'>]],\n",
       " λ:[juxt((<class 'dict'>,))[('x', <class 'range'>), ('y', <class 'type'>)]])"
      ]
     },
     "execution_count": 3,
     "metadata": {},
     "output_type": "execute_result"
    }
   ],
   "source": [
    "    the[range, type], the[[range, type]], the[{range, type}], the[{'x': range, 'y': type}]"
   ]
  },
  {
   "cell_type": "markdown",
   "metadata": {},
   "source": [
    "Each each composition is immutable."
   ]
  },
  {
   "cell_type": "code",
   "execution_count": 4,
   "metadata": {},
   "outputs": [
    {
     "data": {
      "text/plain": [
       "λ:[<class 'range'>, <class 'list'>, <built-in function len>]"
      ]
     },
     "execution_count": 4,
     "metadata": {},
     "output_type": "execute_result"
    }
   ],
   "source": [
    "    assert f[len] is f; f"
   ]
  },
  {
   "cell_type": "markdown",
   "metadata": {},
   "source": [
    "But it is easy to copy a composition."
   ]
  },
  {
   "cell_type": "code",
   "execution_count": 5,
   "metadata": {
    "collapsed": true
   },
   "outputs": [],
   "source": [
    "    g = f.copy() \n",
    "    assert g is not f and g == f and g[type] > f"
   ]
  },
  {
   "cell_type": "markdown",
   "metadata": {},
   "source": [
    "# compose functions with attributes\n",
    "\n",
    "Each composition has an extensible attribution system.  Attributes can be accessed in a shallow or verbose way."
   ]
  },
  {
   "cell_type": "code",
   "execution_count": 6,
   "metadata": {},
   "outputs": [
    {
     "data": {
      "text/plain": [
       "True"
      ]
     },
     "execution_count": 6,
     "metadata": {},
     "output_type": "execute_result"
    }
   ],
   "source": [
    "    a.range() == a.builtins.range() == a[range]"
   ]
  },
  {
   "cell_type": "code",
   "execution_count": 7,
   "metadata": {},
   "outputs": [
    {
     "name": "stdout",
     "output_type": "stream",
     "text": [
      "articles begins with 1095 attributes from the modules\n",
      "toolz, requests, builtins, json, pickle, io, collections, itertools, functools, pathlib, importlib, inspect\n"
     ]
    }
   ],
   "source": [
    "    a.dir().len()[\"\"\"articles begins with {} attributes from the modules\"\"\".format].print()(a)\n",
    "    (a//a**__import__('types').ModuleType / (lambda x: getattr(x, '__name__', \"\")) // a[bool] * \", \".join * print)(a.attributer)"
   ]
  },
  {
   "cell_type": "markdown",
   "metadata": {},
   "source": [
    "# compose functions with symbols"
   ]
  },
  {
   "cell_type": "code",
   "execution_count": 8,
   "metadata": {
    "collapsed": true
   },
   "outputs": [],
   "source": [
    "    assert a /  range == a.map(range)\n",
    "    assert a // range == a.filter(range)\n",
    "    assert a @  range == a.groupby(range)\n",
    "    assert a %  range == a.reduce(range)"
   ]
  },
  {
   "cell_type": "markdown",
   "metadata": {},
   "source": [
    "## `articles` structure\n",
    "\n",
    "![](classes_No_Name.png)"
   ]
  },
  {
   "cell_type": "markdown",
   "metadata": {},
   "source": [
    "# Development"
   ]
  },
  {
   "cell_type": "code",
   "execution_count": 9,
   "metadata": {},
   "outputs": [
    {
     "name": "stdout",
     "output_type": "stream",
     "text": [
      "[NbConvertApp] Converting notebook readme.ipynb to markdown\n",
      "[NbConvertApp] Writing 2875 bytes to readme.md\n",
      "parsing /Users/tonyfast/fidget/articles.py...\n",
      "[NbConvertApp] Converting notebook articles.ipynb to python\n",
      "[NbConvertApp] Writing 17954 bytes to articles.py\n"
     ]
    }
   ],
   "source": [
    "    !jupyter nbconvert --to markdown readme.ipynb\n",
    "    !pyreverse -o png -bmy -fALL articles\n",
    "    !jupyter nbconvert --to python --TemplateExporter.exclude_input_prompt=True articles.ipynb\n",
    "    !python -m doctest articles.py"
   ]
  }
 ],
 "metadata": {
  "anaconda-cloud": {},
  "kernelspec": {
   "display_name": "Python 3",
   "language": "python",
   "name": "python3"
  },
  "language_info": {
   "codemirror_mode": {
    "name": "ipython",
    "version": 3
   },
   "file_extension": ".py",
   "mimetype": "text/x-python",
   "name": "python",
   "nbconvert_exporter": "python",
   "pygments_lexer": "ipython3",
   "version": "3.5.3"
  }
 },
 "nbformat": 4,
 "nbformat_minor": 2
}
