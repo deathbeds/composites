{
 "cells": [
  {
   "cell_type": "markdown",
   "metadata": {},
   "source": [
    "> The readme is a work in progress."
   ]
  },
  {
   "cell_type": "markdown",
   "metadata": {},
   "source": [
    "# Be a `poser`\n",
    "\n",
    "`poser` is a fluent interface for lazy, functional python programming.\n",
    "\n",
    "        pip install poser"
   ]
  },
  {
   "cell_type": "markdown",
   "metadata": {},
   "source": [
    "# `poser` API\n",
    "\n",
    "Commonly, a `poser` expression will start with `λ`."
   ]
  },
  {
   "cell_type": "code",
   "execution_count": null,
   "metadata": {},
   "outputs": [],
   "source": [
    "    from poser import λ, a, an, the, x, composition\n",
    "    assert λ is a is an is the"
   ]
  },
  {
   "cell_type": "markdown",
   "metadata": {},
   "source": [
    "`poser` is inspired by Python functional programming library `toolz`.  `poser` provides dense API to integrate functional programming into python code.\n"
   ]
  },
  {
   "cell_type": "code",
   "execution_count": null,
   "metadata": {},
   "outputs": [],
   "source": [
    "    from toolz.curried import *; from toolz.curried.operator import *"
   ]
  },
  {
   "cell_type": "markdown",
   "metadata": {},
   "source": [
    "# Chainable methods\n",
    "\n",
    "λ composes a higher-order function that will `pipe` a set of arguments and keywords through a order list of functions."
   ]
  },
  {
   "cell_type": "code",
   "execution_count": 3,
   "metadata": {},
   "outputs": [],
   "source": [
    "    f = (\n",
    "        λ.range()\n",
    "        .map(\n",
    "            λ.mul(10))\n",
    "        .list())"
   ]
  },
  {
   "cell_type": "markdown",
   "metadata": {},
   "source": [
    "This composition is compared below with a toolz.compose, toolz.pipe, and standard lib python."
   ]
  },
  {
   "cell_type": "code",
   "execution_count": 4,
   "metadata": {},
   "outputs": [],
   "source": [
    "   assert f(10) \\\n",
    "        == compose(list, map(mul(10)), range)(10) \\\n",
    "        == pipe(10, range, map(mul(10)), list) \\\n",
    "        == list(map(mul(10), range(10)))"
   ]
  },
  {
   "cell_type": "markdown",
   "metadata": {},
   "source": [
    "## The explicit api\n",
    "\n",
    "The api above uses shortcuts to modules that a hasty programmer may prefer.  The explicit api accesses functions by their package names first."
   ]
  },
  {
   "cell_type": "code",
   "execution_count": 5,
   "metadata": {},
   "outputs": [],
   "source": [
    "    g = λ.builtins.range().map(\n",
    "        λ.operator.mul(10)\n",
    "    ).builtins.list()"
   ]
  },
  {
   "cell_type": "markdown",
   "metadata": {},
   "source": [
    "### Imports\n",
    "\n",
    "`poser` will import modules if they are not available.  For example, if `pandas` is not __import__ed then `poser` will __import __ it.\n",
    "\n",
    "    λ.pandas.DataFrame()"
   ]
  },
  {
   "cell_type": "markdown",
   "metadata": {},
   "source": [
    "# Symbollic composition"
   ]
  },
  {
   "cell_type": "code",
   "execution_count": 6,
   "metadata": {},
   "outputs": [],
   "source": [
    "    assert (λ * range / λ.mul(10) * list)(10) == f(10)"
   ]
  },
  {
   "cell_type": "code",
   "execution_count": 7,
   "metadata": {},
   "outputs": [
    {
     "name": "stdout",
     "output_type": "stream",
     "text": [
      "[NbConvertApp] Converting notebook readme.ipynb to markdown\n",
      "[NbConvertApp] Writing 2574 bytes to readme.md\n",
      "\u001b[1m============================= test session starts ==============================\u001b[0m\n",
      "platform darwin -- Python 3.6.3, pytest-3.5.0, py-1.5.3, pluggy-0.6.0\n",
      "benchmark: 3.1.1 (defaults: timer=time.perf_counter disable_gc=False min_rounds=5 min_time=0.000005 max_time=1.0 calibration_precision=10 warmup=False warmup_iterations=100000)\n",
      "rootdir: /Users/tonyfast/poser, inifile:\n",
      "plugins: cov-2.5.1, benchmark-3.1.1, hypothesis-3.56.5, importnb-0.3.1\n",
      "collected 0 items                                                              \u001b[0m\n",
      "\n",
      "\u001b[33m\u001b[1m========================= no tests ran in 0.80 seconds =========================\u001b[0m\n"
     ]
    }
   ],
   "source": [
    "    if __name__== '__main__':\n",
    "        !jupyter nbconvert --to markdown readme.ipynb\n",
    "        !source activate p6 && pytest\n",
    "        !source activate p6 && python -m doctest poser.py"
   ]
  }
 ],
 "metadata": {
  "anaconda-cloud": {},
  "kernelspec": {
   "display_name": "p6",
   "language": "python",
   "name": "other-env"
  },
  "language_info": {
   "codemirror_mode": {
    "name": "ipython",
    "version": 3
   },
   "file_extension": ".py",
   "mimetype": "text/x-python",
   "name": "python",
   "nbconvert_exporter": "python",
   "pygments_lexer": "ipython3",
   "version": "3.6.3"
  }
 },
 "nbformat": 4,
 "nbformat_minor": 2
}
