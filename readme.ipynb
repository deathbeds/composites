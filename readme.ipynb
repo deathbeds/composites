{
 "cells": [
  {
   "cell_type": "markdown",
   "metadata": {},
   "source": [
    "# Be a `poser`\n",
    "\n",
    "`composites` are untyped functional programming objects in Python _with all the side effects_.  `composites` make it easier to compose/pipeline/chain callables, classes, and other objects into higher-order functions.\n",
    "\n",
    "                pip install git+https://github.com/tonyfast/composites"
   ]
  },
  {
   "cell_type": "code",
   "execution_count": 1,
   "metadata": {
    "collapsed": true
   },
   "outputs": [],
   "source": [
    "\n",
    "%reload_ext literacy\n",
    "import composites, toolz, sys\n",
    "from toolz import *"
   ]
  },
  {
   "cell_type": "code",
   "execution_count": 2,
   "metadata": {
    "collapsed": true
   },
   "outputs": [],
   "source": [
    "    \n",
    "    ---\n",
    "    ref:\n",
    "        wiki: https://en.wikipedia.org/wiki/Functional_programming\n",
    "        model: https://docs.python.org/3/reference/datamodel.html\n",
    "        toolz: https://toolz.readthedocs.io\n",
    "        d3: https://d3js.org/\n",
    "        _: http://underscorejs.org/\n",
    "        mertz: http://www.oreilly.com/programming/free/functional-programming-python.csp\n",
    "        awesome: https://github.com/sfermigier/awesome-functional-python\n",
    "        guido: python-history.blogspot.com/2009/04/origins-of-pythons-functional-features.html\n",
    "        functional: https://docs.python.org/3/howto/functional.html\n",
    "        tools: https://docs.python.org/3/library/functional.html\n",
    "        chaining: https://tomaugspurger.github.io/method-chaining.html\n",
    "        ops: https://docs.python.org/3/reference/expressions.html#operator-precedence"
   ]
  },
  {
   "cell_type": "markdown",
   "metadata": {},
   "source": [
    "# compose functions with `a`, `an`, `the`, or `λ`"
   ]
  },
  {
   "cell_type": "code",
   "execution_count": 3,
   "metadata": {},
   "outputs": [
    {
     "data": {
      "text/markdown": [
       "    from composites import *; assert a is an is the\n",
       "\n",
       "A basic example, __enumerate__ a __range__ and create a __dict__ionary.\n",
       "\n",
       "    f = the[range][reversed][enumerate][dict]\n",
       "    f(3), f\n",
       "---"
      ],
      "text/plain": [
       "<IPython.core.display.Markdown object>"
      ]
     },
     "metadata": {},
     "output_type": "display_data"
    },
    {
     "data": {
      "text/plain": [
       "({0: 2, 1: 1, 2: 0}, <composites.Function at 0x10e0eba68>)"
      ]
     },
     "execution_count": 3,
     "metadata": {},
     "output_type": "execute_result"
    }
   ],
   "source": [
    "    from composites import *; assert a is an is the\n",
    "\n",
    "A basic example, __enumerate__ a __range__ and create a __dict__ionary.\n",
    "\n",
    "    f = the[range][reversed][enumerate][dict]\n",
    "    f(3), f\n",
    "---"
   ]
  },
  {
   "cell_type": "code",
   "execution_count": 4,
   "metadata": {},
   "outputs": [
    {
     "data": {
      "text/markdown": [
       "Each <b><code>[bracket]</code></b> may accept a __callable__ or __iterable__. In either case,\n",
       "a __callable__ is appended to the composition.  Compositions are immutable and may have\n",
       "arbitrary complexity.\n",
       "\n",
       "    g = f.copy()  # copy f from above so it remains unchanged.\n",
       "    g[type, len]\n",
       "    g[{'foo': a.do(print).len(), 'bar': the.identity()}]"
      ],
      "text/plain": [
       "<IPython.core.display.Markdown object>"
      ]
     },
     "metadata": {},
     "output_type": "display_data"
    },
    {
     "data": {
      "text/plain": [
       "<composites.Function at 0x10e0eba68>"
      ]
     },
     "execution_count": 4,
     "metadata": {},
     "output_type": "execute_result"
    }
   ],
   "source": [
    "Each <b><code>[bracket]</code></b> may accept a __callable__ or __iterable__. In either case,\n",
    "a __callable__ is appended to the composition.  Compositions are immutable and may have\n",
    "arbitrary complexity.\n",
    "\n",
    "    g = f.copy()  # copy f from above so it remains unchanged.\n",
    "    g[type, len]\n",
    "    g[{'foo': a.do(print).len(), 'bar': the.identity()}]"
   ]
  },
  {
   "cell_type": "code",
   "execution_count": 5,
   "metadata": {},
   "outputs": [
    {
     "data": {
      "text/markdown": [
       "Brackets juxtapose iterable objects.\n",
       "\n",
       "    the[range, type], the[[range, type]], the[{range, type}], the[{'x': range, 'y': type}]"
      ],
      "text/plain": [
       "<IPython.core.display.Markdown object>"
      ]
     },
     "metadata": {},
     "output_type": "display_data"
    },
    {
     "data": {
      "text/plain": [
       "(<composites.Function at 0x10e0eed68>,\n",
       " <composites.Function at 0x10e12d048>,\n",
       " <composites.Function at 0x10e12d108>,\n",
       " <composites.Function at 0x10e12d1c8>)"
      ]
     },
     "execution_count": 5,
     "metadata": {},
     "output_type": "execute_result"
    }
   ],
   "source": [
    "Brackets juxtapose iterable objects.\n",
    "\n",
    "    the[range, type], the[[range, type]], the[{range, type}], the[{'x': range, 'y': type}]"
   ]
  },
  {
   "cell_type": "code",
   "execution_count": 6,
   "metadata": {},
   "outputs": [
    {
     "data": {
      "text/markdown": [
       "Each each composition is immutable.\n",
       "\n",
       "    assert f[len] is f; f"
      ],
      "text/plain": [
       "<IPython.core.display.Markdown object>"
      ]
     },
     "metadata": {},
     "output_type": "display_data"
    },
    {
     "data": {
      "text/plain": [
       "<composites.Function at 0x10e0eba68>"
      ]
     },
     "execution_count": 6,
     "metadata": {},
     "output_type": "execute_result"
    }
   ],
   "source": [
    "Each each composition is immutable.\n",
    "\n",
    "    assert f[len] is f; f"
   ]
  },
  {
   "cell_type": "code",
   "execution_count": 7,
   "metadata": {},
   "outputs": [
    {
     "data": {
      "text/markdown": [
       "# compose functions with attributes\n",
       "\n",
       "Each composition has an extensible attribution system.  Attributes can be accessed in a shallow or verbose way.\n",
       "\n",
       "    a.range() == a.builtins.range() == a[range]"
      ],
      "text/plain": [
       "<IPython.core.display.Markdown object>"
      ]
     },
     "metadata": {},
     "output_type": "display_data"
    },
    {
     "data": {
      "text/plain": [
       "False"
      ]
     },
     "execution_count": 7,
     "metadata": {},
     "output_type": "execute_result"
    }
   ],
   "source": [
    "# compose functions with attributes\n",
    "\n",
    "Each composition has an extensible attribution system.  Attributes can be accessed in a shallow or verbose way.\n",
    "\n",
    "    a.range() == a.builtins.range() == a[range]"
   ]
  },
  {
   "cell_type": "code",
   "execution_count": 8,
   "metadata": {},
   "outputs": [
    {
     "data": {
      "text/markdown": [
       "# compose functions with symbols\n",
       "\n",
       "    assert a /  range == a.map(range)\n",
       "    assert a // range == a.filter(range)\n",
       "    assert a @  range == a.groupby(range)\n",
       "    assert a %  range == a.reduce(range)"
      ],
      "text/plain": [
       "<IPython.core.display.Markdown object>"
      ]
     },
     "metadata": {},
     "output_type": "display_data"
    }
   ],
   "source": [
    "# compose functions with symbols\n",
    "\n",
    "    assert a /  range == a.map(range)\n",
    "    assert a // range == a.filter(range)\n",
    "    assert a @  range == a.groupby(range)\n",
    "    assert a %  range == a.reduce(range)"
   ]
  },
  {
   "cell_type": "markdown",
   "metadata": {},
   "source": [
    "#### combine item getters, attributes, symbols, and other compositions to express complex ideas.\n",
    "\n",
    "    f = a['test', 5, {42}] \\\n",
    "     / (a**str&[str.upper, str.capitalize]|a**int&a.range().map(\n",
    "         a.range(2).len()\n",
    "     ).list()|a**object&type) \\\n",
    "     * list\n",
    "    f()"
   ]
  },
  {
   "cell_type": "code",
   "execution_count": 9,
   "metadata": {},
   "outputs": [
    {
     "data": {
      "text/markdown": [
       "#### use compositions recursively\n",
       "\n",
       "    f = a[:]\n",
       "    f[a**a.gt(5)*range | a**a.le(5)*a.add(1)[f]](4)"
      ],
      "text/plain": [
       "<IPython.core.display.Markdown object>"
      ]
     },
     "metadata": {},
     "output_type": "display_data"
    },
    {
     "data": {
      "text/plain": [
       "False"
      ]
     },
     "execution_count": 9,
     "metadata": {},
     "output_type": "execute_result"
    }
   ],
   "source": [
    "#### use compositions recursively\n",
    "\n",
    "    f = a[:]\n",
    "    f[a**a.gt(5)*range | a**a.le(5)*a.add(1)[f]](4)"
   ]
  },
  {
   "cell_type": "code",
   "execution_count": 10,
   "metadata": {},
   "outputs": [
    {
     "data": {
      "text/markdown": [
       "# Why functional programming with `composites`?\n",
       "\n",
       "[Functional programming](https://en.wikipedia.org/wiki/Functional_programming) _often_ generates less code, or text, to express operations on complex data structures.  A declarative, functional style of programming approach belies Python's imperative, object-oriented (OO) \n",
       "nature. Python provides key [functional programming elements](https://docs.python.org/3/library/functional.html) that are used interchangeably with OO code.  \n",
       "\n",
       "[`toolz`](https://toolz.readthedocs.io), the nucleus for `composites`, extends Python's functional programming with a set of \n",
       "un-typed, lazy, pure, and composable functions.  The functions in `toolz` look familiar \n",
       "to [__pandas.DataFrame__](https://tomaugspurger.github.io/method-chaining.html) methods, or [__underscorejs__](http://underscorejs.org/) and [__d3js__](https://d3js.org/) in Javascript.\n",
       "\n",
       "An intermediate user of [`toolz`](https://toolz.readthedocs.io) will use \n",
       "[`toolz.pipe`](https://toolz.readthedocs.ioen/latest/api.html#toolz.functoolz.pipe),\n",
       "[`toolz.juxt`](https://toolz.readthedocs.ioen/latest/api.html#toolz.functoolz.juxt), \n",
       "and [`toolz.compose`](https://toolz.readthedocs.ioen/latest/api.html#toolz.functoolz.compose) to create reusable, \n",
       "higher-order functions.  These patterns allow the programmer to express complex concepts \n",
       "with less typing/text over a longer time.  Repetitive patterns should occupy \n",
       "less screen space; `composites;` helps compose functions with less text. \n",
       "                      \n",
       "A successful implementation of __composites__ should compose __un-typed__, __lazy__, and __serializable__ Python functions that allow\n",
       "recursion."
      ],
      "text/plain": [
       "<IPython.core.display.Markdown object>"
      ]
     },
     "metadata": {},
     "output_type": "display_data"
    }
   ],
   "source": [
    "# Why functional programming with `composites`?\n",
    "\n",
    "[Functional programming]({{ref.wiki}}) _often_ generates less code, or text, to express operations on complex data structures.  A declarative, functional style of programming approach belies Python's imperative, object-oriented (OO) \n",
    "nature. Python provides key [functional programming elements]({{ref.tools}}) that are used interchangeably with OO code.  \n",
    "\n",
    "[`toolz`]({{ref.toolz}}), the nucleus for `composites`, extends Python's functional programming with a set of \n",
    "un-typed, lazy, pure, and composable functions.  The functions in `toolz` look familiar \n",
    "to [__pandas.DataFrame__]({{ref.chaining}}) methods, or [__underscorejs__]({{ref._}}) and [__d3js__]({{ref.d3}}) in Javascript.\n",
    "\n",
    "An intermediate user of [`toolz`]({{ref.toolz}}) will use \n",
    "[`toolz.pipe`]({{ref.toolz}}en/latest/api.html#toolz.functoolz.pipe),\n",
    "[`toolz.juxt`]({{ref.toolz}}en/latest/api.html#toolz.functoolz.juxt), \n",
    "and [`toolz.compose`]({{ref.toolz}}en/latest/api.html#toolz.functoolz.compose) to create reusable, \n",
    "higher-order functions.  These patterns allow the programmer to express complex concepts \n",
    "with less typing/text over a longer time.  Repetitive patterns should occupy \n",
    "less screen space; `composites;` helps compose functions with less text. \n",
    "                      \n",
    "A successful implementation of __composites__ should compose __un-typed__, __lazy__, and __serializable__ Python functions that allow\n",
    "recursion."
   ]
  },
  {
   "cell_type": "code",
   "execution_count": 11,
   "metadata": {},
   "outputs": [
    {
     "data": {
      "text/markdown": [
       "# Syntax\n",
       "\n",
       "A core property of `composites` is that it will not modify Python's abstract syntax tree, rather it expresses \n",
       "a large portion of Python's magic methods in the [data model](https://docs.python.org/3/reference/datamodel.html).  It considers Python's \n",
       "[order of operations](https://docs.python.org/3/reference/expressions.html#operator-precedence) in the api design.  `composites` provides symbolic expressions for common higher-order \n",
       "function operations like `map`, `filter`, `groupby`, and `reduce`. The attributes can access any of the `sys.modules;` with tab completion.\n",
       "\n",
       "The efficiency of computing will continue to improve.  In modern collaborative development environments \n",
       "we must consider the efficiency of the programmer. Programming is a repetitive process requiring physical work from a person. \n",
       "__composites__ speed up the creation and reading repetitive and complex tasks."
      ],
      "text/plain": [
       "<IPython.core.display.Markdown object>"
      ]
     },
     "metadata": {},
     "output_type": "display_data"
    }
   ],
   "source": [
    "# Syntax\n",
    "\n",
    "A core property of `composites` is that it will not modify Python's abstract syntax tree, rather it expresses \n",
    "a large portion of Python's magic methods in the [data model]({{ref.model}}).  It considers Python's \n",
    "[order of operations]({{ref.ops}}) in the api design.  `composites` provides symbolic expressions for common higher-order \n",
    "function operations like `map`, `filter`, `groupby`, and `reduce`. The attributes can access any of the `sys.modules;` with tab completion.\n",
    "\n",
    "The efficiency of computing will continue to improve.  In modern collaborative development environments \n",
    "we must consider the efficiency of the programmer. Programming is a repetitive process requiring physical work from a person. \n",
    "__composites__ speed up the creation and reading repetitive and complex tasks."
   ]
  },
  {
   "cell_type": "markdown",
   "metadata": {},
   "source": [
    "## `composites` structure\n",
    "\n",
    "![](classes_composites.min.png)"
   ]
  },
  {
   "cell_type": "code",
   "execution_count": 14,
   "metadata": {},
   "outputs": [
    {
     "data": {
      "text/markdown": [
       "# Development\n",
       "    if __name__== '__main__':\n",
       "        !jupyter nbconvert --to markdown --TemplateExporter.exclude_input=True readme.ipynb\n",
       "        !jupyter nbconvert --to markdown --execute composites.ipynb\n",
       "        !python -m doctest composites.py\n",
       "        !echo complete"
      ],
      "text/plain": [
       "<IPython.core.display.Markdown object>"
      ]
     },
     "metadata": {},
     "output_type": "display_data"
    },
    {
     "name": "stdout",
     "output_type": "stream",
     "text": [
      "[NbConvertApp] Converting notebook readme.ipynb to markdown\r\n",
      "[NbConvertApp] Writing 5271 bytes to readme.md\r\n",
      "[NbConvertApp] Converting notebook composites.ipynb to markdown\r\n",
      "[NbConvertApp] Executing notebook with kernel: other-env\r\n",
      "[NbConvertApp] Writing 23147 bytes to composites.md\r\n",
      "complete\r\n"
     ]
    }
   ],
   "source": [
    "# Development\n",
    "    if __name__== '__main__':\n",
    "        !jupyter nbconvert --to markdown --TemplateExporter.exclude_input=True readme.ipynb\n",
    "        !jupyter nbconvert --to markdown --execute composites.ipynb\n",
    "        !python -m doctest composites.py\n",
    "        !echo complete"
   ]
  },
  {
   "cell_type": "code",
   "execution_count": null,
   "metadata": {},
   "outputs": [],
   "source": []
  }
 ],
 "metadata": {
  "anaconda-cloud": {},
  "kernelspec": {
   "display_name": "p6",
   "language": "python",
   "name": "other-env"
  },
  "language_info": {
   "codemirror_mode": {
    "name": "ipython",
    "version": 3
   },
   "file_extension": ".py",
   "mimetype": "text/x-python",
   "name": "python",
   "nbconvert_exporter": "python",
   "pygments_lexer": "ipython3",
   "version": "3.6.3"
  }
 },
 "nbformat": 4,
 "nbformat_minor": 2
}
