{
 "cells": [
  {
   "cell_type": "markdown",
   "metadata": {},
   "source": [
    "# `determiners` compose functions\n",
    "\n",
    "`determiners` are cracked out Python lists that are `callable`. \n",
    "\n",
    "> Inspired by toolz and underscore.chain."
   ]
  },
  {
   "cell_type": "code",
   "execution_count": 1,
   "metadata": {
    "collapsed": true
   },
   "outputs": [],
   "source": [
    "    from determiners import *    \n",
    "    assert a == an == the"
   ]
  },
  {
   "cell_type": "markdown",
   "metadata": {},
   "source": [
    "## Usage\n",
    "\n",
    "### itemgetter\n",
    "\n",
    "Use the `getitem` method to append functions togethers."
   ]
  },
  {
   "cell_type": "code",
   "execution_count": 2,
   "metadata": {},
   "outputs": [
    {
     "data": {
      "text/plain": [
       "[0, 1, 2, 3, 4, 5, 6, 7, 8, 9]"
      ]
     },
     "execution_count": 2,
     "metadata": {},
     "output_type": "execute_result"
    }
   ],
   "source": [
    "    the[range][list](10)"
   ]
  },
  {
   "cell_type": "markdown",
   "metadata": {},
   "source": [
    "### attrgetter\n",
    "\n",
    "Use the `getattr` method to append `the._attributes` objects togethers."
   ]
  },
  {
   "cell_type": "code",
   "execution_count": 3,
   "metadata": {},
   "outputs": [
    {
     "data": {
      "text/plain": [
       "[0, 1, 2, 3, 4, 5, 6, 7, 8, 9]"
      ]
     },
     "execution_count": 3,
     "metadata": {},
     "output_type": "execute_result"
    }
   ],
   "source": [
    "    the.range().list()(10)"
   ]
  },
  {
   "cell_type": "markdown",
   "metadata": {},
   "source": [
    "### partial"
   ]
  },
  {
   "cell_type": "code",
   "execution_count": 4,
   "metadata": {},
   "outputs": [
    {
     "data": {
      "text/plain": [
       "([0, 1, 2, 3, 4, 5, 6, 7, 8, 9], [3, 4, 5, 6, 7, 8, 9])"
      ]
     },
     "execution_count": 4,
     "metadata": {},
     "output_type": "execute_result"
    }
   ],
   "source": [
    "    the(3).range().list()(10), the.range(3).list()(10)"
   ]
  },
  {
   "cell_type": "markdown",
   "metadata": {},
   "source": [
    "### operators\n",
    "\n",
    "`determiners` include the full python data model including incremental and right operators."
   ]
  },
  {
   "cell_type": "code",
   "execution_count": 5,
   "metadata": {},
   "outputs": [
    {
     "name": "stdout",
     "output_type": "stream",
     "text": [
      "__add__ <bound method call.__getitem__ of call>[λ>[]]>\n",
      "__sub__ <bound method call.__getitem__ of call>[λ>[]]>\n",
      "__mul__ <bound method call.__getitem__ of call>[λ>[]]>\n",
      "__truediv__ functools.partial(<bound method compose.__getattr__ of call>[λ>[]]>, <class 'map'>)\n",
      "__floordiv__ functools.partial(<bound method compose.__getattr__ of call>[λ>[]]>, <class 'filter'>)\n",
      "__matmul__ functools.partial(<bound method compose.__getattr__ of call>[λ>[]]>, <function groupby at 0x10a20fc80>)\n",
      "__mod__ functools.partial(<bound method compose.__getattr__ of call>[λ>[]]>, <built-in function reduce>)\n"
     ]
    }
   ],
   "source": [
    "    for i in ['__add__', '__sub__', '__mul__', '__truediv__', '__floordiv__', '__matmul__', '__mod__']:\n",
    "        print(i, getattr(a, i))"
   ]
  },
  {
   "cell_type": "markdown",
   "metadata": {},
   "source": [
    "### classes"
   ]
  },
  {
   "cell_type": "code",
   "execution_count": 8,
   "metadata": {},
   "outputs": [
    {
     "data": {
      "text/plain": [
       "(True, False)"
      ]
     },
     "execution_count": 8,
     "metadata": {},
     "output_type": "execute_result"
    }
   ],
   "source": [
    "    (an**(int,))(10), (an**(int,))('10')"
   ]
  },
  {
   "cell_type": "code",
   "execution_count": 9,
   "metadata": {},
   "outputs": [
    {
     "data": {
      "text/plain": [
       "'1'"
      ]
     },
     "execution_count": 9,
     "metadata": {},
     "output_type": "execute_result"
    }
   ],
   "source": [
    "(a**int*range | a**str*str.upper)(\"1\")"
   ]
  },
  {
   "cell_type": "code",
   "execution_count": 10,
   "metadata": {},
   "outputs": [
    {
     "data": {
      "text/plain": [
       "'10ASDF'"
      ]
     },
     "execution_count": 10,
     "metadata": {},
     "output_type": "execute_result"
    }
   ],
   "source": [
    "(a**int*range | a**str*str.upper)('10asdf')"
   ]
  },
  {
   "cell_type": "code",
   "execution_count": 13,
   "metadata": {},
   "outputs": [
    {
     "data": {
      "text/plain": [
       "{_frozen_importlib.ModuleSpec: 1,\n",
       " function: 10,\n",
       " abc.ABCMeta: 18,\n",
       " builtin_function_or_method: 4,\n",
       " tuple: 1,\n",
       " str: 5,\n",
       " type: 10,\n",
       " NoneType: 1,\n",
       " toolz.functoolz.curry: 3,\n",
       " _frozen_importlib_external.SourceFileLoader: 1,\n",
       " dict: 1,\n",
       " determiners.call: 4}"
      ]
     },
     "execution_count": 13,
     "metadata": {},
     "output_type": "execute_result"
    }
   ],
   "source": [
    "    from pandas import *\n",
    "\n",
    "    df = (\n",
    "        the.Path('/Users/tonyfast/gists/').rglob('*.ipynb')\n",
    "        .map(the[a.identity(), a.read_text().loads()^Exception])\n",
    "        .filter(the.second()**dict).take(10).dict()\n",
    "        .valmap(a.get('cells', default=[]) * DataFrame)\n",
    "    )[concat]()\n",
    "\n",
    "    (the * globals * dict.items @ the.second().type() * a.valmap(len))()"
   ]
  },
  {
   "cell_type": "markdown",
   "metadata": {},
   "source": [
    "## Development\n",
    "\n",
    "Convert the single Jupyter notebook to a python script."
   ]
  },
  {
   "cell_type": "markdown",
   "metadata": {},
   "source": [
    "## `determiners` structure\n",
    "\n",
    "![](classes_No_Name.png)"
   ]
  },
  {
   "cell_type": "code",
   "execution_count": null,
   "metadata": {},
   "outputs": [],
   "source": [
    "    !jupyter nbconvert --to markdown readme.ipynb\n",
    "    !pyreverse -o png -bmy -fALL determiners"
   ]
  },
  {
   "cell_type": "code",
   "execution_count": 24,
   "metadata": {},
   "outputs": [
    {
     "name": "stderr",
     "output_type": "stream",
     "text": [
      "[NbConvertApp] Converting notebook determiners.ipynb to python\n",
      "[NbConvertApp] Writing 13069 bytes to determiners.py\n"
     ]
    }
   ],
   "source": [
    "    %%bash \n",
    "    jupyter nbconvert --to python --TemplateExporter.exclude_input_prompt=True determiners.ipynb"
   ]
  },
  {
   "cell_type": "code",
   "execution_count": null,
   "metadata": {},
   "outputs": [],
   "source": []
  }
 ],
 "metadata": {
  "anaconda-cloud": {},
  "kernelspec": {
   "display_name": "Python 3",
   "language": "python",
   "name": "python3"
  },
  "language_info": {
   "codemirror_mode": {
    "name": "ipython",
    "version": 3
   },
   "file_extension": ".py",
   "mimetype": "text/x-python",
   "name": "python",
   "nbconvert_exporter": "python",
   "pygments_lexer": "ipython3",
   "version": "3.5.3"
  }
 },
 "nbformat": 4,
 "nbformat_minor": 2
}
