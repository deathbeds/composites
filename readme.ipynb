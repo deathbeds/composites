{
 "cells": [
  {
   "cell_type": "code",
   "execution_count": 6,
   "metadata": {},
   "outputs": [
    {
     "data": {
      "text/markdown": [
       "    from fidget import *\n",
       "\n",
       "    %reload_ext literacy"
      ],
      "text/plain": [
       "<IPython.core.display.Markdown object>"
      ]
     },
     "metadata": {},
     "output_type": "display_data"
    }
   ],
   "source": [
    "    from fidget import *\n",
    "\n",
    "    %reload_ext literacy"
   ]
  },
  {
   "cell_type": "code",
   "execution_count": 10,
   "metadata": {},
   "outputs": [
    {
     "data": {
      "text/markdown": [
       "    f = the.range() @ (lambda x: x//2)\n",
       "    f (10)"
      ],
      "text/plain": [
       "<IPython.core.display.Markdown object>"
      ]
     },
     "metadata": {},
     "output_type": "display_data"
    },
    {
     "data": {
      "text/plain": [
       "{0: [0, 1], 1: [2, 3], 2: [4, 5], 3: [6, 7], 4: [8, 9]}"
      ]
     },
     "execution_count": 10,
     "metadata": {},
     "output_type": "execute_result"
    }
   ],
   "source": [
    "    f = the.range() @ (lambda x: x//2)\n",
    "    f (10)"
   ]
  },
  {
   "cell_type": "code",
   "execution_count": 11,
   "metadata": {},
   "outputs": [
    {
     "data": {
      "text/markdown": [
       "    list(f)"
      ],
      "text/plain": [
       "<IPython.core.display.Markdown object>"
      ]
     },
     "metadata": {},
     "output_type": "display_data"
    },
    {
     "data": {
      "text/plain": [
       "[[functools.partial([<class 'range'>]), functools.partial([<function groupby at 0x10fc01950>], <function <lambda> at 0x110bd6f28>)]]"
      ]
     },
     "execution_count": 11,
     "metadata": {},
     "output_type": "execute_result"
    }
   ],
   "source": [
    "    list(f)"
   ]
  },
  {
   "cell_type": "code",
   "execution_count": 18,
   "metadata": {},
   "outputs": [
    {
     "data": {
      "text/markdown": [
       "    from pandas import *\n",
       "\n",
       "    df = (\n",
       "        the.Path('/Users/tonyfast/gists/')\n",
       "        .rglob('*.ipynb')\n",
       "        .map(\n",
       "            the[a.identity(), a.read_text().loads()^Exception]\n",
       "        )\n",
       "        .filter(the.second()**Exception)\n",
       "        .dict()\n",
       "        .do(a.len()[\"\"\"{} notebooks\"\"\".format].print())\n",
       "        .valmap(a.get('cells', default=[]) * DataFrame)\n",
       "    )[concat].do(a.len()[\"\"\"{} cells\"\"\".format].print())()\n",
       "\n",
       "    (the * globals * dict.items @ the.second().type() * then.valmap(len))()"
      ],
      "text/plain": [
       "<IPython.core.display.Markdown object>"
      ]
     },
     "metadata": {},
     "output_type": "display_data"
    },
    {
     "name": "stdout",
     "output_type": "stream",
     "text": [
      "289 notebooks\n",
      "3065 cells\n"
     ]
    },
    {
     "data": {
      "text/plain": [
       "{_frozen_importlib.ModuleSpec: 1,\n",
       " function: 9,\n",
       " abc.ABCMeta: 14,\n",
       " fidget.call: 5,\n",
       " builtin_function_or_method: 1,\n",
       " tuple: 1,\n",
       " toolz.functoolz.curry: 2,\n",
       " str: 6,\n",
       " type: 4,\n",
       " dict: 1,\n",
       " _frozen_importlib_external.SourceFileLoader: 1,\n",
       " NoneType: 1}"
      ]
     },
     "execution_count": 18,
     "metadata": {},
     "output_type": "execute_result"
    }
   ],
   "source": [
    "    from pandas import *\n",
    "\n",
    "    df = (\n",
    "        the.Path('/Users/tonyfast/gists/')\n",
    "        .rglob('*.ipynb')\n",
    "        .map(\n",
    "            the[a.identity(), a.read_text().loads()^Exception]\n",
    "        )\n",
    "        .filter(the.second()**Exception)\n",
    "        .dict()\n",
    "        .do(a.len()[\"\"\"{} notebooks\"\"\".format].print())\n",
    "        .valmap(a.get('cells', default=[]) * DataFrame)\n",
    "    )[concat].do(a.len()[\"\"\"{} cells\"\"\".format].print())()\n",
    "\n",
    "    (the * globals * dict.items @ the.second().type() * then.valmap(len))()"
   ]
  },
  {
   "cell_type": "code",
   "execution_count": 16,
   "metadata": {},
   "outputs": [
    {
     "data": {
      "text/markdown": [
       "    %%bash \n",
       "    jupyter nbconvert --to python --TemplateExporter.exclude_input_prompt=True fidget.ipynb"
      ],
      "text/plain": [
       "<IPython.core.display.Markdown object>"
      ]
     },
     "metadata": {},
     "output_type": "display_data"
    },
    {
     "name": "stderr",
     "output_type": "stream",
     "text": [
      "[NbConvertApp] Converting notebook fidget.ipynb to python\n",
      "[NbConvertApp] Writing 8476 bytes to fidget.py\n"
     ]
    }
   ],
   "source": [
    "    %%bash \n",
    "    jupyter nbconvert --to python --TemplateExporter.exclude_input_prompt=True fidget.ipynb"
   ]
  },
  {
   "cell_type": "code",
   "execution_count": 17,
   "metadata": {},
   "outputs": [
    {
     "data": {
      "text/markdown": [
       "    !jupyter nbconvert --to markdown readme.ipynb\n",
       "    !pyreverse -o png -bmy -fALL fidget"
      ],
      "text/plain": [
       "<IPython.core.display.Markdown object>"
      ]
     },
     "metadata": {},
     "output_type": "display_data"
    },
    {
     "name": "stdout",
     "output_type": "stream",
     "text": [
      "[NbConvertApp] Converting notebook readme.ipynb to markdown\r\n",
      "[NbConvertApp] Writing 2565 bytes to readme.md\r\n",
      "parsing /Users/tonyfast/fidget/fidget.py...\r\n"
     ]
    }
   ],
   "source": [
    "    !jupyter nbconvert --to markdown readme.ipynb\n",
    "    !pyreverse -o png -bmy -fALL fidget"
   ]
  },
  {
   "cell_type": "code",
   "execution_count": null,
   "metadata": {},
   "outputs": [],
   "source": []
  }
 ],
 "metadata": {
  "anaconda-cloud": {},
  "kernelspec": {
   "display_name": "Python 3",
   "language": "python",
   "name": "python3"
  },
  "language_info": {
   "codemirror_mode": {
    "name": "ipython",
    "version": 3
   },
   "file_extension": ".py",
   "mimetype": "text/x-python",
   "name": "python",
   "nbconvert_exporter": "python",
   "pygments_lexer": "ipython3",
   "version": "3.5.3"
  }
 },
 "nbformat": 4,
 "nbformat_minor": 2
}
