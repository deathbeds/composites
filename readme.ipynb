{
 "cells": [
  {
   "cell_type": "markdown",
   "metadata": {},
   "source": [
    "> The readme is a work in progress."
   ]
  },
  {
   "cell_type": "markdown",
   "metadata": {},
   "source": [
    "[![Build Status](https://travis-ci.org/deathbeds/poser.svg?branch=master)](https://travis-ci.org/deathbeds/poser)[![Coverage Status](https://coveralls.io/repos/github/deathbeds/poser/badge.svg?branch=master)](https://coveralls.io/github/deathbeds/poser?branch=master)[![PyPI version](https://badge.fury.io/py/poser.svg)](https://badge.fury.io/py/poser)\n",
    "\n",
    "# Be a `poser`\n",
    "\n",
    "`poser` is a fluent interface for lazy, (dis)functional python programming.\n",
    "\n",
    "        pip install poser\n",
    "        \n",
    "> _disfunctional programming_ === Functional programming with all the side effects."
   ]
  },
  {
   "cell_type": "markdown",
   "metadata": {},
   "source": [
    "# `poser` API"
   ]
  },
  {
   "cell_type": "code",
   "execution_count": 7,
   "metadata": {},
   "outputs": [],
   "source": [
    "    from poser import λ, Composition, Λ, watch\n",
    "    from toolz.curried import *; from toolz.curried.operator import *"
   ]
  },
  {
   "cell_type": "markdown",
   "metadata": {},
   "source": [
    "# Chainable function compositions\n",
    "\n",
    "λ composes a higher-order function that will `pipe` a set of arguments and keywords through an ordered list of functions."
   ]
  },
  {
   "cell_type": "code",
   "execution_count": 8,
   "metadata": {},
   "outputs": [],
   "source": [
    "    f = (\n",
    "        λ.range()\n",
    "        .map(\n",
    "            λ.mul(10))\n",
    "        .list())"
   ]
  },
  {
   "cell_type": "markdown",
   "metadata": {},
   "source": [
    "This composition is compared below with a toolz.compose, toolz.pipe, and standard lib python."
   ]
  },
  {
   "cell_type": "code",
   "execution_count": 9,
   "metadata": {},
   "outputs": [],
   "source": [
    "   assert f(10) \\\n",
    "        == compose(list, map(mul(10)), range)(10) \\\n",
    "        == pipe(10, range, map(mul(10)), list) \\\n",
    "        == list(map(mul(10), range(10)))"
   ]
  },
  {
   "cell_type": "markdown",
   "metadata": {},
   "source": [
    "## The explicit api\n",
    "\n",
    "The api above uses shortcuts to modules that a hasty programmer may prefer.  The explicit api accesses functions by their package names first."
   ]
  },
  {
   "cell_type": "code",
   "execution_count": 10,
   "metadata": {},
   "outputs": [],
   "source": [
    "    g = λ.builtins.range().map(\n",
    "        λ.operator.mul(10)\n",
    "    ).builtins.list()"
   ]
  },
  {
   "cell_type": "markdown",
   "metadata": {},
   "source": [
    "### Imports\n",
    "\n",
    "`poser` will import modules if they are not available.  For example, if `pandas` is not __import__ed then `poser` will __import __ it.\n",
    "\n",
    "    λ.pandas.DataFrame()"
   ]
  },
  {
   "cell_type": "markdown",
   "metadata": {},
   "source": [
    "# Symbollic composition"
   ]
  },
  {
   "cell_type": "code",
   "execution_count": 26,
   "metadata": {},
   "outputs": [],
   "source": [
    "    assert (λ[range] * λ.mul(10) + list)(10) == f(10)"
   ]
  },
  {
   "cell_type": "code",
   "execution_count": 31,
   "metadata": {},
   "outputs": [
    {
     "name": "stdout",
     "output_type": "stream",
     "text": [
      "[NbConvertApp] Converting notebook readme.ipynb to markdown\n",
      "[NbConvertApp] Writing 2733 bytes to readme.md\n",
      "[NbConvertApp] Converting notebook poser.ipynb to python\n",
      "[NbConvertApp] Writing 14972 bytes to poser.py\n",
      "\u001b[1mreformatted poser.py\u001b[0m\n",
      "\u001b[1mAll done! ✨ 🍰 ✨\u001b[0m\n",
      "\u001b[1m1 file reformatted\u001b[0m.\u001b[0m\n",
      "Fixing /Users/tonyfast/poser/poser.py\n",
      "\u001b]0;IPython: tonyfast/poser\u0007TestResults(failed=0, attempted=69)\n",
      "Name       Stmts   Miss Branch BrPart  Cover\n",
      "--------------------------------------------\n",
      "poser.py     196      0     69      0   100%\n",
      "parsing /Users/tonyfast/poser/poser.py...\n",
      "\u001b]0;IPython: tonyfast/poser\u0007<IPython.core.display.SVG object>\n",
      "parsing /Users/tonyfast/poser/poser.py...\n",
      "<IPython.core.display.SVG object>\n"
     ]
    }
   ],
   "source": [
    "    if __name__== '__main__':\n",
    "        !jupyter nbconvert --to markdown readme.ipynb\n",
    "        !ipython -m poser"
   ]
  },
  {
   "cell_type": "code",
   "execution_count": null,
   "metadata": {},
   "outputs": [],
   "source": []
  }
 ],
 "metadata": {
  "anaconda-cloud": {},
  "kernelspec": {
   "display_name": "p6",
   "language": "python",
   "name": "other-env"
  },
  "language_info": {
   "codemirror_mode": {
    "name": "ipython",
    "version": 3
   },
   "file_extension": ".py",
   "mimetype": "text/x-python",
   "name": "python",
   "nbconvert_exporter": "python",
   "pygments_lexer": "ipython3",
   "version": "3.6.8"
  }
 },
 "nbformat": 4,
 "nbformat_minor": 2
}
