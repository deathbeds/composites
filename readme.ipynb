{
 "cells": [
  {
   "cell_type": "markdown",
   "metadata": {},
   "source": [
    "# `articles` create composable functions\n"
   ]
  },
  {
   "cell_type": "code",
   "execution_count": 2,
   "metadata": {},
   "outputs": [],
   "source": [
    "    from articles import *    \n",
    "    assert a == an == the"
   ]
  },
  {
   "cell_type": "markdown",
   "metadata": {},
   "source": [
    "## Usage"
   ]
  },
  {
   "cell_type": "code",
   "execution_count": 3,
   "metadata": {},
   "outputs": [
    {
     "data": {
      "text/plain": [
       "{0: [0, 1], 1: [2, 3], 2: [4, 5], 3: [6, 7], 4: [8, 9]}"
      ]
     },
     "execution_count": 3,
     "metadata": {},
     "output_type": "execute_result"
    }
   ],
   "source": [
    "    f = the.range() @ (lambda x: x//2)\n",
    "    f (10)"
   ]
  },
  {
   "cell_type": "code",
   "execution_count": 7,
   "metadata": {},
   "outputs": [
    {
     "name": "stdout",
     "output_type": "stream",
     "text": [
      "289 notebooks\n",
      "3065 cells\n"
     ]
    },
    {
     "data": {
      "text/plain": [
       "{_frozen_importlib.ModuleSpec: 1,\n",
       " function: 9,\n",
       " abc.ABCMeta: 16,\n",
       " toolz.functoolz.curry: 2,\n",
       " builtin_function_or_method: 1,\n",
       " articles.call: 5,\n",
       " str: 6,\n",
       " type: 4,\n",
       " dict: 1,\n",
       " _frozen_importlib_external.SourceFileLoader: 1,\n",
       " NoneType: 1,\n",
       " tuple: 1}"
      ]
     },
     "execution_count": 7,
     "metadata": {},
     "output_type": "execute_result"
    }
   ],
   "source": [
    "    from pandas import *\n",
    "\n",
    "    df = (\n",
    "        the.Path('/Users/tonyfast/gists/').rglob('*.ipynb')\n",
    "        .map(the[a.identity(), a.read_text().loads()^Exception])\n",
    "        .filter(the.second()**Exception).dict()\n",
    "        .do(a.len()[\"\"\"{} notebooks\"\"\".format].print())\n",
    "        .valmap(a.get('cells', default=[]) * DataFrame)\n",
    "    )[concat].do(a.len()[\"\"\"{} cells\"\"\".format].print())()\n",
    "\n",
    "    (the * globals * dict.items @ the.second().type() * then.valmap(len))()"
   ]
  },
  {
   "cell_type": "markdown",
   "metadata": {},
   "source": [
    "## Development\n",
    "\n",
    "Convert the single Jupyter notebook to a python script."
   ]
  },
  {
   "cell_type": "code",
   "execution_count": 8,
   "metadata": {},
   "outputs": [
    {
     "name": "stderr",
     "output_type": "stream",
     "text": [
      "[NbConvertApp] Converting notebook articles.ipynb to python\n",
      "[NbConvertApp] Writing 8736 bytes to articles.py\n"
     ]
    }
   ],
   "source": [
    "    %%bash \n",
    "    jupyter nbconvert --to python --TemplateExporter.exclude_input_prompt=True articles.ipynb"
   ]
  },
  {
   "cell_type": "markdown",
   "metadata": {},
   "source": [
    "## `articles` structure\n",
    "\n",
    "![](classes_No_Name.png)"
   ]
  },
  {
   "cell_type": "code",
   "execution_count": 11,
   "metadata": {},
   "outputs": [
    {
     "name": "stdout",
     "output_type": "stream",
     "text": [
      "[NbConvertApp] Converting notebook readme.ipynb to markdown\r\n",
      "[NbConvertApp] Writing 1709 bytes to readme.md\r\n",
      "parsing /Users/tonyfast/fidget/articles.py...\r\n"
     ]
    }
   ],
   "source": [
    "    !jupyter nbconvert --to markdown readme.ipynb\n",
    "    !pyreverse -o png -bmy -fALL articles"
   ]
  },
  {
   "cell_type": "code",
   "execution_count": null,
   "metadata": {},
   "outputs": [],
   "source": []
  }
 ],
 "metadata": {
  "anaconda-cloud": {},
  "kernelspec": {
   "display_name": "Python 3",
   "language": "python",
   "name": "python3"
  },
  "language_info": {
   "codemirror_mode": {
    "name": "ipython",
    "version": 3
   },
   "file_extension": ".py",
   "mimetype": "text/x-python",
   "name": "python",
   "nbconvert_exporter": "python",
   "pygments_lexer": "ipython3",
   "version": "3.5.3"
  }
 },
 "nbformat": 4,
 "nbformat_minor": 2
}
