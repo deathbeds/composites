{
 "cells": [
  {
   "cell_type": "markdown",
   "metadata": {},
   "source": [
    "# `determiners` compose functions\n",
    "\n",
    "`determiners` are cracked out Python lists that are `callable`. \n",
    "\n",
    "> Inspired by toolz and underscore.chain."
   ]
  },
  {
   "cell_type": "code",
   "execution_count": 1,
   "metadata": {},
   "outputs": [],
   "source": [
    "    from determiners import *    \n",
    "    assert a == an == the"
   ]
  },
  {
   "cell_type": "markdown",
   "metadata": {},
   "source": [
    "## Usage\n",
    "\n",
    "### itemgetter\n",
    "\n",
    "Use the `getitem` method to append functions togethers."
   ]
  },
  {
   "cell_type": "code",
   "execution_count": 2,
   "metadata": {},
   "outputs": [
    {
     "data": {
      "text/plain": [
       "[0, 1, 2, 3, 4, 5, 6, 7, 8, 9]"
      ]
     },
     "execution_count": 2,
     "metadata": {},
     "output_type": "execute_result"
    }
   ],
   "source": [
    "    the[range][list](10)"
   ]
  },
  {
   "cell_type": "markdown",
   "metadata": {},
   "source": [
    "### attrgetter\n",
    "\n",
    "Use the `getattr` method to append `the._attributes` objects togethers."
   ]
  },
  {
   "cell_type": "code",
   "execution_count": 3,
   "metadata": {},
   "outputs": [
    {
     "data": {
      "text/plain": [
       "[0, 1, 2, 3, 4, 5, 6, 7, 8, 9]"
      ]
     },
     "execution_count": 3,
     "metadata": {},
     "output_type": "execute_result"
    }
   ],
   "source": [
    "    the.range().list()(10)"
   ]
  },
  {
   "cell_type": "markdown",
   "metadata": {},
   "source": [
    "### partial"
   ]
  },
  {
   "cell_type": "code",
   "execution_count": 4,
   "metadata": {},
   "outputs": [
    {
     "data": {
      "text/plain": [
       "([0, 1, 2, 3, 4, 5, 6, 7, 8, 9], [3, 4, 5, 6, 7, 8, 9])"
      ]
     },
     "execution_count": 4,
     "metadata": {},
     "output_type": "execute_result"
    }
   ],
   "source": [
    "    the(3).range().list()(10), the.range(3).list()(10)"
   ]
  },
  {
   "cell_type": "markdown",
   "metadata": {},
   "source": [
    "### operators\n",
    "\n",
    "`determiners` include the full python data model including incremental and right operators."
   ]
  },
  {
   "cell_type": "code",
   "execution_count": 5,
   "metadata": {},
   "outputs": [
    {
     "name": "stdout",
     "output_type": "stream",
     "text": [
      "__add__ <bound method factory.__getitem__ of factory>[λ>[]]>\n",
      "__sub__ <bound method factory.__getitem__ of factory>[λ>[]]>\n",
      "__mul__ <bound method factory.__getitem__ of factory>[λ>[]]>\n",
      "__truediv__ functools.partial(<bound method op_attr of factory>[λ>[]]>, '__truediv__')\n",
      "__floordiv__ functools.partial(<bound method op_attr of factory>[λ>[]]>, '__floordiv__')\n",
      "__matmul__ functools.partial(<bound method op_attr of factory>[λ>[]]>, '__matmul__')\n",
      "__mod__ functools.partial(<bound method op_attr of factory>[λ>[]]>, '__mod__')\n"
     ]
    }
   ],
   "source": [
    "    for i in ['__add__', '__sub__', '__mul__', '__truediv__', '__floordiv__', '__matmul__', '__mod__']:\n",
    "        print(i, getattr(a, i))"
   ]
  },
  {
   "cell_type": "markdown",
   "metadata": {},
   "source": [
    "### classes"
   ]
  },
  {
   "cell_type": "code",
   "execution_count": 6,
   "metadata": {},
   "outputs": [
    {
     "data": {
      "text/plain": [
       "(range(0, 10), 'ABC', False)"
      ]
     },
     "execution_count": 6,
     "metadata": {},
     "output_type": "execute_result"
    }
   ],
   "source": [
    "    f = a**int*range | a**str*str.upper\n",
    "    f(10), f('abc'), f(10.)"
   ]
  },
  {
   "cell_type": "code",
   "execution_count": 7,
   "metadata": {},
   "outputs": [
    {
     "data": {
      "text/plain": [
       "{_frozen_importlib.ModuleSpec: 1,\n",
       " function: 9,\n",
       " determiners.factory: 4,\n",
       " builtin_function_or_method: 4,\n",
       " tuple: 1,\n",
       " abc.ABCMeta: 19,\n",
       " str: 5,\n",
       " type: 10,\n",
       " toolz.functoolz.curry: 2,\n",
       " dict: 1,\n",
       " _frozen_importlib_external.SourceFileLoader: 1,\n",
       " NoneType: 1}"
      ]
     },
     "execution_count": 7,
     "metadata": {},
     "output_type": "execute_result"
    }
   ],
   "source": [
    "    from pandas import *\n",
    "\n",
    "    df = (\n",
    "        the.Path('/Users/tonyfast/gists/').rglob('*.ipynb')\n",
    "        .map(the[a.identity(), a.read_text().loads()^Exception])\n",
    "        .filter(the.second()).take(10).dict()\n",
    "        .valmap(a.get('cells', default=[]) * DataFrame)\n",
    "    )[concat]()\n",
    "\n",
    "    (the * globals * dict.items @ the.second().type() * a.valmap(len))()"
   ]
  },
  {
   "cell_type": "markdown",
   "metadata": {},
   "source": [
    "## Development\n",
    "\n",
    "Convert the single Jupyter notebook to a python script."
   ]
  },
  {
   "cell_type": "markdown",
   "metadata": {},
   "source": [
    "## `determiners` structure\n",
    "\n",
    "![](classes_No_Name.png)"
   ]
  },
  {
   "cell_type": "code",
   "execution_count": 8,
   "metadata": {},
   "outputs": [
    {
     "name": "stderr",
     "output_type": "stream",
     "text": [
      "[NbConvertApp] Converting notebook determiners.ipynb to python\n",
      "[NbConvertApp] Writing 12644 bytes to determiners.py\n"
     ]
    }
   ],
   "source": [
    "    %%bash \n",
    "    jupyter nbconvert --to python --TemplateExporter.exclude_input_prompt=True determiners.ipynb"
   ]
  },
  {
   "cell_type": "code",
   "execution_count": 9,
   "metadata": {},
   "outputs": [
    {
     "name": "stdout",
     "output_type": "stream",
     "text": [
      "[NbConvertApp] Converting notebook readme.ipynb to markdown\n",
      "[NbConvertApp] Writing 2992 bytes to readme.md\n",
      "parsing /Users/tonyfast/fidget/determiners.py...\n"
     ]
    }
   ],
   "source": [
    "    !jupyter nbconvert --to markdown readme.ipynb\n",
    "    !pyreverse -o png -bmy -fALL determiners"
   ]
  }
 ],
 "metadata": {
  "anaconda-cloud": {},
  "kernelspec": {
   "display_name": "Python 3",
   "language": "python",
   "name": "python3"
  },
  "language_info": {
   "codemirror_mode": {
    "name": "ipython",
    "version": 3
   },
   "file_extension": ".py",
   "mimetype": "text/x-python",
   "name": "python",
   "nbconvert_exporter": "python",
   "pygments_lexer": "ipython3",
   "version": "3.5.3"
  }
 },
 "nbformat": 4,
 "nbformat_minor": 2
}
