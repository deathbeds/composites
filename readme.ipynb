{
 "cells": [
  {
   "cell_type": "markdown",
   "metadata": {},
   "source": [
    "# `fidget` - A literate syntax for functional programming\n",
    "\n",
    "`fidget` provides symbollic & pythonic to composing functions.  It uses Python data model * [operator precedence](https://docs.python.org/3/reference/expressions.html#operator-precedence) to quickly prototype literate code, _no `AST` was harmed in the making of `fidget`_. Markdown is our primary styleguide for monospaced type.  With `fidget`, Markdown styled lists can also execute code, even executing a `fidget` resembles a link `__x__ [requests.get](url)` - __x__ [requests.get](url)."
   ]
  },
  {
   "cell_type": "code",
   "execution_count": 17,
   "metadata": {
    "collapsed": false
   },
   "outputs": [
    {
     "data": {
      "text/plain": [
       "[100, 4950, (50, 0)]"
      ]
     },
     "execution_count": 17,
     "metadata": {},
     "output_type": "execute_result"
    }
   ],
   "source": [
    "from fidget import _x as __x__\n",
    "\n",
    "(__x__\n",
    " * range\n",
    " * [len, sum, \n",
    "    __x__\n",
    "    .filter(__x__.mod(2))\n",
    "    [__x__.count(), sum]\n",
    "   ]\n",
    ")(100)"
   ]
  },
  {
   "cell_type": "markdown",
   "metadata": {},
   "source": [
    "`fidget` includes _most_ of the Python model attributes to provide a flexible symbollic syntax \n",
    "to compose functions.  It is also loaded with function programming attributes from `toolz` and `operator` including:"
   ]
  },
  {
   "cell_type": "code",
   "execution_count": 47,
   "metadata": {
    "collapsed": false
   },
   "outputs": [
    {
     "data": {
      "text/plain": [
       "\"['dissoc', 'get_in', 'iand', 'irshift', 'matmul', 'merge_sorted', 'mod', 'partial', 'random_sample', 'reduceby', 'sliding_window']\""
      ]
     },
     "execution_count": 47,
     "metadata": {},
     "output_type": "execute_result"
    }
   ],
   "source": [
    "__x__[dir].filter(-__x__.first().eq('_')).random_sample(.1)[list][str](__x__)"
   ]
  },
  {
   "cell_type": "code",
   "execution_count": 53,
   "metadata": {
    "collapsed": false
   },
   "outputs": [
    {
     "name": "stdout",
     "output_type": "stream",
     "text": [
      "<class 'str'>\n"
     ]
    },
    {
     "data": {
      "text/plain": [
       "420"
      ]
     },
     "execution_count": 53,
     "metadata": {},
     "output_type": "execute_result"
    }
   ],
   "source": [
    "_x(10) >> (_x << str >> type >> print) >> __x__.mul(42) >> call()"
   ]
  },
  {
   "cell_type": "markdown",
   "metadata": {},
   "source": [
    "## [Examples](https://github.com/tonyfast/fidget/blob/master/test/data_model.ipynb)"
   ]
  },
  {
   "cell_type": "markdown",
   "metadata": {},
   "source": [
    "---\n",
    "\n",
    "## More\n",
    "\n",
    "`toolz` provides a python 2 and 3 compatible interface to functional programmming in pure Python.  `fidget` objects can be pickled and used in parallel computing tasks like `joblib`, `luigi`, or `dask`.  \n",
    "\n",
    "The `fidget` namespace is design for a \"programming as UI\" experience.  In the minimal namespace, function methods and type can be modified with a single text character.  \n",
    "\n",
    "\n",
    "Other notes:\n",
    "\n",
    "* lazy\n",
    "* Everything is a function\n",
    "* Functions are immutable, Arguments and Keywords are Muttable\n",
    "\n",
    "More later:\n",
    "* interactive type checking\n",
    "* extensions"
   ]
  },
  {
   "cell_type": "code",
   "execution_count": 64,
   "metadata": {
    "collapsed": false
   },
   "outputs": [
    {
     "name": "stderr",
     "output_type": "stream",
     "text": [
      "[NbConvertApp] Converting notebook fidget.ipynb to custom\n",
      "[NbConvertApp] Writing 14881 bytes to fidget.py\n"
     ]
    }
   ],
   "source": [
    "%%bash \n",
    "jupyter nbconvert --to custom --Exporter.file_extension .py --TemplateExporter.template_file docify.tpl fidget.ipynb\n",
    "yapf -i fidget.py"
   ]
  },
  {
   "cell_type": "code",
   "execution_count": 65,
   "metadata": {
    "collapsed": false
   },
   "outputs": [
    {
     "name": "stdout",
     "output_type": "stream",
     "text": [
      "<class 'NoneType'>\n",
      "<class 'range'>\n",
      "<class 'range'>\n",
      "<class 'NoneType'>\n",
      "<class 'str'>\n",
      "<IPython.core.display.Markdown object>\n",
      "<IPython.core.display.Markdown object>\n",
      "attributes for [<class 'fidget.Juxtaposition'>]\n",
      "<IPython.core.display.HTML object>\n",
      "attributes for [<class 'fidget.Composition'>]\n",
      "<IPython.core.display.HTML object>\n",
      "<IPython.core.display.Markdown object>\n",
      "<IPython.core.display.Markdown object>\n",
      "<IPython.core.display.Markdown object>\n",
      "<IPython.core.display.Markdown object>\n",
      "<IPython.core.display.Markdown object>\n",
      "<IPython.core.display.Markdown object>\n",
      "[10, 45]\n",
      "<IPython.core.display.Markdown object>\n",
      "<IPython.core.display.Markdown object>\n",
      "<IPython.core.display.Markdown object>\n",
      "<IPython.core.display.Markdown object>\n",
      "[10, 45, '0.001268148422241211 sec']\n",
      "Name                               Stmts   Miss  Cover\n",
      "------------------------------------------------------\n",
      "/Users/tonyfast/fidget/fidget.py     241      8    97%\n",
      "data_model.py                         69      0   100%\n",
      "testing.py                            86      0   100%\n",
      "------------------------------------------------------\n",
      "TOTAL                                396      8    98%\n"
     ]
    }
   ],
   "source": [
    "%%bash\n",
    "cd test\n",
    "coverage erase\n",
    "coverage run -a testing.py\n",
    "coverage run -a data_model.py\n",
    "coverage report"
   ]
  },
  {
   "cell_type": "code",
   "execution_count": null,
   "metadata": {
    "collapsed": false
   },
   "outputs": [],
   "source": [
    "%%bash \n",
    "jupyter nbconvert --to markdown readme.ipynb"
   ]
  },
  {
   "cell_type": "code",
   "execution_count": null,
   "metadata": {
    "collapsed": true
   },
   "outputs": [],
   "source": []
  }
 ],
 "metadata": {
  "anaconda-cloud": {},
  "kernelspec": {
   "display_name": "Python [default]",
   "language": "python",
   "name": "python3"
  },
  "language_info": {
   "codemirror_mode": {
    "name": "ipython",
    "version": 3
   },
   "file_extension": ".py",
   "mimetype": "text/x-python",
   "name": "python",
   "nbconvert_exporter": "python",
   "pygments_lexer": "ipython3",
   "version": "3.5.2"
  }
 },
 "nbformat": 4,
 "nbformat_minor": 1
}
