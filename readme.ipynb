{
 "cells": [
  {
   "cell_type": "code",
   "execution_count": 7,
   "metadata": {},
   "outputs": [
    {
     "data": {
      "text/markdown": [
       "    from fidget import *\n",
       "\n",
       "    %reload_ext literacy"
      ],
      "text/plain": [
       "<IPython.core.display.Markdown object>"
      ]
     },
     "metadata": {},
     "output_type": "display_data"
    }
   ],
   "source": [
    "    from fidget import *\n",
    "\n",
    "    %reload_ext literacy"
   ]
  },
  {
   "cell_type": "code",
   "execution_count": 8,
   "metadata": {},
   "outputs": [
    {
     "data": {
      "text/markdown": [
       "    f = a.range(3) @ a.floordiv(3)\n",
       "    f (10)"
      ],
      "text/plain": [
       "<IPython.core.display.Markdown object>"
      ]
     },
     "metadata": {},
     "output_type": "display_data"
    },
    {
     "data": {
      "text/plain": [
       "{1: [3, 4, 5], 2: [6, 7, 8], 3: [9]}"
      ]
     },
     "execution_count": 8,
     "metadata": {},
     "output_type": "execute_result"
    }
   ],
   "source": [
    "    f = a.range(3) @ a.floordiv(3)\n",
    "    f (10)"
   ]
  },
  {
   "cell_type": "code",
   "execution_count": 9,
   "metadata": {},
   "outputs": [
    {
     "data": {
      "text/markdown": [
       "    f(10)"
      ],
      "text/plain": [
       "<IPython.core.display.Markdown object>"
      ]
     },
     "metadata": {},
     "output_type": "display_data"
    },
    {
     "data": {
      "text/plain": [
       "{1: [3, 4, 5], 2: [6, 7, 8], 3: [9]}"
      ]
     },
     "execution_count": 9,
     "metadata": {},
     "output_type": "execute_result"
    }
   ],
   "source": [
    "    "
   ]
  },
  {
   "cell_type": "code",
   "execution_count": 13,
   "metadata": {},
   "outputs": [
    {
     "data": {
      "text/markdown": [
       "    %%bash \n",
       "    jupyter nbconvert --to python fidget/*.ipynb"
      ],
      "text/plain": [
       "<IPython.core.display.Markdown object>"
      ]
     },
     "metadata": {},
     "output_type": "display_data"
    },
    {
     "name": "stderr",
     "output_type": "stream",
     "text": [
      "[NbConvertApp] Converting notebook fidget/__init__.ipynb to python\n",
      "[NbConvertApp] Writing 161 bytes to fidget/__init__.py\n",
      "[NbConvertApp] Converting notebook fidget/composites.ipynb to python\n",
      "[NbConvertApp] Writing 5133 bytes to fidget/composites.py\n",
      "[NbConvertApp] Converting notebook fidget/fidgets.ipynb to python\n",
      "[NbConvertApp] Writing 7042 bytes to fidget/fidgets.py\n",
      "[NbConvertApp] Converting notebook fidget/functions.ipynb to python\n",
      "[NbConvertApp] Writing 5821 bytes to fidget/functions.py\n",
      "[NbConvertApp] Converting notebook fidget/stacks.ipynb to python\n",
      "[NbConvertApp] Writing 2121 bytes to fidget/stacks.py\n"
     ]
    }
   ],
   "source": [
    "    %%bash \n",
    "    jupyter nbconvert --to python fidget/*.ipynb"
   ]
  },
  {
   "cell_type": "code",
   "execution_count": 21,
   "metadata": {},
   "outputs": [
    {
     "data": {
      "text/markdown": [
       "    !jupyter nbconvert --to markdown readme.ipynb\n",
       "    !pyreverse -o png fidget"
      ],
      "text/plain": [
       "<IPython.core.display.Markdown object>"
      ]
     },
     "metadata": {},
     "output_type": "display_data"
    },
    {
     "name": "stdout",
     "output_type": "stream",
     "text": [
      "[NbConvertApp] Converting notebook readme.ipynb to markdown\r\n",
      "[NbConvertApp] Writing 1023 bytes to readme.md\r\n",
      "parsing fidget/__init__.py...\r\n",
      "parsing /Users/tonyfast/fidget/fidget/__init__.py...\r\n",
      "parsing /Users/tonyfast/fidget/fidget/callables.py...\r\n",
      "parsing /Users/tonyfast/fidget/fidget/fidgets.py...\r\n"
     ]
    }
   ],
   "source": [
    "    !jupyter nbconvert --to markdown readme.ipynb\n",
    "    !pyreverse -o png fidget"
   ]
  },
  {
   "cell_type": "code",
   "execution_count": null,
   "metadata": {},
   "outputs": [],
   "source": []
  }
 ],
 "metadata": {
  "anaconda-cloud": {},
  "kernelspec": {
   "display_name": "Python 3",
   "language": "python",
   "name": "python3"
  },
  "language_info": {
   "codemirror_mode": {
    "name": "ipython",
    "version": 3
   },
   "file_extension": ".py",
   "mimetype": "text/x-python",
   "name": "python",
   "nbconvert_exporter": "python",
   "pygments_lexer": "ipython3",
   "version": "3.5.3"
  }
 },
 "nbformat": 4,
 "nbformat_minor": 2
}
