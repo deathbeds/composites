{
 "cells": [
  {
   "cell_type": "code",
   "execution_count": 1,
   "metadata": {
    "collapsed": true
   },
   "outputs": [],
   "source": [
    "from toolz.curried import *\n",
    "from determiners import *\n",
    "from determiners import partial, factory"
   ]
  },
  {
   "cell_type": "markdown",
   "metadata": {},
   "source": [
    "# Composite Functions"
   ]
  },
  {
   "cell_type": "code",
   "execution_count": 2,
   "metadata": {
    "collapsed": true
   },
   "outputs": [],
   "source": [
    "assert not a and isinstance(a, factory)\n",
    "f = a[:]\n",
    "assert not f and isinstance(a, composite)\n",
    "assert len(f) is 1 and len(f[0]) is 0"
   ]
  },
  {
   "cell_type": "code",
   "execution_count": 3,
   "metadata": {
    "collapsed": true
   },
   "outputs": [],
   "source": [
    "x = 'anything'\n",
    "assert f(x) is x and a[:](x) is x and a(x) != a[:](x)\n",
    "\n",
    "assert(compose([partial(range, 10)]) \n",
    "       == compose(concat(a(10)[range].data))\n",
    "       == compose(concat(a.range(10))).data)"
   ]
  },
  {
   "cell_type": "markdown",
   "metadata": {},
   "source": [
    "## Composite Operations"
   ]
  },
  {
   "cell_type": "code",
   "execution_count": 4,
   "metadata": {
    "collapsed": true
   },
   "outputs": [],
   "source": [
    "assert (a[callable] \n",
    "        == a.callable() \n",
    "        == a +  callable\n",
    "        == a -  callable\n",
    "        == a >> callable\n",
    "        == a *  callable)"
   ]
  },
  {
   "cell_type": "code",
   "execution_count": 5,
   "metadata": {},
   "outputs": [
    {
     "data": {
      "text/plain": [
       "composite>[ifthen><class 'type'>:[<built-in function callable>]]"
      ]
     },
     "execution_count": 5,
     "metadata": {},
     "output_type": "execute_result"
    }
   ],
   "source": [
    "a.ifthen(type)[callable]"
   ]
  },
  {
   "cell_type": "code",
   "execution_count": 6,
   "metadata": {},
   "outputs": [
    {
     "data": {
      "text/plain": [
       "composite>[ifthen>λ>[<class 'type'>]:[<built-in function callable>]]"
      ]
     },
     "execution_count": 6,
     "metadata": {},
     "output_type": "execute_result"
    }
   ],
   "source": [
    "a[type] &  callable"
   ]
  },
  {
   "cell_type": "code",
   "execution_count": 7,
   "metadata": {},
   "outputs": [],
   "source": [
    "assert a.groupby(callable)          == a @  callable\n",
    "assert a.map(callable)              == a /  callable\n",
    "assert a.filter(callable)           == a // callable\n",
    "assert a.ifthen(type)[callable]     == a[type] &  callable\n",
    "assert a.ifnot(type)[callable]      == a[type] |  callable\n",
    "assert a.instance(type)[callable]   == a ** type * callable\n",
    "assert a.do(callable)               == a << callable\n",
    "assert a.excepts(Exception)[type]   == a[type]^Exception"
   ]
  },
  {
   "cell_type": "markdown",
   "metadata": {},
   "source": [
    "## Examples"
   ]
  },
  {
   "cell_type": "code",
   "execution_count": 8,
   "metadata": {
    "collapsed": true
   },
   "outputs": [],
   "source": [
    "f = a**int*range\n",
    "assert f(10) == range(10)\n",
    "assert not f('abc')\n",
    "assert not f(10.)"
   ]
  },
  {
   "cell_type": "code",
   "execution_count": 9,
   "metadata": {
    "collapsed": true
   },
   "outputs": [],
   "source": [
    "f = a*str.upper^Exception\n",
    "assert f('abc') == 'ABC'\n",
    "assert not f(10)"
   ]
  },
  {
   "cell_type": "code",
   "execution_count": 10,
   "metadata": {
    "collapsed": true
   },
   "outputs": [],
   "source": [
    "f = a**int*range | a**str*str.upper\n",
    "assert f(10) == range(10)\n",
    "assert f('abc') == 'ABC'"
   ]
  },
  {
   "cell_type": "code",
   "execution_count": 11,
   "metadata": {
    "collapsed": true
   },
   "outputs": [],
   "source": [
    "f = (a * str.upper ^ Exception) | a**int*range\n",
    "assert f('abc') == 'ABC'\n",
    "assert f(10) == range(10)\n",
    "assert not f(10.)"
   ]
  },
  {
   "cell_type": "markdown",
   "metadata": {},
   "source": [
    "# Juxtapositions\n",
    "\n",
    "Juxtpositions operate on iterable objects."
   ]
  },
  {
   "cell_type": "code",
   "execution_count": 12,
   "metadata": {
    "collapsed": true
   },
   "outputs": [],
   "source": [
    "f = a * range * [type, len]\n",
    "assert f(10) == [range, 10]"
   ]
  },
  {
   "cell_type": "code",
   "execution_count": 13,
   "metadata": {
    "collapsed": true
   },
   "outputs": [],
   "source": [
    "f = a * range * {type, len}\n",
    "assert f(10) == set([range, 10])"
   ]
  },
  {
   "cell_type": "code",
   "execution_count": 14,
   "metadata": {
    "collapsed": true
   },
   "outputs": [],
   "source": [
    "f = a * range * {'a': type, len: len}\n",
    "assert isinstance(f(10), dict)"
   ]
  },
  {
   "cell_type": "markdown",
   "metadata": {},
   "source": [
    "## Incremental Operators"
   ]
  },
  {
   "cell_type": "code",
   "execution_count": 15,
   "metadata": {},
   "outputs": [],
   "source": [
    "f = a * range\n",
    "f += len\n",
    "assert f == a[range][len]"
   ]
  },
  {
   "cell_type": "code",
   "execution_count": 16,
   "metadata": {},
   "outputs": [],
   "source": [
    "f = a\n",
    "f **= int\n",
    "f *= range\n",
    "assert f(10) == range(10)"
   ]
  },
  {
   "cell_type": "code",
   "execution_count": 17,
   "metadata": {},
   "outputs": [],
   "source": [
    "f = a * range\n",
    "f @= a.floordiv(2)\n",
    "assert f == a.range().groupby(a.floordiv(2))"
   ]
  },
  {
   "cell_type": "code",
   "execution_count": 18,
   "metadata": {},
   "outputs": [],
   "source": [
    "f = a * str.upper\n",
    "f ^= TypeError\n",
    "assert f('abc') and not f(10)"
   ]
  },
  {
   "cell_type": "markdown",
   "metadata": {},
   "source": [
    "## Right Operators"
   ]
  },
  {
   "cell_type": "code",
   "execution_count": 19,
   "metadata": {},
   "outputs": [
    {
     "data": {
      "text/plain": [
       "{str: ['test'], int: [0, 1, 2, 3, 4, 5, 6, 7, 8, 9]}"
      ]
     },
     "execution_count": 19,
     "metadata": {},
     "output_type": "execute_result"
    }
   ],
   "source": [
    "assert range @ a.type() == a[range] @ a.type()\n",
    "(a[range].cons('test') @ a.type())(10)"
   ]
  },
  {
   "cell_type": "markdown",
   "metadata": {},
   "source": [
    "# Copies"
   ]
  },
  {
   "cell_type": "code",
   "execution_count": 20,
   "metadata": {},
   "outputs": [],
   "source": [
    "f = a[range] @ a.floordiv(2)\n",
    "from copy import copy\n",
    "copy(f)[len]\n",
    "assert f is not copy(f) and f == copy(f)"
   ]
  }
 ],
 "metadata": {
  "anaconda-cloud": {},
  "kernelspec": {
   "display_name": "Python 3",
   "language": "python",
   "name": "python3"
  },
  "language_info": {
   "codemirror_mode": {
    "name": "ipython",
    "version": 3
   },
   "file_extension": ".py",
   "mimetype": "text/x-python",
   "name": "python",
   "nbconvert_exporter": "python",
   "pygments_lexer": "ipython3",
   "version": "3.5.3"
  }
 },
 "nbformat": 4,
 "nbformat_minor": 2
}
