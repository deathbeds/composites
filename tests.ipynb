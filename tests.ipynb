{
 "cells": [
  {
   "cell_type": "code",
   "execution_count": 16,
   "metadata": {},
   "outputs": [],
   "source": [
    "from toolz.curried import *\n",
    "from articles import *\n",
    "from articles import partial, call"
   ]
  },
  {
   "cell_type": "code",
   "execution_count": 17,
   "metadata": {},
   "outputs": [],
   "source": [
    "assert not a and isinstance(a, call)\n",
    "f = a[:]\n",
    "assert not f and isinstance(a, stack)\n",
    "assert len(f) is 1 and len(f[0]) is 0"
   ]
  },
  {
   "cell_type": "code",
   "execution_count": 18,
   "metadata": {},
   "outputs": [],
   "source": [
    "x = 'anything'\n",
    "assert f(x) is x\n",
    "\n",
    "assert(compose([partial(range, 10)]) \n",
    "       == a(10)[range].compose\n",
    "       == a.range(10).compose)"
   ]
  },
  {
   "cell_type": "code",
   "execution_count": 19,
   "metadata": {},
   "outputs": [],
   "source": [
    "assert (a[callable] \n",
    "        == a.callable() \n",
    "        == a +  callable\n",
    "        == a -  callable\n",
    "        == a >> callable\n",
    "        == a *  callable\n",
    "       != (a &  callable))"
   ]
  },
  {
   "cell_type": "code",
   "execution_count": 20,
   "metadata": {},
   "outputs": [],
   "source": [
    "assert a.groupby(callable)        == a @  callable\n",
    "assert a.map(callable)            == a /  callable\n",
    "assert a.filter(callable)         == a // callable\n",
    "assert a.ifthen(callable)         == a &  callable\n",
    "assert a.ifnot(callable)          == a |  callable\n",
    "assert a.instance(type)[callable] == a ** type * callable\n",
    "assert a.do(callable)             == a << callable"
   ]
  }
 ],
 "metadata": {
  "anaconda-cloud": {},
  "kernelspec": {
   "display_name": "Python 3",
   "language": "python",
   "name": "python3"
  },
  "language_info": {
   "codemirror_mode": {
    "name": "ipython",
    "version": 3
   },
   "file_extension": ".py",
   "mimetype": "text/x-python",
   "name": "python",
   "nbconvert_exporter": "python",
   "pygments_lexer": "ipython3",
   "version": "3.5.3"
  }
 },
 "nbformat": 4,
 "nbformat_minor": 2
}
