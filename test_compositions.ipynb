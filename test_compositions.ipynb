{
 "cells": [
  {
   "cell_type": "code",
   "execution_count": 1,
   "metadata": {
    "collapsed": true
   },
   "outputs": [],
   "source": [
    "from fidget import _xx, _x, x_, call\n",
    "from toolz.curried import identity\n",
    "compositions = [_xx, _x, x_]"
   ]
  },
  {
   "cell_type": "code",
   "execution_count": 2,
   "metadata": {
    "collapsed": true
   },
   "outputs": [],
   "source": [
    "def test_syntax(_y, functions):\n",
    "    assert (\n",
    "        tuple(_y[func] for func in functions)\n",
    "        == tuple(_y.pipe(func) for func in functions) \n",
    "        == tuple(_y>>func for func in functions) \n",
    "    )\n",
    "\n",
    "def test_exception(_y):\n",
    "    assert type(_y.excepts(TypeError)) is not type(_y)\n",
    "    assert _y.excepts(TypeError)._functions[0].exc \\\n",
    "       == (_y | TypeError)._functions[0].exc\n",
    "\n",
    "def test_types(_y):\n",
    "    assert bool(_y(10)**int)\n",
    "    assert not bool(_y(10)**str)\n",
    "    assert bool(_y(10)**(lambda *x: len(x)==1))\n",
    "    if _y is not _xx:\n",
    "        assert bool(_y(10, 10)**(int, int))\n",
    "        assert not bool(_y(10, 10)**(int, str))\n",
    "        assert not bool(_y(10, 10)**(lambda *x: len(x)==1))\n",
    "\n",
    "def test_do(_y, function=identity):\n",
    "    assert (_y << identity >> range)._do\n",
    "    assert not (_y >> identity << range)._do\n",
    "    \n",
    "    assert (_y << identity >> range) == (_y.do(identity)[range])\n",
    "    assert (_y >> identity << range) == (_y[identity].do(range))"
   ]
  },
  {
   "cell_type": "code",
   "execution_count": 13,
   "metadata": {
    "collapsed": false
   },
   "outputs": [
    {
     "name": "stdout",
     "output_type": "stream",
     "text": [
      "Completed tests for <class 'fidget._Stars_'>\n",
      "Completed tests for <class 'fidget._Composition_'>\n",
      "Completed tests for <class 'fidget._Flipped_'>\n"
     ]
    }
   ],
   "source": [
    "if __name__ == '__main__':\n",
    "    for _y in compositions:\n",
    "        assert bool(_y)\n",
    "        assert type(_y()) is not type(_y)\n",
    "        assert type(_y[:]) is not type(_y)\n",
    "        test_syntax(_y, [range, list])\n",
    "        test_do(_y)\n",
    "        test_exception(_y)\n",
    "        test_types(_y)\n",
    "\n",
    "        assert _x(1,2,3) == _xx([1,2,3])\n",
    "        assert _x(tuple([1,2,3])) == _xx(1,2,3)\n",
    "\n",
    "        assert len(_xx(1,2,4)._args)==1\n",
    "        assert len(_x(1,2,4)._args)==len(_xx(1,2,4)._args[0])==3\n",
    "        \n",
    "        assert isinstance(_x[[1, 2, 3]](), list)\n",
    "        assert isinstance(_x[1, 2, 3](), tuple)\n",
    "        assert isinstance(_x[{1, 2, 3}](), set)\n",
    "        assert isinstance(_x[{'a': 1, 'b': 2, 'c': 3}](), dict)\n",
    "        \n",
    "        print(\"\"\"Completed tests for {}\"\"\".format(type(_y).__name__))"
   ]
  }
 ],
 "metadata": {
  "anaconda-cloud": {},
  "kernelspec": {
   "display_name": "root",
   "language": "python",
   "name": "root"
  },
  "language_info": {
   "codemirror_mode": {
    "name": "ipython",
    "version": 3
   },
   "file_extension": ".py",
   "mimetype": "text/x-python",
   "name": "python",
   "nbconvert_exporter": "python",
   "pygments_lexer": "ipython3",
   "version": "3.5.2"
  }
 },
 "nbformat": 4,
 "nbformat_minor": 2
}
