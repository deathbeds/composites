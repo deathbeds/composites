{
 "cells": [
  {
   "cell_type": "markdown",
   "metadata": {},
   "source": [
    "Conditional composites"
   ]
  },
  {
   "cell_type": "code",
   "execution_count": 17,
   "metadata": {},
   "outputs": [],
   "source": [
    "try:\n",
    "    from .partials import partial\n",
    "    from .composites import composite, flip\n",
    "except:\n",
    "    from partials import partial\n",
    "    from composites import composite, flip\n",
    "from collections import UserList, deque\n",
    "from inspect import signature, getdoc\n",
    "import toolz\n",
    "from toolz.curried import isiterable, identity, last\n",
    "from copy import copy\n",
    "dunder = '__{}__'.format\n",
    "__all__ = 'ifthen', 'ifnot', 'instance'"
   ]
  },
  {
   "cell_type": "code",
   "execution_count": 18,
   "metadata": {
    "collapsed": true
   },
   "outputs": [],
   "source": [
    "class condition(composite):\n",
    "    __slots__ = 'condition', 'data'\n",
    "    def __init__(self, condition=bool, data=None):\n",
    "        setattr(self, 'condition', condition) or super().__init__(data)\n",
    "        \n",
    "class ifthen(condition):\n",
    "    \"\"\"The composition evaluates if condition is True.\n",
    "    \n",
    "    >>> f = ifthen(bool)[range]\n",
    "    >>> f(0), f(10)\n",
    "    (False, range(0, 10))\n",
    "    \"\"\"\n",
    "    def __call__(self, *args, **kwargs):\n",
    "        return self.condition(*args, **kwargs) and super(ifthen, self).__call__(*args, **kwargs)\n",
    "\n",
    "class ifnot(condition):\n",
    "    \"\"\"The composition evaluates if condition is False.\n",
    "    \n",
    "    >>> f = ifnot(bool)[range]\n",
    "    >>> f(0), f(10)\n",
    "    (range(0, 0), True)\n",
    "    \"\"\"\n",
    "    def __call__(self, *args, **kwargs):\n",
    "        return self.condition(*args, **kwargs) or super(ifnot, self).__call__(*args, **kwargs)\n",
    "\n",
    "class instance(ifthen):\n",
    "    \"\"\"The composition evaluates if the arguments are an instance of condition.\n",
    "    \n",
    "    >> a[instance(str)[str.upper], instance(int)[range]](10)\n",
    "    (False, range(0, 10))\n",
    "    \"\"\"\n",
    "    def __init__(self, condition=None, data=None):        \n",
    "        if isinstance(condition, type): condition = condition,            \n",
    "        if isinstance(condition, tuple): condition = partial(flip(isinstance), condition)\n",
    "        super().__init__(condition, data)"
   ]
  },
  {
   "cell_type": "code",
   "execution_count": 19,
   "metadata": {},
   "outputs": [
    {
     "name": "stdout",
     "output_type": "stream",
     "text": [
      "TestResults(failed=0, attempted=4)\n",
      "[NbConvertApp] Converting notebook conditions.ipynb to python\r\n",
      "[NbConvertApp] Writing 1980 bytes to conditions.py\r\n",
      "conditions.py:12:1: F401 'collections.UserList' imported but unused\r\n",
      "conditions.py:12:1: F401 'collections.deque' imported but unused\r\n",
      "conditions.py:13:1: F401 'inspect.getdoc' imported but unused\r\n",
      "conditions.py:13:1: F401 'inspect.signature' imported but unused\r\n",
      "conditions.py:14:1: F401 'toolz' imported but unused\r\n",
      "conditions.py:15:1: F401 'toolz.curried.last' imported but unused\r\n",
      "conditions.py:15:1: F401 'toolz.curried.identity' imported but unused\r\n",
      "conditions.py:15:1: F401 'toolz.curried.isiterable' imported but unused\r\n",
      "conditions.py:16:1: F401 'copy.copy' imported but unused\r\n",
      "conditions.py:23:5: E301 expected 1 blank line, found 0\r\n",
      "conditions.py:25:1: W293 blank line contains whitespace\r\n",
      "conditions.py:26:1: E302 expected 2 blank lines, found 1\r\n",
      "conditions.py:28:1: W293 blank line contains whitespace\r\n",
      "conditions.py:34:80: E501 line too long (96 > 79 characters)\r\n",
      "conditions.py:36:1: E302 expected 2 blank lines, found 1\r\n",
      "conditions.py:38:1: W293 blank line contains whitespace\r\n",
      "conditions.py:44:80: E501 line too long (94 > 79 characters)\r\n",
      "conditions.py:46:1: E302 expected 2 blank lines, found 1\r\n",
      "conditions.py:48:1: W293 blank line contains whitespace\r\n",
      "conditions.py:52:51: W291 trailing whitespace\r\n",
      "conditions.py:53:39: E701 multiple statements on one line (colon)\r\n",
      "conditions.py:53:63: W291 trailing whitespace\r\n",
      "conditions.py:54:40: E701 multiple statements on one line (colon)\r\n",
      "conditions.py:54:80: E501 line too long (89 > 79 characters)\r\n",
      "conditions.py:60:5: F821 undefined name 'get_ipython'\r\n",
      "conditions.py:60:80: E501 line too long (119 > 79 characters)\r\n",
      "conditions.py:61:5: F821 undefined name 'get_ipython'\r\n",
      "conditions.py:62:1: W391 blank line at end of file\r\n"
     ]
    }
   ],
   "source": [
    "if __name__ == '__main__':\n",
    "    print(__import__('doctest').testmod(verbose=False))\n",
    "    !jupyter nbconvert --to python --TemplateExporter.exclude_input_prompt=True conditions.ipynb\n",
    "    !flake8 conditions.py"
   ]
  },
  {
   "cell_type": "code",
   "execution_count": null,
   "metadata": {},
   "outputs": [],
   "source": []
  }
 ],
 "metadata": {
  "anaconda-cloud": {},
  "kernelspec": {
   "display_name": "Python 3",
   "language": "python",
   "name": "python3"
  },
  "language_info": {
   "codemirror_mode": {
    "name": "ipython",
    "version": 3
   },
   "file_extension": ".py",
   "mimetype": "text/x-python",
   "name": "python",
   "nbconvert_exporter": "python",
   "pygments_lexer": "ipython3",
   "version": "3.5.3"
  },
  "nbconvert": {
   "nbconvert.exporters.templateexporter.TemplateExporter": {
    "JupyterApp": {
     "config_file": "./fidget/config.py"
    }
   }
  }
 },
 "nbformat": 4,
 "nbformat_minor": 2
}
