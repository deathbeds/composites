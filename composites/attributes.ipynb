{
 "cells": [
  {
   "cell_type": "markdown",
   "metadata": {},
   "source": [
    "An extensible attribute system for the composites."
   ]
  },
  {
   "cell_type": "code",
   "execution_count": 1,
   "metadata": {},
   "outputs": [],
   "source": [
    "try:\n",
    "    from .composites import composite, flip, factory\n",
    "    from .partials import partial, partial_attribute\n",
    "except:\n",
    "    from composites import composite, flip, factory\n",
    "    from partials import partial, partial_attribute"
   ]
  },
  {
   "cell_type": "code",
   "execution_count": 2,
   "metadata": {},
   "outputs": [],
   "source": [
    "from functools import partialmethod, wraps\n",
    "from inspect import signature, getdoc\n",
    "from operator import attrgetter\n",
    "from toolz.curried import identity, concat, concatv, keymap\n",
    "from toolz import map, groupby, filter, reduce\n",
    "import sys\n",
    "dunder = '__{}__'.format\n",
    "__all__ = 'shortcuts', '__all__'"
   ]
  },
  {
   "cell_type": "code",
   "execution_count": 3,
   "metadata": {},
   "outputs": [],
   "source": [
    "class attribute(object):\n",
    "    def __init__(self, composite=None, object=None, parent=None):\n",
    "        self.object, self.composite, self.parent = object, composite, parent\n",
    "        \n",
    "    def __iter__(self):\n",
    "        if self.object: \n",
    "            yield self.object\n",
    "        else:\n",
    "            for object in self.shortcuts: \n",
    "                yield type(object) is str and sys.modules.get(object, __import__(object)) or object\n",
    "            yield sys.modules\n",
    "\n",
    "    def __getitem__(self, item):\n",
    "        objects = list(self)\n",
    "        if len(objects) > 1:\n",
    "            for object in objects:\n",
    "                if getattr(object, dunder('name'), \"\") == item: return object\n",
    "        for object in objects:\n",
    "            dict = getattr(object, dunder('dict'), object)\n",
    "            if item in dict:  return dict[item]\n",
    "        if item in sys.modules: return sys.modules[item]\n",
    "        raise AttributeError(item)\n",
    "\n",
    "    def __dir__(self):\n",
    "        return list(concat(getattr(object, dunder('dict'), object).keys() for object in self))\n",
    "\n",
    "    def __getattr__(self, item): \n",
    "        try: \n",
    "            return super().__getattr__(item)\n",
    "        except:\n",
    "            item = self[item]\n",
    "            return type(self)(self.composite, item, self.object).wraps()\n",
    "\n",
    "    def __repr__(self): return repr(self.object or list(self))\n",
    "    \n",
    "    def wraps(self):\n",
    "        if callable(self.object):\n",
    "            def wrapped(*args, **kwargs): \n",
    "                return self(*args, **kwargs)\n",
    "            try:\n",
    "                wrapped.__signature__ = signature(self.object)\n",
    "            except: pass\n",
    "            return wraps(self.object)(wrapped)\n",
    "        return self\n",
    "\n",
    "    def __call__(self, *args, **kwargs):\n",
    "        object = self.object\n",
    "        if callable(object):\n",
    "            for decorator, values in self.decorators.items():\n",
    "                if object in values: \n",
    "                    new = decorator(object)\n",
    "                    object = object(*args, **kwargs) if new is object else partial(new, *args, **kwargs)\n",
    "                    break\n",
    "            else:\n",
    "                if isinstance(self.parent, type):\n",
    "                    object = partial_attribute(object, *args, **kwargs)\n",
    "                elif args or kwargs:\n",
    "                    object = partial(object, *args, **kwargs)\n",
    "        return (composite() if self.composite is None else self.composite)[object]\n",
    "\n",
    "shortcuts = attribute.shortcuts = list(['statistics', 'toolz', 'requests', 'builtins', 'json', 'pickle', 'io', \n",
    "        'collections', 'itertools', 'functools', 'pathlib', 'importlib', 'inspect', 'operator'])\n",
    "\n",
    "# decorators for the operators.\n",
    "import operator, fnmatch\n",
    "# some of these cases fail, but the main operators work.\n",
    "attribute.decorators = keymap([flip, identity].__getitem__, groupby(\n",
    "    attrgetter('itemgetter', 'attrgetter', 'methodcaller')(operator).__contains__, \n",
    "    filter(callable, vars(__import__('operator')).values())\n",
    "))\n",
    "attribute.shortcuts.insert(0, {'fnmatch': fnmatch.fnmatch})\n",
    "attribute.decorators[flip].append(fnmatch.fnmatch)"
   ]
  },
  {
   "cell_type": "code",
   "execution_count": 4,
   "metadata": {
    "collapsed": true
   },
   "outputs": [],
   "source": [
    "def __dir__(self): return list(self.__dict__.keys()) + dir(self.attribute())\n",
    "composite.__dir__ = __dir__"
   ]
  },
  {
   "cell_type": "code",
   "execution_count": 5,
   "metadata": {
    "collapsed": true
   },
   "outputs": [],
   "source": [
    "def __getattr__(self, attr, *args, **kwargs):\n",
    "    \"\"\"extensible attribute method relying on compose.attributer\n",
    "\n",
    "    >>> assert composite().range().len() == composite().builtins.range().builtins.len() == composite()[range].len()\n",
    "    \"\"\"\n",
    "    if callable(attr): \n",
    "        args = (arg if callable(arg) else composite()[arg] for arg in args)\n",
    "        return self[:][partial(attr, *args, **kwargs)]\n",
    "    return getattr(self.attribute(self[:]), attr)\n",
    "\n",
    "composite.attribute = staticmethod(attribute)\n",
    "composite.__getattr__ = __getattr__\n",
    "factory.map =composite.map  = partialmethod(__getattr__, map)\n",
    "factory.filter =composite.filter  = partialmethod(__getattr__, filter)\n",
    "factory.reduce =composite.reduce  = partialmethod(__getattr__, reduce)\n",
    "factory.groupby =composite.groupby  = partialmethod(__getattr__, groupby)\n"
   ]
  },
  {
   "cell_type": "code",
   "execution_count": 6,
   "metadata": {
    "collapsed": true
   },
   "outputs": [],
   "source": [
    "def __magic__(self, name, *, ip=None):\n",
    "    ip, function = ip or __import__('IPython').get_ipython(), self.copy()\n",
    "    @wraps(function)\n",
    "    def magic_wrapper(line, cell=None):\n",
    "        return function('\\n'.join(filter(bool, [line, cell])))\n",
    "    ip.register_magic_function(magic_wrapper, 'cell', name)\n",
    "\n",
    "composite.__magic__ = __magic__"
   ]
  },
  {
   "cell_type": "code",
   "execution_count": 7,
   "metadata": {},
   "outputs": [
    {
     "name": "stdout",
     "output_type": "stream",
     "text": [
      "TestResults(failed=0, attempted=1)\n",
      "[NbConvertApp] Converting notebook attributes.ipynb to python\n",
      "[NbConvertApp] Writing 4980 bytes to attributes.py\n"
     ]
    }
   ],
   "source": [
    "if __name__ == '__main__':\n",
    "    print(__import__('doctest').testmod(verbose=False))\n",
    "    !jupyter nbconvert --to python --TemplateExporter.exclude_input_prompt=True attributes.ipynb"
   ]
  },
  {
   "cell_type": "code",
   "execution_count": null,
   "metadata": {
    "collapsed": true
   },
   "outputs": [],
   "source": []
  }
 ],
 "metadata": {
  "anaconda-cloud": {},
  "kernelspec": {
   "display_name": "Python 3",
   "language": "python",
   "name": "python3"
  },
  "language_info": {
   "codemirror_mode": {
    "name": "ipython",
    "version": 3
   },
   "file_extension": ".py",
   "mimetype": "text/x-python",
   "name": "python",
   "nbconvert_exporter": "python",
   "pygments_lexer": "ipython3",
   "version": "3.5.4"
  },
  "nbconvert": {
   "nbconvert.exporters.templateexporter.TemplateExporter": {
    "JupyterApp": {
     "config_file": "./fidget/config.py"
    }
   }
  }
 },
 "nbformat": 4,
 "nbformat_minor": 2
}
