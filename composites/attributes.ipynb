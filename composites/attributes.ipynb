{
 "cells": [
  {
   "cell_type": "markdown",
   "metadata": {},
   "source": [
    "An extensible attribute system for the composites."
   ]
  },
  {
   "cell_type": "code",
   "execution_count": 1,
   "metadata": {},
   "outputs": [],
   "source": [
    "try:\n",
    "    from .composites import composite, flip, factory\n",
    "    from .partials import partial, partial_attribute\n",
    "except:\n",
    "    from composites import composite, flip, factory\n",
    "    from partials import partial, partial_attribute"
   ]
  },
  {
   "cell_type": "code",
   "execution_count": 2,
   "metadata": {},
   "outputs": [],
   "source": [
    "from functools import partialmethod, wraps\n",
    "from inspect import signature, getdoc\n",
    "from operator import attrgetter\n",
    "from toolz.curried import identity, concat, concatv, keymap\n",
    "from toolz import map, groupby, filter, reduce\n",
    "import sys\n",
    "dunder = '__{}__'.format\n",
    "__all__ = 'shortcuts', 'load_ipython_extension', '__all__'"
   ]
  },
  {
   "cell_type": "code",
   "execution_count": 3,
   "metadata": {
    "collapsed": true
   },
   "outputs": [],
   "source": [
    "class attribute(object):\n",
    "    def __init__(self, composite=None, object=None, parent=None):\n",
    "        self.object, self.composite, self.parent = object, composite, parent\n",
    "        \n",
    "    def __iter__(self):\n",
    "        if self.object: \n",
    "            yield self.object\n",
    "        else:\n",
    "            for object in self.shortcuts: \n",
    "                yield type(object) is str and sys.modules.get(object, __import__(object)) or object\n",
    "            yield sys.modules\n",
    "\n",
    "    def __getitem__(self, item):\n",
    "        objects = list(self)\n",
    "        if len(objects) > 1:\n",
    "            for object in objects:\n",
    "                if getattr(object, dunder('name'), \"\") == item: return object\n",
    "        for object in objects:\n",
    "            dict = getattr(object, dunder('dict'), object)\n",
    "            if item in dict:  return dict[item]\n",
    "        if item in sys.modules: return sys.modules[item]\n",
    "        raise AttributeError(item)\n",
    "\n",
    "    def __dir__(self):\n",
    "        return list(concat(getattr(object, dunder('dict'), object).keys() for object in self))\n",
    "\n",
    "    def __getattr__(self, item): \n",
    "        item = self[item]\n",
    "        new = type(self)(self.composite, item, self.object)\n",
    "        if isinstance(item, type):\n",
    "            new.__doc__ = getdoc(item)\n",
    "            try:\n",
    "                new.__signature__ = signature(item)\n",
    "            except: pass\n",
    "        elif callable(item):\n",
    "            def wrapped(*args, **kwargs): return new(*args, **kwargs)\n",
    "            return wraps(item)(wrapped)\n",
    "        return new\n",
    "\n",
    "    def __repr__(self): return repr(self.object or list(self))\n",
    "\n",
    "    def __call__(self, *args, **kwargs):\n",
    "        object = self.object\n",
    "        if callable(object):\n",
    "            for decorator, values in self.decorators.items():\n",
    "                if object in values: \n",
    "                    new = decorator(object)\n",
    "                    object = object(*args, **kwargs) if new is object else partial(new, *args, **kwargs)\n",
    "                    break\n",
    "            else:\n",
    "                if isinstance(self.parent, type):\n",
    "                    object = partial_attribute(object, *args, **kwargs)\n",
    "                elif args or kwargs:\n",
    "                    object = partial(object, *args, **kwargs)\n",
    "        return (composite() if self.composite is None else self.composite)[object]\n",
    "\n",
    "shortcuts = attribute.shortcuts = list(['statistics', 'toolz', 'requests', 'builtins', 'json', 'pickle', 'io', \n",
    "        'collections', 'itertools', 'functools', 'pathlib', 'importlib', 'inspect', 'operator'])\n",
    "\n",
    "# decorators for the operators.\n",
    "import operator, fnmatch\n",
    "# some of these cases fail, but the main operators work.\n",
    "attribute.decorators = keymap([flip, identity].__getitem__, groupby(\n",
    "    attrgetter('itemgetter', 'attrgetter', 'methodcaller')(operator).__contains__, \n",
    "    filter(callable, vars(__import__('operator')).values())\n",
    "))\n",
    "attribute.shortcuts.insert(0, {'fnmatch': fnmatch.fnmatch})\n",
    "attribute.decorators[flip].append(fnmatch.fnmatch)"
   ]
  },
  {
   "cell_type": "code",
   "execution_count": 4,
   "metadata": {},
   "outputs": [],
   "source": [
    "def __dir__(self): return super(type(self), self).__dir__() + dir(self.attribute())\n",
    "composite.__dir__ = __dir__"
   ]
  },
  {
   "cell_type": "code",
   "execution_count": 5,
   "metadata": {},
   "outputs": [],
   "source": [
    "def __getattr__(self, attr, *args, **kwargs):\n",
    "    \"\"\"extensible attribute method relying on compose.attributer\n",
    "\n",
    "    >>> assert composite().range().len() == composite().builtins.range().builtins.len() == composite()[range].len()\n",
    "    \"\"\"\n",
    "    if callable(attr): \n",
    "        args = (arg if callable(arg) else composite()[arg] for arg in args)\n",
    "        return self[:][partial(attr, *args, **kwargs)]\n",
    "    return getattr(self.attribute(self[:]), attr)\n",
    "\n",
    "composite.attribute = staticmethod(attribute)\n",
    "composite.__getattr__ = __getattr__\n",
    "factory.map =composite.map  = partialmethod(__getattr__, map)\n",
    "factory.filter =composite.filter  = partialmethod(__getattr__, filter)\n",
    "factory.reduce =composite.reduce  = partialmethod(__getattr__, reduce)\n",
    "factory.groupby =composite.groupby  = partialmethod(__getattr__, groupby)\n"
   ]
  },
  {
   "cell_type": "code",
   "execution_count": 6,
   "metadata": {},
   "outputs": [],
   "source": [
    "def __magic__(self, name, *, ip=None):\n",
    "    ip, function = ip or __import__('IPython').get_ipython(), self.copy()\n",
    "    @wraps(function)\n",
    "    def magic_wrapper(line, cell=None):\n",
    "        return function('\\n'.join(filter(bool, [line, cell])))\n",
    "    ip.register_magic_function(magic_wrapper, 'cell', name)\n",
    "\n",
    "composite.__magic__ = __magic__"
   ]
  },
  {
   "cell_type": "code",
   "execution_count": 8,
   "metadata": {},
   "outputs": [],
   "source": [
    "def load_ipython_extension(ip=__import__('IPython').get_ipython()):\n",
    "    if ip: ip.Completer.use_jedi = False\n",
    "load_ipython_extension()"
   ]
  },
  {
   "cell_type": "code",
   "execution_count": 9,
   "metadata": {},
   "outputs": [
    {
     "name": "stdout",
     "output_type": "stream",
     "text": [
      "TestResults(failed=0, attempted=1)\n",
      "[NbConvertApp] Converting notebook attributes.ipynb to python\r\n",
      "[NbConvertApp] Writing 5112 bytes to attributes.py\r\n",
      "attributes.py:17:1: F401 'toolz.curried.concatv' imported but unused\r\n",
      "attributes.py:27:1: W293 blank line contains whitespace\r\n",
      "attributes.py:29:24: W291 trailing whitespace\r\n",
      "attributes.py:32:42: W291 trailing whitespace\r\n",
      "attributes.py:33:80: E501 line too long (99 > 79 characters)\r\n",
      "attributes.py:40:63: E701 multiple statements on one line (colon)\r\n",
      "attributes.py:43:28: E701 multiple statements on one line (colon)\r\n",
      "attributes.py:43:29: E272 multiple spaces before keyword\r\n",
      "attributes.py:44:31: E701 multiple statements on one line (colon)\r\n",
      "attributes.py:48:80: E501 line too long (94 > 79 characters)\r\n",
      "attributes.py:50:33: W291 trailing whitespace\r\n",
      "attributes.py:57:19: E701 multiple statements on one line (colon)\r\n",
      "attributes.py:69:37: W291 trailing whitespace\r\n",
      "attributes.py:71:80: E501 line too long (104 > 79 characters)\r\n",
      "attributes.py:78:80: E501 line too long (82 > 79 characters)\r\n",
      "attributes.py:80:1: E305 expected 2 blank lines after class or function definition, found 1\r\n",
      "attributes.py:80:80: E501 line too long (110 > 79 characters)\r\n",
      "attributes.py:80:111: W291 trailing whitespace\r\n",
      "attributes.py:81:9: E128 continuation line under-indented for visual indent\r\n",
      "attributes.py:81:80: E501 line too long (96 > 79 characters)\r\n",
      "attributes.py:84:1: E402 module level import not at top of file\r\n",
      "attributes.py:84:16: E401 multiple imports on one line\r\n",
      "attributes.py:87:80: E501 line too long (82 > 79 characters)\r\n",
      "attributes.py:87:83: W291 trailing whitespace\r\n",
      "attributes.py:94:80: E501 line too long (83 > 79 characters)\r\n",
      "attributes.py:95:1: E305 expected 2 blank lines after class or function definition, found 0\r\n",
      "attributes.py:101:80: E501 line too long (115 > 79 characters)\r\n",
      "attributes.py:103:23: W291 trailing whitespace\r\n",
      "attributes.py:108:1: E305 expected 2 blank lines after class or function definition, found 1\r\n",
      "attributes.py:110:14: E225 missing whitespace around operator\r\n",
      "attributes.py:110:27: E221 multiple spaces before operator\r\n",
      "attributes.py:111:17: E225 missing whitespace around operator\r\n",
      "attributes.py:111:33: E221 multiple spaces before operator\r\n",
      "attributes.py:112:17: E225 missing whitespace around operator\r\n",
      "attributes.py:112:33: E221 multiple spaces before operator\r\n",
      "attributes.py:113:18: E225 missing whitespace around operator\r\n",
      "attributes.py:113:35: E221 multiple spaces before operator\r\n",
      "attributes.py:118:5: E306 expected 1 blank line before a nested definition, found 0\r\n",
      "attributes.py:123:1: E305 expected 2 blank lines after class or function definition, found 1\r\n",
      "attributes.py:127:10: E701 multiple statements on one line (colon)\r\n",
      "attributes.py:128:1: E305 expected 2 blank lines after class or function definition, found 0\r\n",
      "attributes.py:133:5: F821 undefined name 'get_ipython'\r\n",
      "attributes.py:133:80: E501 line too long (119 > 79 characters)\r\n",
      "attributes.py:134:5: F821 undefined name 'get_ipython'\r\n",
      "attributes.py:135:1: W391 blank line at end of file\r\n"
     ]
    }
   ],
   "source": [
    "if __name__ == '__main__':\n",
    "    print(__import__('doctest').testmod(verbose=False))\n",
    "    !jupyter nbconvert --to python --TemplateExporter.exclude_input_prompt=True attributes.ipynb\n",
    "    !flake8 attributes.py"
   ]
  },
  {
   "cell_type": "code",
   "execution_count": null,
   "metadata": {},
   "outputs": [],
   "source": []
  }
 ],
 "metadata": {
  "anaconda-cloud": {},
  "kernelspec": {
   "display_name": "Python 3",
   "language": "python",
   "name": "python3"
  },
  "language_info": {
   "codemirror_mode": {
    "name": "ipython",
    "version": 3
   },
   "file_extension": ".py",
   "mimetype": "text/x-python",
   "name": "python",
   "nbconvert_exporter": "python",
   "pygments_lexer": "ipython3",
   "version": "3.5.3"
  },
  "nbconvert": {
   "nbconvert.exporters.templateexporter.TemplateExporter": {
    "JupyterApp": {
     "config_file": "./fidget/config.py"
    }
   }
  }
 },
 "nbformat": 4,
 "nbformat_minor": 2
}
