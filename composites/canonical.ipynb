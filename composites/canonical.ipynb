{
 "cells": [
  {
   "cell_type": "code",
   "execution_count": 1,
   "metadata": {},
   "outputs": [],
   "source": [
    "try:\n",
    "    from .composites import the, partial, composite, flip\n",
    "    from .conditions import ifthen\n",
    "except:\n",
    "    from composites import the, partial, composite, flip\n",
    "    from conditions import ifthen\n",
    "import operator\n",
    "from functools import partialmethod\n",
    "dunder = \"__{}__\".format\n",
    "\n",
    "__all__ = 'canonical', 'x'"
   ]
  },
  {
   "cell_type": "code",
   "execution_count": 2,
   "metadata": {
    "collapsed": true
   },
   "outputs": [],
   "source": [
    "class canonical(object):\n",
    "    \"\"\"Canonical function composition operations.\n",
    "    \n",
    "    >>> x = y = z = canonical\n",
    "    >>> f = 10 < x() < 100\n",
    "    >>> assert callable(f) and f(50) and not f(0) and not f(200)\n",
    "    >>> assert (x() + 10 * 100)(20) == 20 + 10 * 100\n",
    "    \"\"\"\n",
    "    def __init__(self, object=None):\n",
    "        self.composite = object or composite()\n",
    "        \n",
    "    @property\n",
    "    def __call__(self): return self.composite.__call__\n",
    "\n",
    "    def __getitem__(self, object): \n",
    "        self.composite = self.composite[object]\n",
    "        return self\n",
    "    \n",
    "    def __getattr__(self, object): \n",
    "        self.composite = self.composite.__getattr__(object)\n",
    "        return self\n",
    "\n",
    "    def __repr__(self): return repr(self.composite)\n",
    "    \n",
    "x = canonical"
   ]
  },
  {
   "cell_type": "code",
   "execution_count": 3,
   "metadata": {
    "collapsed": true
   },
   "outputs": [],
   "source": [
    "def __attr__(self, attr, object):\n",
    "    attr = getattr(operator, attr)\n",
    "    self.composite = (\n",
    "        composite()[self.composite, object][star[attr]]\n",
    "        if callable(object) else self.composite[flip(object)[attr]])\n",
    "    return self\n",
    "\n",
    "def __rattr__(self, attr, object):\n",
    "    attr = getattr(operator, attr)\n",
    "    self.composite = (\n",
    "        composite()[object, self.composite][star[attr]]\n",
    "        if callable(object) else composite()[partial(attr, object)][self.composite or slice(None)])\n",
    "    return self\n",
    "\n",
    "def __battr__(self, attr, object):\n",
    "    attr = getattr(operator, attr)\n",
    "    if callable(object):\n",
    "        self.composite = a[self.composite, object][star[attr]]\n",
    "    else:\n",
    "        object = flip(object)[attr]\n",
    "        self.composite = ifthen(self.composite)[object] if self.composite else object\n",
    "    return self"
   ]
  },
  {
   "cell_type": "code",
   "execution_count": 8,
   "metadata": {
    "collapsed": true
   },
   "outputs": [],
   "source": [
    "for attr in ['add', 'sub', 'mul', 'floordiv', 'truediv', 'mod', 'matmul']:\n",
    "    setattr(canonical, dunder(attr), partialmethod(__attr__, attr))\n",
    "    setattr(canonical, \"__i{}__\".format(attr), partialmethod(__attr__, attr))\n",
    "    setattr(canonical, \"__r{}__\".format(attr), partialmethod(__rattr__, attr))\n",
    "\n",
    "for attr in ['lt', 'le', 'gt', 'ge', 'eq']:\n",
    "    setattr(canonical, dunder(attr), partialmethod(__battr__, attr))    "
   ]
  },
  {
   "cell_type": "code",
   "execution_count": 5,
   "metadata": {},
   "outputs": [
    {
     "name": "stdout",
     "output_type": "stream",
     "text": [
      "TestResults(failed=0, attempted=4)\n",
      "[NbConvertApp] Converting notebook canonical.ipynb to python\n",
      "[NbConvertApp] Writing 2341 bytes to canonical.py\n"
     ]
    }
   ],
   "source": [
    "if __name__  == '__main__':\n",
    "    print(__import__('doctest').testmod())\n",
    "    !jupyter nbconvert --to python --TemplateExporter.exclude_input_prompt=True canonical.ipynb"
   ]
  }
 ],
 "metadata": {
  "kernelspec": {
   "display_name": "Python 3",
   "language": "python",
   "name": "python3"
  },
  "language_info": {
   "codemirror_mode": {
    "name": "ipython",
    "version": 3
   },
   "file_extension": ".py",
   "mimetype": "text/x-python",
   "name": "python",
   "nbconvert_exporter": "python",
   "pygments_lexer": "ipython3",
   "version": "3.6.3"
  }
 },
 "nbformat": 4,
 "nbformat_minor": 2
}
