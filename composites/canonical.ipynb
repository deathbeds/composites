{
 "cells": [
  {
   "cell_type": "code",
   "execution_count": 1,
   "metadata": {},
   "outputs": [],
   "source": [
    "try:\n",
    "    from .composites import the, partial, composite, flip, star, factory, compose\n",
    "    from .conditions import ifthen\n",
    "    from .partials import partial_attribute\n",
    "except:\n",
    "    from composites import the, partial, composite, flip, star, factory, compose\n",
    "    from conditions import ifthen\n",
    "    from partials import partial_attribute\n",
    "import operator\n",
    "from functools import partialmethod\n",
    "dunder = \"__{}__\".format\n",
    "\n",
    "__all__ = 'canonical', 'x'"
   ]
  },
  {
   "cell_type": "code",
   "execution_count": 2,
   "metadata": {
    "collapsed": true
   },
   "outputs": [],
   "source": [
    "class canonical(object):\n",
    "    \"\"\"Canonical function compositions using operator.\n",
    "    \n",
    "    >>> x = y = z = canonical\n",
    "    >>> f = 10 < x() < 100\n",
    "    >>> assert callable(f) and f(50) and not f(0) and not f(200)\n",
    "    >>> assert (x() + 10 * 100)(20) == 20 + 10 * 100\n",
    "    \"\"\"\n",
    "    def __init__(self, object=None):\n",
    "        self.__wrapped__ = object or composite()\n",
    "        \n",
    "        \n",
    "    @property\n",
    "    def __call__(self): return self.__wrapped__.__call__\n",
    "    \n",
    "    def __getattr__(self, object): \n",
    "        if object == '_ipython_canary_method_should_not_exist_':\n",
    "            return self\n",
    "        if isinstance(object, str):\n",
    "            if hasattr(compose, object): raise AttributeError(object)\n",
    "            self.__wrapped__ = self.__wrapped__[partial_attribute(getattr, object)] \n",
    "        else:\n",
    "            self.__wrapped__ = self.__wrapped__[object]\n",
    "        return self\n",
    "    \n",
    "    def __iter__(self): return self.__getattr__(iter)\n",
    "    def __reversed__(self): return self.__getattr__(reversed)\n",
    "    def __repr__(self): return repr(self.__wrapped__)\n",
    "    def __contains__(self, object): return object in self.__wrapped__"
   ]
  },
  {
   "cell_type": "code",
   "execution_count": 3,
   "metadata": {
    "collapsed": true
   },
   "outputs": [],
   "source": [
    "class factory(object):\n",
    "    \"\"\"A factory for canonical compositions.\n",
    "    \n",
    "    >>> x = factory()\n",
    "    >>> assert 5 < x\n",
    "    >>> assert x + 5\n",
    "    >>> assert 5 < x() < 100\n",
    "    \"\"\"\n",
    "    def __getitem__(self, item): return self()[item]\n",
    "    def __getattr__(self, item):  return self().__getattr__(item)\n",
    "    def __reversed__(self): return self.__getattr__(reversed)\n",
    "    def __call__(self):  return canonical()"
   ]
  },
  {
   "cell_type": "code",
   "execution_count": 4,
   "metadata": {
    "collapsed": true
   },
   "outputs": [],
   "source": [
    "def __attr__(self, attr, *object):\n",
    "    if isinstance(self, factory): self = canonical()\n",
    "    attr = getattr(operator, attr)\n",
    "    object = object[0] if object else None\n",
    "    self.__wrapped__ = (\n",
    "        composite()[self.__wrapped__, object][star[attr]]\n",
    "        if callable(object) else self.__wrapped__[partial_attribute(attr, object) if object is not None else attr])\n",
    "    return self\n",
    "\n",
    "def __rattr__(self, attr, object):\n",
    "    if isinstance(self, factory): self = canonical()\n",
    "    attr = getattr(operator, attr)\n",
    "    self.__wrapped__ = (\n",
    "        composite()[object, self.__wrapped__][star[attr]]\n",
    "        if callable(object) else composite()[partial(attr, object)][self.__wrapped__ or slice(None)])\n",
    "    return self\n",
    "\n",
    "def __battr__(self, attr, object):\n",
    "    if isinstance(self, factory): self = canonical()\n",
    "    attr = getattr(operator, attr)\n",
    "    if callable(object):\n",
    "        self.__wrapped__ = the[self.__wrapped__, object][star[attr]]\n",
    "    else:\n",
    "        object = partial_attribute(attr, object)\n",
    "        self.__wrapped__ = ifthen(self.__wrapped__)[object] if self.__wrapped__ else the[object]\n",
    "    return self\n",
    "\n",
    "for cls in [canonical, factory]:\n",
    "    for attr in ['add', 'sub', 'mul', 'floordiv', 'truediv', 'mod', 'matmul', 'and', 'or', 'pow', 'lshift', 'rshift']:\n",
    "        setattr(cls, dunder(attr), partialmethod(__attr__, attr))\n",
    "        setattr(cls, \"__i{}__\".format(attr), partialmethod(__attr__, attr))\n",
    "        setattr(cls, \"__r{}__\".format(attr), partialmethod(__rattr__, attr))\n",
    "\n",
    "    for attr in ['abs', 'neg', 'pos', 'invert', 'getitem', 'delitem']:\n",
    "        setattr(cls, dunder(attr), partialmethod(__attr__, attr))    \n",
    "\n",
    "    for attr in ['lt', 'le', 'gt', 'ge', 'eq']:\n",
    "        setattr(cls, dunder(attr), partialmethod(__battr__, attr))    "
   ]
  },
  {
   "cell_type": "code",
   "execution_count": 5,
   "metadata": {
    "collapsed": true
   },
   "outputs": [],
   "source": [
    "x  = factory()"
   ]
  },
  {
   "cell_type": "code",
   "execution_count": 6,
   "metadata": {
    "scrolled": false
   },
   "outputs": [
    {
     "name": "stdout",
     "output_type": "stream",
     "text": [
      "TestResults(failed=0, attempted=8)\n",
      "[NbConvertApp] Converting notebook canonical.ipynb to python\n",
      "[NbConvertApp] Writing 3899 bytes to canonical.py\n"
     ]
    }
   ],
   "source": [
    "if __name__  == '__main__':\n",
    "    print(__import__('doctest').testmod())\n",
    "    !jupyter nbconvert --to python --TemplateExporter.exclude_input_prompt=True canonical.ipynb"
   ]
  },
  {
   "cell_type": "code",
   "execution_count": null,
   "metadata": {
    "collapsed": true
   },
   "outputs": [],
   "source": []
  }
 ],
 "metadata": {
  "kernelspec": {
   "display_name": "Python 3",
   "language": "python",
   "name": "python3"
  },
  "language_info": {
   "codemirror_mode": {
    "name": "ipython",
    "version": 3
   },
   "file_extension": ".py",
   "mimetype": "text/x-python",
   "name": "python",
   "nbconvert_exporter": "python",
   "pygments_lexer": "ipython3",
   "version": "3.6.3"
  }
 },
 "nbformat": 4,
 "nbformat_minor": 2
}
