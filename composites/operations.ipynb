{
 "cells": [
  {
   "cell_type": "markdown",
   "metadata": {},
   "source": [
    "Append symbollic operations to functin compositions"
   ]
  },
  {
   "cell_type": "code",
   "execution_count": 1,
   "metadata": {},
   "outputs": [],
   "source": [
    "try:\n",
    "    from .composites import composite, do, excepts, factory\n",
    "    from .conditions import ifthen, instance, ifnot\n",
    "    from .attributes import *\n",
    "except:\n",
    "    from composites import composite, do, excepts, factory\n",
    "    from conditions import ifthen, instance, ifnot\n",
    "    from attributes import *\n",
    "    \n",
    "__all__ = 'shortcuts',"
   ]
  },
  {
   "cell_type": "code",
   "execution_count": 2,
   "metadata": {},
   "outputs": [],
   "source": [
    "from functools import partialmethod\n",
    "from operator import not_\n",
    "dunder = '__{}__'.format"
   ]
  },
  {
   "cell_type": "code",
   "execution_count": 3,
   "metadata": {
    "collapsed": true
   },
   "outputs": [],
   "source": [
    "factory.__mul__ =factory.__add__ = factory.__rshift__ = factory.__sub__ = factory.__getitem__\n",
    "composite.__mul__ =composite.__add__ = composite.__rshift__ = composite.__sub__ = composite.__getitem__"
   ]
  },
  {
   "cell_type": "code",
   "execution_count": 4,
   "metadata": {
    "collapsed": true
   },
   "outputs": [],
   "source": [
    "def __lshift__(self, object):          \n",
    "    return self[do[object]]\n",
    "def __pow__(self, object=slice(None)):\n",
    "    \"\"\"\n",
    "    >>> f = a**int*range\n",
    "    >>> a[10, '10'].map(f).list()()\n",
    "    [range(0, 10), False]\n",
    "\n",
    "    A dictionary sets the function attributes.\n",
    "\n",
    "    >>> assert (a**{'start': int, 'returns': range}*range).__annotations__\n",
    "    \"\"\"\n",
    "    self = self[:]\n",
    "    if isinstance(object, str):\n",
    "        return setattr(self, '__doc__', object) or self\n",
    "    if isinstance(object, dict):\n",
    "        return setattr(self, '_annotations_', object) or self\n",
    "    return instance(object)[self]\n",
    "\n",
    "def __and__(self, object=slice(None)):        \n",
    "    \"\"\"append an ifthen statement to the composite\n",
    "\n",
    "    >>> (a&range)(0), (a&range)(10)\n",
    "    (0, range(0, 10))\n",
    "    \"\"\"\n",
    "    return ifthen(self[:])[object]\n",
    "def __or__(self, object=slice(None)):  \n",
    "    \"\"\"append an ifnot statement to the composite\n",
    "\n",
    "    >>> (a|range)(0), (a|range)(10)\n",
    "    (range(0, 0), 10)\n",
    "    \"\"\"\n",
    "    return ifnot(self[:])[object] # There is no reasonable way to make this an attribute?\n",
    "\n",
    "def __xor__(self: 'λ', object: (slice, Exception)=slice(None)) -> 'λ':             \n",
    "    \"\"\"append an exception to the composite\n",
    "\n",
    "    >>> (a.str.upper()^TypeError)(10)\n",
    "    TypeError(\"partial_attribute(<method 'upper' of 'str' objects>)\\\\ndescriptor 'upper' requires a 'str' object but received a 'int'\",)\n",
    "    \"\"\"\n",
    "    return excepts(object)[self[:]]\n",
    "\n",
    "composite.__lshift__ = __lshift__\n",
    "composite.__pow__ = __pow__\n",
    "composite.__and__ = __and__\n",
    "composite.__or__ = __or__\n",
    "composite.__xor__ = __xor__"
   ]
  },
  {
   "cell_type": "code",
   "execution_count": 5,
   "metadata": {
    "collapsed": true
   },
   "outputs": [],
   "source": [
    "composite.__truediv__  = composite.map\n",
    "composite.__floordiv__ = composite.filter\n",
    "composite.__matmul__   = composite.groupby\n",
    "composite.__mod__      = composite.reduce\n",
    "composite.__pos__ = partialmethod(composite.__getitem__, bool)\n",
    "composite.__neg__ = partialmethod(composite.__getitem__, not_)\n",
    "composite.__invert__ = composite.__reversed__    \n"
   ]
  },
  {
   "cell_type": "code",
   "execution_count": 6,
   "metadata": {
    "collapsed": true
   },
   "outputs": [],
   "source": [
    "def right_attr(right, attr, left): \n",
    "    if isinstance(left, factory): left = left[:]\n",
    "    return object.__getattribute__(composite()[left], attr)(right[:])\n",
    "\n",
    "def op_attr(self, attr, value): \n",
    "    return object.__getattribute__(self[:], attr)(value)\n",
    "        \n",
    "[setattr(factory, dunder(attr), getattr(composite, dunder(attr))) or\n",
    " setattr(factory, dunder('r'+attr), partialmethod(right_attr, dunder(attr)))\n",
    " for attr in ['and', 'or', 'xor', 'truediv', 'floordiv', 'matmul', 'mod', 'lshift', 'pow']]\n",
    "\n",
    "[setattr(object, dunder('i'+attr), partialmethod(op_attr, dunder(attr))) or\n",
    " setattr(object, dunder('r'+attr), partialmethod(right_attr, dunder(attr)))\n",
    " for attr in ['mul', 'add', 'rshift' ,'sub', 'and', 'or', 'xor', 'truediv', 'floordiv', 'matmul', 'mod', 'lshift', 'pow']\n",
    " for object in [composite, factory]]\n",
    "\n",
    "[setattr(object, key, getattr(object, dunder(other))) for key, other in zip(('do', 'excepts', 'instance'), ('lshift', 'xor', 'pow')) for object in [factory, composite]];"
   ]
  },
  {
   "cell_type": "code",
   "execution_count": 7,
   "metadata": {},
   "outputs": [
    {
     "name": "stdout",
     "output_type": "stream",
     "text": [
      "[NbConvertApp] Converting notebook operations.ipynb to python\r\n",
      "[NbConvertApp] Writing 3749 bytes to operations.py\r\n",
      "operations.py:9:5: F403 'from .attributes import *' used; unable to detect undefined names\r\n",
      "operations.py:13:5: F403 'from attributes import *' used; unable to detect undefined names\r\n",
      "operations.py:21:18: E225 missing whitespace around operator\r\n",
      "operations.py:21:80: E501 line too long (93 > 79 characters)\r\n",
      "operations.py:22:20: E225 missing whitespace around operator\r\n",
      "operations.py:22:80: E501 line too long (103 > 79 characters)\r\n",
      "operations.py:25:30: W291 trailing whitespace\r\n",
      "operations.py:27:1: E302 expected 2 blank lines, found 0\r\n",
      "operations.py:44:1: E302 expected 2 blank lines, found 1\r\n",
      "operations.py:44:39: W291 trailing whitespace\r\n",
      "operations.py:51:1: E302 expected 2 blank lines, found 0\r\n",
      "operations.py:51:38: W291 trailing whitespace\r\n",
      "operations.py:57:34: E261 at least two spaces before inline comment\r\n",
      "operations.py:57:80: E501 line too long (89 > 79 characters)\r\n",
      "operations.py:59:1: E302 expected 2 blank lines, found 1\r\n",
      "operations.py:59:71: W291 trailing whitespace\r\n",
      "operations.py:63:80: E501 line too long (136 > 79 characters)\r\n",
      "operations.py:67:1: E305 expected 2 blank lines after class or function definition, found 1\r\n",
      "operations.py:74:22: E221 multiple spaces before operator\r\n",
      "operations.py:76:21: E221 multiple spaces before operator\r\n",
      "operations.py:77:18: E221 multiple spaces before operator\r\n",
      "operations.py:80:46: W291 trailing whitespace\r\n",
      "operations.py:83:35: W291 trailing whitespace\r\n",
      "operations.py:84:33: E701 multiple statements on one line (colon)\r\n",
      "operations.py:87:1: E302 expected 2 blank lines, found 1\r\n",
      "operations.py:87:32: W291 trailing whitespace\r\n",
      "operations.py:89:1: W293 blank line contains whitespace\r\n",
      "operations.py:90:1: E305 expected 2 blank lines after class or function definition, found 1\r\n",
      "operations.py:92:80: E501 line too long (91 > 79 characters)\r\n",
      "operations.py:96:37: E203 whitespace before ','\r\n",
      "operations.py:96:38: E231 missing whitespace after ','\r\n",
      "operations.py:96:80: E501 line too long (121 > 79 characters)\r\n",
      "operations.py:99:80: E501 line too long (169 > 79 characters)\r\n",
      "operations.py:99:169: E703 statement ends with a semicolon\r\n",
      "operations.py:103:1: E115 expected an indented block (comment)\r\n",
      "operations.py:104:5: F405 'get_ipython' may be undefined, or defined from star imports: .attributes, attributes\r\n",
      "operations.py:104:80: E501 line too long (119 > 79 characters)\r\n",
      "operations.py:105:5: F405 'get_ipython' may be undefined, or defined from star imports: .attributes, attributes\r\n",
      "operations.py:106:1: W391 blank line at end of file\r\n"
     ]
    }
   ],
   "source": [
    "if __name__ == '__main__':\n",
    "#     print(__import__('doctest').testmod(verbose=False))\n",
    "    !jupyter nbconvert --to python --TemplateExporter.exclude_input_prompt=True operations.ipynb\n",
    "    !flake8 operations.py"
   ]
  }
 ],
 "metadata": {
  "anaconda-cloud": {},
  "kernelspec": {
   "display_name": "Python 3",
   "language": "python",
   "name": "python3"
  },
  "language_info": {
   "codemirror_mode": {
    "name": "ipython",
    "version": 3
   },
   "file_extension": ".py",
   "mimetype": "text/x-python",
   "name": "python",
   "nbconvert_exporter": "python",
   "pygments_lexer": "ipython3",
   "version": "3.5.3"
  },
  "nbconvert": {
   "nbconvert.exporters.templateexporter.TemplateExporter": {
    "JupyterApp": {
     "config_file": "./fidget/config.py"
    }
   }
  }
 },
 "nbformat": 4,
 "nbformat_minor": 2
}
