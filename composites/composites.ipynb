{
 "cells": [
  {
   "cell_type": "markdown",
   "metadata": {},
   "source": [
    "# Composites\n",
    "\n",
    "Composites are functional programming-style objects in Python.  Composites rely on `toolz` and Python builtins to compose higher-order functions. Effectively, composites are lists and dicts with call methods."
   ]
  },
  {
   "cell_type": "code",
   "execution_count": 1,
   "metadata": {},
   "outputs": [],
   "source": [
    "try:\n",
    "    from .partials import partial, flipped\n",
    "except:\n",
    "    from partials import partial, flipped\n",
    "\n",
    "__all__ = 'a', 'an', 'the', 'star', 'do', 'λ', 'flip', 'excepts', 'composite', 'preview'\n",
    "\n",
    "from collections import UserList, deque\n",
    "from inspect import signature, getdoc\n",
    "from functools import partialmethod\n",
    "import toolz\n",
    "from toolz.curried import isiterable, identity, concatv, last\n",
    "from typing import Iterator, Any\n",
    "from copy import copy\n",
    "dunder = '__{}__'.format"
   ]
  },
  {
   "cell_type": "code",
   "execution_count": 2,
   "metadata": {
    "collapsed": true
   },
   "outputs": [],
   "source": [
    "def null(*args, **kwargs): \n",
    "    return args[0] if args else None"
   ]
  },
  {
   "cell_type": "markdown",
   "metadata": {},
   "source": [
    "CallableList subclasses `UserList` to manipulate compositions with a familar `api`; this approach provides total ordering."
   ]
  },
  {
   "cell_type": "code",
   "execution_count": 3,
   "metadata": {
    "collapsed": true
   },
   "outputs": [],
   "source": [
    "class CallableList(UserList):\n",
    "    \"\"\"CallableList is a callable that chains a list of functions through a composite. \n",
    "    \n",
    "    A CallableList returns a generator; each value corresponds to a function the list.\n",
    "    \n",
    "    >>> f = CallableList([range, len, type])\n",
    "    >>> g = f(10)\n",
    "    >>> next(g)\n",
    "    range(0, 10)\n",
    "    >>> next(g)\n",
    "    10\n",
    "    >>> next(g)\n",
    "    <class 'int'>\n",
    "    >>> assert list(f(10)) == [range(0, 10), 10, int]\n",
    "    \n",
    "    Callable sequence objects use abs to return the \n",
    "    value of the function.  \n",
    "    \n",
    "    >>> assert abs(f)(10) == int\n",
    "    \"\"\"\n",
    "    def __iter__(self) -> Iterator: \n",
    "        yield from iter(self.data or [null])\n",
    "\n",
    "    def __abs__(self) -> Any: \n",
    "        return toolz.compose(last, partial(self))\n",
    "    \n",
    "    def __call__(self, *args, **kwargs) -> Iterator:\n",
    "        for object in self:\n",
    "            args, kwargs = [object(*args, **kwargs)] if callable(object) else [object], dict()    \n",
    "            yield null(*args, **kwargs)"
   ]
  },
  {
   "cell_type": "markdown",
   "metadata": {},
   "source": [
    "* Use a better error message when calling composites.\n",
    "* Attach attributes to copy, pickle, print, and other data model attributes."
   ]
  },
  {
   "cell_type": "code",
   "execution_count": 4,
   "metadata": {
    "collapsed": true
   },
   "outputs": [],
   "source": [
    "class compose(CallableList):\n",
    "    \"\"\"compose adds attributes from the python data model to the callable list.\n",
    "    \n",
    "    compose objects are immutable lists that use [brackets] to append functions to a composition.\n",
    "    \n",
    "    >>> f = compose()[range]\n",
    "    >>> f[type]\n",
    "    compose:[<class 'range'>, <class 'type'>]\n",
    "\n",
    "    All compose objects work as decorators. \n",
    "    >>> @compose\n",
    "    ... def f(a): return range(a)\n",
    "    >>> assert isinstance(f, compose) and abs(f)(10) == range(10) == f[0](10)\n",
    "    \n",
    "    compose objects can be copied and pickled.\n",
    "    \n",
    "    >>> from pickle import loads, dumps\n",
    "    >>> assert loads(dumps(compose()[range][type])) == compose()[range][type]\n",
    "    \n",
    "    compose objects may be used recursively.\n",
    "    \"\"\"\n",
    "    __slots__ = 'data',    \n",
    "    def __call__(self, *args, **kwargs) -> Iterator:\n",
    "        callables, result = iter(self), super().__call__(*args, **kwargs)\n",
    "        while True:\n",
    "            try:\n",
    "                callable = next(callables) \n",
    "                yield next(result)\n",
    "            except Exception as e:\n",
    "                if isinstance(e, StopIteration): break\n",
    "                callable = repr(callable)\n",
    "                if not any(line in callable for line in e.args[0].splitlines()):\n",
    "                    e.args = callable+'\\n'+e.args[0], *e.args[1:]\n",
    "                raise e\n",
    "\n",
    "\n",
    "    def __init__(self, data=None):\n",
    "        super().__init__(data is not None and (not isiterable(data) or isinstance(data, str)) and [data] or data or list())\n",
    "\n",
    "    \n",
    "    def __getitem__(self, object):\n",
    "        return self.data[object] if isinstance(object, (int, slice)) else self.append(object)\n",
    "            \n",
    "        raise AttributeError(object)\n",
    "    def append(self, object):\n",
    "        return  self.data.append(object) or not self.data[0] and self.data.pop(0) or self        \n",
    "    \n",
    "    @property\n",
    "    def __name__(self): return type(self).__name__\n",
    "                \n",
    "    def __hash__(self): return hash(tuple(self))\n",
    "    def __bool__(self): return any(self.data)\n",
    "    def __reversed__(self): \n",
    "        self.data = list(reversed(self.data))\n",
    "        return self\n",
    "    def __getstate__(self): return tuple(getattr(self, slot) for slot in self.__slots__)\n",
    "    def __setstate__(self, state):\n",
    "        for attr, value in zip(reversed(self.__slots__), reversed(state)): setattr(self, attr, value)\n",
    "            \n",
    "    def __copy__(self, memo=None):\n",
    "        new = type(self.__name__, (type(self),), {'_annotations_': self._annotations_})()\n",
    "        return new.__setstate__(tuple(map(copy, self.__getstate__()))) or new\n",
    "    _annotations_ = None\n",
    "    @property\n",
    "    def __annotations__(self): \n",
    "        return self._annotations_ or self and getattr(self[0], dunder('annotations'), None) or {}\n",
    "\n",
    "    def __repr__(self):\n",
    "        other = len(self.__slots__) is 2 and repr(self.__getstate__()[1-self.__slots__.index('data')])\n",
    "        return type(self).__name__.replace('composite', 'λ') +(\n",
    "            '({})'.format(other or '').replace('()', ':')\n",
    "        )+ super().__repr__()\n",
    "    \n",
    "    copy = __deepcopy__ = __copy__"
   ]
  },
  {
   "cell_type": "markdown",
   "metadata": {},
   "source": [
    "__composite__ is the core object. This class returns the executed function when called, rather than a generator.  The getitem method transforms non-callable iterable objects into juxtaposed functions."
   ]
  },
  {
   "cell_type": "code",
   "execution_count": 5,
   "metadata": {
    "collapsed": true
   },
   "outputs": [],
   "source": [
    "class composite(compose):\n",
    "    \"\"\"An object for symbolically generating higher-order function compositions. Calling\n",
    "    composite objects returns the evaluated function.\n",
    "    \n",
    "    abs is not required to evaluate a composition.\n",
    "    >>> composite()[range]\n",
    "    λ:[<class 'range'>]\n",
    "\n",
    "    >>> composite()[range, type]\n",
    "    λ:[juxt(<class 'tuple'>)[<class 'range'>, <class 'type'>]]\n",
    "    \n",
    "    Literal and symbolic attributes are append in attributes and operations.\n",
    "    \"\"\"\n",
    "    def __new__(cls, *args, **kwargs):\n",
    "        new = object.__new__(type(cls.__name__, (cls,), dict()))\n",
    "        new.__qualname__ = '.'.join([globals().get('__name__'), cls.__qualname__])\n",
    "        return new\n",
    "\n",
    "    def __call__(self, *args, **kwargs): \n",
    "        return deque(super().__call__(*args, **kwargs), maxlen=1).pop()\n",
    "    \n",
    "    def __abs__(self): return self.__call__\n",
    "    \n",
    "    def __getitem__(self, object):\n",
    "        \"\"\"Use brackets to append functions to the compose.\n",
    "        >>> compose()[range][list]\n",
    "        compose:[<class 'range'>, <class 'list'>]\n",
    "        \"\"\"        \n",
    "        # from ipython prediction\n",
    "        if object in (slice(None), getdoc): return self\n",
    "        return super().__getitem__([identity, juxt][isiterable(object) and not isinstance(object, (str, compose)) and not callable(object)](object))"
   ]
  },
  {
   "cell_type": "markdown",
   "metadata": {},
   "source": [
    "* A factory skips parenthesis when initializing a composition."
   ]
  },
  {
   "cell_type": "code",
   "execution_count": 6,
   "metadata": {
    "collapsed": true
   },
   "outputs": [],
   "source": [
    "class factory(compose):\n",
    "    \"\"\"A factory of composites that works as a decorator.\n",
    "    \n",
    "    Create a factory\n",
    "    >>> some = factory(compose)\n",
    "\n",
    "\n",
    "    Supply partial arguments\n",
    "    \n",
    "    >> some(10)(20)\n",
    "    10\n",
    "    >> some(10)[range](20)\n",
    "    range(10, 20)\n",
    "    >> assert some(10)[range](20) == a.range(10)(20)\n",
    "    \"\"\"\n",
    "    __slots__ = 'object', 'data', 'args', 'kwargs'\n",
    "\n",
    "    def __init__(self, object=composite, data=None, args=None, kwargs=None):\n",
    "        super().__init__(data)\n",
    "        self.object, self.args, self.kwargs = object, args, kwargs\n",
    "        \n",
    "    def __getitem__(self, attr):\n",
    "        if isinstance(self.args, tuple) and  isinstance(self.kwargs, dict):\n",
    "            attr = attr == slice(None) and abs(self) or partial(attr, *self.args, **self.kwargs)\n",
    "        return self.object()[attr]\n",
    "                \n",
    "    def __getattr__(self, attr, *args, **kwargs):\n",
    "        return self.object().__getattr__(attr, *args, **kwargs)\n",
    "    \n",
    "    def __call__(self, *args, **kwargs):\n",
    "        if args and isinstance(args[0], composite):\n",
    "            return self.object(args[0])\n",
    "        if isinstance(self.args, tuple) and  isinstance(self.kwargs, dict):\n",
    "            return self.object()(*concatv(self.args, args))\n",
    "        return factory(self.object, self.data, args, kwargs)\n",
    "    \n",
    "    def __dir__(self): return dir(self.object()) + dir(super())\n",
    "    \n",
    "    @property\n",
    "    def __doc__(self): return getdoc(self.object)"
   ]
  },
  {
   "cell_type": "markdown",
   "metadata": {},
   "source": [
    "## Toolz inspired compositions\n",
    "\n",
    "__juxt, flip, excepts, and do__ are composite versions of the `toolz` equivalents.\n",
    "\n",
    "    from toolz import juxt, flip, excepts, do"
   ]
  },
  {
   "cell_type": "markdown",
   "metadata": {},
   "source": [
    "__juxt__ applies the same arguments to a list of functions.  The composite version adds the ability use mapping objects and control the return class."
   ]
  },
  {
   "cell_type": "code",
   "execution_count": 7,
   "metadata": {
    "collapsed": true
   },
   "outputs": [],
   "source": [
    "class juxt(composite):\n",
    "    \"\"\"Juxtapose functions in python.  Juxtaposition applies the same input\n",
    "    arguments to a list of functions.\n",
    "    \n",
    "    >>> juxt((range, type))(10)\n",
    "    (range(0, 10), <class 'int'>)\n",
    "    >>> juxt([range, type])(10)\n",
    "    [range(0, 10), <class 'int'>]\n",
    "    >>> assert isinstance(juxt({range, type})(10), set)\n",
    "    >>> assert isinstance(juxt({'foo': range, 'bar': type})(10), dict) \n",
    "    \"\"\"\n",
    "    __slots__ = 'data', 'object'\n",
    "    \n",
    "    def __init__(self, data=None, object=None):\n",
    "        if isiterable(data) and not isinstance(data, composite):\n",
    "            object = object or type(data)\n",
    "        self.object = object or tuple\n",
    "        super().__init__(list(data.items()) if isinstance(data, dict) else list(data or list()))\n",
    "\n",
    "    def __iter__(self):\n",
    "        for callable in self.data:\n",
    "            if not isinstance(callable, (str, compose)) and isiterable(callable):\n",
    "                callable = juxt(callable)\n",
    "            if not isinstance(callable, compose):\n",
    "                callable = abs(compose(callable))\n",
    "            yield callable\n",
    "            \n",
    "    def __call__(self, *args, **kwargs): \n",
    "        return self.object(callable(*args, **kwargs) for callable in self)"
   ]
  },
  {
   "cell_type": "code",
   "execution_count": 8,
   "metadata": {
    "collapsed": true
   },
   "outputs": [],
   "source": [
    "@factory\n",
    "class flip(composite):\n",
    "    def __iter__(self):\n",
    "        for i, value in enumerate(super().__iter__()):\n",
    "            if callable(value) and i is 0:\n",
    "                value = flipped(value.func, *value.args, **value.keywords) if isinstance(value, partial) else flipped(value)\n",
    "            yield value"
   ]
  },
  {
   "cell_type": "markdown",
   "metadata": {},
   "source": [
    "__excepts__ returns rather than raises an exception."
   ]
  },
  {
   "cell_type": "code",
   "execution_count": 9,
   "metadata": {
    "collapsed": true
   },
   "outputs": [],
   "source": [
    "class FalseException(Exception):\n",
    "    \"\"\"A failure to execute is considered false.\"\"\"\n",
    "    def __bool__(self): return False"
   ]
  },
  {
   "cell_type": "code",
   "execution_count": 10,
   "metadata": {
    "collapsed": true
   },
   "outputs": [],
   "source": [
    "class excepts(composite):\n",
    "    \"\"\"A composition that returns exceptions as values.\n",
    "    \n",
    "    >>> excepts(TypeError)[str.upper](10)\n",
    "    FalseException(\"TypeError:<method 'upper' of 'str' objects>\\\\ndescriptor 'upper' requires a 'str' object but received a 'int'\",)\n",
    "    \"\"\"\n",
    "    __slots__ = 'exceptions', 'data'\n",
    "    def __init__(self, exceptions=Exception, data=None):\n",
    "        setattr(self, 'exceptions', exceptions) or super().__init__(data)\n",
    "    \n",
    "    def __call__(self, *args, **kwargs):\n",
    "        try: return super(excepts, self).__call__(*args, **kwargs)\n",
    "        except self.exceptions as main: \n",
    "            try:\n",
    "                raise FalseException from main\n",
    "            except FalseException as e:\n",
    "                e.args = type(main).__name__ + ':'+main.args[0], *main.args[1:]\n",
    "                return e"
   ]
  },
  {
   "cell_type": "code",
   "execution_count": 11,
   "metadata": {
    "collapsed": true
   },
   "outputs": [],
   "source": [
    "@factory\n",
    "class do(composite):\n",
    "    \"\"\"Evaluate a function without modifying the input arguments.\n",
    "    \n",
    "    >>> assert not λ[print](10) and do()[print](10) is 10\n",
    "    10\n",
    "    10\n",
    "    \"\"\"\n",
    "    \n",
    "    def __call__(self, *args, **kwargs):\n",
    "        super().__call__(*args, **kwargs)\n",
    "        return null(*args)"
   ]
  },
  {
   "cell_type": "code",
   "execution_count": 12,
   "metadata": {
    "collapsed": true
   },
   "outputs": [],
   "source": [
    "@factory\n",
    "class preview(composite):\n",
    "    def __repr__(self):\n",
    "        return repr(self())"
   ]
  },
  {
   "cell_type": "code",
   "execution_count": 13,
   "metadata": {
    "collapsed": true
   },
   "outputs": [],
   "source": [
    "@factory\n",
    "class star(composite):\n",
    "    \"\"\"Supply iterables and dictionaries as starred arguments to a function.\n",
    "    \n",
    "    >>> def f(*args, **kwargs): return args, kwargs\n",
    "    >>> star[f]([10, 20], {'foo': 'bar'})\n",
    "    ((10, 20), {'foo': 'bar'})\n",
    "    \"\"\"\n",
    "    def __call__(self, *inputs):\n",
    "        args, kwargs = list(), dict()\n",
    "        [kwargs.update(**input) if isinstance(input, dict) else args.extend(input) for input in inputs]\n",
    "        return super().__call__(*args, **kwargs)"
   ]
  },
  {
   "cell_type": "markdown",
   "metadata": {},
   "source": [
    "__a__, __an__, __the__, and __λ__ are the main __articles__ used for function composition.  They seemed like uncommon namespace choices."
   ]
  },
  {
   "cell_type": "code",
   "execution_count": 14,
   "metadata": {
    "collapsed": true
   },
   "outputs": [],
   "source": [
    "a = an = the = λ = factory(composite)"
   ]
  },
  {
   "cell_type": "markdown",
   "metadata": {},
   "source": [
    "Operations adds a bunch of attributes and symbols to compositions."
   ]
  },
  {
   "cell_type": "code",
   "execution_count": 15,
   "metadata": {},
   "outputs": [],
   "source": [
    "try:\n",
    "    from .operations import *\n",
    "except:\n",
    "    from operations import *"
   ]
  },
  {
   "cell_type": "code",
   "execution_count": 16,
   "metadata": {},
   "outputs": [
    {
     "name": "stdout",
     "output_type": "stream",
     "text": [
      "TestResults(failed=0, attempted=21)\n",
      "[NbConvertApp] Converting notebook composites.ipynb to python\n",
      "[NbConvertApp] Writing 12081 bytes to composites.py\n"
     ]
    }
   ],
   "source": [
    "if __name__ == '__main__':\n",
    "    print(__import__('doctest').testmod(verbose=False))\n",
    "    !jupyter nbconvert --to python --TemplateExporter.exclude_input_prompt=True composites.ipynb"
   ]
  }
 ],
 "metadata": {
  "anaconda-cloud": {},
  "kernelspec": {
   "display_name": "Python 3",
   "language": "python",
   "name": "python3"
  },
  "language_info": {
   "codemirror_mode": {
    "name": "ipython",
    "version": 3
   },
   "file_extension": ".py",
   "mimetype": "text/x-python",
   "name": "python",
   "nbconvert_exporter": "python",
   "pygments_lexer": "ipython3",
   "version": "3.5.4"
  },
  "nbconvert": {
   "nbconvert.exporters.templateexporter.TemplateExporter": {
    "JupyterApp": {
     "config_file": "./fidget/config.py"
    }
   }
  }
 },
 "nbformat": 4,
 "nbformat_minor": 2
}
