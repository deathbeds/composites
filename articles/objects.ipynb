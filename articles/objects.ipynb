{
 "cells": [
  {
   "cell_type": "markdown",
   "metadata": {},
   "source": [
    "Special composition objects"
   ]
  },
  {
   "cell_type": "code",
   "execution_count": 1,
   "metadata": {},
   "outputs": [],
   "source": [
    "try:\n",
    "    from .composites import composite, a, compose\n",
    "    from .partials import partial_attribute\n",
    "except:\n",
    "    from composites import composite, a, compose\n",
    "    from partials import partial_attribute\n",
    "from functools import partialmethod\n",
    "__all__ = tuple()\n",
    "\n",
    "from collections import UserDict, UserList, OrderedDict\n",
    "from toolz import isiterable\n",
    "dunder = '__{}__'.format\n",
    "__all__ = 'cache', 'persist', 'parallel', 'dispatch', 'enumerated', 'store'"
   ]
  },
  {
   "cell_type": "code",
   "execution_count": 4,
   "metadata": {},
   "outputs": [
    {
     "data": {
      "text/plain": [
       "enumerated:[<class 'range'>, do:[<built-in function len>], <class 'type'>]"
      ]
     },
     "execution_count": 4,
     "metadata": {},
     "output_type": "execute_result"
    }
   ],
   "source": [
    "    enumerated()[range].do(len)[type]"
   ]
  },
  {
   "cell_type": "code",
   "execution_count": 3,
   "metadata": {},
   "outputs": [
    {
     "data": {
      "text/plain": [
       "{do:[<built-in function len>]: (range(0, 10),),\n",
       " type: tuple,\n",
       " range: range(0, 10)}"
      ]
     },
     "execution_count": 3,
     "metadata": {},
     "output_type": "execute_result"
    }
   ],
   "source": [
    "    >>> f = enumerated()[range].do(len)[type]\n",
    "    >>> dict(zip(f.data, f(10)))"
   ]
  },
  {
   "cell_type": "code",
   "execution_count": 2,
   "metadata": {},
   "outputs": [],
   "source": [
    "class enumerated(composite):\n",
    "    \"\"\"Return the a list of the execution results. enumerated escapes the \n",
    "    computer returning the error and previous callables.\n",
    "    \n",
    "    >>> f = enumerated()[range].do(len)[type]\n",
    "    >>> dict(zip(f.data, f(10)))\n",
    "    {do:[<built-in function len>]: range(0, 10), <class 'type'>: <class 'range'>, <class 'range'>: range(0, 10)}\n",
    "    \n",
    "    This composition is very useful for development. The native call output is not \n",
    "    the same as the absolute value of the evalution. \n",
    "    \n",
    "    >>> assert f(10) != abs(f)(10) == f(10)[-1]\n",
    "    \"\"\"\n",
    "    def __call__(self, *args, **kwargs): \n",
    "        output = list()\n",
    "        result = compose.__call__(self, *args, **kwargs)\n",
    "        while True:\n",
    "            try:\n",
    "                output.append(next(result))\n",
    "            except Exception as e:\n",
    "                not isinstance(e, StopIteration) and output.append(e)\n",
    "                break\n",
    "        return output\n",
    "    \n",
    "    __abs__ = compose.__abs__"
   ]
  },
  {
   "cell_type": "code",
   "execution_count": 103,
   "metadata": {
    "collapsed": true
   },
   "outputs": [],
   "source": [
    "class parallel(composite):\n",
    "    \"\"\"Composites with trivially parallel map operations. Each map is a joblib.delayed \n",
    "    object.\n",
    "    \n",
    "    parallel requires joblib.  \n",
    "    \n",
    "    >>> assert parallel(jobs=4)[range].map(range)(8) == list(map(range, range(8)))\n",
    "    \"\"\"\n",
    "    def __init__(self, jobs=4, data=None):\n",
    "        setattr(self, 'jobs', jobs) or super().__init__(data)\n",
    "        \n",
    "    def map(self, function):\n",
    "        \"\"\"A delay each function.\"\"\"\n",
    "        return super().__getattr__('map')(__import__('joblib').delayed(function))\n",
    "    \n",
    "    def __call__(self, *args, **kwargs):\n",
    "        return __import__('joblib').Parallel(self.jobs)(super().__call__(*args, **kwargs))\n",
    "        \n",
    "    __truediv__ = map"
   ]
  },
  {
   "cell_type": "code",
   "execution_count": 129,
   "metadata": {
    "collapsed": true
   },
   "outputs": [],
   "source": [
    "class dispatch(OrderedDict):\n",
    "    \"\"\"Single dispatch callable dictionary.\n",
    "\n",
    "    >>> f = dispatch((str, str.upper), (int, range), (object, type))\n",
    "    >>> f('text'), f(42), f({10})\n",
    "    ('TEXT', range(0, 42), <class 'set'>)\n",
    "    \"\"\"\n",
    "    def __init__(self, *data):\n",
    "        super().__init__(\n",
    "            data[0] if len(data) is 1 and isinstance(data[0], (list, dict)) else data)\n",
    "    def __call__(self, *args, **kwargs):\n",
    "        for condition, object in self.items():\n",
    "            if callable(condition) and not isinstance(condition, type):\n",
    "                if condition(*args, **kwargs): break\n",
    "            else:\n",
    "                if isinstance(args[0], condition): break\n",
    "        else:\n",
    "            raise TypeError(\"No conditions matched for {}.\".format(args))\n",
    "            \n",
    "        return object(*args, **kwargs)"
   ]
  },
  {
   "cell_type": "code",
   "execution_count": 130,
   "metadata": {
    "collapsed": true
   },
   "outputs": [],
   "source": [
    "class store(UserDict):\n",
    "    \"\"\"A mutable callable object that stores function calls on itself.    \n",
    "    \n",
    "    >>> c = store(range)\n",
    "    >>> assert c(10)(20)(30) and 10 in c and 20 in c and 30 in c\n",
    "    >>> assert c[10] == range(10)\n",
    "    >>> c.callable = type\n",
    "    >>> assert c(10)[10] == int\n",
    "    \"\"\"\n",
    "    def __init__(self, callable, data=None):\n",
    "        self.callable = callable or composition()\n",
    "        super().__init__(data)\n",
    "        \n",
    "    def __missing__(self, item):\n",
    "        self(item) if not isinstance(item, tuple) else self(*item)\n",
    "        return self[item]    \n",
    "    \n",
    "    def __call__(self, *args, **kwargs): \n",
    "        self[args[0]] = self.callable(*args, **kwargs)\n",
    "        return self\n",
    "    \n",
    "    def call(self, *args, **kwargs):\n",
    "        self(*args, **kwargs)\n",
    "        return self.get(args[0])\n",
    "\n",
    "    def __abs__(self): return self.call"
   ]
  },
  {
   "cell_type": "code",
   "execution_count": 131,
   "metadata": {
    "collapsed": true
   },
   "outputs": [],
   "source": [
    "class cache(store):\n",
    "    \"\"\"A immutable callable object that caches function calls on itself.\n",
    "    \n",
    "    >>> c = cache(range)\n",
    "    >>> assert c(10)[10] == range(10)\n",
    "    >>> c.callable = type\n",
    "    >>> assert c(10)[10] == range(10)\n",
    "    \"\"\"\n",
    "    def __call__(self, *args, **kwargs): \n",
    "        if args[0] not in self:  super().__call__(*args, **kwargs)\n",
    "        return self"
   ]
  },
  {
   "cell_type": "code",
   "execution_count": 132,
   "metadata": {
    "collapsed": true
   },
   "outputs": [],
   "source": [
    "class persist(__import__('shelve').DbfilenameShelf):\n",
    "    \"\"\"A callable object that stores function calls on disk and/or memory.\n",
    "    \n",
    "    >>> c = cache(range)\n",
    "    >>> assert c(10)(20)(30) and 10 in c and 20 in c and 30 in c\n",
    "    >>> p = persist('test', 'n')\n",
    "    >>> assert not list(p.keys()) and p(40) and 40 in p.keys() and 30 not in p.keys()\n",
    "    >>> p.update(c)\n",
    "    >>> assert 30 in p\n",
    "    >>> p.close()\n",
    "    >>> p2 = persist('test', 'r')\n",
    "    >>> assert 10 in p2 and 20 in p2 and 30 in p2 and 40 in p2\n",
    "    \"\"\"\n",
    "    def __init__(self, callable, *args, **kwargs):\n",
    "        if isinstance(callable, str): \n",
    "            args = callable, *args\n",
    "            callable = composite()\n",
    "        super(persist, self).__init__(*args, **kwargs)\n",
    "        self.callable = callable\n",
    "    \n",
    "    def __method__(self, method, item, *args):\n",
    "        return getattr(super(), dunder(method))(str(item), *args)\n",
    "    \n",
    "    __getitem__ = partialmethod(__method__, 'getitem')\n",
    "    __setitem__ = partialmethod(__method__, 'setitem')\n",
    "    __contains__ = partialmethod(__method__, 'contains')\n",
    "    \n",
    "    __call__ = store.__call__\n",
    "    \n",
    "    __abs__, call = store.__abs__, store.call"
   ]
  },
  {
   "cell_type": "code",
   "execution_count": 133,
   "metadata": {},
   "outputs": [
    {
     "name": "stdout",
     "output_type": "stream",
     "text": [
      "TestResults(failed=0, attempted=24)\n",
      "[NbConvertApp] Converting notebook objects.ipynb to python\r\n",
      "[NbConvertApp] Writing 5463 bytes to objects.py\r\n"
     ]
    }
   ],
   "source": [
    "if __name__ == '__main__':\n",
    "    print(__import__('doctest').testmod(verbose=False))\n",
    "    !jupyter nbconvert --to python --TemplateExporter.exclude_input_prompt=True objects.ipynb"
   ]
  },
  {
   "cell_type": "code",
   "execution_count": null,
   "metadata": {},
   "outputs": [],
   "source": []
  }
 ],
 "metadata": {
  "anaconda-cloud": {},
  "kernelspec": {
   "display_name": "Python 3",
   "language": "python",
   "name": "python3"
  },
  "language_info": {
   "codemirror_mode": {
    "name": "ipython",
    "version": 3
   },
   "file_extension": ".py",
   "mimetype": "text/x-python",
   "name": "python",
   "nbconvert_exporter": "python",
   "pygments_lexer": "ipython3",
   "version": "3.5.3"
  },
  "nbconvert": {
   "nbconvert.exporters.templateexporter.TemplateExporter": {
    "JupyterApp": {
     "config_file": "./fidget/config.py"
    }
   }
  }
 },
 "nbformat": 4,
 "nbformat_minor": 2
}
