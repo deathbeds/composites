{
 "cells": [
  {
   "cell_type": "markdown",
   "metadata": {},
   "source": [
    "Special composition objects"
   ]
  },
  {
   "cell_type": "code",
   "execution_count": 27,
   "metadata": {},
   "outputs": [],
   "source": [
    "try:\n",
    "    from .composites import composite, a\n",
    "except:\n",
    "    from composites import composite, a\n",
    "from functools import partialmethod\n",
    "__all__ = tuple()\n",
    "\n",
    "from collections import UserDict, UserList\n",
    "from toolz import isiterable\n",
    "dunder = '__{}__'.format\n",
    "__all__ = 'cache', 'persist'"
   ]
  },
  {
   "cell_type": "code",
   "execution_count": 28,
   "metadata": {
    "collapsed": true
   },
   "outputs": [],
   "source": [
    "class parallel(composite):\n",
    "    \"\"\"An embarassingly parallel composite\n",
    "    \n",
    "    All map functions are delayed\n",
    "    >>> parallel(jobs=4)[range].map(print) # doctest: +SKIP\n",
    "    \"\"\"\n",
    "    def __init__(self, jobs=4, data=None):\n",
    "        setattr(self, 'jobs', jobs) or super().__init__(data)\n",
    "        \n",
    "    def map(self, function):\n",
    "        \"\"\"A delay each function.\"\"\"\n",
    "        return super().__getattr__('map')(__import__('joblib').delayed(function))\n",
    "    \n",
    "    def __call__(self, *args, **kwargs):\n",
    "        return __import__('joblib').Parallel(self.jobs)(super().__call__(*args, **kwargs))\n",
    "        \n",
    "    __truediv__ = map"
   ]
  },
  {
   "cell_type": "code",
   "execution_count": 29,
   "metadata": {},
   "outputs": [],
   "source": [
    "from collections import OrderedDict"
   ]
  },
  {
   "cell_type": "code",
   "execution_count": 30,
   "metadata": {
    "collapsed": true
   },
   "outputs": [],
   "source": [
    "class dispatch(OrderedDict):\n",
    "    \"\"\"a singledispatching composite\n",
    "\n",
    "    >>> f = dispatch((str, str.upper), (int, range), (object, type))\n",
    "    >>> f('text'), f(42), f({10})\n",
    "    ('TEXT', range(0, 42), <class 'set'>)\n",
    "    \"\"\"\n",
    "    def __init__(self, *data):\n",
    "        super().__init__(\n",
    "            data[0] if len(data) is 1 and isinstance(data[0], (list, dict)) else data)\n",
    "    def __call__(self, *args, **kwargs):\n",
    "        for condition, object in self.items():\n",
    "            if callable(condition) and not isinstance(condition, type):\n",
    "                if condition(*args, **kwargs): break\n",
    "            else:\n",
    "                if all(isinstance(arg, type) for arg, type in zip(\n",
    "                    args, condition if isiterable(condition) else (condition,)\n",
    "                )): break\n",
    "        else:\n",
    "            raise TypeError(\"No conditions matched for {}.\".format(args))\n",
    "            \n",
    "        return object(*args, **kwargs)"
   ]
  },
  {
   "cell_type": "code",
   "execution_count": 10,
   "metadata": {
    "collapsed": true
   },
   "outputs": [],
   "source": [
    "class cache(UserDict):\n",
    "    \"\"\"cache on the first argument, use star to store tuples.\n",
    "    \n",
    "    >>> c = cache(range)\n",
    "    >>> assert c(10)(20)(30) and 10 in c and 20 in c and 30 in c\n",
    "    \"\"\"\n",
    "    def __init__(self, callable, data=None):\n",
    "        self.callable = callable or composition()\n",
    "        super().__init__(data)\n",
    "        \n",
    "    def __missing__(self, item):\n",
    "        self(item) if not isinstance(item, tuple) else self(*item)\n",
    "        return self[item]\n",
    "        \n",
    "    def __call__(self, *args, **kwargs): \n",
    "        if args[0] not in self:  self[args[0]] = self.callable(*args, **kwargs)\n",
    "        return self"
   ]
  },
  {
   "cell_type": "code",
   "execution_count": 11,
   "metadata": {
    "collapsed": true
   },
   "outputs": [],
   "source": [
    "class persist(__import__('shelve').DbfilenameShelf):\n",
    "    \"\"\"\n",
    "    >>> c = cache(range)\n",
    "    >>> assert c(10)(20)(30) and 10 in c and 20 in c and 30 in c\n",
    "    >>> p = persist('test', 'n')\n",
    "    >>> assert not list(p.keys()) and p(40) and 40 in p.keys() and 30 not in p.keys()\n",
    "    >>> p.update(c)\n",
    "    >>> assert 30 in p\n",
    "    >>> p.close()\n",
    "    >>> p2 = persist('test', 'r')\n",
    "    >>> assert 10 in p2 and 20 in p2 and 30 in p2 and 40 in p2\n",
    "    \"\"\"\n",
    "\n",
    "    def __init__(self, callable, *args, **kwargs):\n",
    "        if isinstance(callable, str): args = callable, *args\n",
    "        super(persist, self).__init__(*args, **kwargs)\n",
    "        if isinstance(callable, str): callable = self.get(callable, composition())\n",
    "        self.callable = callable\n",
    "        \n",
    "    def close(self):\n",
    "        try:\n",
    "            self[callable] = self.callable\n",
    "            while hasattr(self[callable], 'callable'):  self[callable] = self[callable].callable\n",
    "        except:\n",
    "            pass\n",
    "        return super().close()\n",
    "    \n",
    "    def __method__(self, method, item, *args):\n",
    "        return getattr(super(), dunder(method))(str(item), *args)\n",
    "    \n",
    "    __getitem__ = partialmethod(__method__, 'getitem')\n",
    "    __setitem__ = partialmethod(__method__, 'setitem')\n",
    "    __contains__ = partialmethod(__method__, 'contains')\n",
    "    \n",
    "    def __call__(self, arg, **kwargs): \n",
    "        if arg not in self:\n",
    "            self[arg] = self.callable(arg, **kwargs)\n",
    "        return self"
   ]
  },
  {
   "cell_type": "code",
   "execution_count": 12,
   "metadata": {},
   "outputs": [
    {
     "name": "stdout",
     "output_type": "stream",
     "text": [
      "**********************************************************************\n",
      "File \"__main__\", line ?, in __main__.dispatch\n",
      "Failed example:\n",
      "    f('text'), f(42), f({10})\n",
      "Exception raised:\n",
      "    Traceback (most recent call last):\n",
      "      File \"/Users/tonyfast/anaconda/lib/python3.5/doctest.py\", line 1321, in __run\n",
      "        compileflags, 1), test.globs)\n",
      "      File \"<doctest __main__.dispatch[1]>\", line 1, in <module>\n",
      "        f('text'), f(42), f({10})\n",
      "      File \"<ipython-input-9-3244740b67b8>\", line 14, in __call__\n",
      "        self.dispatch = __import__('functools').singledispatch(λ[:])\n",
      "    NameError: name 'λ' is not defined\n",
      "**********************************************************************\n",
      "File \"__main__\", line ?, in __main__.persist\n",
      "Failed example:\n",
      "    p = persist('test', 'n')\n",
      "Exception raised:\n",
      "    Traceback (most recent call last):\n",
      "      File \"/Users/tonyfast/anaconda/lib/python3.5/doctest.py\", line 1321, in __run\n",
      "        compileflags, 1), test.globs)\n",
      "      File \"<doctest __main__.persist[2]>\", line 1, in <module>\n",
      "        p = persist('test', 'n')\n",
      "      File \"<ipython-input-11-03264a9229c2>\", line 17, in __init__\n",
      "        if isinstance(callable, str): callable = self.get(callable, composition())\n",
      "    NameError: name 'composition' is not defined\n",
      "**********************************************************************\n",
      "File \"__main__\", line ?, in __main__.persist\n",
      "Failed example:\n",
      "    assert not list(p.keys()) and p(40) and 40 in p.keys() and 30 not in p.keys()\n",
      "Exception raised:\n",
      "    Traceback (most recent call last):\n",
      "      File \"/Users/tonyfast/anaconda/lib/python3.5/doctest.py\", line 1321, in __run\n",
      "        compileflags, 1), test.globs)\n",
      "      File \"<doctest __main__.persist[3]>\", line 1, in <module>\n",
      "        assert not list(p.keys()) and p(40) and 40 in p.keys() and 30 not in p.keys()\n",
      "    NameError: name 'p' is not defined\n",
      "**********************************************************************\n",
      "File \"__main__\", line ?, in __main__.persist\n",
      "Failed example:\n",
      "    p.update(c)\n",
      "Exception raised:\n",
      "    Traceback (most recent call last):\n",
      "      File \"/Users/tonyfast/anaconda/lib/python3.5/doctest.py\", line 1321, in __run\n",
      "        compileflags, 1), test.globs)\n",
      "      File \"<doctest __main__.persist[4]>\", line 1, in <module>\n",
      "        p.update(c)\n",
      "    NameError: name 'p' is not defined\n",
      "**********************************************************************\n",
      "File \"__main__\", line ?, in __main__.persist\n",
      "Failed example:\n",
      "    assert 30 in p\n",
      "Exception raised:\n",
      "    Traceback (most recent call last):\n",
      "      File \"/Users/tonyfast/anaconda/lib/python3.5/doctest.py\", line 1321, in __run\n",
      "        compileflags, 1), test.globs)\n",
      "      File \"<doctest __main__.persist[5]>\", line 1, in <module>\n",
      "        assert 30 in p\n",
      "    NameError: name 'p' is not defined\n",
      "**********************************************************************\n",
      "File \"__main__\", line ?, in __main__.persist\n",
      "Failed example:\n",
      "    p.close()\n",
      "Exception raised:\n",
      "    Traceback (most recent call last):\n",
      "      File \"/Users/tonyfast/anaconda/lib/python3.5/doctest.py\", line 1321, in __run\n",
      "        compileflags, 1), test.globs)\n",
      "      File \"<doctest __main__.persist[6]>\", line 1, in <module>\n",
      "        p.close()\n",
      "    NameError: name 'p' is not defined\n",
      "**********************************************************************\n",
      "File \"__main__\", line ?, in __main__.persist\n",
      "Failed example:\n",
      "    p2 = persist('test', 'r')\n",
      "Exception raised:\n",
      "    Traceback (most recent call last):\n",
      "      File \"/Users/tonyfast/anaconda/lib/python3.5/doctest.py\", line 1321, in __run\n",
      "        compileflags, 1), test.globs)\n",
      "      File \"<doctest __main__.persist[7]>\", line 1, in <module>\n",
      "        p2 = persist('test', 'r')\n",
      "      File \"<ipython-input-11-03264a9229c2>\", line 17, in __init__\n",
      "        if isinstance(callable, str): callable = self.get(callable, composition())\n",
      "    NameError: name 'composition' is not defined\n",
      "**********************************************************************\n",
      "File \"__main__\", line ?, in __main__.persist\n",
      "Failed example:\n",
      "    assert 10 in p2 and 20 in p2 and 30 in p2 and 40 in p2\n",
      "Exception raised:\n",
      "    Traceback (most recent call last):\n",
      "      File \"/Users/tonyfast/anaconda/lib/python3.5/doctest.py\", line 1321, in __run\n",
      "        compileflags, 1), test.globs)\n",
      "      File \"<doctest __main__.persist[8]>\", line 1, in <module>\n",
      "        assert 10 in p2 and 20 in p2 and 30 in p2 and 40 in p2\n",
      "    NameError: name 'p2' is not defined\n",
      "**********************************************************************\n",
      "2 items had failures:\n",
      "   1 of   2 in __main__.dispatch\n",
      "   7 of   9 in __main__.persist\n",
      "***Test Failed*** 8 failures.\n",
      "TestResults(failed=8, attempted=13)\n",
      "[NbConvertApp] Converting notebook objects.ipynb to python\r\n",
      "[NbConvertApp] Writing 3722 bytes to objects.py\r\n"
     ]
    }
   ],
   "source": [
    "if __name__ == '__main__':\n",
    "    print(__import__('doctest').testmod(verbose=False))\n",
    "    !jupyter nbconvert --to python --TemplateExporter.exclude_input_prompt=True objects.ipynb"
   ]
  },
  {
   "cell_type": "code",
   "execution_count": null,
   "metadata": {},
   "outputs": [],
   "source": []
  }
 ],
 "metadata": {
  "anaconda-cloud": {},
  "kernelspec": {
   "display_name": "Python 3",
   "language": "python",
   "name": "python3"
  },
  "language_info": {
   "codemirror_mode": {
    "name": "ipython",
    "version": 3
   },
   "file_extension": ".py",
   "mimetype": "text/x-python",
   "name": "python",
   "nbconvert_exporter": "python",
   "pygments_lexer": "ipython3",
   "version": "3.5.3"
  },
  "nbconvert": {
   "nbconvert.exporters.templateexporter.TemplateExporter": {
    "JupyterApp": {
     "config_file": "./fidget/config.py"
    }
   }
  }
 },
 "nbformat": 4,
 "nbformat_minor": 2
}
