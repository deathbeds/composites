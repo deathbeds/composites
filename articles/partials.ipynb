{
 "cells": [
  {
   "cell_type": "code",
   "execution_count": 5,
   "metadata": {},
   "outputs": [],
   "source": [
    "from itertools import zip_longest\n",
    "from toolz import cons\n",
    "from inspect import getdoc\n",
    "__all__ = 'partial',"
   ]
  },
  {
   "cell_type": "code",
   "execution_count": 6,
   "metadata": {
    "collapsed": true
   },
   "outputs": [],
   "source": [
    "class partial(__import__('functools').partial):\n",
    "    \"\"\"partial overloads functools.partial to provide equality and documentation.\n",
    "    \n",
    "    >>> f = partial(range, 10) \n",
    "    >>> f == partial(range, 10)\n",
    "    >>> assert partial(range, 10, 20) == partial(range, 10)\n",
    "    \"\"\"\n",
    "    def __eq__(self, other):\n",
    "        return isinstance(other, partial) and all(\n",
    "            (a is b) or (a == b) for a, b in zip_longest(*(cons(_.func, _.args) for _ in [self, other])))\n",
    "    \n",
    "    @property\n",
    "    def __doc__(self): return getdoc(self.func)\n",
    "\n",
    "class partial_attribute(partial):\n",
    "    \"\"\"partial_attribute is a partial for MethodType attributes.\n",
    "    \n",
    "    >>> f = partial_attribute(str.replace, 'x', 'y')\n",
    "    >>> assert f('xy') == 'yy'\n",
    "    \"\"\"\n",
    "    def __call__(self, object):\n",
    "        if callable(self.func):\n",
    "            return self.func(object, *self.args, **self.keywords) \n",
    "        return self.func"
   ]
  },
  {
   "cell_type": "code",
   "execution_count": 7,
   "metadata": {},
   "outputs": [
    {
     "name": "stdout",
     "output_type": "stream",
     "text": [
      "TestResults(failed=0, attempted=2)\n",
      "[NbConvertApp] Converting notebook partials.ipynb to python\r\n",
      "[NbConvertApp] Writing 1202 bytes to partials.py\r\n"
     ]
    }
   ],
   "source": [
    "if __name__ == '__main__':\n",
    "    print(__import__('doctest').testmod(verbose=False))\n",
    "    !jupyter nbconvert --to python --TemplateExporter.exclude_input_prompt=True partials.ipynb"
   ]
  },
  {
   "cell_type": "code",
   "execution_count": null,
   "metadata": {},
   "outputs": [],
   "source": []
  }
 ],
 "metadata": {
  "anaconda-cloud": {},
  "kernelspec": {
   "display_name": "Python 3",
   "language": "python",
   "name": "python3"
  },
  "language_info": {
   "codemirror_mode": {
    "name": "ipython",
    "version": 3
   },
   "file_extension": ".py",
   "mimetype": "text/x-python",
   "name": "python",
   "nbconvert_exporter": "python",
   "pygments_lexer": "ipython3",
   "version": "3.5.3"
  },
  "nbconvert": {
   "nbconvert.exporters.templateexporter.TemplateExporter": {
    "JupyterApp": {
     "config_file": "./fidget/config.py"
    }
   }
  }
 },
 "nbformat": 4,
 "nbformat_minor": 2
}
