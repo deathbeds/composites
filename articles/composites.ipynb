{
 "cells": [
  {
   "cell_type": "markdown",
   "metadata": {},
   "source": [
    "# Composites\n",
    "\n",
    "Composites are functional programming-style objects in Python.  Composites rely on `toolz` and Python builtins to compose higher-order functions. Effectively, composites are lists and dicts with call methods."
   ]
  },
  {
   "cell_type": "code",
   "execution_count": 1,
   "metadata": {},
   "outputs": [],
   "source": [
    "try:\n",
    "    from .partials import partial\n",
    "except:\n",
    "    from partials import partial\n",
    "\n",
    "__all__ = 'a', 'an', 'the', 'star', 'do', 'λ', 'flip', 'excepts', 'composite'\n",
    "\n",
    "from collections import UserList, deque\n",
    "from inspect import signature, getdoc\n",
    "import toolz\n",
    "from toolz.curried import isiterable, identity, concatv, last\n",
    "from copy import copy\n",
    "dunder = '__{}__'.format"
   ]
  },
  {
   "cell_type": "code",
   "execution_count": 2,
   "metadata": {
    "collapsed": true
   },
   "outputs": [],
   "source": [
    "def null(*args, **kwargs): return args[0] if args else None"
   ]
  },
  {
   "cell_type": "markdown",
   "metadata": {},
   "source": [
    "CallableList subclasses `UserList` to manipulate compositions with a familar `api`; this approach provides total ordering."
   ]
  },
  {
   "cell_type": "code",
   "execution_count": 58,
   "metadata": {
    "collapsed": true
   },
   "outputs": [],
   "source": [
    "class CallableList(UserList):\n",
    "    \"\"\"CallableList is a callable that chains a list of functions through a composite.\n",
    "    \"\"\"\n",
    "    def __iter__(self): \n",
    "        yield from iter(self.data or [null])\n",
    "\n",
    "    def __abs__(self): return toolz.compose(last, partial(self))\n",
    "    def __call__(self, *args, **kwargs):\n",
    "        for object in self:\n",
    "            args, kwargs = [object(*args, **kwargs)] if callable(object) else [object], dict()    \n",
    "            yield null(*args, **kwargs)\n",
    "                \n",
    "    "
   ]
  },
  {
   "cell_type": "markdown",
   "metadata": {},
   "source": [
    "* Use a better error message when calling composites.\n",
    "* Attach attributes to copy, pickle, print, and other data model attributes."
   ]
  },
  {
   "cell_type": "code",
   "execution_count": 59,
   "metadata": {
    "collapsed": true
   },
   "outputs": [],
   "source": [
    "class compose(CallableList):\n",
    "    __slots__ = 'data',   \n",
    "    def __call__(self, *args, **kwargs):\n",
    "        callables, result = iter(self), super().__call__(*args, **kwargs)\n",
    "        while True:\n",
    "            try:\n",
    "                callable = next(callables) \n",
    "                yield next(result)\n",
    "            except Exception as e:\n",
    "                if isinstance(e, StopIteration): break\n",
    "                callable = repr(callable)\n",
    "                if not any(line in callable for line in e.args[0].splitlines()):\n",
    "                    e.args = callable+'\\n'+e.args[0], *e.args[1:]\n",
    "                raise e\n",
    "\n",
    "\n",
    "    def __init__(self, data=None):\n",
    "        super().__init__(data is not None and (not isiterable(data) or isinstance(data, str)) and [data] or data or list())\n",
    "        self.__qualname__ = __name__ + '.' + type(self).__name__\n",
    "    \n",
    "    def __getitem__(self, object):\n",
    "        return self.data[object] if isinstance(object, (int, slice)) else self.append(object)\n",
    "            \n",
    "        raise AttributeError(object)\n",
    "    def append(self, object):\n",
    "        return  self.data.append(object) or not self.data[0] and self.data.pop(0) or self        \n",
    "    \n",
    "    @property\n",
    "    def __name__(self): return type(self).__name__\n",
    "                \n",
    "    @property\n",
    "    def __signature__(self): return signature(self[0])\n",
    "    def __hash__(self): return hash(tuple(self))\n",
    "    def __bool__(self): return any(self.data)\n",
    "    def __reversed__(self): \n",
    "        self.data = list(reversed(self.data))\n",
    "        return self\n",
    "    def __getstate__(self): return tuple(getattr(self, slot) for slot in self.__slots__)\n",
    "    def __setstate__(self, state):\n",
    "        for attr, value in zip(reversed(self.__slots__), reversed(state)): setattr(self, attr, value)\n",
    "            \n",
    "    def __copy__(self, memo=None):\n",
    "        new = type(self.__name__, (type(self),), {'_annotations_': self._annotations_})()\n",
    "        return new.__setstate__(tuple(map(copy, self.__getstate__()))) or new\n",
    "    _annotations_ = None\n",
    "    @property\n",
    "    def __annotations__(self): \n",
    "        return self._annotations_ or self and getattr(self[0], dunder('annotations'), None) or {}\n",
    "\n",
    "    def __repr__(self):\n",
    "        other = len(self.__slots__) is 2 and repr(self.__getstate__()[1-self.__slots__.index('data')])\n",
    "        return type(self).__name__.replace('composite', 'λ') +(\n",
    "            '({})'.format(other or '').replace('()', ':')\n",
    "        )+ super().__repr__()\n",
    "    \n",
    "    copy = __deepcopy__ = __copy__"
   ]
  },
  {
   "cell_type": "markdown",
   "metadata": {},
   "source": [
    "* A factory skips parenthesis when initializing a composition."
   ]
  },
  {
   "cell_type": "code",
   "execution_count": 60,
   "metadata": {
    "collapsed": true
   },
   "outputs": [],
   "source": [
    "class factory(compose):\n",
    "    \"\"\"A factory of composition that works as a decorator.\n",
    "    \n",
    "    Create a factory\n",
    "    >>> some = factory(compose)\n",
    "\n",
    "\n",
    "    Supply partial arguments\n",
    "    \n",
    "    >> some(10)(20)\n",
    "    10\n",
    "    >> some(10)[range](20)\n",
    "    range(10, 20)\n",
    "    >> assert some(10)[range](20) == a.range(10)(20)\n",
    "    \"\"\"\n",
    "    __slots__ = 'object', 'data', 'args', 'kwargs'\n",
    "    def __init__(self, object, data=None, args=None, kwargs=None):\n",
    "        super().__init__(data)\n",
    "        self.object, self.args, self.kwargs = object, args, kwargs\n",
    "        \n",
    "    def __getitem__(self, attr):\n",
    "        if isinstance(self.args, tuple) and  isinstance(self.kwargs, dict):\n",
    "            attr = attr == slice(None) and abs(self) or partial(attr, *self.args, **self.kwargs)\n",
    "        return self.object()[attr]\n",
    "                \n",
    "    def __getattr__(self, attr, *args, **kwargs):\n",
    "        return self.object().__getattr__(attr, *args, **kwargs)\n",
    "    \n",
    "    def __call__(self, *args, **kwargs):\n",
    "        return (\n",
    "            next(concatv(self.args, args)) if isinstance(self.args, tuple) and  isinstance(self.kwargs, dict) \n",
    "            else factory(self.object, self.data, args, kwargs))    \n",
    "    \n",
    "    def __dir__(self): return dir(self.object())\n",
    "    \n",
    "    @property\n",
    "    def __doc__(self): return getdoc(self.object)"
   ]
  },
  {
   "cell_type": "markdown",
   "metadata": {},
   "source": [
    "__composite__ is the core object. This class returns the executed function when called, rather than a generator.  The getitem method transforms non-callable iterable objects into juxtaposed functions."
   ]
  },
  {
   "cell_type": "code",
   "execution_count": 61,
   "metadata": {
    "collapsed": true
   },
   "outputs": [],
   "source": [
    "class composite(compose):\n",
    "    \"\"\"Compose higher-order functions in python.\n",
    "    \n",
    "    \n",
    "    \"\"\"\n",
    "    def __call__(self, *args, **kwargs): return deque(super().__call__(*args, **kwargs), maxlen=1).pop()\n",
    "    def __abs__(self): return self.__call__\n",
    "    def __getitem__(self, object):\n",
    "        \"\"\"Use brackets to append functions to the compose.\n",
    "        >>> compose()[range][list]\n",
    "        compose:[<class 'range'>, <class 'list'>]\n",
    "        \"\"\"        \n",
    "        # from ipython prediction\n",
    "        if object in (slice(None), getdoc): return self\n",
    "        return super().__getitem__([identity, juxt][isiterable(object) and not isinstance(object, (str, compose)) and not callable(object)](object))"
   ]
  },
  {
   "cell_type": "markdown",
   "metadata": {},
   "source": [
    "__juxt__ applies the same arguments to a list of functions."
   ]
  },
  {
   "cell_type": "code",
   "execution_count": 62,
   "metadata": {
    "collapsed": true
   },
   "outputs": [],
   "source": [
    "class juxt(composite):\n",
    "    \"\"\"Juxtapose functions in python.  Juxtaposition applies the same input\n",
    "    arguments to a list of functions.\n",
    "    \n",
    "    >>> juxt([range, type])(10)\n",
    "    [range(0, 10), <class 'int'>]\n",
    "    \"\"\"\n",
    "    __slots__ = 'data', 'object'\n",
    "    \n",
    "    def __init__(self, data=None, object=None):\n",
    "        if isiterable(data) and not isinstance(data, composite):\n",
    "            object = object or type(data)\n",
    "        self.object = object or tuple\n",
    "        super().__init__(list(data.items()) if isinstance(data, dict) else list(data or list()))\n",
    "\n",
    "    def __iter__(self):\n",
    "        for callable in self.data:\n",
    "            if not isinstance(callable, (str, compose)) and isiterable(callable):\n",
    "                callable = juxt(callable)\n",
    "            if not isinstance(callable, compose):\n",
    "                callable = abs(compose(callable))\n",
    "            yield callable\n",
    "            \n",
    "    def __call__(self, *args, **kwargs): \n",
    "        return self.object(callable(*args, **kwargs) for callable in self)"
   ]
  },
  {
   "cell_type": "markdown",
   "metadata": {},
   "source": [
    "__flip__ reverses the arguments."
   ]
  },
  {
   "cell_type": "code",
   "execution_count": 63,
   "metadata": {
    "collapsed": true
   },
   "outputs": [],
   "source": [
    "class flip(composite):\n",
    "    \"\"\"Call a composition with the arguments reversed.\n",
    "    \n",
    "    >>> assert flip()[range](20, 10) == range(10, 20)\n",
    "    \"\"\"\n",
    "    def __call__(self, *args, **kwargs):\n",
    "        return super().__call__(*reversed(args), **kwargs)"
   ]
  },
  {
   "cell_type": "markdown",
   "metadata": {},
   "source": [
    "__excepts__ returns rather than raises an exception."
   ]
  },
  {
   "cell_type": "code",
   "execution_count": 70,
   "metadata": {
    "collapsed": true
   },
   "outputs": [],
   "source": [
    "class excepts(composite):\n",
    "    \"\"\"A composition that returns exceptions as values.\n",
    "    \n",
    "    >>> excepts(TypeError)[str.upper](10)\n",
    "    TypeError(\"<method 'upper' of 'str' objects>\\\\ndescriptor 'upper' requires a 'str' object but received a 'int'\",)\n",
    "    \"\"\"\n",
    "    __slots__ = 'exceptions', 'data'\n",
    "    def __init__(self, exceptions=None, data=None):\n",
    "        setattr(self, 'exceptions', exceptions) or super().__init__(data)\n",
    "    \n",
    "    def __call__(self, *args, **kwargs):\n",
    "        try: return super(excepts, self).__call__(*args, **kwargs)\n",
    "        except self.exceptions as e: return e"
   ]
  },
  {
   "cell_type": "markdown",
   "metadata": {},
   "source": [
    "__a__, __an__, __the__, and __λ__ are the main __articles__ used for function composition.  They seemed like uncommon namespace choices."
   ]
  },
  {
   "cell_type": "code",
   "execution_count": 71,
   "metadata": {
    "collapsed": true
   },
   "outputs": [],
   "source": [
    "a = an = the = λ = factory(composite)"
   ]
  },
  {
   "cell_type": "code",
   "execution_count": 75,
   "metadata": {
    "collapsed": true
   },
   "outputs": [],
   "source": [
    "@factory\n",
    "class do(composite):\n",
    "    \"\"\"Evaluate a function without modifying the input arguments.\n",
    "    \n",
    "    >>> assert not λ[print](10) and do()[print](10) is 10\n",
    "    10\n",
    "    10\n",
    "    \"\"\"\n",
    "    \n",
    "    def __call__(self, *args, **kwargs):\n",
    "        super().__call__(*args, **kwargs)\n",
    "        return null(*args)"
   ]
  },
  {
   "cell_type": "code",
   "execution_count": 76,
   "metadata": {
    "collapsed": true
   },
   "outputs": [],
   "source": [
    "@factory\n",
    "class star(composite):\n",
    "    \"\"\"Supply iterables and dictionaries as starred arguments to a function.\n",
    "    \n",
    "    >>> def f(*args, **kwargs): return args, kwargs\n",
    "    >>> star[f]([10, 20], {'foo': 'bar'})\n",
    "    ((10, 20), {'foo': 'bar'})\n",
    "    \"\"\"\n",
    "    def __call__(self, *inputs):\n",
    "        args, kwargs = list(), dict()\n",
    "        [kwargs.update(**input) if isinstance(input, dict) else args.extend(input) for input in inputs]\n",
    "        return super().__call__(*args, **kwargs)"
   ]
  },
  {
   "cell_type": "markdown",
   "metadata": {},
   "source": [
    "Operations adds a bunch of attributes and symbols to compositions."
   ]
  },
  {
   "cell_type": "code",
   "execution_count": 77,
   "metadata": {},
   "outputs": [],
   "source": [
    "try:\n",
    "    from . import operations\n",
    "except:\n",
    "    import operations"
   ]
  },
  {
   "cell_type": "code",
   "execution_count": 78,
   "metadata": {},
   "outputs": [
    {
     "name": "stdout",
     "output_type": "stream",
     "text": [
      "TestResults(failed=0, attempted=4)\n",
      "[NbConvertApp] Converting notebook composites.ipynb to python\r\n",
      "[NbConvertApp] Writing 9409 bytes to composites.py\r\n",
      "composites.py:23:1: E704 multiple statements on one line (def)\r\n",
      "composites.py:34:5: E704 multiple statements on one line (def)\r\n",
      "composites.py:46:1: E302 expected 2 blank lines, found 4\r\n",
      "composites.py:55:48: E701 multiple statements on one line (colon)\r\n",
      "composites.py:58:38: E226 missing whitespace around arithmetic operator\r\n",
      "composites.py:58:43: E226 missing whitespace around arithmetic operator\r\n",
      "composites.py:71:15: E271 multiple spaces after keyword\r\n",
      "composites.py:74:5: E704 multiple statements on one line (def)\r\n",
      "composites.py:77:5: E704 multiple statements on one line (def)\r\n",
      "composites.py:78:5: E704 multiple statements on one line (def)\r\n",
      "composites.py:79:5: E704 multiple statements on one line (def)\r\n",
      "composites.py:83:5: E704 multiple statements on one line (def)\r\n",
      "composites.py:85:74: E701 multiple statements on one line (colon)\r\n",
      "composites.py:96:72: E226 missing whitespace around arithmetic operator\r\n",
      "composites.py:97:63: E225 missing whitespace around operator\r\n",
      "composites.py:99:10: E225 missing whitespace around operator\r\n",
      "composites.py:127:44: E271 multiple spaces after keyword\r\n",
      "composites.py:136:79: E271 multiple spaces after keyword\r\n",
      "composites.py:139:5: E704 multiple statements on one line (def)\r\n",
      "composites.py:142:5: E704 multiple statements on one line (def)\r\n",
      "composites.py:152:5: E704 multiple statements on one line (def)\r\n",
      "composites.py:153:5: E704 multiple statements on one line (def)\r\n",
      "composites.py:160:43: E701 multiple statements on one line (colon)\r\n",
      "composites.py:217:12: E701 multiple statements on one line (colon)\r\n",
      "composites.py:218:36: E701 multiple statements on one line (colon)\r\n",
      "composites.py:259:5: F401 'operations' imported but unused\r\n",
      "composites.py:264:5: F821 undefined name 'get_ipython'\r\n",
      "composites.py:265:5: F821 undefined name 'get_ipython'\r\n",
      "composites.py:266:1: W391 blank line at end of file\r\n"
     ]
    }
   ],
   "source": [
    "if __name__ == '__main__':\n",
    "    print(__import__('doctest').testmod(verbose=False))\n",
    "    !jupyter nbconvert --to python --TemplateExporter.exclude_input_prompt=True composites.ipynb\n",
    "    !flake8 --ignore=E501,E301,E303,W503,W291,W293 composites.py "
   ]
  },
  {
   "cell_type": "code",
   "execution_count": null,
   "metadata": {},
   "outputs": [],
   "source": []
  },
  {
   "cell_type": "code",
   "execution_count": null,
   "metadata": {},
   "outputs": [],
   "source": []
  }
 ],
 "metadata": {
  "anaconda-cloud": {},
  "kernelspec": {
   "display_name": "Python 3",
   "language": "python",
   "name": "python3"
  },
  "language_info": {
   "codemirror_mode": {
    "name": "ipython",
    "version": 3
   },
   "file_extension": ".py",
   "mimetype": "text/x-python",
   "name": "python",
   "nbconvert_exporter": "python",
   "pygments_lexer": "ipython3",
   "version": "3.5.3"
  },
  "nbconvert": {
   "nbconvert.exporters.templateexporter.TemplateExporter": {
    "JupyterApp": {
     "config_file": "./fidget/config.py"
    }
   }
  }
 },
 "nbformat": 4,
 "nbformat_minor": 2
}
