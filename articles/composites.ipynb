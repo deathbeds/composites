{
 "cells": [
  {
   "cell_type": "markdown",
   "metadata": {},
   "source": [
    "# Composites\n",
    "\n",
    "Composites are functional programming-style objects in Python.  Composites rely on `toolz` and Python builtins to compose higher-order functions. Effectively, composites are lists and dicts with call methods."
   ]
  },
  {
   "cell_type": "code",
   "execution_count": 1,
   "metadata": {},
   "outputs": [],
   "source": [
    "try:\n",
    "    from .partials import partial\n",
    "except:\n",
    "    from partials import partial\n",
    "\n",
    "__all__ = 'a', 'an', 'the', 'star', 'do', 'λ', 'flip', 'excepts', 'composite'\n",
    "\n",
    "from collections import UserList, deque\n",
    "from inspect import signature, getdoc\n",
    "import toolz\n",
    "from toolz.curried import isiterable, identity, concatv, last\n",
    "from copy import copy\n",
    "dunder = '__{}__'.format"
   ]
  },
  {
   "cell_type": "code",
   "execution_count": 2,
   "metadata": {
    "collapsed": true
   },
   "outputs": [],
   "source": [
    "def null(*args, **kwargs): return args[0] if args else None"
   ]
  },
  {
   "cell_type": "markdown",
   "metadata": {},
   "source": [
    "CallableList subclasses `UserList` to manipulate compositions with a familar `api`; this approach provides total ordering."
   ]
  },
  {
   "cell_type": "code",
   "execution_count": 3,
   "metadata": {
    "collapsed": true
   },
   "outputs": [],
   "source": [
    "class CallableList(UserList):\n",
    "    \"\"\"CallableList is a callable that chains a list of functions through a composite.\n",
    "    \"\"\"\n",
    "    def __iter__(self): \n",
    "        yield from iter(self.data or [null])\n",
    "\n",
    "    def __abs__(self): return toolz.compose(last, partial(self))\n",
    "    def __call__(self, *args, **kwargs):\n",
    "        for object in self:\n",
    "            args, kwargs = [object(*args, **kwargs)] if callable(object) else [object], dict()    \n",
    "            yield null(*args, **kwargs)\n",
    "                \n",
    "    "
   ]
  },
  {
   "cell_type": "markdown",
   "metadata": {},
   "source": [
    "* Use a better error message when calling composites.\n",
    "* Attach attributes to copy, pickle, print, and other data model attributes."
   ]
  },
  {
   "cell_type": "code",
   "execution_count": 4,
   "metadata": {
    "collapsed": true
   },
   "outputs": [],
   "source": [
    "class compose(CallableList):\n",
    "    __slots__ = 'data',   \n",
    "    def __call__(self, *args, **kwargs):\n",
    "        callables, result = iter(self), super().__call__(*args, **kwargs)\n",
    "        while True:\n",
    "            try:\n",
    "                callable = next(callables) \n",
    "                yield next(result)\n",
    "            except Exception as e:\n",
    "                if isinstance(e, StopIteration): break\n",
    "                callable = repr(callable)\n",
    "                if not any(line in callable for line in e.args[0].splitlines()):\n",
    "                    e.args = callable+'\\n'+e.args[0], *e.args[1:]\n",
    "                raise e\n",
    "\n",
    "\n",
    "    def __init__(self, data=None):\n",
    "        super().__init__(data is not None and (not isiterable(data) or isinstance(data, str)) and [data] or data or list())\n",
    "        self.__qualname__ = __name__ + '.' + type(self).__name__\n",
    "    \n",
    "    def __getitem__(self, object):\n",
    "        return self.data[object] if isinstance(object, (int, slice)) else self.append(object)\n",
    "            \n",
    "        raise AttributeError(attr)\n",
    "    def append(self, object):\n",
    "        return  self.data.append(object) or not self.data[0] and self.data.pop(0) or self        \n",
    "    \n",
    "    @property\n",
    "    def __name__(self): return type(self).__name__\n",
    "                \n",
    "    @property\n",
    "    def __signature__(self): return signature(self[0])\n",
    "    def __hash__(self): return hash(tuple(self))\n",
    "    def __bool__(self): return any(self.data)\n",
    "    def __reversed__(self): \n",
    "        self.data = list(reversed(self.data))\n",
    "        return self\n",
    "    def __getstate__(self): return tuple(getattr(self, slot) for slot in self.__slots__)\n",
    "    def __setstate__(self, state):\n",
    "        for attr, value in zip(reversed(self.__slots__), reversed(state)): setattr(self, attr, value)\n",
    "            \n",
    "    def __copy__(self, memo=None):\n",
    "        new = type(self.__name__, (type(self),), {'_annotations_': self._annotations_})()\n",
    "        return new.__setstate__(tuple(map(copy, self.__getstate__()))) or new\n",
    "    _annotations_ = None\n",
    "    @property\n",
    "    def __annotations__(self): \n",
    "        return self._annotations_ or self and getattr(self[0], dunder('annotations'), None) or {}\n",
    "\n",
    "    def __repr__(self):\n",
    "        other = len(self.__slots__) is 2 and repr(self.__getstate__()[1-self.__slots__.index('data')])\n",
    "        return type(self).__name__.replace('composite', 'λ') +(\n",
    "            '({})'.format(other or '').replace('()', ':')\n",
    "        )+ super().__repr__()\n",
    "    \n",
    "    copy = __deepcopy__ = __copy__"
   ]
  },
  {
   "cell_type": "markdown",
   "metadata": {},
   "source": [
    "* A factory skips parenthesis when initializing a composition."
   ]
  },
  {
   "cell_type": "code",
   "execution_count": 5,
   "metadata": {
    "collapsed": true
   },
   "outputs": [],
   "source": [
    "class factory(compose):\n",
    "    \"\"\"A factory of composition that works as a decorator.\n",
    "    \n",
    "    Create a factory\n",
    "    >>> some = factory(compose)\n",
    "\n",
    "\n",
    "    Supply partial arguments\n",
    "    \n",
    "    >> some(10)(20)\n",
    "    10\n",
    "    >> some(10)[range](20)\n",
    "    range(10, 20)\n",
    "    >> assert some(10)[range](20) == a.range(10)(20)\n",
    "    \"\"\"\n",
    "    __slots__ = 'object', 'data', 'args', 'kwargs'\n",
    "    def __init__(self, object, data=None, args=None, kwargs=None):\n",
    "        super().__init__(data)\n",
    "        self.object, self.args, self.kwargs = object, args, kwargs\n",
    "        \n",
    "    def __getitem__(self, attr):\n",
    "        if isinstance(self.args, tuple) and  isinstance(self.kwargs, dict):\n",
    "            attr = attr == slice(None) and abs(self) or partial(attr, *self.args, **self.kwargs)\n",
    "        return self.object()[attr]\n",
    "                \n",
    "    def __getattr__(self, attr, *args, **kwargs):\n",
    "        return self.object().__getattr__(attr, *args, **kwargs)\n",
    "    \n",
    "    def __call__(self, *args, **kwargs):\n",
    "        return (\n",
    "            next(concatv(self.args, args)) if isinstance(self.args, tuple) and  isinstance(self.kwargs, dict) \n",
    "            else factory(self.object, self.data, args, kwargs))    \n",
    "    \n",
    "    def __dir__(self): return dir(self.object())"
   ]
  },
  {
   "cell_type": "markdown",
   "metadata": {},
   "source": [
    "__composite__ is the core object. This class returns the executed function when called, rather than a generator.  The getitem method transforms non-callable iterable objects into juxtaposed functions."
   ]
  },
  {
   "cell_type": "code",
   "execution_count": 6,
   "metadata": {
    "collapsed": true
   },
   "outputs": [],
   "source": [
    "class composite(compose):\n",
    "    \"\"\"λ provides syntactic sugar to functions.\n",
    "    \n",
    "    Prefer using the factory articles `a`, `an`, `the`, and `λ` because they save\n",
    "    on typography in both naming and the use of parenthesis.\n",
    "    \"\"\"\n",
    "    def __call__(self, *args, **kwargs): return deque(super().__call__(*args, **kwargs), maxlen=1).pop()\n",
    "\n",
    "    def __getitem__(self, object):\n",
    "        \"\"\"Use brackets to append functions to the compose.\n",
    "        >>> compose()[range][list]\n",
    "        compose:[<class 'range'>, <class 'list'>]\n",
    "        \"\"\"        \n",
    "        # from ipython prediction\n",
    "        if object in (slice(None), getdoc): return self\n",
    "        return super().__getitem__([identity, juxt][isiterable(object) and not isinstance(object, (str, compose)) and not callable(object)](object))"
   ]
  },
  {
   "cell_type": "markdown",
   "metadata": {},
   "source": [
    "__juxt__ applies the same arguments to a list of functions."
   ]
  },
  {
   "cell_type": "code",
   "execution_count": 7,
   "metadata": {
    "collapsed": true
   },
   "outputs": [],
   "source": [
    "class juxt(composite):\n",
    "    \"\"\"juxtapose functions.\n",
    "    \n",
    "    >>> juxt([range, type])(10)\n",
    "    [range(0, 10), <class 'int'>]\n",
    "    \"\"\"\n",
    "    __slots__ = 'data', 'object'\n",
    "    \n",
    "    def __init__(self, data=None, object=None):\n",
    "        if isiterable(data) and not isinstance(data, composite):\n",
    "            object = object or type(data)\n",
    "        self.object = object or tuple\n",
    "        super().__init__(list(data.items()) if isinstance(data, dict) else list(data or list()))\n",
    "\n",
    "    def __iter__(self):\n",
    "        for callable in self.data:\n",
    "            if not isinstance(callable, (str, compose)) and isiterable(callable):\n",
    "                callable = juxt(callable)\n",
    "            if not isinstance(callable, compose):\n",
    "                callable = abs(compose(callable))\n",
    "            yield callable\n",
    "            \n",
    "    def __call__(self, *args, **kwargs): \n",
    "        return self.object(callable(*args, **kwargs) for callable in self)"
   ]
  },
  {
   "cell_type": "markdown",
   "metadata": {},
   "source": [
    "__flip__ reverses the arguments."
   ]
  },
  {
   "cell_type": "code",
   "execution_count": 8,
   "metadata": {
    "collapsed": true
   },
   "outputs": [],
   "source": [
    "class flip(composite):\n",
    "    def __call__(self, *args, **kwargs):\n",
    "        return super().__call__(*reversed(args), **kwargs)"
   ]
  },
  {
   "cell_type": "markdown",
   "metadata": {},
   "source": [
    "__excepts__ returns rather than raises an exception."
   ]
  },
  {
   "cell_type": "code",
   "execution_count": 9,
   "metadata": {
    "collapsed": true
   },
   "outputs": [],
   "source": [
    "class excepts(composite):\n",
    "    \"\"\"\n",
    "    >>> excepts(TypeError)[str.upper](10)\n",
    "    TypeError(\"<method 'upper' of 'str' objects>\\\\ndescriptor 'upper' requires a 'str' object but received a 'int'\",)\n",
    "    \"\"\"\n",
    "    __slots__ = 'exceptions', 'data'\n",
    "    def __init__(self, exceptions=None, data=None):\n",
    "        setattr(self, 'exceptions', exceptions) or super().__init__(data)\n",
    "    \n",
    "    def __call__(self, *args, **kwargs):\n",
    "        try: return super(excepts, self).__call__(*args, **kwargs)\n",
    "        except self.exceptions as e: return e"
   ]
  },
  {
   "cell_type": "markdown",
   "metadata": {},
   "source": [
    "__a__, __an__, __the__, and __λ__ are the main __articles__ used for function composition.  They seemed like uncommon namespace choices."
   ]
  },
  {
   "cell_type": "code",
   "execution_count": 10,
   "metadata": {
    "collapsed": true
   },
   "outputs": [],
   "source": [
    "a = an = the = λ = factory(composite)"
   ]
  },
  {
   "cell_type": "code",
   "execution_count": 11,
   "metadata": {
    "collapsed": true
   },
   "outputs": [],
   "source": [
    "@factory\n",
    "class do(composite):\n",
    "    \"\"\"\n",
    "    >>> assert not λ[print](10) and do()[print](10) is 10\n",
    "    10\n",
    "    10\n",
    "    \"\"\"\n",
    "    \n",
    "    def __call__(self, *args, **kwargs):\n",
    "        super().__call__(*args, **kwargs)\n",
    "        return args[0] if args else None"
   ]
  },
  {
   "cell_type": "code",
   "execution_count": 12,
   "metadata": {
    "collapsed": true
   },
   "outputs": [],
   "source": [
    "@factory\n",
    "class star(composite):\n",
    "    \"\"\"star sequences as arguments and containers as keywords\n",
    "    \n",
    "    >>> def f(*args, **kwargs): return args, kwargs\n",
    "    >>> star[f]([10, 20], {'foo': 'bar'})\n",
    "    ((10, 20), {'foo': 'bar'})\n",
    "    \"\"\"\n",
    "    def __call__(self, *inputs):\n",
    "        args, kwargs = list(), dict()\n",
    "        [kwargs.update(**input) if isinstance(input, dict) else args.extend(input) for input in inputs]\n",
    "        return super().__call__(*args, **kwargs)"
   ]
  },
  {
   "cell_type": "markdown",
   "metadata": {},
   "source": [
    "Operations adds a bunch of attributes and symbols to compositions."
   ]
  },
  {
   "cell_type": "code",
   "execution_count": null,
   "metadata": {},
   "outputs": [],
   "source": [
    "try:\n",
    "    from . import operations\n",
    "except:\n",
    "    import operations"
   ]
  },
  {
   "cell_type": "code",
   "execution_count": 2,
   "metadata": {},
   "outputs": [
    {
     "name": "stdout",
     "output_type": "stream",
     "text": [
      "TestResults(failed=0, attempted=0)\n",
      "[NbConvertApp] Converting notebook composites.ipynb to python\r\n",
      "[NbConvertApp] Writing 9066 bytes to composites.py\r\n",
      "composites.py:5:2: W291 trailing whitespace\r\n",
      "composites.py:6:80: E501 line too long (209 > 79 characters)\r\n",
      "composites.py:26:80: E501 line too long (124 > 79 characters)\r\n",
      "composites.py:29:80: E501 line too long (82 > 79 characters)\r\n",
      "composites.py:31:24: W291 trailing whitespace\r\n",
      "composites.py:35:5: E301 expected 1 blank line, found 0\r\n",
      "composites.py:37:80: E501 line too long (94 > 79 characters)\r\n",
      "composites.py:37:95: W291 trailing whitespace\r\n",
      "composites.py:39:1: W293 blank line contains whitespace\r\n",
      "composites.py:40:1: W293 blank line contains whitespace\r\n",
      "composites.py:43:1: E303 too many blank lines (4)\r\n",
      "composites.py:46:1: E302 expected 2 blank lines, found 4\r\n",
      "composites.py:47:24: W291 trailing whitespace\r\n",
      "composites.py:48:5: E301 expected 1 blank line, found 0\r\n",
      "composites.py:52:43: W291 trailing whitespace\r\n",
      "composites.py:55:48: E701 multiple statements on one line (colon)\r\n",
      "composites.py:57:80: E501 line too long (80 > 79 characters)\r\n",
      "composites.py:62:5: E303 too many blank lines (2)\r\n",
      "composites.py:63:80: E501 line too long (123 > 79 characters)\r\n",
      "composites.py:65:1: W293 blank line contains whitespace\r\n",
      "composites.py:67:80: E501 line too long (93 > 79 characters)\r\n",
      "composites.py:68:1: W293 blank line contains whitespace\r\n",
      "composites.py:69:30: F821 undefined name 'attr'\r\n",
      "composites.py:70:5: E301 expected 1 blank line, found 0\r\n",
      "composites.py:71:15: E271 multiple spaces after keyword\r\n",
      "composites.py:71:80: E501 line too long (89 > 79 characters)\r\n",
      "composites.py:71:90: W291 trailing whitespace\r\n",
      "composites.py:72:1: W293 blank line contains whitespace\r\n",
      "composites.py:75:1: W293 blank line contains whitespace\r\n",
      "composites.py:78:5: E301 expected 1 blank line, found 0\r\n",
      "composites.py:79:5: E301 expected 1 blank line, found 0\r\n",
      "composites.py:80:5: E301 expected 1 blank line, found 0\r\n",
      "composites.py:80:28: W291 trailing whitespace\r\n",
      "composites.py:83:5: E301 expected 1 blank line, found 0\r\n",
      "composites.py:83:80: E501 line too long (88 > 79 characters)\r\n",
      "composites.py:84:5: E301 expected 1 blank line, found 0\r\n",
      "composites.py:85:74: E701 multiple statements on one line (colon)\r\n",
      "composites.py:85:80: E501 line too long (101 > 79 characters)\r\n",
      "composites.py:86:1: W293 blank line contains whitespace\r\n",
      "composites.py:88:80: E501 line too long (89 > 79 characters)\r\n",
      "composites.py:91:5: E301 expected 1 blank line, found 0\r\n",
      "composites.py:92:31: W291 trailing whitespace\r\n",
      "composites.py:93:80: E501 line too long (97 > 79 characters)\r\n",
      "composites.py:96:80: E501 line too long (102 > 79 characters)\r\n",
      "composites.py:97:63: E225 missing whitespace around operator\r\n",
      "composites.py:99:10: E225 missing whitespace around operator\r\n",
      "composites.py:100:1: W293 blank line contains whitespace\r\n",
      "composites.py:108:1: W293 blank line contains whitespace\r\n",
      "composites.py:114:1: W293 blank line contains whitespace\r\n",
      "composites.py:122:5: E301 expected 1 blank line, found 0\r\n",
      "composites.py:125:1: W293 blank line contains whitespace\r\n",
      "composites.py:127:44: E271 multiple spaces after keyword\r\n",
      "composites.py:128:80: E501 line too long (96 > 79 characters)\r\n",
      "composites.py:130:1: W293 blank line contains whitespace\r\n",
      "composites.py:133:1: W293 blank line contains whitespace\r\n",
      "composites.py:136:79: E271 multiple spaces after keyword\r\n",
      "composites.py:136:80: E501 line too long (109 > 79 characters)\r\n",
      "composites.py:136:110: W291 trailing whitespace\r\n",
      "composites.py:137:64: W291 trailing whitespace\r\n",
      "composites.py:138:1: W293 blank line contains whitespace\r\n",
      "composites.py:142:80: E501 line too long (202 > 79 characters)\r\n",
      "composites.py:146:1: W293 blank line contains whitespace\r\n",
      "composites.py:147:80: E501 line too long (81 > 79 characters)\r\n",
      "composites.py:150:80: E501 line too long (104 > 79 characters)\r\n",
      "composites.py:156:12: W291 trailing whitespace\r\n",
      "composites.py:158:43: E701 multiple statements on one line (colon)\r\n",
      "composites.py:159:80: E501 line too long (148 > 79 characters)\r\n",
      "composites.py:166:1: W293 blank line contains whitespace\r\n",
      "composites.py:171:1: W293 blank line contains whitespace\r\n",
      "composites.py:176:80: E501 line too long (96 > 79 characters)\r\n",
      "composites.py:180:80: E501 line too long (81 > 79 characters)\r\n",
      "composites.py:185:1: W293 blank line contains whitespace\r\n",
      "composites.py:186:41: W291 trailing whitespace\r\n",
      "composites.py:202:80: E501 line too long (117 > 79 characters)\r\n",
      "composites.py:205:5: E301 expected 1 blank line, found 0\r\n",
      "composites.py:207:1: W293 blank line contains whitespace\r\n",
      "composites.py:209:12: E701 multiple statements on one line (colon)\r\n",
      "composites.py:210:36: E701 multiple statements on one line (colon)\r\n",
      "composites.py:213:80: E501 line too long (138 > 79 characters)\r\n",
      "composites.py:225:1: W293 blank line contains whitespace\r\n",
      "composites.py:234:1: W293 blank line contains whitespace\r\n",
      "composites.py:241:80: E501 line too long (103 > 79 characters)\r\n",
      "composites.py:250:5: F401 'operations' imported but unused\r\n",
      "composites.py:255:5: F821 undefined name 'get_ipython'\r\n",
      "composites.py:255:80: E501 line too long (119 > 79 characters)\r\n",
      "composites.py:256:5: F821 undefined name 'get_ipython'\r\n",
      "composites.py:257:1: W391 blank line at end of file\r\n"
     ]
    }
   ],
   "source": [
    "if __name__ == '__main__':\n",
    "    print(__import__('doctest').testmod(verbose=False))\n",
    "    !jupyter nbconvert --to python --TemplateExporter.exclude_input_prompt=True composites.ipynb\n",
    "    !flake8 composites.py"
   ]
  },
  {
   "cell_type": "code",
   "execution_count": null,
   "metadata": {},
   "outputs": [],
   "source": []
  }
 ],
 "metadata": {
  "anaconda-cloud": {},
  "kernelspec": {
   "display_name": "Python 3",
   "language": "python",
   "name": "python3"
  },
  "language_info": {
   "codemirror_mode": {
    "name": "ipython",
    "version": 3
   },
   "file_extension": ".py",
   "mimetype": "text/x-python",
   "name": "python",
   "nbconvert_exporter": "python",
   "pygments_lexer": "ipython3",
   "version": "3.5.3"
  },
  "nbconvert": {
   "nbconvert.exporters.templateexporter.TemplateExporter": {
    "JupyterApp": {
     "config_file": "./fidget/config.py"
    }
   }
  }
 },
 "nbformat": 4,
 "nbformat_minor": 2
}
