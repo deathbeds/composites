{
 "cells": [
  {
   "cell_type": "code",
   "execution_count": 1,
   "metadata": {},
   "outputs": [],
   "source": [
    "from functools import total_ordering, singledispatch, partialmethod, wraps\n",
    "from itertools import zip_longest, chain\n",
    "from collections import ChainMap\n",
    "from toolz.curried import first, isiterable, partial, identity, count, get, concat\n",
    "from copy import copy\n",
    "__all__ = 'a', 'an', 'the', 'then', 'f', 'star', 'flip', 'do', \n",
    "from collections import UserList, OrderedDict\n",
    "\n",
    "dunder = '__{}__'.format"
   ]
  },
  {
   "cell_type": "code",
   "execution_count": 2,
   "metadata": {},
   "outputs": [],
   "source": [
    "class attributes(ChainMap):\n",
    "    def __getitem__(self, key):\n",
    "        for mapping in self.maps:\n",
    "            try:\n",
    "                return (isinstance(mapping, type) and flip or compose)(getattr(mapping, '__dict__', mapping)[key])\n",
    "            except KeyError:\n",
    "                pass\n",
    "        raise AttributeError(key)\n",
    "        \n",
    "    def __dir__(self):\n",
    "        return concat(map(lambda x: getattr(x, '__dict__', x).keys(), self.maps))"
   ]
  },
  {
   "cell_type": "code",
   "execution_count": 35,
   "metadata": {},
   "outputs": [],
   "source": [
    "class compose(UserList):\n",
    "    __kwdefaults__ = ['data', list()],\n",
    "        \n",
    "    def __new__(cls, *args, **kwargs):\n",
    "        if not isinstance(cls.__kwdefaults__, OrderedDict):\n",
    "            cls.__kwdefaults__ = OrderedDict(cls.__kwdefaults__)\n",
    "        cls.__slots__ = tuple(cls.__kwdefaults__.keys())\n",
    "        return super().__new__(cls)\n",
    "    \n",
    "    def __init__(self, *args, **kwargs):\n",
    "        super().__init__()\n",
    "        for i, (slot, arg) in enumerate(zip_longest(self.__slots__, args)):\n",
    "            default = self.__kwdefaults__[slot]\n",
    "            if i >= len(args):\n",
    "                arg = copy(default)\n",
    "                \n",
    "            arg = kwargs.pop(slot, arg)\n",
    "            \n",
    "            if isiterable(default):\n",
    "                if not isiterable(arg):\n",
    "                    arg = type(default)([arg])\n",
    "                if not isinstance(arg, type(default)):\n",
    "                    arg = type(default)(arg)\n",
    "            setattr(self, slot, arg)\n",
    "\n",
    "    _attributes_ = attributes(*map(__import__, ['builtins', 'pathlib', 'operator', 'json', 'toolz']))\n",
    "\n",
    "            \n",
    "    def __getattr__(self, attr):\n",
    "        if hasattr(type(self), attr):\n",
    "            return getattr(type(self), attr)(self)\n",
    "        def wrapper(*args, **kwargs):\n",
    "            callable = self._attributes_[attr]\n",
    "            if args or kwargs:\n",
    "                callable = partial(callable, *args, **kwargs)\n",
    "            return self.append(callable)\n",
    "        return wraps(self._attributes_[attr].data[0])(wrapper)\n",
    "        \n",
    "    def __getitem__(self, object):\n",
    "        if object == slice(None):\n",
    "            return self\n",
    "        if isinstance(object, tuple):\n",
    "            object = juxt(object)\n",
    "        if callable(object):\n",
    "            return self.append(object)\n",
    "        return super().__getitem__(object)\n",
    "\n",
    "        \n",
    "    def __dir__(self):\n",
    "        return list(super().__dir__()) + dir(self._attributes_)\n",
    "    \n",
    "    def __call__(self, *args, **kwargs):\n",
    "        for callable in self:\n",
    "            args, kwargs = [callable(*args, **kwargs)], dict()\n",
    "        return args[0] if len(args) else None    \n",
    "            \n",
    "    def __getstate__(self):\n",
    "        return tuple(map(partial(getattr, self), self.__slots__))\n",
    "    \n",
    "    def __setstate__(self, state):\n",
    "        for key, value in zip(self.__slots__, state):\n",
    "            setattr(self, key, value)\n",
    "        \n",
    "    def __copy__(self):\n",
    "        new = type(self)()\n",
    "        new.__setstate__(tuple(map(copy, self.__getstate__()))) or new\n",
    "        new.data = list(map(copy, self))\n",
    "        return new\n",
    "    \n",
    "    def __hash__(self):\n",
    "        return hash(tuple(self))\n",
    "            \n",
    "    def __exit__(self, exc_type, exc_value, traceback):\n",
    "        pass\n",
    "                \n",
    "    def __repr__(self):\n",
    "        return ':'.join(map(repr, self.__getstate__()))\n",
    "    \n",
    "    def _condition_attr_(self, callable, object):\n",
    "        return type(self)().append(callable(self, object))\n",
    "    \n",
    "    def _list_attr_(self, attr, *args):\n",
    "        return getattr(super(), attr)(*args) or self\n",
    "    \n",
    "    def _right_attr_(self, attr, other):\n",
    "        return getattr(compose([other]), attr)(self)\n",
    "\n",
    "    def __pow__(self, object):\n",
    "        if isinstance(object, type):\n",
    "            object = object,\n",
    "        if not isinstance(object, tuple):\n",
    "            object = partial(flip(isinstance), object)\n",
    "        return self._condition_attr_(ifthen, object)\n",
    "\n",
    "    __abs__ = __call__\n",
    "    __enter__ = __deepcopy__ = __copy__"
   ]
  },
  {
   "cell_type": "code",
   "execution_count": 36,
   "metadata": {},
   "outputs": [],
   "source": [
    "compose._attributes_ = compose._attributes_.new_child(__import__('pathlib').Path)"
   ]
  },
  {
   "cell_type": "code",
   "execution_count": 37,
   "metadata": {},
   "outputs": [],
   "source": [
    "class juxt(compose):\n",
    "    def __call__(self, *args, **kwargs):\n",
    "        return tuple((isinstance(callable, tuple) and juxt or identity)(callable)(*args, **kwargs) for callable in self)"
   ]
  },
  {
   "cell_type": "code",
   "execution_count": 38,
   "metadata": {},
   "outputs": [],
   "source": [
    "class flip(compose):\n",
    "    \"\"\"Call a function with the arguments positional arguments reversed\"\"\"\n",
    "    def __call__(self, *args, **kwargs):\n",
    "        return super(flip, self).__call__(*reversed(args), **kwargs)"
   ]
  },
  {
   "cell_type": "code",
   "execution_count": 39,
   "metadata": {},
   "outputs": [],
   "source": [
    "class do(compose):\n",
    "    \"\"\"Call a function and return input argument.\"\"\"\n",
    "    def __call__(self, *args, **kwargs):\n",
    "        super(do, self).__call__(*args, **kwargs)\n",
    "        return args[0] if args else None"
   ]
  },
  {
   "cell_type": "code",
   "execution_count": 40,
   "metadata": {
    "collapsed": true
   },
   "outputs": [],
   "source": [
    "class star(compose):\n",
    "    \"\"\"Call a function starring the arguments for sequences and starring the keywords for containers.\"\"\"\n",
    "    def __call__(self, *args, **kwargs):\n",
    "        args = args[0] if len(args) is 1 else (args,)\n",
    "        if not isiterable(args): \n",
    "            args = [(args,)]\n",
    "        if isinstance(args, dict):\n",
    "            args = kwargs.update(args) or tuple()\n",
    "        return super(star, self).__call__(*args, **kwargs)"
   ]
  },
  {
   "cell_type": "code",
   "execution_count": 41,
   "metadata": {},
   "outputs": [],
   "source": [
    "class condition(compose):\n",
    "    \"\"\"Evaluate a function if a condition is true.\"\"\"\n",
    "    __kwdefaults__ = ['condition', compose()], ['data', list()]"
   ]
  },
  {
   "cell_type": "code",
   "execution_count": 42,
   "metadata": {},
   "outputs": [],
   "source": [
    "class ifthen(condition):\n",
    "    def __call__(self, *args, **kwargs):\n",
    "        return self.condition(*args, **kwargs) and super(ifthen, self).__call__(*args, **kwargs)\n",
    "\n",
    "class ifnot(condition):\n",
    "    def __call__(self, *args, **kwargs):\n",
    "        return self.condition(*args, **kwargs) or super(ifnot, self).__call__(*args, **kwargs)"
   ]
  },
  {
   "cell_type": "code",
   "execution_count": 43,
   "metadata": {},
   "outputs": [],
   "source": [
    "class step(condition):\n",
    "    def __call__(self, *args, **kwargs):\n",
    "        result = self.condition(*args, **kwargs)\n",
    "        return result and super(step, self).__call__(result)"
   ]
  },
  {
   "cell_type": "code",
   "execution_count": 44,
   "metadata": {
    "collapsed": true
   },
   "outputs": [],
   "source": [
    "class excepts(compose):\n",
    "    \"\"\"Allow acception when calling a function\"\"\"\n",
    "    __kwdefaults__ = ['data', identity], ['exceptions', tuple()], \n",
    "    \n",
    "    def __call__(self, *args, **kwargs):\n",
    "        try:\n",
    "            return super(excepts, self).__call__(*args, **kwargs)\n",
    "        except self.exceptions as e:\n",
    "            return e"
   ]
  },
  {
   "cell_type": "code",
   "execution_count": 45,
   "metadata": {},
   "outputs": [],
   "source": [
    "class stack(compose):\n",
    "    __kwdefaults__ = ['data', list([compose()])], \n",
    "    \n",
    "    def __init__(self, *args):\n",
    "        super().__init__(*args)\n",
    "        self.data = list(map(copy, self.data))\n",
    "\n",
    "    def _list_attr_(self, attr, *args):\n",
    "        if attr == 'pop':\n",
    "            self.data.pop(*args)\n",
    "            return self\n",
    "        try:\n",
    "            self[-1]._list_attr_(attr, *args)\n",
    "        except AttributeError:\n",
    "            self.push()\n",
    "            self[-1]._list_attr_(attr, *args)\n",
    "        return self    \n",
    "\n",
    "    def push(self):\n",
    "        self.data.append(compose())\n",
    "        return self\n",
    "\n",
    "    def __bool__(self):\n",
    "        return any(map(bool, self))"
   ]
  },
  {
   "cell_type": "code",
   "execution_count": 46,
   "metadata": {},
   "outputs": [],
   "source": [
    "class call(stack):\n",
    "    args, kwargs = tuple(), dict()    \n",
    "    \n",
    "    def append(self, object):\n",
    "        new = type(self).__mro__[1]()\n",
    "        if self.args or self.kwargs:\n",
    "            object = partial(object, *self.args, **self.kwargs)\n",
    "        return new.append(object)\n",
    "    \n",
    "    def __call__(self, *args, **kwargs):     \n",
    "        self = type(self)()\n",
    "        self.args, self.kwargs = args, kwargs\n",
    "        return self"
   ]
  },
  {
   "cell_type": "code",
   "execution_count": 47,
   "metadata": {},
   "outputs": [],
   "source": [
    "for cls in [compose, stack, call]:\n",
    "    for attr in dir(UserList):\n",
    "        if attr[0].islower() and call is not cls:\n",
    "            setattr(cls, attr, partialmethod(cls._list_attr_, attr))\n",
    "        \n",
    "    for other in ['mul', 'add', 'rshift' ,'sub']:\n",
    "        setattr(cls, dunder(other), getattr(cls, 'append'))\n",
    "\n",
    "compose.__and__ = partialmethod(compose._condition_attr_, step)\n",
    "compose.__or__ = partialmethod(compose._condition_attr_, ifnot)\n",
    "compose.__xor__ = partialmethod(compose._condition_attr_, excepts)\n",
    "compose.__truediv__ = property(partial(flip(compose.__getattr__), 'map'))\n",
    "compose.__floordiv__ = property(partial(flip(compose.__getattr__), 'filter'))\n",
    "compose.__matmul__ = property(partial(flip(compose.__getattr__), 'groupby'))\n",
    "compose.__mod__ = property(partial(flip(compose.__getattr__), 'reduce'))\n",
    "compose.__lshift__ = property(partial(flip(compose.__getattr__), 'do'))\n",
    "\n",
    "for other in ['mul', 'add', 'rshift' ,'sub', 'and', 'or', 'xor', 'truediv', 'floordiv', 'matmul', 'mod', 'lshift']:\n",
    "    setattr(compose, dunder('i'+other), getattr(compose, dunder(other)))\n",
    "    setattr(cls, dunder('r'+other), partialmethod(cls._right_attr_, dunder(other)))"
   ]
  },
  {
   "cell_type": "code",
   "execution_count": 48,
   "metadata": {},
   "outputs": [],
   "source": [
    "a = an = the = then = f = call()"
   ]
  }
 ],
 "metadata": {
  "anaconda-cloud": {},
  "kernelspec": {
   "display_name": "Python 3",
   "language": "python",
   "name": "python3"
  },
  "language_info": {
   "codemirror_mode": {
    "name": "ipython",
    "version": 3
   },
   "file_extension": ".py",
   "mimetype": "text/x-python",
   "name": "python",
   "nbconvert_exporter": "python",
   "pygments_lexer": "ipython3",
   "version": "3.5.3"
  },
  "nbconvert": {
   "nbconvert.exporters.templateexporter.TemplateExporter": {
    "JupyterApp": {
     "config_file": "./fidget/config.py"
    }
   }
  }
 },
 "nbformat": 4,
 "nbformat_minor": 2
}
