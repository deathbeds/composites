{
 "cells": [
  {
   "cell_type": "markdown",
   "metadata": {},
   "source": [
    "> `fidget` uses the python data model to compose higher-order functions.\n",
    "\n",
    "---"
   ]
  },
  {
   "cell_type": "code",
   "execution_count": 1,
   "metadata": {
    "collapsed": true
   },
   "outputs": [],
   "source": [
    "from copy import copy\n",
    "from functools import wraps, total_ordering, partial\n",
    "from importlib import import_module\n",
    "from six import iteritems, PY2\n",
    "from toolz.curried import (isiterable, filter, first, excepts, flip, complement, map, identity, concatv, valfilter, merge, groupby, concat, get, keyfilter, compose, reduce)\n",
    "from six.moves.builtins import hasattr, getattr, isinstance, issubclass, setattr\n",
    "from operator import (methodcaller, itemgetter, attrgetter, not_, truth, abs, invert, neg, pos, index, eq)\n",
    "\n",
    "__all__ = ['_x', '_xx', '_f', 'x_', '_y', '_h', 'call', 'default', 'ifthen', 'copy']"
   ]
  },
  {
   "cell_type": "code",
   "execution_count": 2,
   "metadata": {
    "collapsed": true
   },
   "outputs": [],
   "source": [
    "@total_ordering\n",
    "class State(object):\n",
    "    __slots__ = tuple()\n",
    "    \n",
    "    def __init__(self, *args, **kwargs):\n",
    "        for i, slot in enumerate(self.__slots__):\n",
    "            setattr(self, slot, kwargs.pop(slot, args[i]))\n",
    "        \n",
    "    def __getstate__(self):\n",
    "        return tuple(map(partial(getattr, self), self.__slots__))\n",
    "\n",
    "    def __setstate__(self, state):\n",
    "        for key, value in zip(self.__slots__, state):\n",
    "            setattr(self, key, value)\n",
    "        \n",
    "    def __copy__(self, *args):\n",
    "        new = type(self)()\n",
    "        return new.__setstate__(tuple(map(copy, self.__getstate__()))) or new\n",
    "\n",
    "    def __hash__(self):\n",
    "        return hash(tuple(\n",
    "            getattr(self, attr) for attr in self.__slots__\n",
    "        ))\n",
    "    \n",
    "    def __eq__(self, other):\n",
    "        return isinstance(other, State) and hash(self) == hash(other)\n",
    "    \n",
    "    def __enter__(self):\n",
    "        return copy(self[:])\n",
    "    \n",
    "    def __exit__(self, exc_type, exc_value, traceback):\n",
    "        pass\n",
    "    \n",
    "    def __abs__(self):\n",
    "        return self.__call__\n",
    "    \n",
    "    def __lt__(self, other):\n",
    "        if isinstance(other, State):\n",
    "            return (len(self) < len(other)) and all(\n",
    "                eq(*i) for i in zip(self, other)\n",
    "            )\n",
    "        return False\n",
    "\n",
    "    def __len__(self):\n",
    "        return sum(1 for f in self)\n",
    "   \n",
    "    __deepcopy__ = __copy__"
   ]
  },
  {
   "cell_type": "code",
   "execution_count": 3,
   "metadata": {
    "collapsed": true
   },
   "outputs": [],
   "source": [
    "class functor(State):\n",
    "    \"\"\"Evaluate a function if it is `callable`, otherwise return value.\"\"\"\n",
    "    __slots__ = ('function',)\n",
    "    \n",
    "    def __call__(self, *args, **kwargs):\n",
    "        return self.function(*args, **kwargs) if callable(\n",
    "            self.function) else self.function\n",
    "    \n",
    "class flipped(functor):\n",
    "    \"\"\"Evaluate a function with the arguments reversed.\"\"\"\n",
    "    def __call__(self, *args, **kwargs):\n",
    "        return super(flipped, self).__call__(*reversed(args), **kwargs)\n",
    "    \n",
    "class do(functor):\n",
    "    \"\"\"Evaluate a function and return the arguments\"\"\"\n",
    "    def __call__(self, *args, **kwargs):\n",
    "        super(do, self).__call__(*args, **kwargs)\n",
    "        return args[0] if args else None"
   ]
  },
  {
   "cell_type": "code",
   "execution_count": 4,
   "metadata": {
    "collapsed": true
   },
   "outputs": [],
   "source": [
    "class stars(functor):\n",
    "    \"\"\"Evaluate a function that expands sequences and collections to star arguments and keywords.\n",
    "    \"\"\"\n",
    "    def __call__(self, *args, **kwargs):\n",
    "        arguments = groupby(flip(isinstance)(dict), args) if all(\n",
    "            map(isiterable, args)\n",
    "        ) else {False: [[args]]}\n",
    "        return super(stars, self).__call__(\n",
    "            *concat(get(False, arguments, tuple())), \n",
    "            **merge(kwargs, *get(True, arguments, [{}]))\n",
    "        )"
   ]
  },
  {
   "cell_type": "code",
   "execution_count": 5,
   "metadata": {
    "collapsed": true
   },
   "outputs": [],
   "source": [
    "class condition(functor):\n",
    "    __slots__ = ('condition', 'function')\n",
    "\n",
    "class ifthen(condition):\n",
    "    \"\"\"Evaluate the condition, and if it is True evaluate function.\n",
    "    \"\"\"\n",
    "    def __call__(self, *args, **kwargs):\n",
    "        return functor(self.condition)(*args, **kwargs) and super(ifthen, self).__call__(*args, **kwargs)\n",
    "\n",
    "class default(condition):\n",
    "    \"\"\"Evaluate the function, and if it is False evaluate condition.\n",
    "    \"\"\"\n",
    "    def __call__(self, *args, **kwargs):\n",
    "        return super(default, self).__call__(*args, **kwargs) or functor(self.condition)(*args, **kwargs)\n",
    "    \n",
    "class step(condition):\n",
    "    def __call__(self, *args, **kwargs):\n",
    "        result = functor(self.condition)(*args, **kwargs)\n",
    "        return  result and super(step, self).__call__(result)"
   ]
  },
  {
   "cell_type": "code",
   "execution_count": 7,
   "metadata": {
    "collapsed": true
   },
   "outputs": [],
   "source": [
    "class call(State):\n",
    "    __slots__ = ('args', 'kwargs')\n",
    "    \n",
    "    def __init__(self, *args, **kwargs):\n",
    "        super(call, self).__init__(args, kwargs)\n",
    "        \n",
    "    def __call__(self, function=functor):\n",
    "        return partial(functor(function), *self.args,  **self.kwargs)"
   ]
  },
  {
   "cell_type": "code",
   "execution_count": 6,
   "metadata": {
    "collapsed": true
   },
   "outputs": [],
   "source": [
    "def doc(self):\n",
    "    return getattr(self.function, '__doc__', '')\n",
    "\n",
    "for func in (functor, flipped, do, stars, ifthen, default, call):\n",
    "    not PY2 and setattr(func, '__doc__', property(doc))"
   ]
  },
  {
   "cell_type": "code",
   "execution_count": 8,
   "metadata": {
    "collapsed": true
   },
   "outputs": [],
   "source": [
    "class Function(State):\n",
    "    __slots__ = ('function',)\n",
    "    def __getitem__(self, object=slice(None)):   \n",
    "        if object is call: \n",
    "            return abs(self)\n",
    "        \n",
    "        if isinstance(object, call):\n",
    "            return object(self)()\n",
    "        \n",
    "        return object != slice(None) and self.function.append(object) or self \n",
    "    \n",
    "    def __repr__(self):\n",
    "        return str(self.function)"
   ]
  },
  {
   "cell_type": "code",
   "execution_count": 9,
   "metadata": {
    "collapsed": true
   },
   "outputs": [],
   "source": [
    "class Functions(State):\n",
    "    __slots__ = ('functions',)\n",
    "    def __repr__(self):\n",
    "        return str(self.functions)\n",
    "    \n",
    "    def __init__(self, functions=tuple(), *args):        \n",
    "        if not isiterable(functions) or isinstance(functions, (str, )):\n",
    "            functions = (functions,)\n",
    "            \n",
    "        super(Functions, self).__init__(\n",
    "            (isinstance(functions, dict) and compose(tuple, iteritems) or identity)(functions), *args)\n",
    "            \n",
    "    def __delitem__(self, object):\n",
    "        self.functions = tuple(fn for fn in self if fn != object)\n",
    "        return self\n",
    "    \n",
    "    def __setitem__(self, key, value):\n",
    "        self.functions = tuple(value if fn == key else fn for fn in self)\n",
    "        return self  \n",
    "    \n",
    "    def __iter__(self):\n",
    "        for function in self.functions:\n",
    "            yield function\n",
    "\n",
    "    def __reversed__(self):\n",
    "        self.functions = type(self.functions)(reversed(self.functions))\n",
    "        return self\n",
    "    \n",
    "    def insert(self, index, object):\n",
    "        self.functions = tuple(\n",
    "            concat((self.functions[:index], (object,), self.functions[index:]))\n",
    "        )\n",
    "    \n",
    "    def append(self, object):\n",
    "        self.extend((object,))\n",
    "    \n",
    "    def extend(self, iterable):\n",
    "        self.functions = tuple(concatv(self.functions, iterable))"
   ]
  },
  {
   "cell_type": "code",
   "execution_count": 10,
   "metadata": {
    "collapsed": true
   },
   "outputs": [],
   "source": [
    "class Composite(Functions):\n",
    "    def __getitem__(self, object=slice(None)):\n",
    "        if isinstance(object, slice): \n",
    "            if object != slice(None): \n",
    "                with self as self:\n",
    "                    self.append(object)\n",
    "        else:\n",
    "            self = super(Composite, self).__getitem__(object)\n",
    "        return self\n",
    "                    \n",
    "    def __contains__(self, object):\n",
    "        return any(object == function for function in self)\n",
    "    \n",
    "    def _dispatch_(self, function):\n",
    "        return (\n",
    "            isinstance(function, (dict, set, list, tuple)) \n",
    "            and Juxtapose or functor\n",
    "        )(function)"
   ]
  },
  {
   "cell_type": "code",
   "execution_count": 11,
   "metadata": {
    "collapsed": true
   },
   "outputs": [],
   "source": [
    "class Juxtapose(Composite):\n",
    "    def __init__(self, functions=tuple()):\n",
    "        super(Juxtapose, self).__init__(functions)\n",
    "        \n",
    "    def __call__(self, *args, **kwargs):\n",
    "        return type(self.functions)(call(*args)(\n",
    "            self._dispatch_(function))(**kwargs) for function in self)"
   ]
  },
  {
   "cell_type": "code",
   "execution_count": 12,
   "metadata": {
    "collapsed": true
   },
   "outputs": [],
   "source": [
    "class Compose(Composite):\n",
    "    def __call__(self, *args, **kwargs):\n",
    "        for function in self:\n",
    "            args, kwargs = (call(*args)(\n",
    "                self._dispatch_(function))(**kwargs),), {}\n",
    "        return first(args)\n",
    "    \n",
    "class ComposeLeft(Compose):    \n",
    "    def __iter__(self):\n",
    "        return reversed(tuple(super(ComposeLeft, self).__iter__()))\n",
    "    \n",
    "    def __hash__(self):\n",
    "        return hash(tuple(reversed(self.functions)))\n",
    "\n",
    "class Composable(Compose):\n",
    "    def __init__(self, function):\n",
    "        super(Composable, self).__init__([function])"
   ]
  },
  {
   "cell_type": "code",
   "execution_count": 13,
   "metadata": {
    "collapsed": true
   },
   "outputs": [],
   "source": [
    "class Partial(Function):\n",
    "    __slots__ = ('args', 'keywords', 'function')\n",
    "    _decorate_ = staticmethod(functor)\n",
    "    _composite_ = staticmethod(Compose)\n",
    "    \n",
    "    def __init__(self, *args, **kwargs):\n",
    "        super(Partial, self).__init__(args, kwargs, kwargs.pop('function', self._composite_()))\n",
    "                \n",
    "    @property\n",
    "    def __call__(self):\n",
    "        return call(*self.args, **self.keywords)(self._decorate_(self.function))"
   ]
  },
  {
   "cell_type": "code",
   "execution_count": 14,
   "metadata": {
    "collapsed": true
   },
   "outputs": [],
   "source": [
    "class Composition(Partial):\n",
    "    def __getitem__(self, object=slice(None), *args, **kwargs):\n",
    "        if self._factory_:\n",
    "            self = type(self).__mro__[1]()\n",
    "\n",
    "        if isinstance(object, (int, slice)):\n",
    "            self = copy(self)\n",
    "            return setattr(self, 'function', self._composite_(\n",
    "                self.function.functions[object])) or self\n",
    "               \n",
    "        return super(Composition, self).__getitem__(\n",
    "            (args or kwargs) and call(*args, **kwargs)(object)  or object)   \n",
    "    \n",
    "    @property\n",
    "    def _factory_(self):\n",
    "          return type(self).__name__.startswith('_') and type(\n",
    "              self).__name__.endswith('_')"
   ]
  },
  {
   "cell_type": "code",
   "execution_count": 15,
   "metadata": {
    "collapsed": true
   },
   "outputs": [],
   "source": [
    "class Juxtaposition(Composition): \n",
    "    _composite_ = staticmethod(Juxtapose)"
   ]
  },
  {
   "cell_type": "code",
   "execution_count": 16,
   "metadata": {},
   "outputs": [],
   "source": [
    "class Composer(Composition):\n",
    "    def __xor__(self, object):\n",
    "        \"\"\"** operator requires an argument to be true because executing.\n",
    "        \"\"\"\n",
    "        self = self[:]\n",
    "        if isiterable(object): \n",
    "            if all(map(flip(isinstance)(Exception), object)):\n",
    "                method = excepts\n",
    "            elif all(map(flip(isinstance)(type), object)):\n",
    "                object = flip(isinstance)(object)\n",
    "        self.function = Compose([ifthen(object, self.function)])\n",
    "        return self\n",
    "\n",
    "    def __or__(self, object):\n",
    "        self = self[:]\n",
    "        self.function = Compose([default(object, self.function)])\n",
    "        return self\n",
    "    \n",
    "    def __and__(self, object):\n",
    "        self = self[:]\n",
    "        self.function = Compose([step(self.function, object)])\n",
    "        return self\n",
    "    \n",
    "    def __pos__(self):\n",
    "        return self[bool]\n",
    "\n",
    "    def __neg__(self):\n",
    "        return self[complement(bool)]\n",
    "        \n",
    "    def __lshift__(self, object):\n",
    "        return Do()[object] if self._factory_ else self[do(object)]\n",
    "    \n",
    "    __pow__ = __xor__\n",
    "    __invert__ = Functions.__reversed__\n",
    "    __mul__ = __add__ = __rshift__ = __sub__ = Composition.__getitem__"
   ]
  },
  {
   "cell_type": "code",
   "execution_count": 17,
   "metadata": {
    "collapsed": true
   },
   "outputs": [],
   "source": [
    "class Flipped(Composer):\n",
    "    _decorate_ = staticmethod(flipped)\n",
    "    \n",
    "class Starred(Composer):\n",
    "    _decorate_ = staticmethod(stars)\n",
    "    \n",
    "class Do(Composer):\n",
    "    _decorate_ = staticmethod(do)\n",
    "\n",
    "class Reversed(Composer):\n",
    "    _composite_ = staticmethod(ComposeLeft)"
   ]
  },
  {
   "cell_type": "code",
   "execution_count": 18,
   "metadata": {
    "collapsed": true
   },
   "outputs": [],
   "source": [
    "def macro(attr, method, cls=Composer, composable=False, force=False):\n",
    "    \"\"\"Extent the Composer api.\n",
    "    \"\"\"\n",
    "    if not hasattr(cls, attr) or force:\n",
    "        _partial = isinstance(method, partial)\n",
    "        method = _partial and method.func or method\n",
    "\n",
    "        def _macro(self, *args, **kwargs):\n",
    "            if len(args) is 1 and composable and not _partial:\n",
    "                args = (Composable(args[0]),)\n",
    "\n",
    "            return self[\n",
    "                method(*args, **kwargs) if _partial else partial(method, *args, **kwargs)\n",
    "                if args or kwargs else method]\n",
    "\n",
    "        setattr(cls, attr, getattr(cls, attr, wraps(method)(_macro)))"
   ]
  },
  {
   "cell_type": "code",
   "execution_count": 19,
   "metadata": {
    "collapsed": true
   },
   "outputs": [],
   "source": [
    "composables = []\n",
    "for attr, method in [\n",
    "    ('__matmul__', groupby), ('__div__', map), ('__truediv__', map), ('__floordiv__', filter), ('__mod__', reduce)\n",
    "]:\n",
    "    composables += macro(attr, method, Composer, True) or [method.func]"
   ]
  },
  {
   "cell_type": "code",
   "execution_count": 20,
   "metadata": {
    "collapsed": true
   },
   "outputs": [],
   "source": [
    "def _right_(attr):\n",
    "    _attr_ = \"\"\"__{}__\"\"\".format(attr)\n",
    "    def caller(self, other):\n",
    "        if self:\n",
    "            return getattr(type(self)()[other], _attr_)(self)\n",
    "        return self[other]\n",
    "    return wraps(getattr(Composer, _attr_))(caller)\n",
    "\n",
    "s = \"__{}{}__\".format\n",
    "for attr in ['add', 'sub', 'mul', 'matmul','div', 'truediv', 'floordiv', 'mod', 'lshift', 'rshift', 'and', 'xor', 'or', 'pow']:\n",
    "    setattr(Composer, s('i', attr), getattr(Composer, s('', attr)))\n",
    "    setattr(Composer, s('r', attr), _right_(attr))"
   ]
  },
  {
   "cell_type": "code",
   "execution_count": 21,
   "metadata": {
    "collapsed": true
   },
   "outputs": [],
   "source": [
    "for attr, method in [['call']*2, ['do', 'lshift'], ['pipe',  'getitem']]: \n",
    "    setattr(Composer, attr, getattr(Composer, s('', method)))    "
   ]
  },
  {
   "cell_type": "code",
   "execution_count": 23,
   "metadata": {
    "collapsed": true
   },
   "outputs": [],
   "source": [
    "composables += attrgetter(\n",
    "    'keyfilter', 'keymap', 'valfilter', 'valmap', 'itemfilter', 'itemmap')(import_module('toolz'))\n",
    "\n",
    "for imports in ('toolz', 'operator', 'six.moves.builtins', 'itertools'):\n",
    "    for attr, method in compose(iteritems, valfilter(callable), keyfilter(\n",
    "        compose(str.lower, first)), vars, import_module)(imports):\n",
    "        \n",
    "        if attr[0].islower():\n",
    "            if method in (methodcaller, itemgetter, attrgetter, not_, truth, abs, invert, neg, pos, index):\n",
    "                method = partial(method)\n",
    "            elif method in (flip,) or imports == 'toolz':\n",
    "                method = functor(method)\n",
    "            elif imports.endswith('builtins') and method not in (\n",
    "                hasattr, getattr, isinstance, issubclass, setattr\n",
    "            ): pass\n",
    "            else:\n",
    "                method = flipped(method)\n",
    "\n",
    "            macro(attr, method, Composer, method in composables)"
   ]
  },
  {
   "cell_type": "code",
   "execution_count": 24,
   "metadata": {
    "collapsed": true
   },
   "outputs": [],
   "source": [
    "class Lambda(Composer):\n",
    "    def __getitem__(self, objects):\n",
    "        self = super(Lambda, self).__getitem__()\n",
    "        return any(\n",
    "            self.function.append(object) for object in isiterable(objects) and objects or (objects,)) or self"
   ]
  },
  {
   "cell_type": "code",
   "execution_count": 25,
   "metadata": {},
   "outputs": [],
   "source": [
    "_y, _x, _f, x_, _xx, _h = tuple( \n",
    "    type('_{}_'.format(function.__name__), (function,), {})(function=Compose([function])) \n",
    "    for function in (Juxtaposition, Composer, Reversed, Flipped, Starred, Lambda))\n",
    "\n",
    "del attr, doc, func, imports, method, s"
   ]
  },
  {
   "cell_type": "code",
   "execution_count": 26,
   "metadata": {
    "collapsed": true
   },
   "outputs": [],
   "source": [
    "def load_ipython_extension(ip):\n",
    "    \"\"\"%%fidget magic that displays code cells as markdown, then runs the cell.\n",
    "    \"\"\"\n",
    "    from IPython import display\n",
    "    ip.register_magic_function(\n",
    "        _x[lambda l, cell: cell][_x<<display.Markdown>>display.display]\n",
    "        [ip.run_cell][None], 'cell', 'fidget'\n",
    "    )"
   ]
  }
 ],
 "metadata": {
  "anaconda-cloud": {},
  "kernelspec": {
   "display_name": "Python 3",
   "language": "python",
   "name": "python3"
  },
  "language_info": {
   "codemirror_mode": {
    "name": "ipython",
    "version": 3
   },
   "file_extension": ".py",
   "mimetype": "text/x-python",
   "name": "python",
   "nbconvert_exporter": "python",
   "pygments_lexer": "ipython3",
   "version": "3.5.3"
  },
  "nbconvert": {
   "nbconvert.exporters.templateexporter.TemplateExporter": {
    "JupyterApp": {
     "config_file": "./fidget/config.py"
    }
   }
  }
 },
 "nbformat": 4,
 "nbformat_minor": 2
}
