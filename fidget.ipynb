{
 "cells": [
  {
   "cell_type": "markdown",
   "metadata": {},
   "source": [
    "# Higher-order functions for interactive computing"
   ]
  },
  {
   "cell_type": "code",
   "execution_count": 713,
   "metadata": {
    "collapsed": true
   },
   "outputs": [],
   "source": [
    "__all__ = ['_x', '_xx', 'call', 'stars', 'this', 'x_',]\n",
    "\n",
    "from copy import copy\n",
    "from functools import wraps\n",
    "from importlib import import_module\n",
    "from collections import Generator\n",
    "from six import iteritems\n",
    "from toolz.curried import identity, isiterable, first, last, concatv, map, valfilter, keyfilter, merge, curry\n",
    "from functools import partial\n",
    "from operator import contains, methodcaller, itemgetter, attrgetter, not_, truth, abs, invert, neg, pos, index"
   ]
  },
  {
   "cell_type": "markdown",
   "metadata": {},
   "source": [
    "## utilities"
   ]
  },
  {
   "cell_type": "code",
   "execution_count": 199,
   "metadata": {
    "collapsed": false
   },
   "outputs": [],
   "source": [
    "def _do(function, *args, **kwargs):\n",
    "    \"\"\"Call function then return the first argument.\"\"\"\n",
    "    function(*args, **kwargs)\n",
    "    return first(args)\n",
    "\n",
    "def _flip(function, *args, **kwargs):\n",
    "    \"\"\"Flip arguments then apply them to function.\"\"\"\n",
    "    return function(*reversed(args), **kwargs)\n",
    "\n",
    "@curry\n",
    "def call(args, function, **kwargs):\n",
    "    \"\"\"Evaluate a function or return non-callable functions.\n",
    "    \n",
    "    This is a functor method.\"\"\"\n",
    "    if not callable(function):\n",
    "        return function \n",
    "    return function(*args, **kwargs) "
   ]
  },
  {
   "cell_type": "code",
   "execution_count": 200,
   "metadata": {
    "collapsed": true
   },
   "outputs": [],
   "source": [
    "class Factory:\n",
    "    \"\"\"A mixin to generate new callables and compositions.\n",
    "    \"\"\"\n",
    "    def __call__(self, *args, **kwargs):\n",
    "        return first(self.functions)(args=args, keywords=kwargs)"
   ]
  },
  {
   "cell_type": "code",
   "execution_count": 201,
   "metadata": {
    "collapsed": true
   },
   "outputs": [],
   "source": [
    "class StateMixin:\n",
    "    \"\"\"Mixin to reproduce state from __slots__\n",
    "    \"\"\"\n",
    "    def __getstate__(self):\n",
    "        return tuple(map(partial(getattr, self), self.__slots__))\n",
    "\n",
    "    def __setstate__(self, state):\n",
    "        [setattr(self, key, value) for key, value in zip(self.__slots__, state)]"
   ]
  },
  {
   "cell_type": "markdown",
   "metadata": {},
   "source": [
    "## composition"
   ]
  },
  {
   "cell_type": "code",
   "execution_count": 668,
   "metadata": {
    "collapsed": true
   },
   "outputs": [],
   "source": [
    "class Compose(StateMixin, object):\n",
    "    \"\"\"Compose a higher-order function.  Recursively evaluate iterables.\n",
    "    \n",
    "    Compose([range, [type, list]])\n",
    "    \"\"\"\n",
    "    __slots__ = ('functions', 'recursive', 'returns')\n",
    "    \n",
    "    def __init__(self, functions, **kwargs):\n",
    "        returns = isinstance(functions, Generator) and identity or type(functions)\n",
    "        \n",
    "        if not isiterable(functions) or isinstance(functions, str):\n",
    "            functions = [functions]\n",
    "        \n",
    "        if isinstance(functions, dict):\n",
    "            functions = iteritems(functions)\n",
    "            \n",
    "        self.functions = functions\n",
    "        self.recursive = kwargs.pop('recursive', True)\n",
    "        self.returns = self.recursive and last or kwargs.pop('returns', returns)\n",
    "        \n",
    "    def __call__(self, *args, **kwargs):\n",
    "        if not self.functions:\n",
    "            # default to an identity function\n",
    "            return args[0] if args else None\n",
    "        \n",
    "        # call the function \n",
    "        return self.returns(self._icall_(*args, **kwargs))\n",
    "        \n",
    "    def _icall_(self, *args, **kwargs):\n",
    "        \"\"\"Generator yielding each evaluated function.\n",
    "        \"\"\"\n",
    "        for function in self.functions:\n",
    "            if isiterable(function) and not isinstance(function, (str, Callable)):\n",
    "                function = Compose(function, recursive=False)                \n",
    "            \n",
    "            result = call(args, function, **kwargs)\n",
    "            \n",
    "            yield result\n",
    "            \n",
    "            if self.recursive: \n",
    "                args, kwargs = ((result,), {})            "
   ]
  },
  {
   "cell_type": "code",
   "execution_count": 753,
   "metadata": {
    "collapsed": false
   },
   "outputs": [],
   "source": [
    "class Callable(StateMixin, object):\n",
    "    _do = False\n",
    "    _flip = False\n",
    "    \n",
    "    __slots__ = ('args', 'keywords', 'functions', '_annotations_', '__doc__', '_strict')\n",
    "\n",
    "    def __init__(\n",
    "        self, functions=tuple(), args=tuple(), keywords=dict(), _annotations_=None,\n",
    "        doc=\"\"\"\"\"\", _strict=True\n",
    "    ):\n",
    "        self._annotations_ = _annotations_\n",
    "        self.args = args\n",
    "        self.functions = functions \n",
    "        self.keywords = keywords\n",
    "        self._strict = _strict\n",
    "        self.__doc__ = __doc__\n",
    "        \n",
    "    def _partial_(self, *args, **kwargs):\n",
    "        \"\"\"Update arguments and keywords of the current composition.\n",
    "        \"\"\"\n",
    "        args and setattr(self, 'args', args) \n",
    "        kwargs and setattr(self, 'keywords', kwargs)\n",
    "        return self\n",
    "    \n",
    "    def __getitem__(self, item=None):\n",
    "        \"\"\"Main feature to append functions to the composition.\n",
    "        \n",
    "        call is special flag to execute the function.\n",
    "        \"\"\"\n",
    "        if not isinstance(item, This): \n",
    "            if getattr(item, 'func', identity) == call.func:\n",
    "                args = item._partial.args and item._partial.args[0] or tuple()\n",
    "                if not isinstance(args, tuple):\n",
    "                    args = (args,)\n",
    "                return self(*args, **item._partial.keywords)\n",
    "        \n",
    "        self = isinstance(self, Factory) and self() or self\n",
    "        \n",
    "        return item and not(item==slice(None)) and setattr(\n",
    "            self, 'functions', tuple(concatv(self.functions, (item,)))\n",
    "        ) or self\n",
    "        \n",
    "    def __pow__(self, *args, **kwargs):\n",
    "        \"\"\"Append dispatching or annotation features.\n",
    "        \"\"\"\n",
    "        self = self[:]\n",
    "        args = isinstance(args[0], tuple) and args[0] or args\n",
    "        \n",
    "        if len(args) == 1:\n",
    "            if isinstance(args[0], str):\n",
    "                return setattr(self, '__doc__', args[0]) or self\n",
    "            \n",
    "        return self._dispatch_(*args, **kwargs)\n",
    "\n",
    "    def _dispatch_(self, *args, **kwargs):\n",
    "        if callable(args[0]) and not isinstance(args[0], type):\n",
    "            return setattr(self, '_annotations_', args[0]) or self\n",
    "            \n",
    "        return setattr(\n",
    "            self, '_annotations_', merge(\n",
    "                    isinstance(self._annotations_, dict) and self._annotations_ or {}, \n",
    "                    isinstance(args[0], dict) and args[0] or\n",
    "                    dict(zip(range(len(args)), args))\n",
    "            )\n",
    "        ) or self \n",
    "    \n",
    "    def __lshift__(self, value):\n",
    "        \"\"\"Append a `do` composition.\n",
    "        \"\"\"\n",
    "        composition = type('Do', (Composition,), {'_do': True})()[value]\n",
    "        return isinstance(self, Factory) and composition or self[composition.__call__]\n",
    "    \n",
    "    def __call__(self, *args, **kwargs):\n",
    "        \"\"\"Call the composition with appending args and kwargs.\n",
    "        \"\"\"\n",
    "        composition = copy(self)._partial_(*(concatv(self.args, args)), **merge(self.keywords, kwargs))\n",
    "        return call(tuple(), (bool(composition) and self._strict) and composition.__func__)\n",
    "\n",
    "    @property\n",
    "    def __func__(self):\n",
    "        \"\"\"Compose the composition.\n",
    "        \"\"\"\n",
    "        function, args = Compose(functions=self.functions), reversed(self.args) if self._flip else self.args\n",
    "        function = self._do and partial(_do, function) or function\n",
    "        return partial(function, *args, **self.keywords)\n",
    "            \n",
    "    def __repr__(self):\n",
    "        \"\"\"String representation of the composition.\n",
    "        \"\"\"\n",
    "        return self.functions and (self.args or self.keywords) and repr(self()) or repr({\n",
    "                'args': self.args, 'kwargs': self.keywords, 'funcs': self.functions\n",
    "            })\n",
    "        \n",
    "    def __copy__(self):\n",
    "        \"\"\"Copy the composition.\n",
    "        \"\"\"\n",
    "        copy = self.__class__()\n",
    "        return copy.__setstate__(self.__getstate__()) or copy\n",
    "    \n",
    "    def __bool__(self):\n",
    "        \"\"\"Validate any annotations for the composition.\n",
    "        \"\"\"\n",
    "        if not self._annotations_: return True\n",
    "        \n",
    "        if callable(self._annotations_):\n",
    "            return bool(self._annotations_(*self.args, **self.keywords))\n",
    "        \n",
    "        return all(\n",
    "            i in self.__annotations__ and \n",
    "            (partial(_flip, isinstance, self._annotations_[i]) \n",
    "             if isinstance(self.__annotations__[i], type) \n",
    "             else self._annotations_[i])(arg) or False\n",
    "            for i, arg in concatv(enumerate(self.args), self.keywords.items())\n",
    "        )\n",
    "    \n",
    "    @property\n",
    "    def __annotations__(self):\n",
    "        return isinstance(self._annotations_, dict) and self._annotations_ or {}\n",
    "\n",
    "    @staticmethod\n",
    "    def _set_attribute_(method, _partial=True):\n",
    "        \"\"\"Decorator a append attributes to callable class\"\"\"\n",
    "        def call(self, *args, **kwargs):    \n",
    "            return (args or kwargs) and self[\n",
    "                partial(method, *args, **kwargs) if _partial else method(*args, **kwargs)\n",
    "            ] or self[method]\n",
    "        return wraps(method)(call)\n",
    "    \n",
    "class This(Callable):\n",
    "    def __getattr__(self, attr):\n",
    "        if any(attr.startswith(key) for key in ('_repr_', '_ipython_')):\n",
    "            return self\n",
    "        return super(This, self).__getitem__(callable(attr) and attr or attrgetter(attr))\n",
    "    \n",
    "    def __getitem__(self, item):\n",
    "        if isinstance(item, Factory):\n",
    "            composition = item.functions[0]()\n",
    "            return composition.__setstate__(self.__getstate__()) or composition\n",
    "        return super(This, self).__getitem__(callable(item) and item or itemgetter(item))\n",
    "    \n",
    "    def __call__(self, *args, **kwargs):\n",
    "        if type(last(self.functions)) == attrgetter:\n",
    "            names = last(self.functions).__reduce__()[-1]\n",
    "            if len(names) == 1:\n",
    "                setattr(self, 'functions', tuple(self.functions[:-1])) \n",
    "                self[methodcaller(names[0], *args, **kwargs)]  \n",
    "            return self\n",
    "        return super(This, self).__call__(*args, **kwargs)"
   ]
  },
  {
   "cell_type": "markdown",
   "metadata": {},
   "source": [
    "## types"
   ]
  },
  {
   "cell_type": "code",
   "execution_count": 754,
   "metadata": {
    "collapsed": true
   },
   "outputs": [],
   "source": [
    "Composition = type('Composition', (Callable,), {'partial': Callable._partial_})\n",
    "Flipped = type('Flipped', (Composition,), {'_flip': True})\n",
    "    \n",
    "class Stars(Composition):\n",
    "    @property\n",
    "    def __func__(self):\n",
    "        composition = super(Stars, self).__func__\n",
    "        args, kwargs = composition.args and composition.args[0] or tuple(), composition.keywords\n",
    "        if isinstance(args, dict):\n",
    "            args = kwargs.update(args) or tuple()\n",
    "        return partial(composition.func, *args, **kwargs)"
   ]
  },
  {
   "cell_type": "markdown",
   "metadata": {},
   "source": [
    "## namespace"
   ]
  },
  {
   "cell_type": "code",
   "execution_count": 755,
   "metadata": {
    "collapsed": true
   },
   "outputs": [],
   "source": [
    "_x, x_, _xx, this = (\n",
    "    type('_{}_'.format(f.__name__), (Factory, f,), {})((f,)) for f in (Composition, Flipped, Stars, This)\n",
    ")\n",
    "stars = _xx"
   ]
  },
  {
   "cell_type": "markdown",
   "metadata": {},
   "source": [
    "## Append attributes for a chainable API"
   ]
  },
  {
   "cell_type": "code",
   "execution_count": 756,
   "metadata": {
    "collapsed": false
   },
   "outputs": [],
   "source": [
    "This.__rshift__ = This.__getitem__\n",
    "Callable.__rshift__ = Callable.__getitem__\n",
    "Callable.__deepcopy__ = Callable.__copy__\n",
    "Callable._ = Callable.__call__\n",
    "Composition.call = Composition.__call__\n",
    "Composition.do = Composition.__lshift__ \n",
    "Composition.partial = Composition._partial_\n",
    "Composition.pipe =  Composition.__getitem__\n",
    "\n",
    "for imports in ('toolz', 'operator'):\n",
    "    for name, function in iteritems(\n",
    "        valfilter(callable, keyfilter(Compose([first, str.islower]), vars(import_module(imports))))\n",
    "    ):\n",
    "        if getattr(Composition, name, None) is None:\n",
    "            opts = {}\n",
    "            if function is contains or imports == 'toolz': \n",
    "                pass                \n",
    "            elif function in (methodcaller, itemgetter, attrgetter, not_, truth, abs, invert, neg, pos, index):\n",
    "                opts.update(_partial=False)\n",
    "            else:\n",
    "                function = partial(_flip, function)\n",
    "            setattr(Composition, name, getattr(\n",
    "                Composition, name, Composition._set_attribute_(function, **opts)\n",
    "            ))\n",
    "\n",
    "Composition.dispatch = Composition.__pow__\n",
    "Composition.__matmul__ = Composition.groupby\n",
    "Composition.__mul__ = Composition.map \n",
    "Composition.__truediv__  = Composition.filter"
   ]
  },
  {
   "cell_type": "code",
   "execution_count": null,
   "metadata": {
    "collapsed": true
   },
   "outputs": [],
   "source": [
    "# import requests\n",
    "# from IPython.display import display, Image\n",
    "# from toolz.curried import *\n",
    "# GET = memoize(requests.get)\n",
    "\n",
    "# _x('tonyfast')>>\"https://api.github.com/users/{}\".format>>GET>>this.json()>>{\n",
    "#     'name': get('name'),\n",
    "#     'img': _x[{'url': get('avatar_url')}]>>_xx(width=100)[Image]<<display\n",
    "\n",
    "# }"
   ]
  },
  {
   "cell_type": "code",
   "execution_count": 796,
   "metadata": {
    "collapsed": false
   },
   "outputs": [],
   "source": [
    "# from bokeh import plotting, models\n",
    "# import pandas as pd\n",
    "\n",
    "# source, p = pd.util.testing.makeDataFrame().pipe(plotting.ColumnDataSource), plotting.figure()\n",
    "# renderers = _x[[\n",
    "#     models.Circle(x='A', y='B'),\n",
    "#     models.Square(x='A', y='B')\n",
    "# ]].map(_x(source)[p.add_glyph])[list]()"
   ]
  },
  {
   "cell_type": "code",
   "execution_count": 763,
   "metadata": {
    "collapsed": false
   },
   "outputs": [
    {
     "data": {
      "text/html": [
       "<img src=\"https://avatars0.githubusercontent.com/u/4236275?v=3\" width=\"100\"/>"
      ],
      "text/plain": [
       "<IPython.core.display.Image object>"
      ]
     },
     "metadata": {},
     "output_type": "display_data"
    },
    {
     "data": {
      "text/plain": [
       "{'img': <IPython.core.display.Image object>, 'name': 'Tony Fast'}"
      ]
     },
     "execution_count": 763,
     "metadata": {},
     "output_type": "execute_result"
    }
   ],
   "source": [
    "# f = this[['A', 'B']][\n",
    "#     _x<<len>>\"The length of the dataframe is {}\".format>>print\n",
    "# ].describe().unstack(0).reset_index().pipe(\n",
    "#     _x<<(lambda df: setattr(df, 'columns', df.columns.map(str)))\n",
    "# ).pipe(\n",
    "#     _x<<(lambda df: setattr(df, '0', df['0'].mul(100)))\n",
    "# ).sample(2)\n",
    "# f(df)\n",
    "\n",
    "# f(pd.concat([pd.util.testing.makeDataFrame() for i in range(3)]))"
   ]
  }
 ],
 "metadata": {
  "anaconda-cloud": {},
  "kernelspec": {
   "display_name": "root",
   "language": "python",
   "name": "root"
  },
  "language_info": {
   "codemirror_mode": {
    "name": "ipython",
    "version": 3
   },
   "file_extension": ".py",
   "mimetype": "text/x-python",
   "name": "python",
   "nbconvert_exporter": "python",
   "pygments_lexer": "ipython3",
   "version": "3.5.2"
  }
 },
 "nbformat": 4,
 "nbformat_minor": 2
}
