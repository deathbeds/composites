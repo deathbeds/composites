{
 "cells": [
  {
   "cell_type": "markdown",
   "metadata": {},
   "source": [
    "> `fidget` uses the python data model to compose higher-order functions.\n",
    "\n",
    "---"
   ]
  },
  {
   "cell_type": "code",
   "execution_count": 1,
   "metadata": {},
   "outputs": [],
   "source": [
    "from copy import copy\n",
    "from functools import wraps, total_ordering, partial\n",
    "from importlib import import_module\n",
    "from six import iteritems\n",
    "from toolz.curried import (isiterable, first, excepts, flip, complement, map, identity, concatv, valfilter, merge, groupby, concat, get, keyfilter, compose, reduce)\n",
    "from six.moves.builtins import hasattr, getattr, isinstance, issubclass, setattr\n",
    "from operator import (methodcaller, itemgetter, attrgetter, not_, truth, abs, invert, neg, pos, index, eq)\n",
    "\n",
    "__all__ = ['_x', '_xx', '_f', 'x_', '_y', '_h', 'call', 'default', 'ifthen', 'copy']"
   ]
  },
  {
   "cell_type": "markdown",
   "metadata": {},
   "source": [
    "Base class to encapsulate the state of composite functions."
   ]
  },
  {
   "cell_type": "code",
   "execution_count": 2,
   "metadata": {
    "collapsed": true
   },
   "outputs": [],
   "source": [
    "class State(object):\n",
    "    __slots__ = tuple()\n",
    "    \n",
    "    def __init__(self, *args, **kwargs):\n",
    "        for i, slot in enumerate(self.__slots__):\n",
    "            setattr(self, slot, kwargs.pop(slot, args[i]))\n",
    "        \n",
    "    def __getstate__(self):\n",
    "        return tuple(map(partial(getattr, self), self.__slots__))\n",
    "\n",
    "    def __setstate__(self, state):\n",
    "        for key, value in zip(self.__slots__, state):\n",
    "            setattr(self, key, value)\n",
    "        \n",
    "    def __copy__(self, *args):\n",
    "        new = self.__class__()\n",
    "        return new.__setstate__(tuple(map(copy, self.__getstate__()))) or new\n",
    "\n",
    "    def __hash__(self):\n",
    "        return hash(tuple(\n",
    "            getattr(self, attr) for attr in self.__slots__\n",
    "        ))\n",
    "    \n",
    "    def __eq__(self, other):\n",
    "        return hash(self) == hash(other)\n",
    "        \n",
    "    __deepcopy__ = __copy__"
   ]
  },
  {
   "cell_type": "code",
   "execution_count": 3,
   "metadata": {
    "collapsed": true
   },
   "outputs": [],
   "source": [
    "class functor(State):\n",
    "    \"\"\"Evaluate a function if it is `callable`, otherwise return value.\"\"\"\n",
    "    __slots__ = ('function',)\n",
    "    \n",
    "    def __init__(self, function=identity, *args):\n",
    "        super(functor, self).__init__(function, *args)\n",
    "    \n",
    "    def __call__(self, *args, **kwargs):\n",
    "        return self.function(*args, **kwargs) if callable(\n",
    "            self.function) else self.function\n",
    "    \n",
    "class flipped(functor):\n",
    "    \"\"\"Evaluate a function with the arguments reversed.\"\"\"\n",
    "    def __call__(self, *args, **kwargs):\n",
    "        return super(flipped, self).__call__(*reversed(args), **kwargs)\n",
    "    \n",
    "class do(functor):\n",
    "    \"\"\"Evaluate a function and return the arguments\"\"\"\n",
    "    def __call__(self, *args, **kwargs):\n",
    "        super(do, self).__call__(*args, **kwargs)\n",
    "        return args[0] if args else None"
   ]
  },
  {
   "cell_type": "code",
   "execution_count": 4,
   "metadata": {
    "collapsed": true
   },
   "outputs": [],
   "source": [
    "class stars(functor):\n",
    "    \"\"\"Evaluate a function that expands sequences and collections to star arguments and keywords.\n",
    "    \"\"\"\n",
    "    def __call__(self, *args, **kwargs):\n",
    "        arguments = groupby(flip(isinstance)(dict), args) if all(\n",
    "            map(isiterable, args)\n",
    "        ) else {False: [[args]]}\n",
    "        return super(stars, self).__call__(\n",
    "            *concat(get(False, arguments, tuple())), \n",
    "            **merge(kwargs, *get(True, arguments, [{}]))\n",
    "        )"
   ]
  },
  {
   "cell_type": "code",
   "execution_count": 5,
   "metadata": {
    "collapsed": true
   },
   "outputs": [],
   "source": [
    "class condition(functor):\n",
    "    __slots__ = ('condition', 'function')    \n",
    "\n",
    "class ifthen(condition):\n",
    "    \"\"\"Evaluate the condition, and if it is True evaluate function.\n",
    "    \"\"\"\n",
    "    def __call__(self, *args, **kwargs):\n",
    "        return functor(self.condition)(*args, **kwargs) and super(ifthen, self).__call__(*args, **kwargs)\n",
    "\n",
    "class default(condition):\n",
    "    \"\"\"Evaluate the function, and if it is False evaluate condition.\n",
    "    \"\"\"\n",
    "\n",
    "    def __call__(self, *args, **kwargs):\n",
    "        return super(default, self).__call__(*args, **kwargs) or functor(self.condition)(*args, **kwargs)"
   ]
  },
  {
   "cell_type": "code",
   "execution_count": 6,
   "metadata": {
    "collapsed": true
   },
   "outputs": [],
   "source": [
    "def doc(self):\n",
    "    return getattr(self.function, '__doc__', '')\n",
    "\n",
    "for func in (functor, flipped, do, stars, ifthen, default):\n",
    "    setattr(func, '__doc__', property(doc))"
   ]
  },
  {
   "cell_type": "markdown",
   "metadata": {},
   "source": [
    "Encapsulate `partial`  arguments and keywords."
   ]
  },
  {
   "cell_type": "code",
   "execution_count": 7,
   "metadata": {
    "collapsed": true
   },
   "outputs": [],
   "source": [
    "class call(State):\n",
    "    __slots__ = ('args', 'kwargs')\n",
    "    \n",
    "    def __init__(self, *args, **kwargs):\n",
    "        super(call, self).__init__(args, kwargs)\n",
    "        \n",
    "    def __call__(self, function=functor):\n",
    "        return partial(functor(function), *self.args,  **self.kwargs)"
   ]
  },
  {
   "cell_type": "markdown",
   "metadata": {},
   "source": [
    "Encapsulate iterable of functions that can be evaluated sequentially; compose functions using the `getitem` method."
   ]
  },
  {
   "cell_type": "code",
   "execution_count": 8,
   "metadata": {
    "collapsed": true
   },
   "outputs": [],
   "source": [
    "class Function(State):\n",
    "    __slots__ = ('_functions',)\n",
    "    \n",
    "    def __init__(self, functions=tuple(), *args):        \n",
    "        if not isiterable(functions) or isinstance(functions, (str, )):\n",
    "            functions = (functions,)\n",
    "            \n",
    "        super(Function, self).__init__(\n",
    "            (isinstance(functions, dict) and iteritems or identity)(functions), *args)\n",
    "    \n",
    "    def __getitem__(self, item):\n",
    "        self._functions = tuple(concatv(self._functions, (item,)))\n",
    "        return self \n",
    "    \n",
    "    def __repr__(self):\n",
    "        return str(self._functions)\n",
    "    \n",
    "    def __delitem__(self, item):\n",
    "        self._functions = tuple(fn for fn in self if fn != item)\n",
    "        return self\n",
    "    \n",
    "    def __setitem__(self, key, value):\n",
    "        self._functions = tuple(value if fn == key else fn for fn in self)\n",
    "        return self  \n",
    "    \n",
    "    def __iter__(self):\n",
    "        for function in self._functions:\n",
    "            yield (\n",
    "                isinstance(function, (dict, set, list, tuple)) \n",
    "                and call(codomain=type(function))(Juxtapose) \n",
    "                or functor\n",
    "            )(function)\n",
    "\n",
    "    def __reversed__(self):\n",
    "        self._functions = type(self._functions)(reversed(self._functions))\n",
    "        return self\n",
    "    \n",
    "    def __len__(self):\n",
    "        return len(self._functions)\n",
    "\n",
    "    def __hash__(self):\n",
    "        return hash(self._functions)\n",
    "\n",
    "    def __abs__(self):\n",
    "        return self.__call__"
   ]
  },
  {
   "cell_type": "markdown",
   "metadata": {},
   "source": [
    "Composite Functions have total ordering and contextmanager."
   ]
  },
  {
   "cell_type": "code",
   "execution_count": 9,
   "metadata": {
    "collapsed": true
   },
   "outputs": [],
   "source": [
    "@total_ordering\n",
    "class Composite(Function):\n",
    "    def __getitem__(self, item):\n",
    "        if isinstance(item, slice): \n",
    "            if item != slice(None): \n",
    "                # Slice the composite\n",
    "                self._functions = self._functions[item]\n",
    "        else:\n",
    "            self = super(Composite, self).__getitem__(item)\n",
    "        return self\n",
    "                \n",
    "    def __enter__(self):\n",
    "        return copy(self[:])\n",
    "    \n",
    "    def __exit__(self, exc_type, exc_value, traceback):\n",
    "        pass\n",
    "\n",
    "    def __lt__(self, other):\n",
    "        if isinstance(other, Composite):\n",
    "            return (len(self) < len(other)) and all(\n",
    "                eq(*i) for i in zip(self, other)\n",
    "            )\n",
    "        return False\n",
    "    \n",
    "    def __contains__(self, item):\n",
    "        return any(item == function for function in self)\n",
    "    \n",
    "    @property\n",
    "    def _function(self):\n",
    "        return self._functions"
   ]
  },
  {
   "cell_type": "markdown",
   "metadata": {},
   "source": [
    "`Juxtapose` applies the same arguments and keywords to many functions."
   ]
  },
  {
   "cell_type": "code",
   "execution_count": 10,
   "metadata": {
    "collapsed": true
   },
   "outputs": [],
   "source": [
    "class Juxtapose(Composite):\n",
    "    __slots__ = ('_functions', '_codomain')\n",
    "    def __init__(self, functions=tuple(), codomain=functor):\n",
    "        super(Juxtapose, self).__init__(functions, codomain)\n",
    "        \n",
    "    def __call__(self, *args, **kwargs):\n",
    "        return self._codomain(call(*args)(function)(**kwargs) for function in self)\n",
    "    \n",
    "    def __hash__(self):\n",
    "        return hash((self._functions, self._codomain))"
   ]
  },
  {
   "cell_type": "markdown",
   "metadata": {},
   "source": [
    "`Compose` chains functions together."
   ]
  },
  {
   "cell_type": "code",
   "execution_count": 11,
   "metadata": {
    "collapsed": true
   },
   "outputs": [],
   "source": [
    "class Compose(Composite):\n",
    "    def __call__(self, *args, **kwargs):\n",
    "        for function in self:\n",
    "            args, kwargs = (call(*args)(function)(**kwargs),), {}\n",
    "        return first(args)"
   ]
  },
  {
   "cell_type": "markdown",
   "metadata": {},
   "source": [
    "`Callables` are `Functions` that store partial `argument` & `keyword` states."
   ]
  },
  {
   "cell_type": "code",
   "execution_count": 12,
   "metadata": {
    "collapsed": true
   },
   "outputs": [],
   "source": [
    "class Partial(Composite):\n",
    "    __slots__ = ('_functions', '_args', '_keywords')\n",
    "    _decorate_, _composite_ = staticmethod(functor), staticmethod(Compose)    \n",
    "\n",
    "    def __init__(self, *args, **kwargs):\n",
    "        super(Partial, self).__init__(kwargs.pop('functions', self._composite_()), args, kwargs)\n",
    "        \n",
    "    def __getitem__(self, item=None):   \n",
    "        if self._factory_:\n",
    "            self = type(self).__mro__[1]()\n",
    "\n",
    "        if item is call: \n",
    "            return abs(self)\n",
    "        \n",
    "        if isinstance(item, call):\n",
    "            return item(self)()\n",
    "        \n",
    "        self._functions[item]\n",
    "        return self\n",
    "\n",
    "    @property\n",
    "    def _function(self):\n",
    "        return self._decorate_(self._functions)\n",
    "\n",
    "    @property\n",
    "    def __call__(self):\n",
    "        return call(*self._args, **self._keywords)(self._function)\n",
    "        \n",
    "    @property\n",
    "    def _factory_(self):\n",
    "        return type(self).__name__.startswith('_') and type(self).__name__.endswith('_')\n",
    "\n",
    "    __and__ = __add__ = __rshift__ = __sub__ = __getitem__"
   ]
  },
  {
   "cell_type": "code",
   "execution_count": 13,
   "metadata": {
    "collapsed": true
   },
   "outputs": [],
   "source": [
    "class Juxtaposition(Partial): \n",
    "    _composite_ = staticmethod(Juxtapose)"
   ]
  },
  {
   "cell_type": "code",
   "execution_count": 14,
   "metadata": {
    "collapsed": true
   },
   "outputs": [],
   "source": [
    "class Composition(Partial):\n",
    "    def __getitem__(self, item=None, *args, **kwargs):\n",
    "        return super(Composition, self).__getitem__(\n",
    "            (args or kwargs) and call(*args, **kwargs)(item)  or item)   \n",
    "    \n",
    "    def __xor__(self, item):\n",
    "        \"\"\"** operator requires an argument to be true because executing.\n",
    "        \"\"\"\n",
    "        self, method = self[:], ifthen\n",
    "        if isinstance(item, type):\n",
    "            if issubclass(item, Exception) or isiterable(item) and all(\n",
    "                map(flip(isinstance)(Exception), item)\n",
    "            ):\n",
    "                method = excepts\n",
    "        elif isiterable(item) and all(map(flip(isinstance)(type), item)):\n",
    "            item = flip(isinstance)(item)\n",
    "        self._functions = Compose([method(item, self._functions)])\n",
    "        return self\n",
    "\n",
    "    def __or__(self, item):\n",
    "        \"\"\"| returns a default value if composition evaluates true.\n",
    "        \"\"\"\n",
    "        self = self[:]\n",
    "        self._functions = Compose([default(item, self._functions)])\n",
    "        return self\n",
    "    \n",
    "    def __pos__(self):\n",
    "        return self[bool]\n",
    "\n",
    "    def __neg__(self):\n",
    "        return self[complement(bool)]\n",
    "        \n",
    "    def __lshift__(self, item):\n",
    "        return Do()[item] if self._factory_ else self[do(item)]\n",
    "        \n",
    "    __pow__, __mul__ = __xor__, __getitem__\n",
    "    __invert__ = Composite.__reversed__"
   ]
  },
  {
   "cell_type": "code",
   "execution_count": 15,
   "metadata": {
    "collapsed": true
   },
   "outputs": [],
   "source": [
    "class Flipped(Composition):\n",
    "    _decorate_ = staticmethod(flipped)\n",
    "    \n",
    "class Starred(Composition):\n",
    "    _decorate_ = staticmethod(stars)\n",
    "    \n",
    "class Do(Composition):\n",
    "    _decorate_ = staticmethod(do)"
   ]
  },
  {
   "cell_type": "code",
   "execution_count": 16,
   "metadata": {
    "collapsed": true
   },
   "outputs": [],
   "source": [
    "class ComposeLeft(Compose):    \n",
    "    def __iter__(self):\n",
    "        return reversed(tuple(super(ComposeLeft, self).__iter__()))\n",
    "    \n",
    "    def __hash__(self):\n",
    "        return hash(tuple(reversed(self._functions)))\n",
    "    \n",
    "class Reversed(Composition):\n",
    "    _composite_ = staticmethod(ComposeLeft)"
   ]
  },
  {
   "cell_type": "code",
   "execution_count": 17,
   "metadata": {
    "collapsed": true
   },
   "outputs": [],
   "source": [
    "def macro(attr, method, cls=Composition):\n",
    "    \"\"\"Adds attributes to `Compositon` `cls` to extend an api to contain named\n",
    "    actions.\n",
    "    \"\"\"\n",
    "    _impartial = not isinstance(method, partial)\n",
    "    method = not _impartial and method.func or method\n",
    "\n",
    "    def _macro(self, *args, **kwargs):\n",
    "        return (args or kwargs) and self[\n",
    "            _impartial and partial(method, *args, **kwargs) or method(*args, **kwargs)\n",
    "        ] or self[method]\n",
    "\n",
    "    setattr(cls, attr, getattr(cls, attr, wraps(method)(_macro)))"
   ]
  },
  {
   "cell_type": "markdown",
   "metadata": {},
   "source": [
    "|attribute     |symbol|function |  \n",
    "|--------------|------|---------|\n",
    "|`__div__`     |`/`   |`map`    |\n",
    "|`__truediv__` |`/`   |`map`    |\n",
    "|`__floordiv__`|`//`  |`filter` |\n",
    "|`__mod__`     |`%`   |`reduce` |\n",
    "|`__matmul__`  |`@`   |`groupby`|"
   ]
  },
  {
   "cell_type": "code",
   "execution_count": 18,
   "metadata": {
    "collapsed": true
   },
   "outputs": [],
   "source": [
    "for attr, method in [\n",
    "    ('__matmul__', groupby), ('__div__', map), ('__truediv__', map), ('__floordiv__', filter), ('__mod__', reduce)\n",
    "]:\n",
    "    macro(attr, method)"
   ]
  },
  {
   "cell_type": "markdown",
   "metadata": {},
   "source": [
    "Add right operators from the python data model."
   ]
  },
  {
   "cell_type": "code",
   "execution_count": 19,
   "metadata": {
    "collapsed": true
   },
   "outputs": [],
   "source": [
    "def _right_(attr):\n",
    "    def caller(self, other):\n",
    "        self = self[:]\n",
    "        if isinstance(other, call):\n",
    "            other =  self.__class__(*other.args, **other.kwargs)\n",
    "        else: \n",
    "            other =  self.__class__()[other]\n",
    "        return methodcaller(attr, copy(self))(other) if self else other\n",
    "\n",
    "    return wraps(getattr(Composition, \"\"\"__{}__\"\"\".format(attr)))(caller)\n",
    "\n",
    "s = \"__{}{}__\".format\n",
    "for attr in ['add', 'sub', 'mul', 'matmul','div', 'truediv', 'floordiv', 'mod', 'lshift', 'rshift', 'and', 'xor', 'or']:\n",
    "    setattr(Composition, s('i', attr), getattr(Composition, s('', attr)))\n",
    "    setattr(Composition, s('r', attr), _right_(attr))"
   ]
  },
  {
   "cell_type": "code",
   "execution_count": 20,
   "metadata": {
    "collapsed": true
   },
   "outputs": [],
   "source": [
    "for attr, method in [['call']*2, ['do', 'lshift'], ['pipe',  'getitem']]: \n",
    "    setattr(Composition, attr, getattr(Composition, s('', method)))    "
   ]
  },
  {
   "cell_type": "code",
   "execution_count": 21,
   "metadata": {
    "collapsed": true
   },
   "outputs": [],
   "source": [
    "# introduce functional programming namespaces from `toolz` and `operator`.\n",
    "for imports in ('toolz', 'operator', 'six.moves.builtins'):\n",
    "    attrs = compose(iteritems, valfilter(callable), keyfilter(\n",
    "        compose(str.lower, first)), vars, import_module)(imports)\n",
    "    for attr, method in attrs:\n",
    "        method = (\n",
    "            functor if method in (flip,) or method not in (\n",
    "                hasattr, getattr, isinstance, issubclass, setattr\n",
    "            ) or imports == 'toolz'\n",
    "            else partial if method in (methodcaller, itemgetter, attrgetter, not_, truth, abs, invert, neg, pos, index)\n",
    "            else flipped\n",
    "        )(method)\n",
    "        macro(attr, method)"
   ]
  },
  {
   "cell_type": "code",
   "execution_count": 22,
   "metadata": {
    "collapsed": true
   },
   "outputs": [],
   "source": [
    "class Lambda(Composition):\n",
    "    def __getitem__(self, items):\n",
    "        if not isiterable(items):\n",
    "            items = (items,)\n",
    "        for item in items:\n",
    "            self = super(Lambda, self).__getitem__(item)\n",
    "        return self"
   ]
  },
  {
   "cell_type": "markdown",
   "metadata": {},
   "source": [
    "Assign factories for each composition.\n",
    "\n",
    "|object|type           |\n",
    "|------|---------------|\n",
    "| _y   | Juxtaposition |\n",
    "| _x   | Composition   |\n",
    "| x_   | Flipped       |\n",
    "| _xx  | Starred       |"
   ]
  },
  {
   "cell_type": "code",
   "execution_count": 23,
   "metadata": {
    "collapsed": true
   },
   "outputs": [],
   "source": [
    "_y, _x, _f, x_, _xx, _h = tuple( \n",
    "    type('_{}_'.format(function.__name__), (function,), {})(functions=Compose([function])) \n",
    "    for function in (Juxtaposition, Composition, Reversed, Flipped, Starred, Lambda))\n",
    "\n",
    "del attr, attrs, doc, func, imports, method, s"
   ]
  },
  {
   "cell_type": "code",
   "execution_count": 24,
   "metadata": {
    "collapsed": true
   },
   "outputs": [],
   "source": [
    "def load_ipython_extension(ip):\n",
    "    \"\"\"%%fidget magic that displays code cells as markdown, then runs the cell.\n",
    "    \"\"\"\n",
    "    from IPython import display\n",
    "    ip.register_magic_function(\n",
    "        _x[lambda l, cell: cell][_x<<display.Markdown>>display.display]\n",
    "        [ip.run_cell][None], 'cell', 'fidget'\n",
    "    )"
   ]
  }
 ],
 "metadata": {
  "anaconda-cloud": {},
  "kernelspec": {
   "display_name": "Python 3",
   "language": "python",
   "name": "python3"
  },
  "language_info": {
   "codemirror_mode": {
    "name": "ipython",
    "version": 3
   },
   "file_extension": ".py",
   "mimetype": "text/x-python",
   "name": "python",
   "nbconvert_exporter": "python",
   "pygments_lexer": "ipython3",
   "version": "3.5.3"
  },
  "nbconvert": {
   "nbconvert.exporters.templateexporter.TemplateExporter": {
    "JupyterApp": {
     "config_file": "./fidget/config.py"
    }
   }
  }
 },
 "nbformat": 4,
 "nbformat_minor": 2
}
