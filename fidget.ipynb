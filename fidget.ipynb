{
 "cells": [
  {
   "cell_type": "markdown",
   "metadata": {},
   "source": [
    "# Higher-order functions for interactive computing"
   ]
  },
  {
   "cell_type": "code",
   "execution_count": 224,
   "metadata": {
    "collapsed": true
   },
   "outputs": [],
   "source": [
    "__all__ = ['_x', '_xx', 'call', 'stars', 'this', 'x_',]\n",
    "\n",
    "from copy import copy\n",
    "from functools import wraps\n",
    "from importlib import import_module\n",
    "from collections import Generator\n",
    "from six import iteritems\n",
    "from toolz.curried import isiterable, first, excepts, flip, last, identity, concatv, map, valfilter, keyfilter, merge, curry\n",
    "from functools import partial\n",
    "from operator import contains, methodcaller, itemgetter, attrgetter, not_, truth, abs, invert, neg, pos, index"
   ]
  },
  {
   "cell_type": "markdown",
   "metadata": {},
   "source": [
    "## utilities"
   ]
  },
  {
   "cell_type": "code",
   "execution_count": 225,
   "metadata": {
    "collapsed": false
   },
   "outputs": [],
   "source": [
    "def _do(function, *args, **kwargs):\n",
    "    \"\"\"Call function then return the first argument.\"\"\"\n",
    "    function(*args, **kwargs)\n",
    "    return first(args)\n",
    "\n",
    "@curry\n",
    "def call(args, function, **kwargs):\n",
    "    \"\"\"Evaluate a function or return non-callable functions.\n",
    "    \n",
    "    This is a functor method.\"\"\"\n",
    "    if not callable(function):\n",
    "        return function \n",
    "    return function(*args, **kwargs) "
   ]
  },
  {
   "cell_type": "code",
   "execution_count": 226,
   "metadata": {
    "collapsed": true
   },
   "outputs": [],
   "source": [
    "class FactoryMixin:\n",
    "    \"\"\"A mixin to generate new callables and compositions.\n",
    "    \"\"\"\n",
    "    def __call__(self, *args, **kwargs):\n",
    "        return first(self._functions)(args=args, keywords=kwargs)"
   ]
  },
  {
   "cell_type": "code",
   "execution_count": 227,
   "metadata": {
    "collapsed": true
   },
   "outputs": [],
   "source": [
    "class StateMixin:\n",
    "    \"\"\"Mixin to reproduce state from __slots__\n",
    "    \"\"\"\n",
    "    def __getstate__(self):\n",
    "        return tuple(map(partial(getattr, self), self.__slots__))\n",
    "\n",
    "    def __setstate__(self, state):\n",
    "        [setattr(self, key, value) for key, value in zip(self.__slots__, state)]"
   ]
  },
  {
   "cell_type": "markdown",
   "metadata": {},
   "source": [
    "## composition"
   ]
  },
  {
   "cell_type": "code",
   "execution_count": 228,
   "metadata": {
    "collapsed": false
   },
   "outputs": [],
   "source": [
    "class FunctionsBase(StateMixin, object):\n",
    "    __slots__ = ('functions', 'codomain')\n",
    "    \n",
    "    def __init__(self, functions):        \n",
    "        if not isiterable(functions) or isinstance(functions, (str, Callable)):\n",
    "            functions = [functions]\n",
    "        \n",
    "        if isinstance(functions, dict):\n",
    "            functions = iteritems(functions)\n",
    "            \n",
    "        self.functions = functions\n",
    "                    \n",
    "    def __iter__(self):\n",
    "        \"\"\"Generator yielding each evaluated function.\n",
    "        \"\"\"\n",
    "        for function in self.functions:\n",
    "            if isinstance(function, (dict, set, list, tuple)):\n",
    "                function = Juxtapose(function)\n",
    "            yield function\n",
    "\n",
    "    def __len__(self):\n",
    "        return len(self.functions)\n",
    "    \n",
    "class Juxtapose(FunctionsBase):\n",
    "    def __init__(self, functions):\n",
    "        self.codomain = isinstance(functions, Generator) and identity or type(functions)\n",
    "        super(Juxtapose, self).__init__(functions)\n",
    "        \n",
    "    def __call__(self, *args, **kwargs):\n",
    "        return self.codomain(map(call(args, **kwargs), self))\n",
    "        \n",
    "class Compose(FunctionsBase):\n",
    "    def __init__(self, functions):\n",
    "        self.codomain = identity\n",
    "        super(Compose, self).__init__(functions)\n",
    "    \n",
    "    def __call__(self, *args, **kwargs):\n",
    "        for function in self:\n",
    "            args, kwargs = (call(args, function, **kwargs),), {}\n",
    "        return self.codomain(args[0])"
   ]
  },
  {
   "cell_type": "code",
   "execution_count": 229,
   "metadata": {
    "collapsed": true
   },
   "outputs": [],
   "source": [
    "from inspect import getfullargspec"
   ]
  },
  {
   "cell_type": "code",
   "execution_count": 230,
   "metadata": {
    "collapsed": false
   },
   "outputs": [],
   "source": [
    "class Callable(StateMixin, object):\n",
    "    _do = False\n",
    "    _flip = False\n",
    "    \n",
    "    __slots__ = ('_functions', '_args', '_keywords', '_annotations_', '_doc', '_strict')\n",
    "\n",
    "    def __init__(\n",
    "        self, functions=tuple(), args=tuple(), keywords=dict(), _annotations_=None,\n",
    "        doc=\"\"\"\"\"\", _strict=True\n",
    "    ):\n",
    "        self._annotations_ = _annotations_\n",
    "        self._functions = functions \n",
    "        self._strict = _strict\n",
    "        self._doc = doc\n",
    "        self._args, self._keywords = tuple(), {}\n",
    "        self._partial_(*args, **keywords)\n",
    "        \n",
    "    def _partial_(self, *args, **kwargs):\n",
    "        \"\"\"Update arguments and keywords of the current composition.\n",
    "        \"\"\"\n",
    "        append = kwargs.pop('append', False)\n",
    "        args and setattr(self, '_args', tuple(\n",
    "            concatv(append and self._args or tuple(), args)\n",
    "        )) \n",
    "        kwargs and setattr(self, '_keywords', merge(\n",
    "            append and self._keywords or {}, kwargs\n",
    "        ))\n",
    "        return self\n",
    "    \n",
    "    def __getitem__(self, item=None):\n",
    "        \"\"\"Main feature to append functions to the composition.\n",
    "        \n",
    "        call is special flag to execute the function.\n",
    "        \"\"\"\n",
    "        if not isinstance(item, This): \n",
    "            if getattr(item, 'func', False) == call.func:\n",
    "                args = item._partial.args and item._partial.args[0] or tuple()\n",
    "                if not isinstance(args, (tuple, list)):\n",
    "                    args = (args,)\n",
    "                return self(*args, **item._partial.keywords)\n",
    "        \n",
    "        self = isinstance(self, FactoryMixin) and self() or self\n",
    "        \n",
    "        item != slice(None) and setattr(\n",
    "            self, '_functions', tuple(concatv(self._functions, (item,)))\n",
    "        )\n",
    "        \n",
    "        return self\n",
    "        \n",
    "    def __pow__(self, *args, **kwargs):\n",
    "        \"\"\"Append dispatching or annotation features.\n",
    "        \"\"\"\n",
    "        self = self[:]\n",
    "        args = isinstance(args[0], tuple) and args[0] or args\n",
    "        \n",
    "        if len(args) is 1 and isinstance(args[0], str):\n",
    "            return setattr(self, '_doc', args[0]) or self\n",
    "            \n",
    "        return self._validate_(*args, **kwargs)\n",
    "\n",
    "    def _validate_(self, *args, **kwargs):\n",
    "        if not isinstance(args[0], type):\n",
    "            return setattr(self, '_annotations_', args[0]) or self\n",
    "        annotations = self._annotations_ or {}\n",
    "        return setattr(\n",
    "            self, '_annotations_', merge(annotations, dict(enumerate(args)), kwargs)\n",
    "        ) or self \n",
    "    \n",
    "    def __lshift__(self, value):\n",
    "        \"\"\"Append a `do` composition.\n",
    "        \"\"\"\n",
    "        composition = type('Do', (Composition,), {'_do': True})()[value]\n",
    "        return isinstance(self, FactoryMixin) and composition or self[composition.__call__]\n",
    "    \n",
    "    def __call__(self, *args, **kwargs):\n",
    "        \"\"\"Call the composition with appending args and kwargs.\n",
    "        \"\"\"\n",
    "        composition = copy(self)._partial_(\n",
    "            *args, **kwargs, append=True\n",
    "        )\n",
    "        passes = self._strict and bool(composition)\n",
    "        return call(\n",
    "            tuple(), \n",
    "            passes and composition.__func__\n",
    "        )\n",
    "\n",
    "    @property\n",
    "    def __func__(self):\n",
    "        \"\"\"Compose the composition.\n",
    "        \"\"\"\n",
    "        function, args = Compose(self._functions), reversed(self._args) if self._flip else self._args\n",
    "        function = self._do and partial(_do, function) or function\n",
    "        return partial(function, *args, **self._keywords)\n",
    "            \n",
    "    def __repr__(self):\n",
    "        \"\"\"String representation of the composition.\n",
    "        \"\"\"\n",
    "        return self._functions and (self._args or self._keywords) and repr(self()) or repr({\n",
    "                'args': self._args, 'kwargs': self._keywords, 'funcs': self._functions\n",
    "            })\n",
    "        \n",
    "    def __copy__(self):\n",
    "        \"\"\"Copy the composition.\n",
    "        \"\"\"\n",
    "        copy = self.__class__()\n",
    "        return copy.__setstate__(self.__getstate__()) or copy\n",
    "    \n",
    "    def __bool__(self):\n",
    "        \"\"\"Validate any annotations for the composition.\n",
    "        \"\"\"\n",
    "        annotations = self._annotations_ or dict()\n",
    "        if not annotations: return True\n",
    "        \n",
    "        if callable(annotations):\n",
    "            return bool(\n",
    "                annotations(*self._args, **self._keywords)\n",
    "            ) if self._args or self._keywords else True\n",
    "                \n",
    "        return all(\n",
    "            (\n",
    "                isinstance(annotations[i], type)\n",
    "                and flip(isinstance)(annotations[i]) \n",
    "                or annotations[i]\n",
    "            )(arg) for i, arg in concatv(\n",
    "                enumerate(self._args), self._keywords.items()\n",
    "            ) if i in annotations\n",
    "        )\n",
    "    \n",
    "    def __eq__(self, other):\n",
    "        if isinstance(other, Callable):\n",
    "            return self._functions == other._functions and self._args == other._args\n",
    "        return False\n",
    "    \n",
    "    @property\n",
    "    def __annotations__(self):\n",
    "        kwargs = {}\n",
    "        if self._functions:\n",
    "            try:\n",
    "                argspec = getfullargspec(self._functions[0])\n",
    "                kwargs = {\n",
    "                    arg: argspec.annotations[arg]\n",
    "                    for arg in argspec.args\n",
    "                    if arg in argspec.annotations\n",
    "                }\n",
    "            except:\n",
    "                pass\n",
    "        return merge(kwargs, isinstance(self._annotations_, dict) and self._annotations_ or {})\n",
    "\n",
    "    @staticmethod\n",
    "    def _set_attribute_(method, _partial=True):\n",
    "        \"\"\"Decorator a append attributes to callable class\"\"\"\n",
    "        def call(self, *args, **kwargs):    \n",
    "            return (args or kwargs) and self[\n",
    "                _partial and partial(method, *args, **kwargs) or method(*args, **kwargs)\n",
    "            ] or self[method]\n",
    "        return wraps(method)(call)\n",
    "    \n",
    "    def __len__(self):\n",
    "        return len(self._functions)\n",
    "\n",
    "    @property\n",
    "    def __doc__(self):\n",
    "        return self._doc\n",
    "\n",
    "class This(Callable):\n",
    "    def __getattr__(self, attr):\n",
    "        if any(attr.startswith(key) for key in ('_repr_', '_ipython_')):\n",
    "            return self\n",
    "        return super(This, self).__getitem__(callable(attr) and attr or attrgetter(attr))\n",
    "    \n",
    "    def __getitem__(self, item):\n",
    "        if isinstance(item, FactoryMixin):\n",
    "            composition = item.functions[0]()\n",
    "            return composition.__setstate__(self.__getstate__()) or composition\n",
    "        return super(This, self).__getitem__(callable(item) and item or itemgetter(item))\n",
    "    \n",
    "    def __call__(self, *args, **kwargs):\n",
    "        if type(last(self._functions)) == attrgetter:\n",
    "            attrs = last(self._functions).__reduce__()[-1]\n",
    "            if len(attrs) == 1:\n",
    "                setattr(self, '_functions', tuple(self._functions[:-1])) \n",
    "                self[methodcaller(attrs[0], *args, **kwargs)]  \n",
    "            return self\n",
    "        return super(This, self).__call__(*args, **kwargs)"
   ]
  },
  {
   "cell_type": "markdown",
   "metadata": {},
   "source": [
    "## types"
   ]
  },
  {
   "cell_type": "code",
   "execution_count": 231,
   "metadata": {
    "collapsed": false
   },
   "outputs": [],
   "source": [
    "class Composition(Callable): \n",
    "    partial = Callable._partial_\n",
    "    \n",
    "    def __or__(self, item):\n",
    "        self = self[:]\n",
    "        return setattr(self, '_functions', [excepts(\n",
    "                item, Compose(self._functions), handler=partial(call, tuple())\n",
    "            )]) or self\n",
    "    \n",
    "Flipped = type('Flipped', (Composition,), {'_flip': True})\n",
    "    \n",
    "class Stars(Composition):\n",
    "    def _partial_(self, *args, **kwargs):\n",
    "        \"\"\"Update arguments and keywords of the current composition.\n",
    "        \"\"\"\n",
    "        if len(args) > 1:\n",
    "            args = (args,)\n",
    "        elif args:\n",
    "            if isinstance(args[0], (dict, list, tuple)):\n",
    "                if isinstance(args[0], dict):\n",
    "                    args = kwargs.update(**args[0]) or (None,)\n",
    "                args = args[0] or tuple()\n",
    "        return super(Stars, self)._partial_(*args, **kwargs)"
   ]
  },
  {
   "cell_type": "markdown",
   "metadata": {},
   "source": [
    "## namespace"
   ]
  },
  {
   "cell_type": "code",
   "execution_count": 232,
   "metadata": {
    "collapsed": false
   },
   "outputs": [],
   "source": [
    "_x, x_, _xx, this = (\n",
    "    type('_{}_'.format(f.__name__), (FactoryMixin, f,), {})((f,)) for f in (Composition, Flipped, Stars, This)\n",
    ")\n",
    "stars = _xx"
   ]
  },
  {
   "cell_type": "markdown",
   "metadata": {},
   "source": [
    "## Append attributes for a chainable API"
   ]
  },
  {
   "cell_type": "code",
   "execution_count": 233,
   "metadata": {
    "collapsed": false
   },
   "outputs": [],
   "source": [
    "This.__rshift__ = This.__getitem__\n",
    "Callable.__rshift__ = Callable.__getitem__\n",
    "Callable.__deepcopy__ = Callable.__copy__\n",
    "Callable._ = Callable.__call__\n",
    "Composition.call = Composition.__call__\n",
    "Composition.do = Composition.__lshift__\n",
    "Composition.excepts = Composition.__or__\n",
    "Composition.partial = Composition._partial_\n",
    "Composition.pipe =  Composition.__getitem__\n",
    "\n",
    "for imports in ('toolz', 'operator'):\n",
    "    for name, function in iteritems(\n",
    "        valfilter(callable, keyfilter(Compose([first, str.islower]), vars(import_module(imports))))\n",
    "    ):\n",
    "        if getattr(Composition, name, None) is None:\n",
    "            opts = {}\n",
    "            if function in (methodcaller, itemgetter, attrgetter, not_, truth, abs, invert, neg, pos, index):\n",
    "                opts.update(_partial=False)\n",
    "            elif function in (contains, flip) or imports == 'toolz': \n",
    "                pass\n",
    "            else:\n",
    "                function = flip(function)\n",
    "            setattr(Composition, name, getattr(\n",
    "                Composition, name, Composition._set_attribute_(function, **opts)\n",
    "            ))\n",
    "\n",
    "Composition.validate = Composition.__pow__\n",
    "Composition.__matmul__ = Composition.groupby\n",
    "Composition.__mul__ = Composition.map \n",
    "Composition.__truediv__  = Composition.filter"
   ]
  },
  {
   "cell_type": "code",
   "execution_count": 234,
   "metadata": {
    "collapsed": false
   },
   "outputs": [],
   "source": [
    "# _x**(_x[_x.gt(5), _x**float]>>all)>>[[identity]*3]>>call(10.)"
   ]
  },
  {
   "cell_type": "code",
   "execution_count": 235,
   "metadata": {
    "collapsed": false
   },
   "outputs": [
    {
     "data": {
      "text/plain": [
       "range(10, 10, 30)"
      ]
     },
     "execution_count": 235,
     "metadata": {},
     "output_type": "execute_result"
    }
   ],
   "source": [
    "# _xx([10, 10, 30])>>range"
   ]
  },
  {
   "cell_type": "raw",
   "metadata": {},
   "source": []
  },
  {
   "cell_type": "code",
   "execution_count": 592,
   "metadata": {
    "collapsed": false
   },
   "outputs": [],
   "source": [
    "# !jupyter nbconvert --to script fidget.ipynb"
   ]
  },
  {
   "cell_type": "code",
   "execution_count": 243,
   "metadata": {
    "collapsed": false
   },
   "outputs": [
    {
     "data": {
      "text/plain": [
       "TypeError(\"'float' object cannot be interpreted as an integer\")"
      ]
     },
     "execution_count": 243,
     "metadata": {},
     "output_type": "execute_result"
    }
   ],
   "source": [
    "# (_x[range] | TypeError)(10.)"
   ]
  },
  {
   "cell_type": "code",
   "execution_count": 240,
   "metadata": {
    "collapsed": false
   },
   "outputs": [
    {
     "data": {
      "text/html": [
       "<img src=\"https://avatars0.githubusercontent.com/u/4236275?v=3\" width=\"100\"/>"
      ],
      "text/plain": [
       "<IPython.core.display.Image object>"
      ]
     },
     "metadata": {},
     "output_type": "display_data"
    },
    {
     "data": {
      "text/plain": [
       "{'img': <IPython.core.display.Image object>, 'name': 'Tony Fast'}"
      ]
     },
     "execution_count": 240,
     "metadata": {},
     "output_type": "execute_result"
    }
   ],
   "source": [
    "# import requests\n",
    "# from IPython.display import display, Image\n",
    "# from toolz.curried import *\n",
    "# GET = memoize(requests.get)\n",
    "\n",
    "# _x('tonyfast')>>\"https://api.github.com/users/{}\".format>>GET>>this.json()>>{\n",
    "#     'name': get('name'),\n",
    "#     'img': _x[{'url': get('avatar_url')}]>>_xx(width=100)[Image]<<display\n",
    "\n",
    "# }"
   ]
  },
  {
   "cell_type": "code",
   "execution_count": 82,
   "metadata": {
    "collapsed": false
   },
   "outputs": [
    {
     "data": {
      "text/plain": [
       "[GlyphRenderer(id='8f79337c-92b4-4007-b34e-616a1119f05c', ...),\n",
       " GlyphRenderer(id='a113be50-8106-44d9-92c9-3b13e5c5347a', ...)]"
      ]
     },
     "execution_count": 82,
     "metadata": {},
     "output_type": "execute_result"
    }
   ],
   "source": [
    "# from bokeh import plotting, models\n",
    "# import pandas as pd\n",
    "# df = pd.util.testing.makeDataFrame()\n",
    "# source, p = df.pipe(plotting.ColumnDataSource), plotting.figure()\n",
    "# renderers = _x[[\n",
    "#     models.Circle(x='A', y='B'),\n",
    "#     models.Square(x='A', y='B')\n",
    "# ]].map(_x(source)[p.add_glyph])[list]()\n",
    "# renderers"
   ]
  },
  {
   "cell_type": "code",
   "execution_count": 83,
   "metadata": {
    "collapsed": false
   },
   "outputs": [
    {
     "name": "stdout",
     "output_type": "stream",
     "text": [
      "The length of the dataframe is 30\n",
      "The length of the dataframe is 90\n"
     ]
    },
    {
     "data": {
      "text/html": [
       "<div>\n",
       "<table border=\"1\" class=\"dataframe\">\n",
       "  <thead>\n",
       "    <tr style=\"text-align: right;\">\n",
       "      <th></th>\n",
       "      <th>level_0</th>\n",
       "      <th>level_1</th>\n",
       "      <th>0</th>\n",
       "    </tr>\n",
       "  </thead>\n",
       "  <tbody>\n",
       "    <tr>\n",
       "      <th>11</th>\n",
       "      <td>B</td>\n",
       "      <td>min</td>\n",
       "      <td>-183.528531</td>\n",
       "    </tr>\n",
       "    <tr>\n",
       "      <th>0</th>\n",
       "      <td>A</td>\n",
       "      <td>count</td>\n",
       "      <td>9000.000000</td>\n",
       "    </tr>\n",
       "  </tbody>\n",
       "</table>\n",
       "</div>"
      ],
      "text/plain": [
       "   level_0 level_1            0\n",
       "11       B     min  -183.528531\n",
       "0        A   count  9000.000000"
      ]
     },
     "execution_count": 83,
     "metadata": {},
     "output_type": "execute_result"
    }
   ],
   "source": [
    "# f = this[['A', 'B']][\n",
    "#     _x<<len>>\"The length of the dataframe is {}\".format>>print\n",
    "# ].describe().unstack(0).reset_index().pipe(\n",
    "#     _x<<(lambda df: setattr(df, 'columns', df.columns.map(str)))\n",
    "# ).pipe(\n",
    "#     _x<<(lambda df: setattr(df, '0', df['0'].mul(100)))\n",
    "# ).sample(2)\n",
    "# f(df)\n",
    "\n",
    "# f(pd.concat([pd.util.testing.makeDataFrame() for i in range(3)]))"
   ]
  },
  {
   "cell_type": "code",
   "execution_count": 84,
   "metadata": {
    "collapsed": false
   },
   "outputs": [
    {
     "data": {
      "text/plain": [
       "range(0, 10)"
      ]
     },
     "execution_count": 84,
     "metadata": {},
     "output_type": "execute_result"
    }
   ],
   "source": [
    "# _x()**(int)>>range>>call([10])"
   ]
  },
  {
   "cell_type": "code",
   "execution_count": 85,
   "metadata": {
    "collapsed": false
   },
   "outputs": [
    {
     "data": {
      "text/plain": [
       "[10]"
      ]
     },
     "execution_count": 85,
     "metadata": {},
     "output_type": "execute_result"
    }
   ],
   "source": [
    "# _x[list].excepts(TypeError)([10])"
   ]
  },
  {
   "cell_type": "code",
   "execution_count": 86,
   "metadata": {
    "collapsed": false
   },
   "outputs": [
    {
     "data": {
      "text/plain": [
       "TypeError(\"'int' object is not iterable\")"
      ]
     },
     "execution_count": 86,
     "metadata": {},
     "output_type": "execute_result"
    }
   ],
   "source": [
    "# (_x[list] | TypeError) >> call(10)"
   ]
  }
 ],
 "metadata": {
  "anaconda-cloud": {},
  "kernelspec": {
   "display_name": "Python [default]",
   "language": "python",
   "name": "python3"
  },
  "language_info": {
   "codemirror_mode": {
    "name": "ipython",
    "version": 3
   },
   "file_extension": ".py",
   "mimetype": "text/x-python",
   "name": "python",
   "nbconvert_exporter": "python",
   "pygments_lexer": "ipython3",
   "version": "3.5.2"
  }
 },
 "nbformat": 4,
 "nbformat_minor": 2
}
