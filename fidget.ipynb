{
 "cells": [
  {
   "cell_type": "markdown",
   "metadata": {},
   "source": [
    "> `fidget` exports composition objects and useful `callable` decorators.\n",
    "\n",
    "---"
   ]
  },
  {
   "cell_type": "code",
   "execution_count": 1,
   "metadata": {
    "collapsed": true
   },
   "outputs": [],
   "source": [
    "from copy import copy\n",
    "from functools import wraps, total_ordering, partial\n",
    "from importlib import import_module\n",
    "from decorator import decorate\n",
    "from six import iteritems, PY34\n",
    "from toolz.curried import (isiterable, first, excepts, flip, last, complement, map, identity, concatv, valfilter, keyfilter, merge, curry, groupby, concat, get, compose, reduce)\n",
    "from operator import (methodcaller, itemgetter, attrgetter, not_, truth, abs, invert, neg, pos, index, eq)"
   ]
  },
  {
   "cell_type": "markdown",
   "metadata": {},
   "source": [
    "## exported namespaces"
   ]
  },
  {
   "cell_type": "code",
   "execution_count": 2,
   "metadata": {
    "collapsed": true
   },
   "outputs": [],
   "source": [
    "__all__ = ['_x', '_xx', 'x_', '_y', 'call', 'defaults', 'ifthen', 'copy', 'extension']"
   ]
  },
  {
   "cell_type": "markdown",
   "metadata": {},
   "source": [
    "`State` defines the data model attributes that copy and pickle objects."
   ]
  },
  {
   "cell_type": "code",
   "execution_count": 3,
   "metadata": {
    "collapsed": true
   },
   "outputs": [],
   "source": [
    "class State(object):\n",
    "    def __getstate__(self):\n",
    "        return tuple(map(partial(getattr, self), self.__slots__))\n",
    "\n",
    "    def __setstate__(self, state):\n",
    "        for key, value in zip(self.__slots__, state):\n",
    "            setattr(self, key, value)\n",
    "        \n",
    "    def __copy__(self, *args):\n",
    "        new = self.__class__()\n",
    "        return new.__setstate__(tuple(map(copy, self.__getstate__()))) or new\n",
    "        \n",
    "State.__deepcopy__ = State.__copy__"
   ]
  },
  {
   "cell_type": "markdown",
   "metadata": {},
   "source": [
    "`_wrapper` is used to decorate objects with `itertools.wraps`, `identity`, or sometimes `decorate`."
   ]
  },
  {
   "cell_type": "code",
   "execution_count": 4,
   "metadata": {
    "collapsed": true
   },
   "outputs": [],
   "source": [
    "def _wrapper(function, caller, *other_decorators):\n",
    "    for wrap in concatv(other_decorators, (wraps,)):\n",
    "        try: return wrap(function)(caller)\n",
    "        except: pass\n",
    "    return caller"
   ]
  },
  {
   "cell_type": "markdown",
   "metadata": {},
   "source": [
    "`functor` will return the called `function` if it is `callable` or `function`.\n",
    "\n",
    "        functor(range)(10)\n",
    "        functor(3)(10)"
   ]
  },
  {
   "cell_type": "code",
   "execution_count": 5,
   "metadata": {
    "collapsed": true
   },
   "outputs": [],
   "source": [
    "def functor(function):\n",
    "    def caller(*args, **kwargs):\n",
    "        if callable(function):\n",
    "            return function(*args, **kwargs)\n",
    "        return function\n",
    "    return callable(function) and _wrapper(function, caller) or caller"
   ]
  },
  {
   "cell_type": "markdown",
   "metadata": {},
   "source": [
    "`call` creates a `callable` with `partial` arguments.  Arguments are immutable, keywords are mutable.\n",
    "        \n",
    "        f = call(10, 20)(range)\n",
    "        f(3)\n",
    "        f(2)\n",
    "        \n",
    "`call` applies `functor` by default\n",
    "\n",
    "        call(10, 20)(3)()\n",
    "        \n",
    "polymorphisms\n",
    "\n",
    "        f(*args, **kwargs)(func)()\n",
    "        f(*args)(func)(**kwargs)\n",
    "        f()(func)(*args, **kwargs)\n",
    "        \n",
    "`fidget` relies heavily on call through the composition process."
   ]
  },
  {
   "cell_type": "code",
   "execution_count": 6,
   "metadata": {
    "collapsed": true
   },
   "outputs": [],
   "source": [
    "class call(State):\n",
    "    __slots__ = ('args', 'kwargs')\n",
    "    def __init__(self, *args, **kwargs):\n",
    "        self.args, self.kwargs = args, kwargs\n",
    "        \n",
    "    def __call__(self, function=identity):\n",
    "        def caller(*args, **kwargs):\n",
    "            return functor(function)(*concatv(self.args, args), **merge(self.kwargs, kwargs))\n",
    "        return callable(function) and _wrapper(function, caller) or caller"
   ]
  },
  {
   "cell_type": "markdown",
   "metadata": {},
   "source": [
    "`do` calls a function & returns the `first` argument"
   ]
  },
  {
   "cell_type": "code",
   "execution_count": 7,
   "metadata": {
    "collapsed": true
   },
   "outputs": [],
   "source": [
    "def do(function):\n",
    "    def caller(*args, **kwargs):\n",
    "        function(*args, **kwargs)\n",
    "        return first(args) if len(args) else tuple()\n",
    "    return _wrapper(function, caller, curry(decorate))"
   ]
  },
  {
   "cell_type": "markdown",
   "metadata": {},
   "source": [
    "call a `function` with the argument order `flipped`.  \n",
    "\n",
    "> `flip` only works with binary operations."
   ]
  },
  {
   "cell_type": "code",
   "execution_count": 8,
   "metadata": {
    "collapsed": true
   },
   "outputs": [],
   "source": [
    "def flipped(function):\n",
    "    def caller(*args, **kwargs):\n",
    "        return call(*reversed(args), **kwargs)(function)()\n",
    "    return _wrapper(function, caller, curry(decorate))"
   ]
  },
  {
   "cell_type": "markdown",
   "metadata": {},
   "source": [
    "`stars` converts iterables to starred arguments, and vice versa."
   ]
  },
  {
   "cell_type": "code",
   "execution_count": 9,
   "metadata": {
    "collapsed": true
   },
   "outputs": [],
   "source": [
    "def stars(function):\n",
    "    def caller(*args, **kwargs):\n",
    "        if all(map(isiterable, args)):\n",
    "            combined = groupby(\n",
    "                flip(isinstance)(dict), args)\n",
    "            args = concat(\n",
    "                get(False, combined, tuple()))\n",
    "            kwargs = merge(kwargs, *get(True, combined, [{}]))\n",
    "            return call(*args)(function)(**kwargs)\n",
    "        return call(args)(function)(**kwargs)\n",
    "    return _wrapper(function, caller, curry(decorate))"
   ]
  },
  {
   "cell_type": "markdown",
   "metadata": {},
   "source": [
    "`defaults` to another operation if `bool(function) is False`"
   ]
  },
  {
   "cell_type": "code",
   "execution_count": 10,
   "metadata": {
    "collapsed": true
   },
   "outputs": [],
   "source": [
    "def defaults(default):\n",
    "    def caller(function):\n",
    "        def defaults(*args, **kwargs):\n",
    "            return call(*args)(function)(**kwargs) or call(*args)(default)(**kwargs)\n",
    "        return _wrapper(function, defaults, curry(decorate))\n",
    "    return caller"
   ]
  },
  {
   "cell_type": "markdown",
   "metadata": {},
   "source": [
    "`ifthen` requires a `condition` to be true before executing `function`."
   ]
  },
  {
   "cell_type": "code",
   "execution_count": 11,
   "metadata": {
    "collapsed": true
   },
   "outputs": [],
   "source": [
    "def ifthen(condition):\n",
    "    def caller(function):\n",
    "        def ifthen(*args, **kwargs):\n",
    "            return call(*args)(condition)(**kwargs) and call(*args)(function)(**kwargs)\n",
    "        return _wrapper(function, ifthen, curry(decorate))\n",
    "    return caller"
   ]
  },
  {
   "cell_type": "markdown",
   "metadata": {},
   "source": [
    "`Functions` is the base class for `map` and `flatmap` function compositions.  \n",
    "New functions are added to the compositions using the `__getitem__` attribute."
   ]
  },
  {
   "cell_type": "code",
   "execution_count": 12,
   "metadata": {
    "collapsed": true
   },
   "outputs": [],
   "source": [
    "@total_ordering\n",
    "class Functions(State):\n",
    "    __slots__ = ('_functions',)\n",
    "    _log = None\n",
    "    def __init__(self, functions=tuple()):        \n",
    "        if not isiterable(functions) or isinstance(functions, (str, )):\n",
    "            functions = (functions,)\n",
    "            \n",
    "        self._functions = (isinstance(functions, dict) and iteritems or identity)(functions)\n",
    "            \n",
    "    def __getitem__(self, item):\n",
    "        if isinstance(item, slice): \n",
    "            if item == slice(None): \n",
    "                pass\n",
    "            else: \n",
    "                self._functions = self._functions[item]\n",
    "        else:\n",
    "            self._functions = tuple(concatv(self._functions, (item,)))\n",
    "        return self \n",
    "\n",
    "    def __enter__(self):\n",
    "        return copy(self[:])\n",
    "    \n",
    "    def __exit__(self, exc_type, exc_value, traceback):\n",
    "        pass\n",
    "\n",
    "    def __iter__(self):\n",
    "        for function in self._functions:\n",
    "            yield (\n",
    "                isinstance(function, (dict, set, list, tuple)) \n",
    "                and call(codomain=type(function))(Juxtapose) \n",
    "                or identity\n",
    "            )(function)\n",
    "\n",
    "    def __len__(self):\n",
    "        return len(self._functions)\n",
    "\n",
    "    def __hash__(self):\n",
    "        return hash(self._functions)\n",
    "\n",
    "    def __eq__(self, other):\n",
    "        if isinstance(other, Functions):\n",
    "            return hash(self) == hash(other)\n",
    "        return False\n",
    "\n",
    "    def __lt__(self, other):\n",
    "        if isinstance(other, Functions):\n",
    "            return (len(self) < len(other)) and all(\n",
    "                eq(*i) for i in zip(self, other)\n",
    "            )\n",
    "        return False\n",
    "\n",
    "    def __reversed__(self):\n",
    "        self._functions = tuple(reversed(self._functions))\n",
    "        return self\n",
    "    \n",
    "    def __repr__(self):\n",
    "        return str(self._functions)\n",
    "    \n",
    "    def __contains__(self, item):\n",
    "        return any(\n",
    "            item == function for function in self\n",
    "        )\n",
    "    \n",
    "    def __delitem__(self, item):\n",
    "        self._functions = tuple(\n",
    "            fn for fn in self\n",
    "            if fn != item\n",
    "        )\n",
    "        return self\n",
    "    \n",
    "    def __setitem__(self, key, value):\n",
    "        self._functions = tuple(\n",
    "            value if fn == key else fn\n",
    "            for fn in self\n",
    "        )\n",
    "        return self  \n",
    "    \n",
    "    def __abs__(self):\n",
    "        return self.__call__"
   ]
  },
  {
   "cell_type": "markdown",
   "metadata": {},
   "source": [
    "`Juxtapose` applies the same arguments and keywords to many functions."
   ]
  },
  {
   "cell_type": "code",
   "execution_count": 13,
   "metadata": {
    "collapsed": true
   },
   "outputs": [],
   "source": [
    "class Juxtapose(Functions):\n",
    "    __slots__ = ('_functions', '_codomain')\n",
    "    def __init__(self, functions=tuple(), codomain=identity):\n",
    "        self._codomain = codomain\n",
    "        super(Juxtapose, self).__init__(functions)\n",
    "        \n",
    "    def __call__(self, *args, **kwargs):\n",
    "        return self._codomain(call(*args)(function)(**kwargs) for function in self)"
   ]
  },
  {
   "cell_type": "markdown",
   "metadata": {},
   "source": [
    "`Compose` chains functions together."
   ]
  },
  {
   "cell_type": "code",
   "execution_count": 14,
   "metadata": {
    "collapsed": true
   },
   "outputs": [],
   "source": [
    "class Compose(Functions):\n",
    "    def __call__(self, *args, **kwargs):\n",
    "        for function in self:\n",
    "            args, kwargs = (call(*args)(function)(**kwargs),), {}\n",
    "        return first(args)"
   ]
  },
  {
   "cell_type": "markdown",
   "metadata": {},
   "source": [
    "`Callables` are `Functions` that store partial `argument` & `keyword` states."
   ]
  },
  {
   "cell_type": "code",
   "execution_count": 31,
   "metadata": {},
   "outputs": [],
   "source": [
    "class Callables(Functions):\n",
    "    _functions_default_ = Compose\n",
    "    _factory_, _do, _func_ = None, False, staticmethod(identity)\n",
    "    __slots__ = ('_functions', '_args', '_keywords')\n",
    "    \n",
    "    def __getitem__(self, item=None):\n",
    "        if self._factory_:\n",
    "            self = self()\n",
    "        if item is call: \n",
    "            return abs(self)\n",
    "        \n",
    "        if isinstance(item, call):\n",
    "            return item(self)()\n",
    "        self._functions[item]\n",
    "        return self\n",
    "\n",
    "\n",
    "    def __init__(self, *args, **kwargs):\n",
    "        self._functions = kwargs.pop('functions', self._functions_default_()) \n",
    "        self._args, self._keywords = args, kwargs    \n",
    "\n",
    "    def __func__(self):\n",
    "        if self._do: \n",
    "            return do(self._functions)\n",
    "        return (self._factory_ and identity or self._func_)(self._functions)\n",
    "\n",
    "    def __hash__(self):\n",
    "        return hash((self._functions, self._args, self._do, self.__class__))\n",
    "\n",
    "    @property\n",
    "    def __call__(self):\n",
    "        return call(*self._args, **self._keywords)(self.__func__())\n",
    "\n",
    "    def __lshift__(self, item):\n",
    "        if self._factory_:\n",
    "            return type('_Do_', (Callables,), {'_do': True})()[item]\n",
    "        return self[do(item)]\n",
    "    \n",
    "    def __invert__(self):\n",
    "        self = self[:]\n",
    "        self._functions = reversed(self._functions)\n",
    "        return self\n",
    "    \n",
    "    __and__ = __add__ = __rshift__ = __sub__ = __getitem__"
   ]
  },
  {
   "cell_type": "markdown",
   "metadata": {},
   "source": [
    "`Juxtaposition` is `Juxtapose` with arguments."
   ]
  },
  {
   "cell_type": "code",
   "execution_count": 16,
   "metadata": {
    "collapsed": true
   },
   "outputs": [],
   "source": [
    "class Juxtaposition(Callables): \n",
    "    _functions_default_ = Juxtapose"
   ]
  },
  {
   "cell_type": "markdown",
   "metadata": {},
   "source": [
    "`Composition` is `Compose` with arguments."
   ]
  },
  {
   "cell_type": "code",
   "execution_count": 17,
   "metadata": {
    "collapsed": true
   },
   "outputs": [],
   "source": [
    "class Composition(Callables):\n",
    "    def __getitem__(self, item=None, *args, **kwargs):\n",
    "        return super(Composition, self).__getitem__(\n",
    "            (args or kwargs) and call(*args, **kwargs)(item)  or item)   \n",
    "    \n",
    "    def __xor__(self, item, method=ifthen):\n",
    "        \"\"\"** operator requires an argument to be true because executing.\n",
    "        \"\"\"\n",
    "        self = self[:]\n",
    "        if isinstance(item, type):\n",
    "            if issubclass(item, Exception) or isiterable(item) and all(\n",
    "                map(flip(isinstance)(Exception), item)\n",
    "            ):\n",
    "                method = excepts\n",
    "        elif isiterable(item) and all(map(flip(isinstance)(type), item)):\n",
    "            item = flip(isinstance)(item)\n",
    "        self._functions = Compose([method(item)(self._functions)])\n",
    "        return self\n",
    "\n",
    "    def __or__(self, item):\n",
    "        \"\"\"| returns a default value if composition evaluates true.\n",
    "        \"\"\"\n",
    "        self = self[:]\n",
    "        self._functions = Compose([defaults(item)(self._functions)])\n",
    "        return self\n",
    "    \n",
    "    def __pos__(self):\n",
    "        return self[bool]\n",
    "\n",
    "    def __neg__(self):\n",
    "        return self[complement(bool)]\n",
    "    \n",
    "    __pow__ = __xor__\n",
    "    __mul__ = __getitem__"
   ]
  },
  {
   "cell_type": "code",
   "execution_count": 18,
   "metadata": {},
   "outputs": [],
   "source": [
    "def extension(attr, method, type=Composition):\n",
    "    _impartial = not isinstance(method, partial)\n",
    "    method = not _impartial and method.func or method\n",
    "    def caller(self, *args, **kwargs):    \n",
    "        return (args or kwargs) and self[\n",
    "            _impartial and partial(method, *args, **kwargs) \n",
    "            or method(*args, **kwargs)\n",
    "        ] or self[method]\n",
    "    setattr(type, attr, getattr(\n",
    "        type, attr, wraps(method)(caller)\n",
    "    ))\n",
    "\n",
    "for attr, method in [\n",
    "    ('__matmul__', groupby), ('__div__', map), ('__truediv__', map), ('__floordiv__', filter), ('__mod__', reduce)\n",
    "]:\n",
    "    extension(attr, method)"
   ]
  },
  {
   "cell_type": "code",
   "execution_count": 20,
   "metadata": {},
   "outputs": [],
   "source": [
    "def _rattribute_(attr):\n",
    "    attr = \"\"\"__{}__\"\"\".format(attr)\n",
    "    def caller(self, other):\n",
    "        self = self[:]\n",
    "        if isinstance(other, call):\n",
    "            other =  self.__class__(*other.args, **other.kwargs)\n",
    "        else: \n",
    "            other =  self.__class__()[other]\n",
    "        return  methodcaller(\n",
    "            attr, copy(self)\n",
    "        )(other) if self else other\n",
    "\n",
    "    return wraps(getattr(Composition, attr))(caller)\n",
    "\n",
    "s = \"__{}{}__\".format\n",
    "for attr in ['add', 'sub', 'mul', 'matmul','div', 'truediv', 'floordiv', 'mod', 'lshift', 'rshift', 'and', 'xor', 'or']:\n",
    "    setattr(Composition, s('i', attr), getattr(Composition, s('', attr)))\n",
    "    setattr(Composition, s('r', attr), _rattribute_(attr))\n",
    "del _rattribute_"
   ]
  },
  {
   "cell_type": "markdown",
   "metadata": {},
   "source": [
    "append named attributes"
   ]
  },
  {
   "cell_type": "code",
   "execution_count": 21,
   "metadata": {
    "collapsed": true
   },
   "outputs": [],
   "source": [
    "for attr, method in [['call']*2, ['do', 'lshift'], ['pipe',  'getitem']]: \n",
    "    setattr(Composition, attr, getattr(Composition, s('', method)))    "
   ]
  },
  {
   "cell_type": "markdown",
   "metadata": {},
   "source": [
    "introduce fucntional programming namespaces from `toolz` and `operator`."
   ]
  },
  {
   "cell_type": "code",
   "execution_count": 22,
   "metadata": {
    "collapsed": true
   },
   "outputs": [],
   "source": [
    "for imports in ('toolz', 'operator'):\n",
    "    for attr, method in iteritems(\n",
    "        valfilter(callable, keyfilter(compose(str.islower, first), vars(import_module(imports))))\n",
    "    ):\n",
    "        extension(attr, (\n",
    "            identity if method in (flip,) or imports == 'toolz'\n",
    "            else partial if method in (methodcaller, itemgetter, attrgetter, not_, truth, abs, invert, neg, pos, index)\n",
    "            else flip\n",
    "        )(method), Composition)"
   ]
  },
  {
   "cell_type": "markdown",
   "metadata": {},
   "source": [
    "`Flipped` is a `Composition` with the arguments reversed; keywords have no ordering."
   ]
  },
  {
   "cell_type": "code",
   "execution_count": 23,
   "metadata": {
    "collapsed": true
   },
   "outputs": [],
   "source": [
    "class Flipped(Composition):\n",
    "    _func_ = staticmethod(flipped)"
   ]
  },
  {
   "cell_type": "markdown",
   "metadata": {},
   "source": [
    "`Starred` is a `Composition` that applies an iterable as starred arguments.\n",
    "\n",
    "        _xx([10, 20, 3]) == _x(10, 20, 3)"
   ]
  },
  {
   "cell_type": "code",
   "execution_count": 24,
   "metadata": {
    "collapsed": true
   },
   "outputs": [],
   "source": [
    "class Starred(Composition):\n",
    "    _func_ = staticmethod(stars)"
   ]
  },
  {
   "cell_type": "markdown",
   "metadata": {},
   "source": [
    "Attributes and symbols to compose functions."
   ]
  },
  {
   "cell_type": "markdown",
   "metadata": {},
   "source": [
    "Create attributes that apply function programming methods from `toolz` and `operator`.\n",
    "\n",
    "        _x.map(_x.add(10)).filter(_x.gt(4)).pipe(list)(range(20))"
   ]
  },
  {
   "cell_type": "markdown",
   "metadata": {},
   "source": [
    "Attributes and symbols to compose functions."
   ]
  },
  {
   "cell_type": "code",
   "execution_count": 25,
   "metadata": {},
   "outputs": [],
   "source": [
    "if PY34:\n",
    "    class This(Callables):\n",
    "        \"\"\"`This` composes functions for an object applying \n",
    "        attribute getter, item getter, and method caller.\n",
    "        \"\"\"\n",
    "        def __getattr__(self, attr):\n",
    "            if any(attr.startswith(key) for key in ('__' , '_repr_', '_ipython_')):\n",
    "                return self\n",
    "            return super(This, self).__getitem__(callable(attr) and attr or attrgetter(attr))\n",
    "\n",
    "        def __getitem__(self, item):\n",
    "            return super(This, self).__getitem__(callable(item) and item or itemgetter(item))\n",
    "\n",
    "        def __call__(self, *args, **kwargs):\n",
    "            previous = last(self._functions._functions)\n",
    "            if type(previous) == attrgetter:\n",
    "                attrs = previous.__reduce__()[-1]\n",
    "                if len(attrs) == 1:\n",
    "                    self._functions = self._functions[:-1]\n",
    "                return self[methodcaller(first(attrs), *args, **kwargs)]  \n",
    "            return super(This, self).__call__(*args, **kwargs)\n",
    "        \n",
    "    this = type('_This_', (This,), {'_factory_': True})(functions=Compose([This]))\n",
    "    \n",
    "    __all__ += ['this']\n",
    "    \n",
    "del imports, attr, method, PY34"
   ]
  },
  {
   "cell_type": "markdown",
   "metadata": {},
   "source": [
    "Assign factories for each composition.\n",
    "\n",
    "|object|type           |\n",
    "|------|---------------|\n",
    "| _y   | Juxtaposition |\n",
    "| _x   | Composition   |\n",
    "| x_   | Flipped       |\n",
    "| _xx  | Starred       |"
   ]
  },
  {
   "cell_type": "code",
   "execution_count": 26,
   "metadata": {
    "collapsed": true
   },
   "outputs": [],
   "source": [
    "_y, _x, x_, _xx = tuple( \n",
    "    type('_{}_'.format(f.__name__), (f,), {'_factory_': True,})(functions=Compose([f])) \n",
    "    for f in (Juxtaposition, Composition, Flipped, Starred))"
   ]
  }
 ],
 "metadata": {
  "anaconda-cloud": {},
  "kernelspec": {
   "display_name": "root",
   "language": "python",
   "name": "root"
  },
  "language_info": {
   "codemirror_mode": {
    "name": "ipython",
    "version": 2
   },
   "file_extension": ".py",
   "mimetype": "text/x-python",
   "name": "python",
   "nbconvert_exporter": "python",
   "pygments_lexer": "ipython2",
   "version": "2.7.13"
  },
  "nbconvert": {
   "nbconvert.exporters.templateexporter.TemplateExporter": {
    "JupyterApp": {
     "config_file": "./fidget/config.py"
    }
   }
  }
 },
 "nbformat": 4,
 "nbformat_minor": 2
}
