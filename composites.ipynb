{
 "cells": [
  {
   "cell_type": "code",
   "execution_count": 1,
   "metadata": {
    "collapsed": true
   },
   "outputs": [],
   "source": [
    "__doc__ = \"\"\"composites\n",
    "\n",
    "composites work with other composites\n",
    "\n",
    ">>> assert (a * juxt({'a': range}) * type)(10) is dict\n",
    ">>> assert (a * (x + 32) )(10) == 42\n",
    ">>> (parallel(4).range()/(1+x+32))(10)\n",
    "[33, 34, 35, 36, 37, 38, 39, 40, 41, 42]\n",
    ">>> (a / (ifthen(x>5)[range]) * list)([0, 10])\n",
    "[False, range(0, 10)]\n",
    ">>> f = (a * (10<x) & (x<100) & range)\n",
    ">>> (a/f*tuple)([0, 50, 1000])\n",
    "(False, range(0, 50), False)\n",
    "\"\"\""
   ]
  },
  {
   "cell_type": "markdown",
   "metadata": {},
   "source": [
    "# Complex Composite Functions\n",
    "\n",
    "Complex composite functions have real and imaginary parts that may except specific errors.  \n",
    "\n",
    "## Composition\n",
    "\n",
    "Composite functions use Python syntax to append callable objects to compositions and juxtapositions.  \n",
    "\n",
    "### Operator "
   ]
  },
  {
   "cell_type": "code",
   "execution_count": 2,
   "metadata": {
    "collapsed": true
   },
   "outputs": [],
   "source": [
    "    from functools import partialmethod, total_ordering, WRAPPER_ASSIGNMENTS, wraps\n",
    "    \n",
    "    import operator\n",
    "    from collections import deque, Sized\n",
    "    from itertools import zip_longest\n",
    "    \n",
    "    from toolz import isiterable, excepts, identity, complement, concat, reduce, groupby, merge, first\n",
    "    import sys\n",
    "    from inspect import unwrap\n",
    "    \n",
    "    import inspect\n",
    "\n",
    "    from copy import copy\n",
    "\n",
    "    dunder = '__{}__'.format\n",
    "    \n",
    "    __all__ = 'a', 'an', 'the', 'function', 'flip', 'parallel', 'star', 'do', 'preview', 'x',\\\n",
    "    'op', 'juxt', 'ifthen', 'cache', 'store', 'Composition', 'Operator', #'Juxtaposition'"
   ]
  },
  {
   "cell_type": "markdown",
   "metadata": {},
   "source": [
    "Composing function strictly through the Python datamodel."
   ]
  },
  {
   "cell_type": "code",
   "execution_count": 3,
   "metadata": {
    "collapsed": true
   },
   "outputs": [],
   "source": [
    "    def call(object, *args, **kwargs):  \n",
    "        return object(*args, **kwargs) if callable(object) else object\n",
    "    def null(*args, **kwargs): return args[0] if args else None"
   ]
  },
  {
   "cell_type": "code",
   "execution_count": 4,
   "metadata": {
    "collapsed": true
   },
   "outputs": [],
   "source": [
    "    class partial(__import__('functools').partial):\n",
    "        def __eq__(self, other):\n",
    "            if isinstance(other, partial):\n",
    "                return type(self) is type(other) and self.func == other.func and all(_0==_1 for _0, _1 in zip_longest(self.args, other.args))"
   ]
  },
  {
   "cell_type": "code",
   "execution_count": 5,
   "metadata": {
    "collapsed": true
   },
   "outputs": [],
   "source": [
    "    class partial_object(partial):\n",
    "        def __call__(self, object): \n",
    "            return self.func(object, *self.args, **self.keywords)"
   ]
  },
  {
   "cell_type": "code",
   "execution_count": 6,
   "metadata": {},
   "outputs": [],
   "source": [
    "    @total_ordering\n",
    "    class State(object):\n",
    "        __slots__ = 'imag', 'real', 'exceptions', 'args', 'kwargs'\n",
    "        def __init__(self, imag=None, real=None, exceptions=None, args=None, kwargs=None):\n",
    "            \n",
    "            if real is None: \n",
    "                real = list()\n",
    "            if not isiterable(real): \n",
    "                real = [real]\n",
    "            self.imag = imag\n",
    "            self.__wrapped__ = self.real = real\n",
    "            \n",
    "            if exceptions and not isiterable(exceptions): exceptions = exceptions,\n",
    "            self.exceptions = exceptions or tuple()\n",
    "            self.args = tuple() if args is None else args\n",
    "            self.kwargs = kwargs or dict()\n",
    "            for attr in WRAPPER_ASSIGNMENTS:\n",
    "                hasattr(type(self), attr) and setattr(self, attr, getattr(type(self), attr))\n",
    "            if not hasattr(self, dunder('annotations')):\n",
    "                self.__annotations__ = dict()\n",
    "        \n",
    "        def __len__(self): \n",
    "            if hasattr(self.real, '__len__'): return len(self.real)\n",
    "            return 0\n",
    "        \n",
    "        def __eq__(self, other):\n",
    "            return all(_0 == _1 for _0, _1 in zip_longest(self.real, other))\n",
    "\n",
    "        def __lt__(self, other):\n",
    "            return len(self.real) < len(other) and all(_0 == _1 for _0, _1 in zip(self.real, other))\n",
    "        \n",
    "        def __bool__(self): return bool(len(self))\n",
    "        \n",
    "        def __setitem__(self, item, value): return self.real.__setitem__(item, value)\n",
    "        \n",
    "        def __hash__(self): return hash(map(hash, self))\n",
    "        \n",
    "        def __getstate__(self):\n",
    "            return tuple(getattr(self, slot) for slot in self.__slots__)\n",
    "        \n",
    "        def __setstate__(self, state):\n",
    "            return State.__init__(self, *map(copy, state)) or self\n",
    "        \n",
    "        def __getattr__(self, attr): \n",
    "            if not(hasattr(unwrap(self.real), attr)): raise AttributeError(attr)\n",
    "            def wrapped(*args, **kwargs):\n",
    "                nonlocal self\n",
    "                getattr(unwrap(self.real), attr)(*args, **kwargs)\n",
    "                return self\n",
    "            return wrapped\n",
    "        \n",
    "        def append(self, item):\n",
    "            if isinstance(self, Factory): self = self()\n",
    "            if not callable(item):\n",
    "                if isinstance(item, (int, slice)) or isinstance(self.real, dict): \n",
    "                    if item == slice(None): return self\n",
    "                    return self.real[item]\n",
    "                if isiterable(item):\n",
    "                    item = Juxtaposition(item)            \n",
    "            return self.__getattr__('append')(item)\n",
    "        \n",
    "        __getitem__ = append\n",
    "        __signature__ = inspect.signature(null)"
   ]
  },
  {
   "cell_type": "code",
   "execution_count": 7,
   "metadata": {
    "collapsed": true
   },
   "outputs": [],
   "source": [
    "    class Complex(State):\n",
    "        def __prepare__(self, *args, **kwargs):\n",
    "            return self.args + args, merge(self.kwargs, kwargs)\n",
    "\n",
    "        def __except__(self, object):\n",
    "            return excepts(self.exceptions, object, identity) if self.exceptions and callable(object) else object\n",
    "        \n",
    "        def __call__(self, *args, **kwargs):\n",
    "            \n",
    "            # Is the imaginary part already true?\n",
    "            if isinstance(self.imag, bool): \n",
    "                imag = self.imag\n",
    "                \n",
    "            # Has the imaginary part even been defined?\n",
    "            # If None, only the real part will be evaluated.\n",
    "            elif self.imag is None: \n",
    "                imag = True\n",
    "                \n",
    "            # Test the imaginary part of the function.\n",
    "            elif callable(self.imag): \n",
    "                imag = self.__except__(self.imag)(*args, **kwargs)\n",
    "                if isinstance(self.imag, Juxtaposition):\n",
    "                    imag = all(imag)\n",
    "\n",
    "            else: # Fallback\n",
    "                imag = self.imag\n",
    "                \n",
    "            # Make the imaginary part truthy.\n",
    "            imag = bool(imag)\n",
    "                            \n",
    "            if isinstance(imag, BaseException):\n",
    "                if imag in self.exceptions:\n",
    "                    return imag\n",
    "                raise ConditionException(self.imag)\n",
    "            return imag"
   ]
  },
  {
   "cell_type": "markdown",
   "metadata": {},
   "source": [
    "# Composites"
   ]
  },
  {
   "cell_type": "code",
   "execution_count": 8,
   "metadata": {
    "collapsed": true
   },
   "outputs": [],
   "source": [
    "    class Composite(Complex):\n",
    "        \"\"\"A complex composite function.\n",
    "        \n",
    "        >>> assert isinstance(Composite()(), __import__('collections').Generator)\n",
    "        \"\"\"\n",
    "        def __init__(cls, real=None, exceptions=None, args=None, **kwargs):\n",
    "            imag = kwargs.pop('imag', True)\n",
    "            return super().__init__(imag, real, exceptions, args=args, kwargs=kwargs)\n",
    "\n",
    "        def __iter__(self):\n",
    "            yield from map(self.__except__, self.real or [null])\n",
    "\n",
    "        def __call__(self, *args, **kwargs):\n",
    "            args, kwargs = self.__prepare__(*args, **kwargs)\n",
    "            condition = super().__call__(*args, **kwargs)\n",
    "            if condition is False or isinstance(condition, ConditionException):\n",
    "                yield condition\n",
    "            else:\n",
    "                for value in self:\n",
    "                    args, kwargs = [value(*args, **kwargs) if callable(value) else value ], {}\n",
    "                    yield null(*args, **kwargs)\n",
    "                    if isinstance(first(args), BaseException): break"
   ]
  },
  {
   "cell_type": "code",
   "execution_count": 9,
   "metadata": {
    "collapsed": true
   },
   "outputs": [],
   "source": [
    "    class Composition(Composite):\n",
    "        \"\"\"Callable complex composite objects.\n",
    "        \n",
    "        >>> f = Composition(range, exceptions=TypeError)\n",
    "        >>> assert Juxtaposition(f) is f\n",
    "        >>> assert f(10) == range(10)  and isinstance(f('10'), TypeError)\n",
    "        \"\"\"        \n",
    "        def __call__(self, *args, **kwargs): \n",
    "            results = super().__call__(*args, **kwargs)\n",
    "            if isinstance(self.real, dict): return type(self.real)(results)\n",
    "            return deque(results, maxlen=1).pop()"
   ]
  },
  {
   "cell_type": "code",
   "execution_count": 10,
   "metadata": {
    "collapsed": true
   },
   "outputs": [],
   "source": [
    "    class ComplexOperations:\n",
    "        \"\"\"Operations that generate complex composites.\n",
    "        \n",
    "        >>> f = a.bool().then(a.range()).excepts(TypeError)\n",
    "        >>> assert f(10) == range(10) and f(0) is False\n",
    "        >>> assert isinstance(f('10'), TypeError)\n",
    "        >>> g = a.instance(int).range()\n",
    "        >>> assert g(10) == range(10) and g('10') is False\n",
    "        \"\"\"\n",
    "        def __pow__(self, object):\n",
    "            \"\"\"Require a complex condition be true before evaluating a composition, otherwise return False.\n",
    "            \n",
    "            >>> f = a**int\n",
    "            >>> assert f(10) is 10 and f('10') is False\n",
    "            \"\"\"\n",
    "            new = IfThen(object, exceptions=self.exceptions, args=self.args, **self.kwargs)\n",
    "            if self: new.append(self)\n",
    "            return new\n",
    "        def __and__(self, object): \n",
    "            \"\"\"Evaluate object if the current composition is True.\n",
    "            \n",
    "            >>> f = a[bool] & range\n",
    "            >>> assert f(0) is False and f(10) == range(10)\n",
    "            \"\"\"\n",
    "            return IfThen(self or bool, exceptions=self.exceptions, args=self.args, **self.kwargs).append(object)\n",
    "        def __or__(self, object): \n",
    "            \"\"\"Evaluate object if the current composition is False.\n",
    "            \n",
    "            >>> f = a[bool] | range\n",
    "            >>> assert f(10) is False and f(0) == range(0)\n",
    "            \"\"\"\n",
    "\n",
    "            return IfThen(complement(self or bool), exceptions=self.exceptions, args=self.args, **self.kwargs).append(object)\n",
    "        def __xor__(self, object): \n",
    "            \"\"\"Evaluate a composition returning exceptions in object.\n",
    "            \n",
    "            >>> f = a * range ^ TypeError\n",
    "            >>> assert f(10) == range(10) and isinstance(f('string'), TypeError) \n",
    "            \"\"\"\n",
    "            self = self[:]\n",
    "            self.exceptions = object\n",
    "            return self\n",
    "        \n",
    "        then = __and__\n",
    "        ifnot = __or__\n",
    "        instance = __pow__\n",
    "        excepts = __xor__\n",
    "        \n",
    "        __neg__ = partialmethod(State.append, operator.not_)"
   ]
  },
  {
   "cell_type": "code",
   "execution_count": 11,
   "metadata": {
    "collapsed": true
   },
   "outputs": [],
   "source": [
    "    class OperatorOperations(ComplexOperations):        \n",
    "        def _left(self, callable, arg=None, partial=partial_object):\n",
    "            return self.append(partial(callable, arg))\n",
    "\n",
    "        def _right(self, callable, left):\n",
    "            return OperatorOperations._left(Operator(), callable, left, partial=partial)\n",
    "\n",
    "        def _bool(self, callable, *args):\n",
    "            return Operator(self, imag=partial_object(callable, *args))\n",
    "\n",
    "        def __getattr__(self, attr):\n",
    "            try: \n",
    "                return super().__getattr__(attr)\n",
    "            except AttributeError:\n",
    "                return self.append(partial_object(getattr, attr))\n",
    "        \n",
    "    for attr in ['add', 'sub', 'mul', 'truediv', 'floordiv', 'mod', 'getitem']:\n",
    "        op=  getattr(operator, attr)\n",
    "        setattr(OperatorOperations, dunder(attr), partialmethod(OperatorOperations._left, op))\n",
    "        setattr(OperatorOperations, '__r' + dunder(attr).lstrip('__'), partialmethod(OperatorOperations._right, op))\n",
    "    \n",
    "    for attr in ['gt', 'ge', 'le', 'lt', 'eq', 'ne']:\n",
    "        setattr(OperatorOperations, dunder(attr), partialmethod(OperatorOperations._bool, getattr(operator, attr)))\n",
    "    \n",
    "    for attr in ['abs', 'pos', 'neg', 'pow']:\n",
    "        setattr(OperatorOperations, dunder(attr), partialmethod(OperatorOperations._left, getattr(operator, attr)))\n",
    "    del attr"
   ]
  },
  {
   "cell_type": "code",
   "execution_count": 12,
   "metadata": {},
   "outputs": [],
   "source": [
    "    class Operator(OperatorOperations, Composition): \n",
    "        \"\"\"Symbollic compositions that append operations functins.\n",
    "        \n",
    "        >>> assert (x+10)(10) is 20\n",
    "        \"\"\"\n",
    "        __annotations__ = {}"
   ]
  },
  {
   "cell_type": "code",
   "execution_count": 13,
   "metadata": {
    "collapsed": true
   },
   "outputs": [],
   "source": [
    "    class SysAttributes(ComplexOperations):\n",
    "        shortcuts = 'statistics', 'toolz', 'requests', 'builtins','json', 'pickle', 'io', 'collections', \\\n",
    "        'itertools', 'functools', 'pathlib', 'importlib', 'inspect', 'operator'\n",
    "        decorators = dict()\n",
    "        \n",
    "        def __getattr__(self, attr):\n",
    "            \"\"\"Access attributes from sys.modules or self.shortcuts\"\"\"\n",
    "            return __getattr__(self).__getattr__(attr)\n",
    "        \n",
    "    class __getattr__(object):\n",
    "        def __init__(self, object, callable=None, parent=None):\n",
    "            self.object = object\n",
    "            self.callable = callable\n",
    "            self.parent = parent\n",
    "\n",
    "        def __getattr__(self, attr):\n",
    "            parent = self.callable\n",
    "            # Convert the attribute to a callable.\n",
    "            if self.callable:\n",
    "                attr = getattr(self.callable, attr)\n",
    "            else:\n",
    "                try: return State.__getattr__(self.object, attr)\n",
    "                except: pass\n",
    "                \n",
    "                if attr in sys.modules:\n",
    "                    attr = sys.modules.get(attr)\n",
    "                elif isinstance(attr, str):\n",
    "                    for module in map(__import__, SysAttributes.shortcuts):\n",
    "                        if hasattr(module, attr): \n",
    "                            attr = getattr(module, attr)\n",
    "                            break\n",
    "                    else:\n",
    "                        raise AttributeError(attr)\n",
    "            \n",
    "            # Decorate the discovered attribute with the correct partials or call.\n",
    "            for decorator, set in SysAttributes.decorators.items():\n",
    "                if attr in set: \n",
    "                    attr = partial(decorator, attr)\n",
    "                    break\n",
    "            else:\n",
    "                if isinstance(parent, type): attr = partial(partial_object, attr)\n",
    "            \n",
    "            wrapper = wraps(attr) if callable(attr) and not isinstance(attr, type) else False\n",
    "            \n",
    "            # Wrap the new object for interaction\n",
    "            object = __getattr__(self.object, attr, parent) \n",
    "            \n",
    "            if wrapper: object = wrapper(object)\n",
    "            \n",
    "            return object\n",
    "\n",
    "        def __call__(self, *args, **kwargs):\n",
    "            object = self.callable\n",
    "            if isinstance(object, partial): \n",
    "                object = object(*args, **kwargs)\n",
    "            return self.object.append(object)\n",
    "\n",
    "        def __repr__(self): \n",
    "            return repr(isinstance(self.callable, partial) and self.callable.args and self.callable.args[0] or self.callable)\n",
    "            \n",
    "\n",
    "        def __dir__(self):\n",
    "            if not self.callable or isinstance(self, SysAttributes):\n",
    "                base = (\n",
    "                    list(filter(partial_object(complement(str.__contains__), '.'), sys.modules.keys())) \n",
    "                    + list(concat(dir(__import__(module)) for module in SysAttributes.shortcuts)))\n",
    "            else:\n",
    "                base = dir(self.callable)\n",
    "            return base\n",
    "        \n",
    "SysAttributes.decorators[partial_object] = [__import__('fnmatch').fnmatch]\n",
    "SysAttributes.decorators[call] = operator.attrgetter('attrgetter', 'itemgetter', 'methodcaller')(operator)\n",
    "SysAttributes.decorators[partial_object] += [item for item in vars(operator).values() if item not in SysAttributes.decorators[call]]"
   ]
  },
  {
   "cell_type": "code",
   "execution_count": 14,
   "metadata": {},
   "outputs": [],
   "source": [
    "    class CompositeOperations(SysAttributes):\n",
    "        \"\"\"Operations that operator on containers.\n",
    "        \n",
    "        >>> assert a@range == a.groupby(range)\n",
    "        >>> assert a/range == a.map(range)\n",
    "        >>> assert a//range == a.filter(range)\n",
    "        >>> assert a%range == a.reduce(range)\n",
    "        >>> assert copy(a%range) == a.reduce(range)\n",
    "        \"\"\"        \n",
    "        def _left(self, callable, arg=None, partial=partial_object):\n",
    "            return self.append(callable if arg is None else partial(callable, Juxtaposition(arg)))    \n",
    "    \n",
    "        def _right(right, attr, left):\n",
    "            return getattr(CompositeOperations._left(Function(), left), dunder(attr))(right)\n",
    "\n",
    "        __truediv__ = map = partialmethod(_left, map, partial=partial )\n",
    "        __floordiv__ = filter = partialmethod(_left, filter, partial=partial)\n",
    "        __mod__ = reduce = partialmethod(_left, reduce, partial=partial)\n",
    "        __matmul__ = groupby =  partialmethod(_left, groupby, partial=partial)\n",
    "        __add__ = __mul__ = __sub__ = __rshift__= State.append\n",
    "        \n",
    "        def __lshift__(self, object): return self.append(Do(object))\n",
    "        do = __lshift__\n",
    "\n",
    "    for attr in ['add', 'sub', 'mul', 'truediv', 'getitem', 'rshift', 'lshift']:\n",
    "        setattr(CompositeOperations, '__r' + dunder(attr).lstrip('__'), partialmethod(CompositeOperations._right, attr))        "
   ]
  },
  {
   "cell_type": "code",
   "execution_count": 15,
   "metadata": {
    "collapsed": true
   },
   "outputs": [],
   "source": [
    "    class ConditionException(BaseException): ..."
   ]
  },
  {
   "cell_type": "code",
   "execution_count": 16,
   "metadata": {
    "collapsed": true
   },
   "outputs": [],
   "source": [
    "    class Factory(Composition):\n",
    "        def __bool__(self): return False\n",
    "        __dir__ = __getattr__.__dir__"
   ]
  },
  {
   "cell_type": "code",
   "execution_count": 17,
   "metadata": {},
   "outputs": [],
   "source": [
    "    class OperatorFactory(Operator, Factory): ..."
   ]
  },
  {
   "cell_type": "markdown",
   "metadata": {},
   "source": [
    "# Juxtapositions"
   ]
  },
  {
   "cell_type": "code",
   "execution_count": 18,
   "metadata": {
    "collapsed": true
   },
   "outputs": [],
   "source": [
    "    class Juxtapose(Composite):\n",
    "        def __iter__(self):\n",
    "            if isinstance(self.real, dict):\n",
    "                yield from [Juxtaposition(tuple(map(self.__except__, item))) for item in self.real.items()]\n",
    "            else:\n",
    "                yield from map(self.__except__, self.real)\n",
    "            \n",
    "        def __call__(self, *args, **kwargs): \n",
    "            args, kwargs = self.__prepare__(*args, **kwargs)\n",
    "            condition = super().__call__(*args, **kwargs)\n",
    "            if condition is False or isinstance(condition, ConditionException):\n",
    "                yield condition\n",
    "            else:\n",
    "                for value in self:\n",
    "                    yield call(value, *args, **kwargs)"
   ]
  },
  {
   "cell_type": "code",
   "execution_count": 19,
   "metadata": {},
   "outputs": [],
   "source": [
    "    class Juxtaposition(CompositeOperations, Juxtapose):\n",
    "        \"\"\"\n",
    "        >>> f = Juxtaposition(exceptions=TypeError)[range][type]\n",
    "        >>> assert f(10) == [range(10), type(10)]\n",
    "        >>> assert isinstance(f('10')[0], TypeError) \n",
    "        >>> assert isinstance(Juxtapose()[range][type](10), __import__('collections').Generator)\n",
    "        \n",
    "        \n",
    "        >>> assert isinstance(Juxtaposition((range for i in range(10)))(10), __import__('collections').Generator) \n",
    "        >>> assert isinstance(Juxtaposition(tuple(range for i in range(10)))(10), tuple) \n",
    "        >>> assert isinstance(Juxtaposition(set(range for i in range(10)))(10), set)        \n",
    "        \n",
    "        \n",
    "        >>> assert isinstance(juxt({}).real, dict) and isinstance(juxt([]).real, list)\n",
    "        \"\"\"\n",
    "        \n",
    "        def __new__(cls, real=None, exceptions=None, args=None, kwargs=None):\n",
    "            \"\"\"Juxposition is a callable dispatch operation.\n",
    "            \n",
    "            >>> assert Juxtaposition(range) is range\n",
    "            \"\"\"\n",
    "            if isinstance(real, Factory): real = real()\n",
    "            if isinstance(real, str): real = Composition([real])\n",
    "            if callable(real): return real\n",
    "            \n",
    "            if real is None: real = list()\n",
    "            if not isiterable(real): real = [real]\n",
    "            \n",
    "            # Return generators for generator inputs\n",
    "            if not isinstance(real, Sized):\n",
    "                return Juxtapose(real, exceptions, imag=True, args=args, kwargs=kwargs)\n",
    "            \n",
    "            # Return native types after the \n",
    "            self = super().__new__(cls)\n",
    "            return self.__init__(real, exceptions, args=args, kwargs=kwargs) or self\n",
    "        \n",
    "        def __call__(self, *args, **kwargs): \n",
    "            iter = super().__call__(*args, **kwargs) \n",
    "            return type(self.real)(iter)"
   ]
  },
  {
   "cell_type": "code",
   "execution_count": 20,
   "metadata": {},
   "outputs": [],
   "source": [
    "    class Function(CompositeOperations, Composition):\n",
    "        \"\"\"Callable complex composite objects.\n",
    "        \n",
    "        >>> f = Composition(range, exceptions=TypeError)\n",
    "        >>> assert Juxtaposition(f) is f\n",
    "        >>> assert f(10) == range(10)  and isinstance(f('10'), TypeError)\n",
    "        \"\"\"\n",
    "        __dir__ = __getattr__.__dir__\n",
    "            "
   ]
  },
  {
   "cell_type": "code",
   "execution_count": 21,
   "metadata": {
    "collapsed": true
   },
   "outputs": [],
   "source": [
    "    class FunctionFactory(Function, Factory):        \n",
    "        def __call__(self, *args, **kwargs):\n",
    "            return super().__call__(args=args, **kwargs)        \n",
    "        __dir__ = __getattr__.__dir__"
   ]
  },
  {
   "cell_type": "code",
   "execution_count": 22,
   "metadata": {
    "collapsed": true
   },
   "outputs": [],
   "source": [
    "    class IfThen(Function):      \n",
    "        \"\"\"\n",
    "        >>> f = IfThen(bool)[range]\n",
    "        >>> assert f(0) is False \n",
    "        >>> assert f(10) == range(10)\n",
    "        \"\"\"\n",
    "        def __init__(self, imag=bool, real=None, exceptions=None, args=None, kwargs=None):\n",
    "            # The imaginary part is a composition\n",
    "            if isinstance(imag, (type, tuple)) and imag is not bool:\n",
    "                imag = partial_object(isinstance, imag)\n",
    "            State.__init__(self, imag, real, exceptions, args=args, kwargs=kwargs)\n",
    "            if not ConditionException in self.exceptions:\n",
    "                self.exceptions += ConditionException, "
   ]
  },
  {
   "cell_type": "code",
   "execution_count": 23,
   "metadata": {
    "collapsed": true
   },
   "outputs": [],
   "source": [
    "    class Flip(Function):\n",
    "        def __prepare__(self, *args, **kwargs):\n",
    "            args, kwargs = super().__prepare__(*args, **kwargs)\n",
    "            return tuple(reversed(args)), kwargs"
   ]
  },
  {
   "cell_type": "code",
   "execution_count": 24,
   "metadata": {
    "collapsed": true
   },
   "outputs": [],
   "source": [
    "    class Star(Function):\n",
    "        def __call__(self, object, *args, **kwargs):\n",
    "            if isinstance(object, dict):\n",
    "                kwargs.update(object)\n",
    "            else:\n",
    "                args += tuple(object)\n",
    "            return super().__call__(*args, **kwargs)"
   ]
  },
  {
   "cell_type": "code",
   "execution_count": 25,
   "metadata": {
    "collapsed": true
   },
   "outputs": [],
   "source": [
    "    class Do(Function):\n",
    "        def __call__(self, *args, **kwargs):\n",
    "            super().__call__(*args, **kwargs)\n",
    "            return null(*args, **kwargs)"
   ]
  },
  {
   "cell_type": "code",
   "execution_count": 26,
   "metadata": {
    "collapsed": true
   },
   "outputs": [],
   "source": [
    "    class Preview(Function):\n",
    "        def __repr__(self): return repr(self())"
   ]
  },
  {
   "cell_type": "code",
   "execution_count": 27,
   "metadata": {
    "collapsed": true
   },
   "outputs": [],
   "source": [
    "    class Parallel(Function):\n",
    "        \"\"\"An embarassingly parallel composition.\n",
    "        \n",
    "        >>> import joblib\n",
    "        >>> def g(x): return x+10\n",
    "        >>> assert parallel(4).range().map(x+10)(100)\n",
    "        \"\"\"\n",
    "        def __init__(self, jobs=4, *args, **kwargs):\n",
    "            self.jobs = jobs\n",
    "            super().__init__(*args, **kwargs)\n",
    "\n",
    "        def map(self, object):            \n",
    "            return super().map(__import__('joblib').delayed(object))\n",
    "\n",
    "        def __call__(self, *args, **kwargs):\n",
    "            return __import__('joblib').Parallel(self.jobs)(super().__call__(*args, **kwargs))\n",
    "\n",
    "        __truediv__ = map"
   ]
  },
  {
   "cell_type": "code",
   "execution_count": 28,
   "metadata": {
    "collapsed": true
   },
   "outputs": [],
   "source": [
    "    a = an = the = function = FunctionFactory(Function)\n",
    "    flip = FunctionFactory(Flip)\n",
    "    parallel = Factory(Parallel)\n",
    "    star = FunctionFactory(Star)\n",
    "    do = FunctionFactory(Do)\n",
    "    preview = FunctionFactory(Preview)\n",
    "    x = op = OperatorFactory(Operator)\n",
    "    juxt = Factory(Juxtaposition)\n",
    "    ifthen = Factory(IfThen)"
   ]
  },
  {
   "cell_type": "code",
   "execution_count": 29,
   "metadata": {
    "collapsed": true
   },
   "outputs": [],
   "source": [
    "    class store(dict):\n",
    "        @property\n",
    "        def __self__(self): return self.__call__.__self__\n",
    "        def __init__(self, real=None, *args):\n",
    "            self.real = Composition() if real is None else real\n",
    "            super().__init__(*args)\n",
    "        def __call__(self, *args, **kwargs):\n",
    "            self[args] = self.real(*args, **kwargs)\n",
    "            return self[args]\n",
    "        \n",
    "        def __getitem__(self, item):\n",
    "            if not isinstance(item, tuple): item = item,\n",
    "            return super().__getitem__(item)"
   ]
  },
  {
   "cell_type": "code",
   "execution_count": 30,
   "metadata": {
    "collapsed": true
   },
   "outputs": [],
   "source": [
    "    class cache(store):\n",
    "        def __call__(self, *args, **kwargs):\n",
    "            if args not in self:\n",
    "                return super().__call__(*args, **kwargs)\n",
    "            return self[args]"
   ]
  },
  {
   "cell_type": "code",
   "execution_count": 31,
   "metadata": {},
   "outputs": [
    {
     "name": "stdout",
     "output_type": "stream",
     "text": [
      "**********************************************************************\n",
      "File \"__main__\", line 13, in __main__\n",
      "Failed example:\n",
      "    (a/f*tuple)([0, 50, 1000])\n",
      "Expected nothing\n",
      "Got:\n",
      "    (False, range(0, 50), range(0, 1000))\n",
      "**********************************************************************\n",
      "1 items had failures:\n",
      "   1 of   6 in __main__\n",
      "***Test Failed*** 1 failures.\n",
      "TestResults(failed=1, attempted=47)\n"
     ]
    }
   ],
   "source": [
    "    if __name__ == '__main__' and 'runtime' in sys.argv[-1]:\n",
    "        print(__import__('doctest').testmod())"
   ]
  },
  {
   "cell_type": "markdown",
   "metadata": {},
   "source": [
    "# Developer"
   ]
  },
  {
   "cell_type": "code",
   "execution_count": 32,
   "metadata": {},
   "outputs": [
    {
     "name": "stdout",
     "output_type": "stream",
     "text": [
      "Running  __main__\n",
      "[NbConvertApp] Converting notebook composites.ipynb to python\n",
      "[NbConvertApp] Writing 20858 bytes to composites.py\n",
      "wrote composites.html\n",
      "composites.py:21:80: E501 line too long (92 > 79 characters)\n",
      "composites.py:25:80: E501 line too long (102 > 79 characters)\n",
      "composites.py:35:80: E501 line too long (98 > 79 characters)\n",
      "composites.py:45:80: E501 line too long (177 > 79 characters)\n",
      "composites.py:215:80: E501 line too long (81 > 79 characters)\n",
      "composites.py:260:80: E501 line too long (95 > 79 characters)\n",
      "composites.py:383:80: E501 line too long (173 > 79 characters)\n",
      "composites.py:448:80: E501 line too long (91 > 79 characters)\n",
      "composites.py:453:80: E501 line too long (99 > 79 characters)\n",
      "composites.py:454:80: E501 line too long (94 > 79 characters)\n",
      "composites.py:527:80: E501 line too long (103 > 79 characters)\n",
      "composites.py:546:80: E501 line too long (92 > 79 characters)\n",
      "composites.py:549:80: E501 line too long (109 > 79 characters)\n",
      "composites.py:550:80: E501 line too long (84 > 79 characters)\n",
      "composites.py:551:80: E501 line too long (80 > 79 characters)\n",
      "composites.py:554:80: E501 line too long (82 > 79 characters)\n",
      "composites.py:730:80: E501 line too long (106 > 79 characters)\n",
      "composites.py:733:80: E501 line too long (91 > 79 characters)\n",
      "parsing /Users/tonyfast/composites/composites.py...\n",
      "parsing /Users/tonyfast/composites/composites.py...\n",
      "run from cli\n"
     ]
    }
   ],
   "source": [
    "    if __name__ == '__main__':\n",
    "        if 'runtime' in sys.argv[-1]:\n",
    "            print('Running ', __name__)\n",
    "            from IPython import get_ipython\n",
    "            !jupyter nbconvert --to python --TemplateExporter.exclude_input_prompt=True composites.ipynb\n",
    "            # Juxtaposition still wont work\n",
    "            !pydoc -w composites\n",
    "            !autopep8 --in-place --aggressive --aggressive composites.py\n",
    "            !flake8 composites.py            \n",
    "            !pyreverse -o png -pcomposites -fALL composites\n",
    "            !pyreverse -o png -pcomposites.min composites\n",
    "\n",
    "            !python -m composites \n",
    "        else:\n",
    "            print('run from cli')"
   ]
  }
 ],
 "metadata": {
  "kernelspec": {
   "display_name": "p6",
   "language": "python",
   "name": "other-env"
  },
  "language_info": {
   "codemirror_mode": {
    "name": "ipython",
    "version": 3
   },
   "file_extension": ".py",
   "mimetype": "text/x-python",
   "name": "python",
   "nbconvert_exporter": "python",
   "pygments_lexer": "ipython3",
   "version": "3.6.3"
  }
 },
 "nbformat": 4,
 "nbformat_minor": 2
}
