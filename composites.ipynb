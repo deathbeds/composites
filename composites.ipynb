{
 "cells": [
  {
   "cell_type": "code",
   "execution_count": 1,
   "metadata": {
    "collapsed": true
   },
   "outputs": [],
   "source": [
    "    __test__ = dict(\n",
    "        gold=\"\"\"\n",
    "        >>> g = a**str*[[str.upper]]|a**int*range|a**float*type\n",
    "        >>> f = a/g*list\n",
    "        >>> assert f(['keep it 💯', 10, 10.]) == [[[\"KEEP IT 💯\"]], range(10), float]\n",
    "        >>> assert copy(g).type()({}) is Ø\"\"\",\n",
    "        simple=\"\"\">>> assert simple[range](10) == range(10)\n",
    "        >>> assert simple[range][type](10) is range \n",
    "        >>> assert simple[range][type][type](10) is type\n",
    "                \n",
    "        Begin a composition with a decorator.\n",
    "        >>> @simple.append\n",
    "        ... def thang(x):\n",
    "        ...     return range(x)\n",
    "        >>> assert thang[len](10) is 10\"\"\",\n",
    "        juxt=\"\"\"\n",
    "        >>> assert juxt[range](10) == [range(10)]\n",
    "        >>> assert juxt[range][type](10) == [range(10), int]\n",
    "        >>> assert juxt[range][type][str](10) == [range(10), int, '10']\n",
    "        \n",
    "        Create a juxtaposable object `model`.\n",
    "        >>> @juxt.append\n",
    "        ... def model(x): return range(x)\n",
    "\n",
    "        Append more functions to the `model`\n",
    "        >>> @model.append\n",
    "        ... def _(x): return type(x)\n",
    "        \n",
    "        >>> assert isinstance(Juxtaposition({})(), dict) and isinstance(Juxtaposition([])(), list) and isinstance(Juxtaposition(tuple())(), tuple)\"\"\")"
   ]
  },
  {
   "cell_type": "markdown",
   "metadata": {},
   "source": [
    "# Complex Composite Functions\n",
    "\n",
    "Complex composite functions have real and imaginary parts that may except specific errors.  \n",
    "\n",
    "## Composition\n",
    "\n",
    "Composite functions use Python syntax to append callable objects to compositions and juxtapositions.  \n",
    "\n",
    "### Operator "
   ]
  },
  {
   "cell_type": "code",
   "execution_count": 2,
   "metadata": {
    "collapsed": true
   },
   "outputs": [],
   "source": [
    "    from functools import partialmethod, wraps, partial\n",
    "    \n",
    "    import operator\n",
    "    from collections import Sized, Mapping\n",
    "    from toolz import isiterable, excepts, identity, complement, concat, reduce, groupby\n",
    "    import sys\n",
    "    import inspect\n",
    "\n",
    "    from copy import copy\n",
    "\n",
    "    dunder = '__{}__'.format\n",
    "    \n",
    "    __all__ = 'a', 'an', 'the', 'flip', 'parallel', 'star', 'do', 'preview', 'x',\\\n",
    "    'op', 'juxt', 'cache', 'store', 'Composition', #'Juxtaposition'"
   ]
  },
  {
   "cell_type": "markdown",
   "metadata": {},
   "source": [
    "Composing function strictly through the Python datamodel."
   ]
  },
  {
   "cell_type": "code",
   "execution_count": 3,
   "metadata": {
    "collapsed": true,
    "slideshow": {
     "slide_type": "fragment"
    }
   },
   "outputs": [],
   "source": [
    "    def call(object, *tuple, exceptions=None, **dict):  \n",
    "        \"\"\"(a**callable)|identity(a**callable)|identity\"\"\"\n",
    "        if callable(object):\n",
    "            if Exception:\n",
    "                object = excepts(Exception, object, identity)\n",
    "            return object(*tuple, **dict)\n",
    "        return object\n",
    "    \n",
    "    def null(*args, **kwargs): return args[0] if args else None"
   ]
  },
  {
   "cell_type": "code",
   "execution_count": 4,
   "metadata": {
    "collapsed": true
   },
   "outputs": [],
   "source": [
    "    class partial_object(partial):\n",
    "        def __call__(self, object): return self.func(object, *self.args, **self.keywords)"
   ]
  },
  {
   "cell_type": "code",
   "execution_count": 5,
   "metadata": {},
   "outputs": [],
   "source": [
    "    class State:        \n",
    "        def __hash__(self): return hash(map(hash, self))\n",
    "        \n",
    "        def __getstate__(self):\n",
    "            return tuple(getattr(self, slot, None) for slot in self.__slots__)\n",
    "        \n",
    "        def __setstate__(self, tuple):\n",
    "            return list(\n",
    "                setattr(self, str, object) for str, object in zip(self.__slots__, tuple)\n",
    "            ) and self\n",
    "        \n",
    "        @property\n",
    "        def __name__(self): return type(self).__name__\n",
    "        __signature__ = inspect.signature(null)"
   ]
  },
  {
   "cell_type": "code",
   "execution_count": 6,
   "metadata": {
    "collapsed": true
   },
   "outputs": [],
   "source": [
    "    class flip(State):\n",
    "        __slots__ = 'callable',\n",
    "        def __init__(self, callable): self.callable = callable\n",
    "        def __call__(self, *tuple, **dict): return call(self.callable, *reversed(tuple), **dict)"
   ]
  },
  {
   "cell_type": "code",
   "execution_count": 7,
   "metadata": {
    "collapsed": true
   },
   "outputs": [],
   "source": [
    "    class Ø(BaseException): \n",
    "        def __bool__(self): return False\n",
    "    Null = Ø"
   ]
  },
  {
   "cell_type": "code",
   "execution_count": 8,
   "metadata": {
    "collapsed": true
   },
   "outputs": [],
   "source": [
    "    class Outer(State):\n",
    "        __slots__ = 'callable',\n",
    "        def __init__(self, object=None):\n",
    "            self.callable = list() if object is None else object\n",
    "\n",
    "        def __iter__(self):\n",
    "            callable = self.callable\n",
    "            # Juxt is defined way later on unfortunately, but this is the most efficient place.\n",
    "            yield from map(\n",
    "                Juxt, dict.items(callable) if isinstance(callable, dict) else callable)\n",
    "            \n",
    "        def __call__(self, *tuple, **dict): \n",
    "            for callable in self: tuple, dict = (call(callable, *tuple, **dict),), {}\n",
    "            return null(*tuple, **dict)\n",
    "        \n",
    "        def __len__(self):  return len(self.callable) if isinstance(self.callable, Sized) else 0\n",
    "        def __repr__(self): return repr(self.callable)\n",
    "        def __bool__(self): return bool(len(self))"
   ]
  },
  {
   "cell_type": "code",
   "execution_count": 9,
   "metadata": {},
   "outputs": [],
   "source": [
    "    class Inner(Outer):                        \n",
    "        def __iter__(self): \n",
    "            yield from self.callable and super().__iter__() or  (True,)\n",
    "        \n",
    "        def __call__(self, *tuple, **dict):\n",
    "            object = super().__call__(*tuple, **dict)\n",
    "            return object if object else Null(self.callable)"
   ]
  },
  {
   "cell_type": "code",
   "execution_count": 10,
   "metadata": {
    "collapsed": true
   },
   "outputs": [],
   "source": [
    "    def _is_isinstance(object):\n",
    "        \"\"\"Prepare types and types as isinstance functions\"\"\"\n",
    "        if isinstance(object, type) and object is not bool: object = object,\n",
    "        if isinstance(object, tuple): object = partial_object(isinstance, object)\n",
    "        return object"
   ]
  },
  {
   "cell_type": "code",
   "execution_count": 11,
   "metadata": {
    "collapsed": true
   },
   "outputs": [],
   "source": [
    "    class Pose(State):\n",
    "        __slots__ = 'inner', 'outer', 'exceptions'\n",
    "        _repr_token_ = '^'\n",
    "        def __init__(self, inner=None, outer=None, *, exceptions=None):\n",
    "            inner = _is_isinstance(inner)\n",
    "            if inner is not None and not isiterable(inner) or isinstance(inner, Pose):\n",
    "                inner = [inner]\n",
    "            \n",
    "            for name in ('inner', 'outer'):\n",
    "                object = locals().get(name)\n",
    "                if object is not None and not isiterable(object) or isinstance(object, Pose):\n",
    "                    locals()[name] = [object]\n",
    "\n",
    "            self.inner, self.outer = Inner(inner), Outer(outer)\n",
    "            self.exceptions = exceptions\n",
    "            \n",
    "        def __bool__(self): return bool(self.outer)\n",
    "\n",
    "        def __repr__(self): return self._repr_token_.join(map(repr, (self.inner, self.outer)))\n",
    "        \n",
    "        def __call__(self, *tuple, **dict):\n",
    "            return call(self.outer, *tuple, **dict, exceptions=dict.pop('exceptions', self.exceptions))"
   ]
  },
  {
   "cell_type": "code",
   "execution_count": 12,
   "metadata": {
    "collapsed": true
   },
   "outputs": [],
   "source": [
    "    class Juxt(Pose):\n",
    "        \"\"\"Juxtapose arguments cross callables.\"\"\"\n",
    "        def __new__(cls, object=None, **kwargs):\n",
    "            if object is None: object = list()\n",
    "            if callable(object): return object\n",
    "            if isiterable(object) and not isinstance(object, str):\n",
    "                self = super().__new__(cls)\n",
    "                return self.__init__(**kwargs) or self\n",
    "            return object\n",
    "            \n",
    "        def __init__(self, outer=None, **kwargs): super().__init__(outer=outer, **kwargs)\n",
    "        \n",
    "        def __call__(self, *args, **kwargs):\n",
    "            iter = (call(callable, *args, **kwargs) for callable in self.outer)\n",
    "            return type(self.outer.callable)(iter) if isinstance(self.outer.callable, Sized) else iter"
   ]
  },
  {
   "cell_type": "markdown",
   "metadata": {},
   "source": [
    "# Composites"
   ]
  },
  {
   "cell_type": "code",
   "execution_count": 13,
   "metadata": {
    "collapsed": true
   },
   "outputs": [],
   "source": [
    "    class Pro(Pose):\n",
    "        \"\"\"Propose a non-null inner condition then evaluate the outer function.\"\"\"\n",
    "        def __call__(self, *tuple, **dict):\n",
    "            object = self.inner(*tuple, **dict)\n",
    "            if self.outer: return object if isinstance(object, Null) else super().__call__(*tuple, **dict)\n",
    "            \n",
    "            # If there is not outer function return a boolean.\n",
    "            return not isinstance(object, Null)\n",
    "        "
   ]
  },
  {
   "cell_type": "code",
   "execution_count": 14,
   "metadata": {
    "collapsed": true
   },
   "outputs": [],
   "source": [
    "    class Ex(Pose):\n",
    "        \"\"\"Pipe non-null inner return values to the outer callable.\"\"\"        \n",
    "        _repr_token_ = '&'\n",
    "        def __call__(self, *tuple, **dict):\n",
    "            object = self.inner(*tuple, **dict)\n",
    "            if object is True: object = null(*tuple, **dict)\n",
    "            return object if isinstance(object, Null) else super().__call__(object)"
   ]
  },
  {
   "cell_type": "code",
   "execution_count": 15,
   "metadata": {},
   "outputs": [],
   "source": [
    "    class Im(Pose):\n",
    "        \"\"\"If the inner function is Null evaluate the outer function.\"\"\"\n",
    "        _repr_token_ = '|'\n",
    "        def __call__(self, *tuple, **dict):\n",
    "            object = self.inner(*tuple, **dict)\n",
    "            if object is True: object = null(*tuple, **dict)\n",
    "            return super().__call__(*tuple, **dict) if isinstance(object, Null) else object"
   ]
  },
  {
   "cell_type": "code",
   "execution_count": 16,
   "metadata": {
    "collapsed": true
   },
   "outputs": [],
   "source": [
    "    def _partial_(self, object):\n",
    "        tuple, dict = getattr(self, 'args', []), getattr(self, 'kwargs', {})\n",
    "        return partial(object, *tuple, **dict) if tuple or dict else object"
   ]
  },
  {
   "cell_type": "code",
   "execution_count": 17,
   "metadata": {},
   "outputs": [],
   "source": [
    "    class Conditions:\n",
    "        # The [*]positions are defined later.\n",
    "        def __pow__(self, object):\n",
    "            # Sugar for isinstance implementations.\n",
    "            return Proposition(inner=([] if isinstance(self, Lambda) else [self]) + [_is_isinstance(object)])\n",
    "        \n",
    "        def __and__(self, object): \n",
    "            \"\"\"Evaluate object if the current proposition is True.\n",
    "            \n",
    "            >>> f = a[bool] & range\n",
    "            >>> assert not f(0) and f(10) == range(10)\n",
    "            \"\"\"\n",
    "            return Exposition(inner=[] if isinstance(self, Lambda) else [self], outer=[object])\n",
    "        def __or__(self, object): \n",
    "            \"\"\"Evaluate object if the current proposition is False.\n",
    "            \n",
    "            >>> f = a[bool] | range\n",
    "            >>> assert f(10) is 10 and f(0) == range(0)\n",
    "            \"\"\"\n",
    "            return Imposition(inner=[] if isinstance(self, Lambda) else [self], outer=[object])\n",
    "        \n",
    "        def __xor__(self, object): \n",
    "            \"\"\"Evaluate a proposition returning exceptions in object.\n",
    "            \n",
    "            >>> f = a * range ^ TypeError\n",
    "            >>> assert f(10) == range(10) and isinstance(f('string'), TypeError) \n",
    "            \"\"\"\n",
    "            return setattr(self, 'exceptions', object) or self\n",
    "        \n",
    "        then = __and__\n",
    "        ifnot = __or__\n",
    "        instance = ifthen = __pow__\n",
    "        excepts = __xor__"
   ]
  },
  {
   "cell_type": "code",
   "execution_count": 18,
   "metadata": {
    "collapsed": true
   },
   "outputs": [],
   "source": [
    "    class __getattr__(object):\n",
    "        def __init__(self, object, callable=None, parent=None):\n",
    "            self.object = object\n",
    "            self.callable = callable\n",
    "            self.parent = parent\n",
    "\n",
    "        def __getattr__(self, object):\n",
    "            parent = self.callable\n",
    "            # Convert the attribute to a callable.\n",
    "            if self.callable:\n",
    "                object = getattr(self.callable, object)\n",
    "    \n",
    "            if object in sys.modules:\n",
    "                object = sys.modules.get(object)\n",
    "            \n",
    "            elif isinstance(object, str):\n",
    "                for module in map(__import__, Attributes.shortcuts):\n",
    "                    if hasattr(module, object): \n",
    "                        object = getattr(module, object)\n",
    "                        break\n",
    "                else:\n",
    "                    raise AttributeError(object)\n",
    "            \n",
    "            # Decorate the discovered attribute with the correct partials or call.\n",
    "            wrapper = False\n",
    "            \n",
    "            for decorator, set in Attributes.decorators.items():\n",
    "                if object in set: \n",
    "                    object = partial(decorator, object)\n",
    "                    break\n",
    "            else:                \n",
    "                if callable(object) and not isinstance(object, type): \n",
    "                    wrapper = wraps(object)\n",
    "                    object = partial(isinstance(parent, type) and partial_object or partial, object)\n",
    "            \n",
    "            # Wrap the new object for interaction\n",
    "            object = __getattr__(self.object, object, parent) \n",
    "            return wrapper(object) if wrapper else object\n",
    "\n",
    "        def __call__(self, *tuple, **dict):\n",
    "            object = self.callable\n",
    "            return self.object.append(\n",
    "                object(*tuple, **dict) if isinstance(object, partial) else partial(object, *tuple, **dict))\n",
    "\n",
    "        def __repr__(self): \n",
    "            return repr(isinstance(self.callable, partial) and self.callable.args and self.callable.args[0] or self.callable)\n",
    "            \n",
    "\n",
    "        def __dir__(self):\n",
    "            if not self.callable or isinstance(self, Attributes):\n",
    "                base = (\n",
    "                    list(filter(partial_object(complement(str.__contains__), '.'), sys.modules.keys())) \n",
    "                    + list(concat(dir(__import__(module)) for module in Attributes.shortcuts)))\n",
    "            else:\n",
    "                base = dir(self.callable)\n",
    "            return super().__dir__() + base"
   ]
  },
  {
   "cell_type": "code",
   "execution_count": 19,
   "metadata": {
    "collapsed": true
   },
   "outputs": [],
   "source": [
    "    class Attributes:\n",
    "        \"\"\"\n",
    "        >>> assert not any(x in dir(x) for x in sys.modules if not '.' in x)\n",
    "        >>> assert all(x in dir(a) for x in sys.modules if not '.' in x)\n",
    "        \"\"\"\n",
    "        shortcuts = 'statistics', 'toolz', 'requests', 'builtins','json', 'pickle', 'io', 'collections', \\\n",
    "        'itertools', 'functools', 'pathlib', 'importlib', 'inspect', 'operator'\n",
    "        decorators = dict()\n",
    "        \n",
    "        def __getattr__(self, attr):\n",
    "            \"\"\"Access attributes from sys.modules or self.shortcuts\"\"\"\n",
    "            return __getattr__(self).__getattr__(attr)\n",
    "        \n",
    "        def __dir__(self): return dir(__getattr__(self))\n",
    "\n",
    "    Attributes.decorators[partial_object] = [__import__('fnmatch').fnmatch]\n",
    "    Attributes.decorators[call] = operator.attrgetter('attrgetter', 'itemgetter', 'methodcaller')(operator)\n",
    "    Attributes.decorators[partial_object] += [item for item in vars(operator).values() if item not in Attributes.decorators[call]]"
   ]
  },
  {
   "cell_type": "code",
   "execution_count": 20,
   "metadata": {
    "collapsed": true
   },
   "outputs": [],
   "source": [
    "    def _append_(self, object): return self.append(object)"
   ]
  },
  {
   "cell_type": "code",
   "execution_count": 21,
   "metadata": {
    "collapsed": true
   },
   "outputs": [],
   "source": [
    "    class Append:\n",
    "        def append(self, object): return self.outer.callable.append(object) or self\n",
    "        __getitem__ = _append_"
   ]
  },
  {
   "cell_type": "code",
   "execution_count": 22,
   "metadata": {
    "collapsed": true
   },
   "outputs": [],
   "source": [
    "    class Symbols:\n",
    "        \"\"\"Operations that operator on containers.\n",
    "        \n",
    "        >>> assert a@range == a.groupby(range)\n",
    "        >>> assert a/range == a.map(range)\n",
    "        >>> assert a//range == a.filter(range)\n",
    "        >>> assert a%range == a.reduce(range)\n",
    "        >>> assert copy(a%range) == a.reduce(range)\n",
    "        \"\"\"        \n",
    "        def _left(self, callable, object=None, partial=partial_object):\n",
    "            return self.append(callable if object is None else partial(callable, object))    \n",
    "    \n",
    "        def _right(right, attr, left):\n",
    "            return getattr(Symbols._left(Proposition(), left), dunder(attr))(right)            \n",
    "        \n",
    "        __truediv__ = map = partialmethod(_left, map, partial=partial)\n",
    "        __floordiv__ = filter = partialmethod(_left, filter, partial=partial)\n",
    "        __mod__ = reduce = partialmethod(_left, reduce, partial=partial)\n",
    "        __matmul__ = groupby =  partialmethod(_left, groupby, partial=partial)\n",
    "        __add__ = __mul__ = __sub__ = __rshift__= _append_\n",
    "        \n",
    "        def __lshift__(self, object): return self.append(Do(object))\n",
    "        do = __lshift__\n",
    "\n",
    "    for attr in ['add', 'sub', 'mul', 'truediv', 'getitem', 'rshift', 'lshift']:\n",
    "        setattr(Symbols, '__r' + dunder(attr).lstrip('__'), partialmethod(Symbols._right, attr))        "
   ]
  },
  {
   "cell_type": "markdown",
   "metadata": {},
   "source": [
    "# Juxtapositions"
   ]
  },
  {
   "cell_type": "code",
   "execution_count": 23,
   "metadata": {
    "collapsed": true
   },
   "outputs": [],
   "source": [
    "    class Position(Append, Conditions, Attributes, Symbols): ..."
   ]
  },
  {
   "cell_type": "code",
   "execution_count": 24,
   "metadata": {
    "collapsed": true
   },
   "outputs": [],
   "source": [
    "    class Proposition(Pro, Position): \n",
    "        \"\"\"Evaluate the outer callable if the inner callable is ~Null.\"\"\"\n",
    "    class Exposition(Ex, Position): \n",
    "        \"\"\"Pass ~Null inner function return values as input to the outer function.\"\"\"\n",
    "    class Imposition(Im, Position): \n",
    "        \"\"\"Evaluate the other outer function is the inner function is Null.\"\"\"\n",
    "    class Juxtaposition(Juxt, Position): \n",
    "        \"\"\"Pass arguments to all callables in all iterables.\"\"\"        \n",
    "    IfThen, IfNot = Exposition, Imposition"
   ]
  },
  {
   "cell_type": "code",
   "execution_count": 25,
   "metadata": {},
   "outputs": [],
   "source": [
    "    class Lambda:\n",
    "        def append(self, object):  return self().append(_partial_(self, object))\n",
    "        def __bool__(self): return False\n",
    "        \n",
    "    class Composition(Lambda, Proposition): \n",
    "        __slots__ = Pose.__slots__ + ('args', 'kwargs')\n",
    "        \n",
    "    class Simple(Composition):\n",
    "        def __call__(self, *tuple, **dict): \n",
    "            if tuple or dict:\n",
    "                self = copy(self)\n",
    "                self.args, self.kwargs = tuple, dict\n",
    "                return self\n",
    "            return super().__call__(dict.get('inner', None), *tuple, **dict)"
   ]
  },
  {
   "cell_type": "code",
   "execution_count": 26,
   "metadata": {
    "collapsed": true
   },
   "outputs": [],
   "source": [
    "    composite = compositon = Composition(outer=[Proposition])\n",
    "    a = an = the = simple = λ = Simple(outer=[Proposition])\n",
    "    juxt = juxtaposition = Simple(outer=[Juxtaposition])"
   ]
  },
  {
   "cell_type": "code",
   "execution_count": 27,
   "metadata": {
    "collapsed": true
   },
   "outputs": [],
   "source": [
    "    binop = 'add', 'sub', 'mul', 'truediv', 'floordiv', 'mod', 'getitem'\n",
    "    boolop =  'gt', 'ge', 'le', 'lt', 'eq', 'ne'\n",
    "    nop = 'abs', 'pos', 'neg', 'pow'"
   ]
  },
  {
   "cell_type": "code",
   "execution_count": 28,
   "metadata": {},
   "outputs": [],
   "source": [
    "    class Operate(Proposition):\n",
    "        __wrapped__ = None\n",
    "        __annotations__ = {}\n",
    "        \n",
    "        def __init__(self, *args, **kwargs): \n",
    "            super().__init__(kwargs.pop('inner', Juxtaposition()), *args, **kwargs)\n",
    "        \n",
    "        def _left(self, callable, arg=None, partial=partial_object):\n",
    "            return self.append(partial(callable, arg))\n",
    "\n",
    "        def _right(self, callable, left):\n",
    "            return Operate._left(Operate(), callable, left, partial=partial)\n",
    "\n",
    "        def _bool(self, callable, *args):\n",
    "            return Operate(inner=[partial_object(callable, *args)], outer=[self])\n",
    "        \n",
    "        def __getattr__(self, object):\n",
    "            if object == dunder('qualname'): return '.'.join((__name__, type(self).__name__))\n",
    "            return self._left(getattr, object, )\n",
    "            \n",
    "        \n",
    "    for attr in binop:\n",
    "        op, rop =  getattr(operator, attr), '__r' + dunder(attr).lstrip('__')\n",
    "        setattr(Operate, dunder(attr), partialmethod(Operate._left, op))\n",
    "        setattr(Operate, rop, partialmethod(Operate._right, op))        \n",
    "        \n",
    "    list(setattr(Operate, dunder(attr), partialmethod(Operate._bool, getattr(operator, attr)))\n",
    "         for attr in boolop)\n",
    "    list(setattr(Operate, dunder(attr), partialmethod(Operate._left, getattr(operator, attr)))\n",
    "         for attr in nop)\n",
    "    pass"
   ]
  },
  {
   "cell_type": "code",
   "execution_count": 29,
   "metadata": {},
   "outputs": [],
   "source": [
    "    class Operation(Lambda, Operate): \n",
    "        def append(self, object): return self().append(object)\n",
    "        \n",
    "    x = op = Operation(outer=[Operate])"
   ]
  },
  {
   "cell_type": "code",
   "execution_count": 30,
   "metadata": {},
   "outputs": [],
   "source": [
    "    class Star(Proposition):\n",
    "        _repr_token_ = \"*\"\n",
    "        def __call__(self, object, *tuple, **dict):\n",
    "            if isinstance(object, Mapping): return super().__call__(*tuple, **(dict.update(object) or dict))\n",
    "            return super().__call__(*object, *tuple, **dict)\n",
    "\n",
    "    star = Simple(outer=[Star])"
   ]
  },
  {
   "cell_type": "code",
   "execution_count": 31,
   "metadata": {
    "collapsed": true
   },
   "outputs": [],
   "source": [
    "    class Do(Proposition):\n",
    "        _repr_token_ = '>>'\n",
    "        def __call__(self, *args, **kwargs): return (super().__call__(*args, **kwargs), null(*args, **kwargs))[-1]\n",
    "    do = Simple(outer=[Do])"
   ]
  },
  {
   "cell_type": "code",
   "execution_count": 32,
   "metadata": {
    "collapsed": true
   },
   "outputs": [],
   "source": [
    "    class Preview(Proposition):\n",
    "        \"\"\"Eager proposition evaluation.\"\"\"\n",
    "        def __repr__(self): return repr(self())\n",
    "        \n",
    "    preview = Simple(outer=[Preview])"
   ]
  },
  {
   "cell_type": "code",
   "execution_count": 33,
   "metadata": {
    "collapsed": true
   },
   "outputs": [],
   "source": [
    "    class parallel(Proposition):\n",
    "        \"\"\"An embarassingly parallel proposition.\n",
    "        \n",
    "        >>> import joblib\n",
    "        >>> def g(x): return x+10\n",
    "        >>> assert parallel(4).range().map(x+10)(100)\n",
    "        >>> assert parallel(4).range().map(a[range])(100)\n",
    "        \"\"\"\n",
    "        _repr_token_ = '||'\n",
    "        def __init__(self, jobs=4, *tuple, **dict):\n",
    "            self.jobs = jobs\n",
    "            super().__init__(*tuple, **dict)\n",
    "\n",
    "        def map(self, object): return super().map(__import__('joblib').delayed(object))\n",
    "\n",
    "        def __call__(self, *tuple, **dict):\n",
    "            return __import__('joblib').Parallel(self.jobs)(super().__call__(*tuple, **dict))\n",
    "\n",
    "        __truediv__ = map"
   ]
  },
  {
   "cell_type": "code",
   "execution_count": 34,
   "metadata": {
    "collapsed": true
   },
   "outputs": [],
   "source": [
    "    class store(dict):\n",
    "        @property\n",
    "        def __self__(self): return self.__call__.__self__\n",
    "        def __init__(self, callable=None, *tuple, **dict):\n",
    "            self.callable = Proposition(*tuple, **dict) if callable is None else callable\n",
    "            super().__init__(*tuple, **dict)\n",
    "        def __call__(self, *tuple, **dict):\n",
    "            self[tuple[0]] = self.callable(*tuple, **dict)\n",
    "            return self[tuple[0]]"
   ]
  },
  {
   "cell_type": "code",
   "execution_count": 35,
   "metadata": {
    "collapsed": true
   },
   "outputs": [],
   "source": [
    "    class cache(store):\n",
    "        def __call__(self, *tuple, **dict):\n",
    "            if tuple[0] not in self: return super().__call__(*tuple, **dict)\n",
    "            return self[tuple[0]]"
   ]
  },
  {
   "cell_type": "code",
   "execution_count": 36,
   "metadata": {},
   "outputs": [
    {
     "name": "stdout",
     "output_type": "stream",
     "text": [
      "**********************************************************************\n",
      "File \"__main__\", line ?, in __main__.Symbols\n",
      "Failed example:\n",
      "    assert a@range == a.groupby(range)\n",
      "Exception raised:\n",
      "    Traceback (most recent call last):\n",
      "      File \"/Users/tonyfast/anaconda/envs/p6/lib/python3.6/doctest.py\", line 1330, in __run\n",
      "        compileflags, 1), test.globs)\n",
      "      File \"<doctest __main__.Symbols[0]>\", line 1, in <module>\n",
      "        assert a@range == a.groupby(range)\n",
      "    AssertionError\n",
      "**********************************************************************\n",
      "File \"__main__\", line ?, in __main__.Symbols\n",
      "Failed example:\n",
      "    assert a/range == a.map(range)\n",
      "Exception raised:\n",
      "    Traceback (most recent call last):\n",
      "      File \"/Users/tonyfast/anaconda/envs/p6/lib/python3.6/doctest.py\", line 1330, in __run\n",
      "        compileflags, 1), test.globs)\n",
      "      File \"<doctest __main__.Symbols[1]>\", line 1, in <module>\n",
      "        assert a/range == a.map(range)\n",
      "    AssertionError\n",
      "**********************************************************************\n",
      "File \"__main__\", line ?, in __main__.Symbols\n",
      "Failed example:\n",
      "    assert a//range == a.filter(range)\n",
      "Exception raised:\n",
      "    Traceback (most recent call last):\n",
      "      File \"/Users/tonyfast/anaconda/envs/p6/lib/python3.6/doctest.py\", line 1330, in __run\n",
      "        compileflags, 1), test.globs)\n",
      "      File \"<doctest __main__.Symbols[2]>\", line 1, in <module>\n",
      "        assert a//range == a.filter(range)\n",
      "    AssertionError\n",
      "**********************************************************************\n",
      "File \"__main__\", line ?, in __main__.Symbols\n",
      "Failed example:\n",
      "    assert a%range == a.reduce(range)\n",
      "Exception raised:\n",
      "    Traceback (most recent call last):\n",
      "      File \"/Users/tonyfast/anaconda/envs/p6/lib/python3.6/doctest.py\", line 1330, in __run\n",
      "        compileflags, 1), test.globs)\n",
      "      File \"<doctest __main__.Symbols[3]>\", line 1, in <module>\n",
      "        assert a%range == a.reduce(range)\n",
      "    AssertionError\n",
      "**********************************************************************\n",
      "File \"__main__\", line ?, in __main__.Symbols\n",
      "Failed example:\n",
      "    assert copy(a%range) == a.reduce(range)\n",
      "Exception raised:\n",
      "    Traceback (most recent call last):\n",
      "      File \"/Users/tonyfast/anaconda/envs/p6/lib/python3.6/doctest.py\", line 1330, in __run\n",
      "        compileflags, 1), test.globs)\n",
      "      File \"<doctest __main__.Symbols[4]>\", line 1, in <module>\n",
      "        assert copy(a%range) == a.reduce(range)\n",
      "    AssertionError\n",
      "**********************************************************************\n",
      "1 items had failures:\n",
      "   5 of   5 in __main__.Symbols\n",
      "***Test Failed*** 5 failures.\n",
      "TestResults(failed=5, attempted=32)\n"
     ]
    }
   ],
   "source": [
    "    if __name__ == '__main__' and 'runtime' in sys.argv[-1]:\n",
    "        print(__import__('doctest').testmod())"
   ]
  },
  {
   "cell_type": "markdown",
   "metadata": {},
   "source": [
    "# Developer"
   ]
  },
  {
   "cell_type": "code",
   "execution_count": 37,
   "metadata": {},
   "outputs": [
    {
     "name": "stdout",
     "output_type": "stream",
     "text": [
      "[NbConvertApp] Converting notebook composites.ipynb to python\n",
      "[NbConvertApp] Writing 18112 bytes to composites.py\n",
      "parsing /Users/tonyfast/composites/composites.py...\n",
      "composites.py:32:80: E501 line too long (146 > 79 characters)\n",
      "composites.py:37:80: E501 line too long (92 > 79 characters)\n",
      "composites.py:41:80: E501 line too long (102 > 79 characters)\n",
      "composites.py:49:80: E501 line too long (84 > 79 characters)\n",
      "composites.py:57:80: E501 line too long (143 > 79 characters)\n",
      "composites.py:126:80: E501 line too long (83 > 79 characters)\n",
      "composites.py:255:80: E501 line too long (87 > 79 characters)\n",
      "composites.py:355:80: E501 line too long (92 > 79 characters)\n",
      "composites.py:356:80: E501 line too long (92 > 79 characters)\n",
      "composites.py:357:80: E501 line too long (93 > 79 characters)\n",
      "composites.py:363:80: E501 line too long (91 > 79 characters)\n",
      "composites.py:368:80: E501 line too long (99 > 79 characters)\n",
      "composites.py:369:80: E501 line too long (91 > 79 characters)\n",
      "composites.py:380:80: E501 line too long (173 > 79 characters)\n",
      "composites.py:454:80: E501 line too long (81 > 79 characters)\n",
      "composites.py:567:69: E502 the backslash is redundant between brackets\n",
      "composites.py:568:18: E128 continuation line under-indented for visual indent\n",
      "composites.py:638:9: F821 undefined name 'get_ipython'\n",
      "composites.py:639:80: E501 line too long (106 > 79 characters)\n",
      "composites.py:641:9: F821 undefined name 'get_ipython'\n",
      "composites.py:642:9: F821 undefined name 'get_ipython'\n",
      "composites.py:642:80: E501 line too long (91 > 79 characters)\n",
      "composites.py:643:9: F821 undefined name 'get_ipython'\n"
     ]
    }
   ],
   "source": [
    "    if __name__ == '__main__':\n",
    "        if 'runtime' in sys.argv[-1]:\n",
    "            !jupyter nbconvert --to python --TemplateExporter.exclude_input_prompt=True composites.ipynb\n",
    "            # Juxtaposition still wont work\n",
    "            !pyreverse -o png -pcomposites -fALL composites\n",
    "            !autopep8 --in-place --aggressive --aggressive composites.py\n",
    "            !flake8 composites.py\n",
    "        else:\n",
    "            print('run from cli')"
   ]
  }
 ],
 "metadata": {
  "kernelspec": {
   "display_name": "p6",
   "language": "python",
   "name": "other-env"
  },
  "language_info": {
   "codemirror_mode": {
    "name": "ipython",
    "version": 3
   },
   "file_extension": ".py",
   "mimetype": "text/x-python",
   "name": "python",
   "nbconvert_exporter": "python",
   "pygments_lexer": "ipython3",
   "version": "3.6.3"
  }
 },
 "nbformat": 4,
 "nbformat_minor": 2
}
