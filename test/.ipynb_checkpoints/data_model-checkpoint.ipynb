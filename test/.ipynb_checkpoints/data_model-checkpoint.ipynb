{
 "cells": [
  {
   "cell_type": "code",
   "execution_count": 1,
   "metadata": {},
   "outputs": [],
   "source": [
    "from fidget import _x as leΨ, this, _x, call, _y, x_, _xx\n",
    "from IPython import display\n",
    "from copy import copy\n",
    "from time import time\n",
    "import pandas\n",
    "get_ipython().ast_node_interactivity = 'all'"
   ]
  },
  {
   "cell_type": "markdown",
   "metadata": {},
   "source": [
    "`a minimalist syntax`"
   ]
  },
  {
   "cell_type": "code",
   "execution_count": 2,
   "metadata": {},
   "outputs": [
    {
     "data": {
      "text/plain": [
       "[list, int]"
      ]
     },
     "execution_count": 2,
     "metadata": {},
     "output_type": "execute_result"
    }
   ],
   "source": [
    "( range - _x - [len]*10 - [\n",
    "    type, _x.first()[type]\n",
    "] - call )(10)"
   ]
  },
  {
   "cell_type": "code",
   "execution_count": 3,
   "metadata": {
    "collapsed": true
   },
   "outputs": [],
   "source": [
    "about = _x[dict][_xx[\"\"\"{Description}\n",
    "    \n",
    "{Operator}\"\"\".format]][display.Markdown][display.display]"
   ]
  },
  {
   "cell_type": "code",
   "execution_count": 4,
   "metadata": {},
   "outputs": [
    {
     "data": {
      "text/html": [
       "<div>\n",
       "<table border=\"1\" class=\"dataframe\">\n",
       "  <thead>\n",
       "    <tr style=\"text-align: right;\">\n",
       "      <th></th>\n",
       "      <th>Operator</th>\n",
       "      <th>Description</th>\n",
       "    </tr>\n",
       "  </thead>\n",
       "  <tbody>\n",
       "    <tr>\n",
       "      <th>16</th>\n",
       "      <td>(expressions...), [expressions...], {key: valu...</td>\n",
       "      <td>Binding or tuple display, list display, dictio...</td>\n",
       "    </tr>\n",
       "    <tr>\n",
       "      <th>15</th>\n",
       "      <td>x[index], x[index:index], x(arguments...), x.a...</td>\n",
       "      <td>Subscription, slicing, call, attribute reference</td>\n",
       "    </tr>\n",
       "    <tr>\n",
       "      <th>14</th>\n",
       "      <td>await x</td>\n",
       "      <td>Await expression</td>\n",
       "    </tr>\n",
       "    <tr>\n",
       "      <th>13</th>\n",
       "      <td>**</td>\n",
       "      <td>Exponentiation [6]</td>\n",
       "    </tr>\n",
       "    <tr>\n",
       "      <th>12</th>\n",
       "      <td>+x, -x, ~x</td>\n",
       "      <td>Positive, negative, bitwise NOT</td>\n",
       "    </tr>\n",
       "    <tr>\n",
       "      <th>11</th>\n",
       "      <td>*, @, /, //, %</td>\n",
       "      <td>Multiplication, matrix multiplication division...</td>\n",
       "    </tr>\n",
       "    <tr>\n",
       "      <th>10</th>\n",
       "      <td>+, -</td>\n",
       "      <td>Addition and subtraction</td>\n",
       "    </tr>\n",
       "    <tr>\n",
       "      <th>9</th>\n",
       "      <td>&lt;&lt;, &gt;&gt;</td>\n",
       "      <td>Shifts</td>\n",
       "    </tr>\n",
       "    <tr>\n",
       "      <th>8</th>\n",
       "      <td>&amp;</td>\n",
       "      <td>Bitwise AND</td>\n",
       "    </tr>\n",
       "    <tr>\n",
       "      <th>7</th>\n",
       "      <td>^</td>\n",
       "      <td>Bitwise XOR</td>\n",
       "    </tr>\n",
       "    <tr>\n",
       "      <th>6</th>\n",
       "      <td>|</td>\n",
       "      <td>Bitwise OR</td>\n",
       "    </tr>\n",
       "    <tr>\n",
       "      <th>5</th>\n",
       "      <td>in, not in, is, is not, &lt;, &lt;=, &gt;, &gt;=, !=, ==</td>\n",
       "      <td>Comparisons, including membership tests and id...</td>\n",
       "    </tr>\n",
       "    <tr>\n",
       "      <th>4</th>\n",
       "      <td>not x</td>\n",
       "      <td>Boolean NOT</td>\n",
       "    </tr>\n",
       "    <tr>\n",
       "      <th>3</th>\n",
       "      <td>and</td>\n",
       "      <td>Boolean AND</td>\n",
       "    </tr>\n",
       "    <tr>\n",
       "      <th>2</th>\n",
       "      <td>or</td>\n",
       "      <td>Boolean OR</td>\n",
       "    </tr>\n",
       "    <tr>\n",
       "      <th>1</th>\n",
       "      <td>if – else</td>\n",
       "      <td>Conditional expression</td>\n",
       "    </tr>\n",
       "    <tr>\n",
       "      <th>0</th>\n",
       "      <td>lambda</td>\n",
       "      <td>Lambda expression</td>\n",
       "    </tr>\n",
       "  </tbody>\n",
       "</table>\n",
       "</div>"
      ],
      "text/plain": [
       "                                             Operator  \\\n",
       "16  (expressions...), [expressions...], {key: valu...   \n",
       "15  x[index], x[index:index], x(arguments...), x.a...   \n",
       "14                                            await x   \n",
       "13                                                 **   \n",
       "12                                         +x, -x, ~x   \n",
       "11                                     *, @, /, //, %   \n",
       "10                                               +, -   \n",
       "9                                              <<, >>   \n",
       "8                                                   &   \n",
       "7                                                   ^   \n",
       "6                                                   |   \n",
       "5        in, not in, is, is not, <, <=, >, >=, !=, ==   \n",
       "4                                               not x   \n",
       "3                                                 and   \n",
       "2                                                  or   \n",
       "1                                           if – else   \n",
       "0                                              lambda   \n",
       "\n",
       "                                          Description  \n",
       "16  Binding or tuple display, list display, dictio...  \n",
       "15   Subscription, slicing, call, attribute reference  \n",
       "14                                   Await expression  \n",
       "13                                 Exponentiation [6]  \n",
       "12                    Positive, negative, bitwise NOT  \n",
       "11  Multiplication, matrix multiplication division...  \n",
       "10                           Addition and subtraction  \n",
       "9                                              Shifts  \n",
       "8                                         Bitwise AND  \n",
       "7                                         Bitwise XOR  \n",
       "6                                          Bitwise OR  \n",
       "5   Comparisons, including membership tests and id...  \n",
       "4                                         Boolean NOT  \n",
       "3                                         Boolean AND  \n",
       "2                                          Boolean OR  \n",
       "1                              Conditional expression  \n",
       "0                                   Lambda expression  "
      ]
     },
     "execution_count": 4,
     "metadata": {},
     "output_type": "execute_result"
    }
   ],
   "source": [
    "# df = (leΨ\n",
    "# ### extracts <table> tags from the page\n",
    "          \n",
    "#  * pandas.read_html\n",
    "\n",
    "# ### Report the number of frames found\n",
    "      \n",
    "#  * (leΨ<<len&\"Loaded {} dataframes\".format&print)\n",
    "  \n",
    "# ### The operator precedence is the first one.\n",
    "      \n",
    "#  * leΨ.first()\n",
    "  \n",
    "# ### Reverse the dataframe\n",
    "\n",
    "#  * this.iloc[::-1]\n",
    "  \n",
    "# ) & (\n",
    "#     ## Call the composition using the docs\n",
    "#     call('https://docs.python.org/3/reference/expressions.html')\n",
    "# )\n",
    "# df\n",
    "df = pandas.read_csv('dm.csv', index_col=\"Unnamed: 0\")\n",
    "df"
   ]
  },
  {
   "cell_type": "code",
   "execution_count": 5,
   "metadata": {},
   "outputs": [
    {
     "data": {
      "text/markdown": [
       "Binding or tuple display, list display, dictionary display, set display\n",
       "    \n",
       "(expressions...), [expressions...], {key: value...}, {expressions...}"
      ],
      "text/plain": [
       "<IPython.core.display.Markdown object>"
      ]
     },
     "metadata": {},
     "output_type": "display_data"
    }
   ],
   "source": [
    "df.iloc[0].pipe(about)"
   ]
  },
  {
   "cell_type": "code",
   "execution_count": 6,
   "metadata": {},
   "outputs": [
    {
     "data": {
      "text/markdown": [
       "Subscription, slicing, call, attribute reference\n",
       "    \n",
       "x[index], x[index:index], x(arguments...), x.attribute"
      ],
      "text/plain": [
       "<IPython.core.display.Markdown object>"
      ]
     },
     "metadata": {},
     "output_type": "display_data"
    }
   ],
   "source": [
    "df.iloc[1].pipe(about)"
   ]
  },
  {
   "cell_type": "code",
   "execution_count": 7,
   "metadata": {},
   "outputs": [
    {
     "name": "stdout",
     "output_type": "stream",
     "text": [
      "attributes for [<class 'fidget.Juxtaposition'>]\n"
     ]
    },
    {
     "data": {
      "text/html": [
       "<table border=\"1\" class=\"dataframe\">\n",
       "  <thead>\n",
       "    <tr style=\"text-align: right;\">\n",
       "      <th>0</th>\n",
       "      <th>1</th>\n",
       "      <th>2</th>\n",
       "      <th>3</th>\n",
       "      <th>4</th>\n",
       "      <th>5</th>\n",
       "      <th>6</th>\n",
       "      <th>7</th>\n",
       "    </tr>\n",
       "  </thead>\n",
       "  <tbody>\n",
       "    <tr>\n",
       "      <td>_args</td>\n",
       "      <td>_do</td>\n",
       "      <td>_factory_</td>\n",
       "      <td>_func_</td>\n",
       "      <td>_functions</td>\n",
       "      <td>_functions_default_</td>\n",
       "      <td>_keywords</td>\n",
       "      <td>_log</td>\n",
       "    </tr>\n",
       "  </tbody>\n",
       "</table>"
      ],
      "text/plain": [
       "<IPython.core.display.HTML object>"
      ]
     },
     "metadata": {},
     "output_type": "display_data"
    },
    {
     "name": "stdout",
     "output_type": "stream",
     "text": [
      "attributes for [<class 'fidget.Composition'>]\n"
     ]
    },
    {
     "data": {
      "text/html": [
       "<table border=\"1\" class=\"dataframe\">\n",
       "  <thead>\n",
       "    <tr style=\"text-align: right;\">\n",
       "      <th>0</th>\n",
       "      <th>1</th>\n",
       "      <th>2</th>\n",
       "      <th>3</th>\n",
       "      <th>4</th>\n",
       "      <th>5</th>\n",
       "      <th>6</th>\n",
       "      <th>7</th>\n",
       "      <th>8</th>\n",
       "      <th>9</th>\n",
       "      <th>10</th>\n",
       "      <th>11</th>\n",
       "    </tr>\n",
       "  </thead>\n",
       "  <tbody>\n",
       "    <tr>\n",
       "      <td>_args</td>\n",
       "      <td>_do</td>\n",
       "      <td>_factory_</td>\n",
       "      <td>_func_</td>\n",
       "      <td>_functions</td>\n",
       "      <td>_functions_default_</td>\n",
       "      <td>_keywords</td>\n",
       "      <td>_log</td>\n",
       "      <td>abs</td>\n",
       "      <td>accumulate</td>\n",
       "      <td>add</td>\n",
       "      <td>and_</td>\n",
       "    </tr>\n",
       "    <tr>\n",
       "      <td>assoc</td>\n",
       "      <td>assoc_in</td>\n",
       "      <td>attrgetter</td>\n",
       "      <td>call</td>\n",
       "      <td>comp</td>\n",
       "      <td>complement</td>\n",
       "      <td>compose</td>\n",
       "      <td>concat</td>\n",
       "      <td>concatv</td>\n",
       "      <td>cons</td>\n",
       "      <td>contains</td>\n",
       "      <td>count</td>\n",
       "    </tr>\n",
       "    <tr>\n",
       "      <td>countOf</td>\n",
       "      <td>countby</td>\n",
       "      <td>curry</td>\n",
       "      <td>delitem</td>\n",
       "      <td>diff</td>\n",
       "      <td>dissoc</td>\n",
       "      <td>do</td>\n",
       "      <td>drop</td>\n",
       "      <td>eq</td>\n",
       "      <td>excepts</td>\n",
       "      <td>filter</td>\n",
       "      <td>first</td>\n",
       "    </tr>\n",
       "    <tr>\n",
       "      <td>flip</td>\n",
       "      <td>floordiv</td>\n",
       "      <td>frequencies</td>\n",
       "      <td>ge</td>\n",
       "      <td>get</td>\n",
       "      <td>get_in</td>\n",
       "      <td>getitem</td>\n",
       "      <td>groupby</td>\n",
       "      <td>gt</td>\n",
       "      <td>iadd</td>\n",
       "      <td>iand</td>\n",
       "      <td>iconcat</td>\n",
       "    </tr>\n",
       "    <tr>\n",
       "      <td>identity</td>\n",
       "      <td>ifloordiv</td>\n",
       "      <td>ilshift</td>\n",
       "      <td>imatmul</td>\n",
       "      <td>imod</td>\n",
       "      <td>imul</td>\n",
       "      <td>index</td>\n",
       "      <td>indexOf</td>\n",
       "      <td>interleave</td>\n",
       "      <td>interpose</td>\n",
       "      <td>inv</td>\n",
       "      <td>invert</td>\n",
       "    </tr>\n",
       "    <tr>\n",
       "      <td>ior</td>\n",
       "      <td>ipow</td>\n",
       "      <td>irshift</td>\n",
       "      <td>is_</td>\n",
       "      <td>is_not</td>\n",
       "      <td>isdistinct</td>\n",
       "      <td>isiterable</td>\n",
       "      <td>isub</td>\n",
       "      <td>itemfilter</td>\n",
       "      <td>itemgetter</td>\n",
       "      <td>itemmap</td>\n",
       "      <td>iterate</td>\n",
       "    </tr>\n",
       "    <tr>\n",
       "      <td>itruediv</td>\n",
       "      <td>ixor</td>\n",
       "      <td>join</td>\n",
       "      <td>juxt</td>\n",
       "      <td>keyfilter</td>\n",
       "      <td>keymap</td>\n",
       "      <td>last</td>\n",
       "      <td>le</td>\n",
       "      <td>length_hint</td>\n",
       "      <td>lshift</td>\n",
       "      <td>lt</td>\n",
       "      <td>map</td>\n",
       "    </tr>\n",
       "    <tr>\n",
       "      <td>mapcat</td>\n",
       "      <td>matmul</td>\n",
       "      <td>memoize</td>\n",
       "      <td>merge</td>\n",
       "      <td>merge_sorted</td>\n",
       "      <td>merge_with</td>\n",
       "      <td>methodcaller</td>\n",
       "      <td>mod</td>\n",
       "      <td>mul</td>\n",
       "      <td>ne</td>\n",
       "      <td>neg</td>\n",
       "      <td>not_</td>\n",
       "    </tr>\n",
       "    <tr>\n",
       "      <td>nth</td>\n",
       "      <td>or_</td>\n",
       "      <td>partial</td>\n",
       "      <td>partition</td>\n",
       "      <td>partition_all</td>\n",
       "      <td>partitionby</td>\n",
       "      <td>peek</td>\n",
       "      <td>pipe</td>\n",
       "      <td>pluck</td>\n",
       "      <td>pos</td>\n",
       "      <td>pow</td>\n",
       "      <td>random_sample</td>\n",
       "    </tr>\n",
       "    <tr>\n",
       "      <td>reduce</td>\n",
       "      <td>reduceby</td>\n",
       "      <td>remove</td>\n",
       "      <td>rshift</td>\n",
       "      <td>second</td>\n",
       "      <td>setitem</td>\n",
       "      <td>sliding_window</td>\n",
       "      <td>sorted</td>\n",
       "      <td>sub</td>\n",
       "      <td>tail</td>\n",
       "      <td>take</td>\n",
       "      <td>take_nth</td>\n",
       "    </tr>\n",
       "    <tr>\n",
       "      <td>thread_first</td>\n",
       "      <td>thread_last</td>\n",
       "      <td>topk</td>\n",
       "      <td>truediv</td>\n",
       "      <td>truth</td>\n",
       "      <td>unique</td>\n",
       "      <td>update_in</td>\n",
       "      <td>valfilter</td>\n",
       "      <td>valmap</td>\n",
       "      <td>xor</td>\n",
       "      <td>None</td>\n",
       "      <td>None</td>\n",
       "    </tr>\n",
       "  </tbody>\n",
       "</table>"
      ],
      "text/plain": [
       "<IPython.core.display.HTML object>"
      ]
     },
     "metadata": {},
     "output_type": "display_data"
    },
    {
     "data": {
      "text/plain": [
       "[None, None]"
      ]
     },
     "execution_count": 7,
     "metadata": {},
     "output_type": "execute_result"
    }
   ],
   "source": [
    "[\n",
    "    leΨ[dir]\n",
    "    \n",
    "## Filter non-private methods\n",
    "    \n",
    "    // -_x.get(slice(0,2)).eq('__')\n",
    "    \n",
    "## Vector to Matrix\n",
    "    \n",
    "    >> _x.partition_all(12).map(list)[list][pandas.DataFrame]\n",
    "    \n",
    "## Micro repo\n",
    "    \n",
    "    << _x[_x['attributes for {}'.format][print](xxx)]\n",
    "\n",
    "## Customize pandas table\n",
    "\n",
    "    << _x[this.to_html(index=None)][display.HTML][display.display]\n",
    "    \n",
    "## Return nothing after calling, display will have done that.\n",
    "    \n",
    "    >> None >> call(xxx)\n",
    "    for xxx in (_y, _x)\n",
    "]"
   ]
  },
  {
   "cell_type": "code",
   "execution_count": 8,
   "metadata": {},
   "outputs": [
    {
     "data": {
      "text/markdown": [
       "~~Await expression~~\n",
       "    \n",
       "~~await x~~"
      ],
      "text/plain": [
       "<IPython.core.display.Markdown object>"
      ]
     },
     "metadata": {},
     "output_type": "display_data"
    }
   ],
   "source": [
    "df.iloc[2].apply('~~{}~~'.format).pipe(about)"
   ]
  },
  {
   "cell_type": "code",
   "execution_count": 9,
   "metadata": {},
   "outputs": [
    {
     "data": {
      "text/markdown": [
       "Exponentiation [6]\n",
       "    \n",
       "**"
      ],
      "text/plain": [
       "<IPython.core.display.Markdown object>"
      ]
     },
     "metadata": {},
     "output_type": "display_data"
    }
   ],
   "source": [
    "df.iloc[3].pipe(about)"
   ]
  },
  {
   "cell_type": "markdown",
   "metadata": {},
   "source": [
    "> Only execute a statement when the exponent is true."
   ]
  },
  {
   "cell_type": "code",
   "execution_count": 10,
   "metadata": {},
   "outputs": [
    {
     "data": {
      "text/plain": [
       "False"
      ]
     },
     "execution_count": 10,
     "metadata": {},
     "output_type": "execute_result"
    },
    {
     "data": {
      "text/plain": [
       "'ASDF'"
      ]
     },
     "execution_count": 10,
     "metadata": {},
     "output_type": "execute_result"
    }
   ],
   "source": [
    "# _x[range][list] >> call('asdf')\n",
    "_x[range][list] ** x_(int)[isinstance] >> call('asdf')\n",
    "(_x[range][list] ** x_(int)[isinstance] | str.upper) >> call('asdf')"
   ]
  },
  {
   "cell_type": "code",
   "execution_count": 11,
   "metadata": {},
   "outputs": [
    {
     "data": {
      "text/markdown": [
       "Positive, negative, bitwise NOT\n",
       "    \n",
       "+x, -x, ~x"
      ],
      "text/plain": [
       "<IPython.core.display.Markdown object>"
      ]
     },
     "metadata": {},
     "output_type": "display_data"
    }
   ],
   "source": [
    "df.iloc[4].pipe(about)"
   ]
  },
  {
   "cell_type": "code",
   "execution_count": 12,
   "metadata": {},
   "outputs": [
    {
     "data": {
      "text/plain": [
       "False"
      ]
     },
     "execution_count": 12,
     "metadata": {},
     "output_type": "execute_result"
    },
    {
     "data": {
      "text/plain": [
       "True"
      ]
     },
     "execution_count": 12,
     "metadata": {},
     "output_type": "execute_result"
    },
    {
     "data": {
      "text/plain": [
       "True"
      ]
     },
     "execution_count": 12,
     "metadata": {},
     "output_type": "execute_result"
    },
    {
     "data": {
      "text/plain": [
       "False"
      ]
     },
     "execution_count": 12,
     "metadata": {},
     "output_type": "execute_result"
    }
   ],
   "source": [
    "(+_x[range])(0)\n",
    "(+_x[range])(1)\n",
    "(-_x[range])(0)\n",
    "(-_x[range])(1)"
   ]
  },
  {
   "cell_type": "markdown",
   "metadata": {},
   "source": [
    "reverse direction of the functions."
   ]
  },
  {
   "cell_type": "code",
   "execution_count": 13,
   "metadata": {},
   "outputs": [
    {
     "data": {
      "text/plain": [
       "(<class 'list'>, <class 'range'>)"
      ]
     },
     "execution_count": 13,
     "metadata": {},
     "output_type": "execute_result"
    }
   ],
   "source": [
    "~_x[range][list]"
   ]
  },
  {
   "cell_type": "code",
   "execution_count": 14,
   "metadata": {},
   "outputs": [
    {
     "data": {
      "text/markdown": [
       "Multiplication, matrix multiplication division, remainder [5]\n",
       "    \n",
       "*, @, /, //, %"
      ],
      "text/plain": [
       "<IPython.core.display.Markdown object>"
      ]
     },
     "metadata": {},
     "output_type": "display_data"
    }
   ],
   "source": [
    "df.iloc[5].pipe(about)"
   ]
  },
  {
   "cell_type": "markdown",
   "metadata": {},
   "source": [
    "Use `*` to append function because it is markdowny"
   ]
  },
  {
   "cell_type": "code",
   "execution_count": 15,
   "metadata": {},
   "outputs": [
    {
     "data": {
      "text/plain": [
       "[0, 1, 2, 3, 4, 5, 6, 7, 8, 9]"
      ]
     },
     "execution_count": 15,
     "metadata": {},
     "output_type": "execute_result"
    }
   ],
   "source": [
    "(_x\n",
    " * range\n",
    " * list\n",
    ")(10)"
   ]
  },
  {
   "cell_type": "markdown",
   "metadata": {},
   "source": [
    "groupby"
   ]
  },
  {
   "cell_type": "code",
   "execution_count": 16,
   "metadata": {},
   "outputs": [
    {
     "data": {
      "text/plain": [
       "{0: [0, 2, 4, 6, 8], 1: [1, 3, 5, 7, 9]}"
      ]
     },
     "execution_count": 16,
     "metadata": {},
     "output_type": "execute_result"
    }
   ],
   "source": [
    "_x * range @ _x.mod(2) & call(10)"
   ]
  },
  {
   "cell_type": "markdown",
   "metadata": {},
   "source": [
    "map"
   ]
  },
  {
   "cell_type": "code",
   "execution_count": 17,
   "metadata": {},
   "outputs": [
    {
     "data": {
      "text/plain": [
       "[0, 1, 0, 1, 0, 1, 0, 1, 0, 1]"
      ]
     },
     "execution_count": 17,
     "metadata": {},
     "output_type": "execute_result"
    }
   ],
   "source": [
    "_x * range / _x.mod(2) >> list & call(10)"
   ]
  },
  {
   "cell_type": "markdown",
   "metadata": {},
   "source": [
    "filter"
   ]
  },
  {
   "cell_type": "code",
   "execution_count": 18,
   "metadata": {},
   "outputs": [
    {
     "data": {
      "text/plain": [
       "[1, 3, 5, 7, 9]"
      ]
     },
     "execution_count": 18,
     "metadata": {},
     "output_type": "execute_result"
    }
   ],
   "source": [
    "_x * range // _x.mod(2) >> list & call(10)"
   ]
  },
  {
   "cell_type": "markdown",
   "metadata": {},
   "source": [
    "reduce"
   ]
  },
  {
   "cell_type": "code",
   "execution_count": 19,
   "metadata": {},
   "outputs": [
    {
     "data": {
      "text/plain": [
       "45"
      ]
     },
     "execution_count": 19,
     "metadata": {},
     "output_type": "execute_result"
    }
   ],
   "source": [
    "_x * range % _x.add() & call(10)"
   ]
  },
  {
   "cell_type": "code",
   "execution_count": 20,
   "metadata": {},
   "outputs": [
    {
     "data": {
      "text/plain": [
       "'9876543210'"
      ]
     },
     "execution_count": 20,
     "metadata": {},
     "output_type": "execute_result"
    }
   ],
   "source": [
    "_x * range / str % _x.add() & call(10)"
   ]
  },
  {
   "cell_type": "code",
   "execution_count": 21,
   "metadata": {},
   "outputs": [
    {
     "data": {
      "text/markdown": [
       "Addition and subtraction\n",
       "    \n",
       "+, -"
      ],
      "text/plain": [
       "<IPython.core.display.Markdown object>"
      ]
     },
     "metadata": {},
     "output_type": "display_data"
    }
   ],
   "source": [
    "df.iloc[6].pipe(about)"
   ]
  },
  {
   "cell_type": "markdown",
   "metadata": {},
   "source": [
    "append functions in a markdowny way"
   ]
  },
  {
   "cell_type": "code",
   "execution_count": 22,
   "metadata": {},
   "outputs": [
    {
     "data": {
      "text/plain": [
       "(<class 'range'>, <class 'list'>, <built-in function len>)"
      ]
     },
     "execution_count": 22,
     "metadata": {},
     "output_type": "execute_result"
    }
   ],
   "source": [
    "_x + range - list + len"
   ]
  },
  {
   "cell_type": "code",
   "execution_count": 23,
   "metadata": {},
   "outputs": [
    {
     "data": {
      "text/markdown": [
       "Shifts\n",
       "    \n",
       "<<, >>"
      ],
      "text/plain": [
       "<IPython.core.display.Markdown object>"
      ]
     },
     "metadata": {},
     "output_type": "display_data"
    }
   ],
   "source": [
    "df.iloc[7].pipe(about)"
   ]
  },
  {
   "cell_type": "code",
   "execution_count": 24,
   "metadata": {},
   "outputs": [
    {
     "data": {
      "text/plain": [
       "[10, 45]"
      ]
     },
     "execution_count": 24,
     "metadata": {},
     "output_type": "execute_result"
    }
   ],
   "source": [
    "_x >> range >> list >> [len, sum] >> call(10)"
   ]
  },
  {
   "cell_type": "code",
   "execution_count": 25,
   "metadata": {},
   "outputs": [
    {
     "data": {
      "text/plain": [
       "10"
      ]
     },
     "execution_count": 25,
     "metadata": {},
     "output_type": "execute_result"
    }
   ],
   "source": [
    "_x << range >> list >> [len, sum] >> call(10)"
   ]
  },
  {
   "cell_type": "code",
   "execution_count": 26,
   "metadata": {},
   "outputs": [
    {
     "name": "stdout",
     "output_type": "stream",
     "text": [
      "[10, 45]\n"
     ]
    },
    {
     "data": {
      "text/plain": [
       "[10, 45]"
      ]
     },
     "execution_count": 26,
     "metadata": {},
     "output_type": "execute_result"
    }
   ],
   "source": [
    "_x >> range >> list >> [len, sum] << print >> call(10)"
   ]
  },
  {
   "cell_type": "code",
   "execution_count": 27,
   "metadata": {},
   "outputs": [
    {
     "data": {
      "text/markdown": [
       "Bitwise AND\n",
       "    \n",
       "&"
      ],
      "text/plain": [
       "<IPython.core.display.Markdown object>"
      ]
     },
     "metadata": {},
     "output_type": "display_data"
    }
   ],
   "source": [
    "df.iloc[8].pipe(about)"
   ]
  },
  {
   "cell_type": "code",
   "execution_count": 28,
   "metadata": {},
   "outputs": [
    {
     "data": {
      "text/plain": [
       "[10, 45]"
      ]
     },
     "execution_count": 28,
     "metadata": {},
     "output_type": "execute_result"
    }
   ],
   "source": [
    "_x & range & list & [len, sum] & call(10)"
   ]
  },
  {
   "cell_type": "code",
   "execution_count": 29,
   "metadata": {},
   "outputs": [
    {
     "data": {
      "text/markdown": [
       "Bitwise XOR\n",
       "    \n",
       "^"
      ],
      "text/plain": [
       "<IPython.core.display.Markdown object>"
      ]
     },
     "metadata": {},
     "output_type": "display_data"
    }
   ],
   "source": [
    "df.iloc[9].pipe(about)"
   ]
  },
  {
   "cell_type": "code",
   "execution_count": 30,
   "metadata": {},
   "outputs": [
    {
     "data": {
      "text/plain": [
       "False"
      ]
     },
     "execution_count": 30,
     "metadata": {},
     "output_type": "execute_result"
    }
   ],
   "source": [
    "(_x + str.upper ^ x_(str)[isinstance]) + call(10)"
   ]
  },
  {
   "cell_type": "code",
   "execution_count": 31,
   "metadata": {},
   "outputs": [
    {
     "data": {
      "text/plain": [
       "'ASDF10'"
      ]
     },
     "execution_count": 31,
     "metadata": {},
     "output_type": "execute_result"
    }
   ],
   "source": [
    "(_x + str.upper ^ x_(str)[isinstance]) + call('asdf10')"
   ]
  },
  {
   "cell_type": "code",
   "execution_count": 32,
   "metadata": {},
   "outputs": [
    {
     "data": {
      "text/markdown": [
       "Bitwise OR\n",
       "    \n",
       "|"
      ],
      "text/plain": [
       "<IPython.core.display.Markdown object>"
      ]
     },
     "metadata": {},
     "output_type": "display_data"
    }
   ],
   "source": [
    "df.iloc[10].pipe(about)"
   ]
  },
  {
   "cell_type": "code",
   "execution_count": 33,
   "metadata": {},
   "outputs": [],
   "source": [
    "conditional = (_x \n",
    " + str.upper                    ^ x_(str)[isinstance]\n",
    " | _x.mul(10)                   ^ x_((int, float))[isinstance]\n",
    " | \"Can't do anything with {}\".format\n",
    ")"
   ]
  },
  {
   "cell_type": "code",
   "execution_count": 34,
   "metadata": {},
   "outputs": [
    {
     "data": {
      "text/plain": [
       "\"Can't do anything with {10}\""
      ]
     },
     "execution_count": 34,
     "metadata": {},
     "output_type": "execute_result"
    }
   ],
   "source": [
    "conditional({10})"
   ]
  },
  {
   "cell_type": "code",
   "execution_count": 35,
   "metadata": {},
   "outputs": [
    {
     "data": {
      "text/plain": [
       "'ASDF10'"
      ]
     },
     "execution_count": 35,
     "metadata": {},
     "output_type": "execute_result"
    }
   ],
   "source": [
    "conditional('asdf10')"
   ]
  },
  {
   "cell_type": "code",
   "execution_count": 36,
   "metadata": {},
   "outputs": [
    {
     "data": {
      "text/plain": [
       "100"
      ]
     },
     "execution_count": 36,
     "metadata": {},
     "output_type": "execute_result"
    }
   ],
   "source": [
    "conditional(10)"
   ]
  },
  {
   "cell_type": "code",
   "execution_count": 37,
   "metadata": {},
   "outputs": [
    {
     "data": {
      "text/markdown": [
       "Comparisons, including membership tests and identity tests\n",
       "    \n",
       "in, not in, is, is not, <, <=, >, >=, !=, =="
      ],
      "text/plain": [
       "<IPython.core.display.Markdown object>"
      ]
     },
     "metadata": {},
     "output_type": "display_data"
    }
   ],
   "source": [
    "df.iloc[11].pipe(about)"
   ]
  },
  {
   "cell_type": "code",
   "execution_count": 38,
   "metadata": {},
   "outputs": [
    {
     "data": {
      "text/plain": [
       "True"
      ]
     },
     "execution_count": 38,
     "metadata": {},
     "output_type": "execute_result"
    },
    {
     "data": {
      "text/plain": [
       "True"
      ]
     },
     "execution_count": 38,
     "metadata": {},
     "output_type": "execute_result"
    },
    {
     "data": {
      "text/plain": [
       "True"
      ]
     },
     "execution_count": 38,
     "metadata": {},
     "output_type": "execute_result"
    }
   ],
   "source": [
    "_x >> range < _x >> range >> list\n",
    "_x >> range >> list is not _x >> range >> list\n",
    "_x >> range >> list == _x >> range >> list"
   ]
  },
  {
   "cell_type": "code",
   "execution_count": 39,
   "metadata": {},
   "outputs": [
    {
     "data": {
      "text/plain": [
       "True"
      ]
     },
     "execution_count": 39,
     "metadata": {},
     "output_type": "execute_result"
    },
    {
     "data": {
      "text/plain": [
       "True"
      ]
     },
     "execution_count": 39,
     "metadata": {},
     "output_type": "execute_result"
    }
   ],
   "source": [
    "range in _x[range][len]\n",
    "range not in _x[_x[range]][len]"
   ]
  },
  {
   "cell_type": "code",
   "execution_count": 40,
   "metadata": {},
   "outputs": [
    {
     "data": {
      "text/plain": [
       "(<function ifthen.<locals>.caller.<locals>.ifthen at 0x112dbabf8>, <class 'type'>)"
      ]
     },
     "execution_count": 40,
     "metadata": {},
     "output_type": "execute_result"
    },
    {
     "data": {
      "text/plain": [
       "(<function ifthen.<locals>.caller.<locals>.ifthen at 0x112dbabf8>, <class 'type'>, <class 'type'>, <class 'type'>, <class 'type'>, <class 'type'>)"
      ]
     },
     "execution_count": 40,
     "metadata": {},
     "output_type": "execute_result"
    },
    {
     "data": {
      "text/plain": [
       "(<function ifthen.<locals>.caller.<locals>.ifthen at 0x112dbabf8>, <class 'type'>, <class 'type'>, <class 'type'>, <class 'type'>, <class 'type'>, <class 'type'>)"
      ]
     },
     "execution_count": 40,
     "metadata": {},
     "output_type": "execute_result"
    },
    {
     "data": {
      "text/plain": [
       "(<function ifthen.<locals>.caller.<locals>.ifthen at 0x112dbabf8>, <class 'type'>, <class 'type'>, <class 'type'>, <class 'type'>, <class 'type'>, <class 'type'>, <class 'type'>)"
      ]
     },
     "execution_count": 40,
     "metadata": {},
     "output_type": "execute_result"
    },
    {
     "data": {
      "text/plain": [
       "(<function ifthen.<locals>.caller.<locals>.ifthen at 0x112dbabf8>, <class 'type'>, <class 'type'>, <class 'type'>, <class 'type'>, <class 'type'>, <class 'type'>, <class 'type'>, {<class 'type'>})"
      ]
     },
     "execution_count": 40,
     "metadata": {},
     "output_type": "execute_result"
    },
    {
     "data": {
      "text/plain": [
       "(<class 'type'>, (<function ifthen.<locals>.caller.<locals>.ifthen at 0x112dbabf8>, <class 'type'>, <class 'type'>, <class 'type'>, <class 'type'>, <class 'type'>, <class 'type'>, <class 'type'>, {<class 'type'>}))"
      ]
     },
     "execution_count": 40,
     "metadata": {},
     "output_type": "execute_result"
    },
    {
     "data": {
      "text/plain": [
       "([<class 'type'>, <class 'type'>, <class 'type'>, <class 'type'>, <class 'type'>, <class 'type'>, <class 'type'>, <class 'type'>, <class 'type'>, <class 'type'>], (<function ifthen.<locals>.caller.<locals>.ifthen at 0x112dbabf8>, <class 'type'>, <class 'type'>, <class 'type'>, <class 'type'>, <class 'type'>, <class 'type'>, <class 'type'>, {<class 'type'>}, <class 'type'>))"
      ]
     },
     "execution_count": 40,
     "metadata": {},
     "output_type": "execute_result"
    },
    {
     "data": {
      "text/plain": [
       "(<function ifthen.<locals>.caller.<locals>.ifthen at 0x112dbabf8>, <class 'type'>, <class 'type'>, <class 'type'>, <class 'type'>, <class 'type'>, <class 'type'>, <class 'type'>, {<class 'type'>}, <class 'type'>, <function first at 0x10b59f620>)"
      ]
     },
     "execution_count": 40,
     "metadata": {},
     "output_type": "execute_result"
    },
    {
     "data": {
      "text/plain": [
       "(<function ifthen.<locals>.caller.<locals>.ifthen at 0x112dbabf8>, <class 'type'>, <class 'type'>, <class 'type'>, <class 'type'>, <class 'type'>, <class 'type'>, <class 'type'>, {<class 'type'>}, <class 'type'>, <function first at 0x10b59f620>)"
      ]
     },
     "execution_count": 40,
     "metadata": {},
     "output_type": "execute_result"
    }
   ],
   "source": [
    "sumpin = _x\n",
    "with sumpin ** \"like an 💡\" as such:\n",
    "    such[type]\n",
    "    such += type\n",
    "    such *= type\n",
    "    such -= type\n",
    "    such * type\n",
    "    such + type\n",
    "    such - type\n",
    "    such[{type, type, type}]\n",
    "    type + such\n",
    "    [type]*10 * such[type]\n",
    "    such.first()\n",
    "such"
   ]
  },
  {
   "cell_type": "markdown",
   "metadata": {},
   "source": [
    "> logging"
   ]
  },
  {
   "cell_type": "code",
   "execution_count": 41,
   "metadata": {
    "collapsed": true
   },
   "outputs": [],
   "source": [
    "from copy import copy"
   ]
  },
  {
   "cell_type": "code",
   "execution_count": 42,
   "metadata": {},
   "outputs": [
    {
     "data": {
      "text/plain": [
       "[0, 1, 2, 3, 4, 5, 6, 7, 8, 9]"
      ]
     },
     "execution_count": 42,
     "metadata": {},
     "output_type": "execute_result"
    }
   ],
   "source": [
    "from time import time\n",
    "log = 'get_ipython' not in globals() and print or get_ipython().log.warning\n",
    "\n",
    "with [] - _xx[time] as _time_: \n",
    "    t = _time_()\n",
    "\n",
    "(_x\n",
    " >> range\n",
    " # print intermediate results\n",
    " << (_x\n",
    "  - [len, sum, _time_ - _x.sub(t) - \"\"\"{} sec\"\"\".format] >> log)\n",
    " >> list\n",
    ") >> call(10)"
   ]
  },
  {
   "cell_type": "code",
   "execution_count": null,
   "metadata": {
    "collapsed": true
   },
   "outputs": [],
   "source": []
  }
 ],
 "metadata": {
  "anaconda-cloud": {},
  "kernelspec": {
   "display_name": "Python 3",
   "language": "python",
   "name": "python3"
  },
  "language_info": {
   "codemirror_mode": {
    "name": "ipython",
    "version": 3
   },
   "file_extension": ".py",
   "mimetype": "text/x-python",
   "name": "python",
   "nbconvert_exporter": "python",
   "pygments_lexer": "ipython3",
   "version": "3.5.3"
  }
 },
 "nbformat": 4,
 "nbformat_minor": 2
}
