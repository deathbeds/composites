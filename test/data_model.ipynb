{
 "cells": [
  {
   "cell_type": "code",
   "execution_count": 1,
   "metadata": {
    "collapsed": true
   },
   "outputs": [],
   "source": [
    "from fidget import _x as leΨ, _x, call, _y, x_, _xx\n",
    "from IPython import display\n",
    "from copy import copy\n",
    "from time import time\n",
    "import pandas\n",
    "get_ipython().ast_node_interactivity = 'all'"
   ]
  },
  {
   "cell_type": "code",
   "execution_count": 2,
   "metadata": {},
   "outputs": [
    {
     "data": {
      "text/plain": [
       "[list, int]"
      ]
     },
     "execution_count": 2,
     "metadata": {},
     "output_type": "execute_result"
    }
   ],
   "source": [
    "( range - _x - [len]*10 - [\n",
    "    type, _x.first()[type]\n",
    "] - call )(10)"
   ]
  },
  {
   "cell_type": "code",
   "execution_count": 3,
   "metadata": {
    "collapsed": true
   },
   "outputs": [],
   "source": [
    "about = _x[dict][_xx[\"\"\"{Description}\n",
    "    \n",
    "{Operator}\"\"\".format]][display.Markdown][display.display]"
   ]
  },
  {
   "cell_type": "code",
   "execution_count": 4,
   "metadata": {},
   "outputs": [
    {
     "data": {
      "text/html": [
       "<div>\n",
       "<table border=\"1\" class=\"dataframe\">\n",
       "  <thead>\n",
       "    <tr style=\"text-align: right;\">\n",
       "      <th></th>\n",
       "      <th>Operator</th>\n",
       "      <th>Description</th>\n",
       "    </tr>\n",
       "  </thead>\n",
       "  <tbody>\n",
       "    <tr>\n",
       "      <th>16</th>\n",
       "      <td>(expressions...), [expressions...], {key: valu...</td>\n",
       "      <td>Binding or tuple display, list display, dictio...</td>\n",
       "    </tr>\n",
       "    <tr>\n",
       "      <th>15</th>\n",
       "      <td>x[index], x[index:index], x(arguments...), x.a...</td>\n",
       "      <td>Subscription, slicing, call, attribute reference</td>\n",
       "    </tr>\n",
       "    <tr>\n",
       "      <th>14</th>\n",
       "      <td>await x</td>\n",
       "      <td>Await expression</td>\n",
       "    </tr>\n",
       "    <tr>\n",
       "      <th>13</th>\n",
       "      <td>**</td>\n",
       "      <td>Exponentiation [6]</td>\n",
       "    </tr>\n",
       "    <tr>\n",
       "      <th>12</th>\n",
       "      <td>+x, -x, ~x</td>\n",
       "      <td>Positive, negative, bitwise NOT</td>\n",
       "    </tr>\n",
       "    <tr>\n",
       "      <th>11</th>\n",
       "      <td>*, @, /, //, %</td>\n",
       "      <td>Multiplication, matrix multiplication division...</td>\n",
       "    </tr>\n",
       "    <tr>\n",
       "      <th>10</th>\n",
       "      <td>+, -</td>\n",
       "      <td>Addition and subtraction</td>\n",
       "    </tr>\n",
       "    <tr>\n",
       "      <th>9</th>\n",
       "      <td>&lt;&lt;, &gt;&gt;</td>\n",
       "      <td>Shifts</td>\n",
       "    </tr>\n",
       "    <tr>\n",
       "      <th>8</th>\n",
       "      <td>&amp;</td>\n",
       "      <td>Bitwise AND</td>\n",
       "    </tr>\n",
       "    <tr>\n",
       "      <th>7</th>\n",
       "      <td>^</td>\n",
       "      <td>Bitwise XOR</td>\n",
       "    </tr>\n",
       "    <tr>\n",
       "      <th>6</th>\n",
       "      <td>|</td>\n",
       "      <td>Bitwise OR</td>\n",
       "    </tr>\n",
       "    <tr>\n",
       "      <th>5</th>\n",
       "      <td>in, not in, is, is not, &lt;, &lt;=, &gt;, &gt;=, !=, ==</td>\n",
       "      <td>Comparisons, including membership tests and id...</td>\n",
       "    </tr>\n",
       "    <tr>\n",
       "      <th>4</th>\n",
       "      <td>not x</td>\n",
       "      <td>Boolean NOT</td>\n",
       "    </tr>\n",
       "    <tr>\n",
       "      <th>3</th>\n",
       "      <td>and</td>\n",
       "      <td>Boolean AND</td>\n",
       "    </tr>\n",
       "    <tr>\n",
       "      <th>2</th>\n",
       "      <td>or</td>\n",
       "      <td>Boolean OR</td>\n",
       "    </tr>\n",
       "    <tr>\n",
       "      <th>1</th>\n",
       "      <td>if – else</td>\n",
       "      <td>Conditional expression</td>\n",
       "    </tr>\n",
       "    <tr>\n",
       "      <th>0</th>\n",
       "      <td>lambda</td>\n",
       "      <td>Lambda expression</td>\n",
       "    </tr>\n",
       "  </tbody>\n",
       "</table>\n",
       "</div>"
      ],
      "text/plain": [
       "                                             Operator  \\\n",
       "16  (expressions...), [expressions...], {key: valu...   \n",
       "15  x[index], x[index:index], x(arguments...), x.a...   \n",
       "14                                            await x   \n",
       "13                                                 **   \n",
       "12                                         +x, -x, ~x   \n",
       "11                                     *, @, /, //, %   \n",
       "10                                               +, -   \n",
       "9                                              <<, >>   \n",
       "8                                                   &   \n",
       "7                                                   ^   \n",
       "6                                                   |   \n",
       "5        in, not in, is, is not, <, <=, >, >=, !=, ==   \n",
       "4                                               not x   \n",
       "3                                                 and   \n",
       "2                                                  or   \n",
       "1                                           if – else   \n",
       "0                                              lambda   \n",
       "\n",
       "                                          Description  \n",
       "16  Binding or tuple display, list display, dictio...  \n",
       "15   Subscription, slicing, call, attribute reference  \n",
       "14                                   Await expression  \n",
       "13                                 Exponentiation [6]  \n",
       "12                    Positive, negative, bitwise NOT  \n",
       "11  Multiplication, matrix multiplication division...  \n",
       "10                           Addition and subtraction  \n",
       "9                                              Shifts  \n",
       "8                                         Bitwise AND  \n",
       "7                                         Bitwise XOR  \n",
       "6                                          Bitwise OR  \n",
       "5   Comparisons, including membership tests and id...  \n",
       "4                                         Boolean NOT  \n",
       "3                                         Boolean AND  \n",
       "2                                          Boolean OR  \n",
       "1                              Conditional expression  \n",
       "0                                   Lambda expression  "
      ]
     },
     "execution_count": 4,
     "metadata": {},
     "output_type": "execute_result"
    }
   ],
   "source": [
    "# df = (leΨ\n",
    "# ### extracts <table> tags from the page\n",
    "          \n",
    "#  * pandas.read_html\n",
    "\n",
    "# ### Report the number of frames found\n",
    "      \n",
    "#  * (leΨ<<len&\"Loaded {} dataframes\".format&print)\n",
    "  \n",
    "# ### The operator precedence is the first one.\n",
    "      \n",
    "#  * leΨ.first()\n",
    "  \n",
    "# ### Reverse the dataframe\n",
    "\n",
    "#  * this.iloc[::-1]\n",
    "  \n",
    "# ) & (\n",
    "#     ## Call the composition using the docs\n",
    "#     call('https://docs.python.org/3/reference/expressions.html')\n",
    "# )\n",
    "# df\n",
    "df = pandas.read_csv('dm.csv', index_col=\"Unnamed: 0\")\n",
    "df"
   ]
  },
  {
   "cell_type": "code",
   "execution_count": 5,
   "metadata": {},
   "outputs": [
    {
     "name": "stdout",
     "output_type": "stream",
     "text": [
      "Loaded 7 dataframes\n"
     ]
    },
    {
     "data": {
      "text/html": [
       "<div>\n",
       "<table border=\"1\" class=\"dataframe\">\n",
       "  <thead>\n",
       "    <tr style=\"text-align: right;\">\n",
       "      <th></th>\n",
       "      <th>Operator</th>\n",
       "      <th>Description</th>\n",
       "    </tr>\n",
       "  </thead>\n",
       "  <tbody>\n",
       "    <tr>\n",
       "      <th>16</th>\n",
       "      <td>(expressions...), [expressions...], {key: valu...</td>\n",
       "      <td>Binding or tuple display, list display, dictio...</td>\n",
       "    </tr>\n",
       "    <tr>\n",
       "      <th>15</th>\n",
       "      <td>x[index], x[index:index], x(arguments...), x.a...</td>\n",
       "      <td>Subscription, slicing, call, attribute reference</td>\n",
       "    </tr>\n",
       "    <tr>\n",
       "      <th>14</th>\n",
       "      <td>await x</td>\n",
       "      <td>Await expression</td>\n",
       "    </tr>\n",
       "    <tr>\n",
       "      <th>13</th>\n",
       "      <td>**</td>\n",
       "      <td>Exponentiation [6]</td>\n",
       "    </tr>\n",
       "    <tr>\n",
       "      <th>12</th>\n",
       "      <td>+x, -x, ~x</td>\n",
       "      <td>Positive, negative, bitwise NOT</td>\n",
       "    </tr>\n",
       "    <tr>\n",
       "      <th>11</th>\n",
       "      <td>*, @, /, //, %</td>\n",
       "      <td>Multiplication, matrix multiplication division...</td>\n",
       "    </tr>\n",
       "    <tr>\n",
       "      <th>10</th>\n",
       "      <td>+, -</td>\n",
       "      <td>Addition and subtraction</td>\n",
       "    </tr>\n",
       "    <tr>\n",
       "      <th>9</th>\n",
       "      <td>&lt;&lt;, &gt;&gt;</td>\n",
       "      <td>Shifts</td>\n",
       "    </tr>\n",
       "    <tr>\n",
       "      <th>8</th>\n",
       "      <td>&amp;</td>\n",
       "      <td>Bitwise AND</td>\n",
       "    </tr>\n",
       "    <tr>\n",
       "      <th>7</th>\n",
       "      <td>^</td>\n",
       "      <td>Bitwise XOR</td>\n",
       "    </tr>\n",
       "    <tr>\n",
       "      <th>6</th>\n",
       "      <td>|</td>\n",
       "      <td>Bitwise OR</td>\n",
       "    </tr>\n",
       "    <tr>\n",
       "      <th>5</th>\n",
       "      <td>in, not in, is, is not, &lt;, &lt;=, &gt;, &gt;=, !=, ==</td>\n",
       "      <td>Comparisons, including membership tests and id...</td>\n",
       "    </tr>\n",
       "    <tr>\n",
       "      <th>4</th>\n",
       "      <td>not x</td>\n",
       "      <td>Boolean NOT</td>\n",
       "    </tr>\n",
       "    <tr>\n",
       "      <th>3</th>\n",
       "      <td>and</td>\n",
       "      <td>Boolean AND</td>\n",
       "    </tr>\n",
       "    <tr>\n",
       "      <th>2</th>\n",
       "      <td>or</td>\n",
       "      <td>Boolean OR</td>\n",
       "    </tr>\n",
       "    <tr>\n",
       "      <th>1</th>\n",
       "      <td>if – else</td>\n",
       "      <td>Conditional expression</td>\n",
       "    </tr>\n",
       "    <tr>\n",
       "      <th>0</th>\n",
       "      <td>lambda</td>\n",
       "      <td>Lambda expression</td>\n",
       "    </tr>\n",
       "  </tbody>\n",
       "</table>\n",
       "</div>"
      ],
      "text/plain": [
       "                                             Operator  \\\n",
       "16  (expressions...), [expressions...], {key: valu...   \n",
       "15  x[index], x[index:index], x(arguments...), x.a...   \n",
       "14                                            await x   \n",
       "13                                                 **   \n",
       "12                                         +x, -x, ~x   \n",
       "11                                     *, @, /, //, %   \n",
       "10                                               +, -   \n",
       "9                                              <<, >>   \n",
       "8                                                   &   \n",
       "7                                                   ^   \n",
       "6                                                   |   \n",
       "5        in, not in, is, is not, <, <=, >, >=, !=, ==   \n",
       "4                                               not x   \n",
       "3                                                 and   \n",
       "2                                                  or   \n",
       "1                                           if – else   \n",
       "0                                              lambda   \n",
       "\n",
       "                                          Description  \n",
       "16  Binding or tuple display, list display, dictio...  \n",
       "15   Subscription, slicing, call, attribute reference  \n",
       "14                                   Await expression  \n",
       "13                                 Exponentiation [6]  \n",
       "12                    Positive, negative, bitwise NOT  \n",
       "11  Multiplication, matrix multiplication division...  \n",
       "10                           Addition and subtraction  \n",
       "9                                              Shifts  \n",
       "8                                         Bitwise AND  \n",
       "7                                         Bitwise XOR  \n",
       "6                                          Bitwise OR  \n",
       "5   Comparisons, including membership tests and id...  \n",
       "4                                         Boolean NOT  \n",
       "3                                         Boolean AND  \n",
       "2                                          Boolean OR  \n",
       "1                              Conditional expression  \n",
       "0                                   Lambda expression  "
      ]
     },
     "execution_count": 5,
     "metadata": {},
     "output_type": "execute_result"
    }
   ],
   "source": [
    "df = (leΨ\n",
    "### extracts <table> tags from the page\n",
    "          \n",
    " * pandas.read_html\n",
    "\n",
    " * (leΨ<<len&\"Loaded {} dataframes\".format&print)\n",
    "  \n",
    " * leΨ.first()\n",
    "  \n",
    " * _x.attrgetter('iloc').itemgetter(slice(None, None, -1))\n",
    "  \n",
    ") & (\n",
    "    ## Call the composition using the docs\n",
    "    call('https://docs.python.org/3/reference/expressions.html')\n",
    ")\n",
    "df\n"
   ]
  },
  {
   "cell_type": "code",
   "execution_count": 6,
   "metadata": {},
   "outputs": [
    {
     "data": {
      "text/markdown": [
       "Binding or tuple display, list display, dictionary display, set display\n",
       "    \n",
       "(expressions...), [expressions...], {key: value...}, {expressions...}"
      ],
      "text/plain": [
       "<IPython.core.display.Markdown object>"
      ]
     },
     "metadata": {},
     "output_type": "display_data"
    }
   ],
   "source": [
    "df.iloc[0].pipe(about)"
   ]
  },
  {
   "cell_type": "code",
   "execution_count": 7,
   "metadata": {},
   "outputs": [
    {
     "data": {
      "text/markdown": [
       "Subscription, slicing, call, attribute reference\n",
       "    \n",
       "x[index], x[index:index], x(arguments...), x.attribute"
      ],
      "text/plain": [
       "<IPython.core.display.Markdown object>"
      ]
     },
     "metadata": {},
     "output_type": "display_data"
    }
   ],
   "source": [
    "df.iloc[1].pipe(about)"
   ]
  },
  {
   "cell_type": "code",
   "execution_count": 8,
   "metadata": {},
   "outputs": [
    {
     "data": {
      "text/markdown": [
       "~~Await expression~~\n",
       "    \n",
       "~~await x~~"
      ],
      "text/plain": [
       "<IPython.core.display.Markdown object>"
      ]
     },
     "metadata": {},
     "output_type": "display_data"
    }
   ],
   "source": [
    "df.iloc[2].apply('~~{}~~'.format).pipe(about)"
   ]
  },
  {
   "cell_type": "code",
   "execution_count": 9,
   "metadata": {},
   "outputs": [
    {
     "data": {
      "text/markdown": [
       "Exponentiation [6]\n",
       "    \n",
       "**"
      ],
      "text/plain": [
       "<IPython.core.display.Markdown object>"
      ]
     },
     "metadata": {},
     "output_type": "display_data"
    }
   ],
   "source": [
    "df.iloc[3].pipe(about)"
   ]
  },
  {
   "cell_type": "markdown",
   "metadata": {},
   "source": [
    "> Only execute a statement when the exponent is true."
   ]
  },
  {
   "cell_type": "code",
   "execution_count": 10,
   "metadata": {},
   "outputs": [
    {
     "data": {
      "text/plain": [
       "False"
      ]
     },
     "execution_count": 10,
     "metadata": {},
     "output_type": "execute_result"
    },
    {
     "data": {
      "text/plain": [
       "'ASDF'"
      ]
     },
     "execution_count": 10,
     "metadata": {},
     "output_type": "execute_result"
    }
   ],
   "source": [
    "# _x[range][list] >> call('asdf')\n",
    "_x[range][list] ** x_(int)[isinstance] >> call('asdf')\n",
    "(_x[range][list] ** x_(int)[isinstance] | str.upper) >> call('asdf')"
   ]
  },
  {
   "cell_type": "code",
   "execution_count": 11,
   "metadata": {},
   "outputs": [
    {
     "data": {
      "text/markdown": [
       "Positive, negative, bitwise NOT\n",
       "    \n",
       "+x, -x, ~x"
      ],
      "text/plain": [
       "<IPython.core.display.Markdown object>"
      ]
     },
     "metadata": {},
     "output_type": "display_data"
    }
   ],
   "source": [
    "df.iloc[4].pipe(about)"
   ]
  },
  {
   "cell_type": "code",
   "execution_count": 12,
   "metadata": {},
   "outputs": [
    {
     "data": {
      "text/plain": [
       "False"
      ]
     },
     "execution_count": 12,
     "metadata": {},
     "output_type": "execute_result"
    },
    {
     "data": {
      "text/plain": [
       "True"
      ]
     },
     "execution_count": 12,
     "metadata": {},
     "output_type": "execute_result"
    },
    {
     "data": {
      "text/plain": [
       "True"
      ]
     },
     "execution_count": 12,
     "metadata": {},
     "output_type": "execute_result"
    },
    {
     "data": {
      "text/plain": [
       "False"
      ]
     },
     "execution_count": 12,
     "metadata": {},
     "output_type": "execute_result"
    }
   ],
   "source": [
    "(+_x[range])(0)\n",
    "(+_x[range])(1)\n",
    "(-_x[range])(0)\n",
    "(-_x[range])(1)"
   ]
  },
  {
   "cell_type": "markdown",
   "metadata": {},
   "source": [
    "reverse direction of the functions."
   ]
  },
  {
   "cell_type": "code",
   "execution_count": 13,
   "metadata": {},
   "outputs": [
    {
     "data": {
      "text/plain": [
       "(<class 'list'>, <class 'range'>)"
      ]
     },
     "execution_count": 13,
     "metadata": {},
     "output_type": "execute_result"
    }
   ],
   "source": [
    "~_x[range][list]"
   ]
  },
  {
   "cell_type": "code",
   "execution_count": 14,
   "metadata": {},
   "outputs": [
    {
     "data": {
      "text/markdown": [
       "Multiplication, matrix multiplication division, remainder [5]\n",
       "    \n",
       "*, @, /, //, %"
      ],
      "text/plain": [
       "<IPython.core.display.Markdown object>"
      ]
     },
     "metadata": {},
     "output_type": "display_data"
    }
   ],
   "source": [
    "df.iloc[5].pipe(about)"
   ]
  },
  {
   "cell_type": "markdown",
   "metadata": {},
   "source": [
    "Use `*` to append function because it is markdowny"
   ]
  },
  {
   "cell_type": "code",
   "execution_count": 15,
   "metadata": {},
   "outputs": [
    {
     "data": {
      "text/plain": [
       "[0, 1, 2, 3, 4, 5, 6, 7, 8, 9]"
      ]
     },
     "execution_count": 15,
     "metadata": {},
     "output_type": "execute_result"
    }
   ],
   "source": [
    "(_x\n",
    " * range\n",
    " * list\n",
    ")(10)"
   ]
  },
  {
   "cell_type": "markdown",
   "metadata": {},
   "source": [
    "groupby"
   ]
  },
  {
   "cell_type": "code",
   "execution_count": 16,
   "metadata": {},
   "outputs": [
    {
     "data": {
      "text/plain": [
       "{0: [0, 2, 4, 6, 8], 1: [1, 3, 5, 7, 9]}"
      ]
     },
     "execution_count": 16,
     "metadata": {},
     "output_type": "execute_result"
    }
   ],
   "source": [
    "_x * range @ _x.mod(2) & call(10)"
   ]
  },
  {
   "cell_type": "markdown",
   "metadata": {},
   "source": [
    "map"
   ]
  },
  {
   "cell_type": "code",
   "execution_count": 17,
   "metadata": {},
   "outputs": [
    {
     "data": {
      "text/plain": [
       "[0, 1, 0, 1, 0, 1, 0, 1, 0, 1]"
      ]
     },
     "execution_count": 17,
     "metadata": {},
     "output_type": "execute_result"
    }
   ],
   "source": [
    "_x * range / _x.mod(2) >> list & call(10)"
   ]
  },
  {
   "cell_type": "markdown",
   "metadata": {},
   "source": [
    "filter"
   ]
  },
  {
   "cell_type": "code",
   "execution_count": 18,
   "metadata": {},
   "outputs": [
    {
     "data": {
      "text/plain": [
       "[1, 3, 5, 7, 9]"
      ]
     },
     "execution_count": 18,
     "metadata": {},
     "output_type": "execute_result"
    }
   ],
   "source": [
    "_x * range // _x.mod(2) >> list & call(10)"
   ]
  },
  {
   "cell_type": "markdown",
   "metadata": {},
   "source": [
    "reduce"
   ]
  },
  {
   "cell_type": "code",
   "execution_count": 19,
   "metadata": {},
   "outputs": [
    {
     "data": {
      "text/plain": [
       "45"
      ]
     },
     "execution_count": 19,
     "metadata": {},
     "output_type": "execute_result"
    }
   ],
   "source": [
    "_x * range % _x.add() & call(10)"
   ]
  },
  {
   "cell_type": "code",
   "execution_count": 20,
   "metadata": {},
   "outputs": [
    {
     "data": {
      "text/plain": [
       "'9876543210'"
      ]
     },
     "execution_count": 20,
     "metadata": {},
     "output_type": "execute_result"
    }
   ],
   "source": [
    "_x * range / str % _x.add() & call(10)"
   ]
  },
  {
   "cell_type": "code",
   "execution_count": 21,
   "metadata": {},
   "outputs": [
    {
     "data": {
      "text/markdown": [
       "Addition and subtraction\n",
       "    \n",
       "+, -"
      ],
      "text/plain": [
       "<IPython.core.display.Markdown object>"
      ]
     },
     "metadata": {},
     "output_type": "display_data"
    }
   ],
   "source": [
    "df.iloc[6].pipe(about)"
   ]
  },
  {
   "cell_type": "markdown",
   "metadata": {},
   "source": [
    "append functions in a markdowny way"
   ]
  },
  {
   "cell_type": "code",
   "execution_count": 22,
   "metadata": {},
   "outputs": [
    {
     "data": {
      "text/plain": [
       "(<class 'range'>, <class 'list'>, <built-in function len>)"
      ]
     },
     "execution_count": 22,
     "metadata": {},
     "output_type": "execute_result"
    }
   ],
   "source": [
    "_x + range - list + len"
   ]
  },
  {
   "cell_type": "code",
   "execution_count": 23,
   "metadata": {},
   "outputs": [
    {
     "data": {
      "text/markdown": [
       "Shifts\n",
       "    \n",
       "<<, >>"
      ],
      "text/plain": [
       "<IPython.core.display.Markdown object>"
      ]
     },
     "metadata": {},
     "output_type": "display_data"
    }
   ],
   "source": [
    "df.iloc[7].pipe(about)"
   ]
  },
  {
   "cell_type": "code",
   "execution_count": 24,
   "metadata": {},
   "outputs": [
    {
     "data": {
      "text/plain": [
       "10"
      ]
     },
     "execution_count": 24,
     "metadata": {},
     "output_type": "execute_result"
    }
   ],
   "source": [
    "_x << range >> list >> [len, sum] >> call(10)"
   ]
  },
  {
   "cell_type": "code",
   "execution_count": 25,
   "metadata": {},
   "outputs": [
    {
     "name": "stdout",
     "output_type": "stream",
     "text": [
      "[10, 45]\n"
     ]
    },
    {
     "data": {
      "text/plain": [
       "[10, 45]"
      ]
     },
     "execution_count": 25,
     "metadata": {},
     "output_type": "execute_result"
    }
   ],
   "source": [
    "_x >> range >> list >> [len, sum] << print >> call(10)"
   ]
  },
  {
   "cell_type": "code",
   "execution_count": 26,
   "metadata": {},
   "outputs": [
    {
     "data": {
      "text/markdown": [
       "Bitwise AND\n",
       "    \n",
       "&"
      ],
      "text/plain": [
       "<IPython.core.display.Markdown object>"
      ]
     },
     "metadata": {},
     "output_type": "display_data"
    }
   ],
   "source": [
    "df.iloc[8].pipe(about)"
   ]
  },
  {
   "cell_type": "code",
   "execution_count": 27,
   "metadata": {},
   "outputs": [
    {
     "data": {
      "text/plain": [
       "[10, 45]"
      ]
     },
     "execution_count": 27,
     "metadata": {},
     "output_type": "execute_result"
    }
   ],
   "source": [
    "_x & range & list & [len, sum] & call(10)"
   ]
  },
  {
   "cell_type": "code",
   "execution_count": 28,
   "metadata": {},
   "outputs": [
    {
     "data": {
      "text/markdown": [
       "Bitwise XOR\n",
       "    \n",
       "^"
      ],
      "text/plain": [
       "<IPython.core.display.Markdown object>"
      ]
     },
     "metadata": {},
     "output_type": "display_data"
    }
   ],
   "source": [
    "df.iloc[9].pipe(about)"
   ]
  },
  {
   "cell_type": "code",
   "execution_count": 29,
   "metadata": {},
   "outputs": [
    {
     "data": {
      "text/plain": [
       "False"
      ]
     },
     "execution_count": 29,
     "metadata": {},
     "output_type": "execute_result"
    }
   ],
   "source": [
    "(_x + str.upper ^ x_(str)[isinstance]) + call(10)"
   ]
  },
  {
   "cell_type": "code",
   "execution_count": 30,
   "metadata": {},
   "outputs": [
    {
     "data": {
      "text/plain": [
       "'ASDF10'"
      ]
     },
     "execution_count": 30,
     "metadata": {},
     "output_type": "execute_result"
    }
   ],
   "source": [
    "(_x + str.upper ^ x_(str)[isinstance]) + call('asdf10')"
   ]
  },
  {
   "cell_type": "code",
   "execution_count": 31,
   "metadata": {},
   "outputs": [
    {
     "data": {
      "text/markdown": [
       "Bitwise OR\n",
       "    \n",
       "|"
      ],
      "text/plain": [
       "<IPython.core.display.Markdown object>"
      ]
     },
     "metadata": {},
     "output_type": "display_data"
    }
   ],
   "source": [
    "df.iloc[10].pipe(about)"
   ]
  },
  {
   "cell_type": "code",
   "execution_count": 32,
   "metadata": {
    "collapsed": true
   },
   "outputs": [],
   "source": [
    "conditional = (_x \n",
    " + str.upper                    ^ x_(str)[isinstance]\n",
    " | _x.mul(10)                   ^ x_((int, float))[isinstance]\n",
    " | \"Can't do anything with {}\".format\n",
    ")"
   ]
  },
  {
   "cell_type": "code",
   "execution_count": 33,
   "metadata": {},
   "outputs": [
    {
     "data": {
      "text/plain": [
       "\"Can't do anything with {10}\""
      ]
     },
     "execution_count": 33,
     "metadata": {},
     "output_type": "execute_result"
    }
   ],
   "source": [
    "conditional({10})"
   ]
  },
  {
   "cell_type": "code",
   "execution_count": 34,
   "metadata": {},
   "outputs": [
    {
     "data": {
      "text/plain": [
       "'ASDF10'"
      ]
     },
     "execution_count": 34,
     "metadata": {},
     "output_type": "execute_result"
    }
   ],
   "source": [
    "conditional('asdf10')"
   ]
  },
  {
   "cell_type": "code",
   "execution_count": 35,
   "metadata": {},
   "outputs": [
    {
     "data": {
      "text/plain": [
       "100"
      ]
     },
     "execution_count": 35,
     "metadata": {},
     "output_type": "execute_result"
    }
   ],
   "source": [
    "conditional(10)"
   ]
  },
  {
   "cell_type": "code",
   "execution_count": 36,
   "metadata": {},
   "outputs": [
    {
     "data": {
      "text/markdown": [
       "Comparisons, including membership tests and identity tests\n",
       "    \n",
       "in, not in, is, is not, <, <=, >, >=, !=, =="
      ],
      "text/plain": [
       "<IPython.core.display.Markdown object>"
      ]
     },
     "metadata": {},
     "output_type": "display_data"
    }
   ],
   "source": [
    "df.iloc[11].pipe(about)"
   ]
  },
  {
   "cell_type": "code",
   "execution_count": 37,
   "metadata": {},
   "outputs": [
    {
     "data": {
      "text/plain": [
       "True"
      ]
     },
     "execution_count": 37,
     "metadata": {},
     "output_type": "execute_result"
    },
    {
     "data": {
      "text/plain": [
       "True"
      ]
     },
     "execution_count": 37,
     "metadata": {},
     "output_type": "execute_result"
    },
    {
     "data": {
      "text/plain": [
       "True"
      ]
     },
     "execution_count": 37,
     "metadata": {},
     "output_type": "execute_result"
    }
   ],
   "source": [
    "_x >> range < _x >> range >> list\n",
    "_x >> range >> list is not _x >> range >> list\n",
    "_x >> range >> list == _x >> range >> list"
   ]
  },
  {
   "cell_type": "code",
   "execution_count": 38,
   "metadata": {},
   "outputs": [
    {
     "data": {
      "text/plain": [
       "True"
      ]
     },
     "execution_count": 38,
     "metadata": {},
     "output_type": "execute_result"
    },
    {
     "data": {
      "text/plain": [
       "True"
      ]
     },
     "execution_count": 38,
     "metadata": {},
     "output_type": "execute_result"
    }
   ],
   "source": [
    "range in _x[range][len]\n",
    "range not in _x[_x[range]][len]"
   ]
  },
  {
   "cell_type": "code",
   "execution_count": 39,
   "metadata": {},
   "outputs": [
    {
     "data": {
      "text/plain": [
       "((), <class 'type'>)"
      ]
     },
     "execution_count": 39,
     "metadata": {},
     "output_type": "execute_result"
    },
    {
     "data": {
      "text/plain": [
       "((), <class 'type'>, <class 'type'>, <class 'type'>, <class 'type'>, <class 'type'>)"
      ]
     },
     "execution_count": 39,
     "metadata": {},
     "output_type": "execute_result"
    },
    {
     "data": {
      "text/plain": [
       "((), <class 'type'>, <class 'type'>, <class 'type'>, <class 'type'>, <class 'type'>, <class 'type'>)"
      ]
     },
     "execution_count": 39,
     "metadata": {},
     "output_type": "execute_result"
    },
    {
     "data": {
      "text/plain": [
       "((), <class 'type'>, <class 'type'>, <class 'type'>, <class 'type'>, <class 'type'>, <class 'type'>, <class 'type'>)"
      ]
     },
     "execution_count": 39,
     "metadata": {},
     "output_type": "execute_result"
    },
    {
     "data": {
      "text/plain": [
       "((), <class 'type'>, <class 'type'>, <class 'type'>, <class 'type'>, <class 'type'>, <class 'type'>, <class 'type'>, {<class 'type'>})"
      ]
     },
     "execution_count": 39,
     "metadata": {},
     "output_type": "execute_result"
    },
    {
     "data": {
      "text/plain": [
       "(<class 'type'>, functools.partial(<built-in function add>, ((), <class 'type'>, <class 'type'>, <class 'type'>, <class 'type'>, <class 'type'>, <class 'type'>, <class 'type'>, {<class 'type'>})))"
      ]
     },
     "execution_count": 39,
     "metadata": {},
     "output_type": "execute_result"
    },
    {
     "data": {
      "text/plain": [
       "([<class 'type'>, <class 'type'>, <class 'type'>, <class 'type'>, <class 'type'>, <class 'type'>, <class 'type'>, <class 'type'>, <class 'type'>, <class 'type'>], functools.partial(<built-in function mul>, ((), <class 'type'>, <class 'type'>, <class 'type'>, <class 'type'>, <class 'type'>, <class 'type'>, <class 'type'>, {<class 'type'>}, <class 'type'>)))"
      ]
     },
     "execution_count": 39,
     "metadata": {},
     "output_type": "execute_result"
    },
    {
     "data": {
      "text/plain": [
       "((), <class 'type'>, <class 'type'>, <class 'type'>, <class 'type'>, <class 'type'>, <class 'type'>, <class 'type'>, {<class 'type'>}, <class 'type'>, <function first at 0x10d1287b8>)"
      ]
     },
     "execution_count": 39,
     "metadata": {},
     "output_type": "execute_result"
    },
    {
     "data": {
      "text/plain": [
       "((), <class 'type'>, <class 'type'>, <class 'type'>, <class 'type'>, <class 'type'>, <class 'type'>, <class 'type'>, {<class 'type'>}, <class 'type'>, <function first at 0x10d1287b8>)"
      ]
     },
     "execution_count": 39,
     "metadata": {},
     "output_type": "execute_result"
    }
   ],
   "source": [
    "sumpin = _x\n",
    "with sumpin ** \"like an 💡\" as such:\n",
    "    such[type]\n",
    "    such += type\n",
    "    such *= type\n",
    "    such -= type\n",
    "    such * type\n",
    "    such + type\n",
    "    such - type\n",
    "    such[{type, type, type}]\n",
    "    type + such\n",
    "    [type]*10 * such[type]\n",
    "    such.first()\n",
    "such"
   ]
  },
  {
   "cell_type": "markdown",
   "metadata": {},
   "source": [
    "> logging"
   ]
  },
  {
   "cell_type": "code",
   "execution_count": 40,
   "metadata": {
    "collapsed": true
   },
   "outputs": [],
   "source": [
    "from copy import copy"
   ]
  },
  {
   "cell_type": "code",
   "execution_count": 41,
   "metadata": {},
   "outputs": [
    {
     "data": {
      "text/plain": [
       "[0, 1, 2, 3, 4, 5, 6, 7, 8, 9]"
      ]
     },
     "execution_count": 41,
     "metadata": {},
     "output_type": "execute_result"
    }
   ],
   "source": [
    "from time import time\n",
    "log = 'get_ipython' not in globals() and print or get_ipython().log.warning\n",
    "\n",
    "with [] - _xx[time] as _time_: \n",
    "    t = _time_()\n",
    "\n",
    "(_x\n",
    " >> range\n",
    " # print intermediate results\n",
    " << (_x\n",
    "  - [len, sum, _time_ - _x.sub(t) - \"\"\"{} sec\"\"\".format] >> log)\n",
    " >> list\n",
    ") >> call(10)"
   ]
  },
  {
   "cell_type": "code",
   "execution_count": 42,
   "metadata": {},
   "outputs": [
    {
     "name": "stdout",
     "output_type": "stream",
     "text": [
      "10\n"
     ]
    },
    {
     "data": {
      "text/plain": [
       "10"
      ]
     },
     "execution_count": 42,
     "metadata": {},
     "output_type": "execute_result"
    }
   ],
   "source": [
    "_x << print >> call(10)"
   ]
  },
  {
   "cell_type": "code",
   "execution_count": 43,
   "metadata": {},
   "outputs": [
    {
     "data": {
      "text/plain": [
       "[0, 1, 2, 3, 4, 5, 6, 7, 8, 9]"
      ]
     },
     "execution_count": 43,
     "metadata": {},
     "output_type": "execute_result"
    }
   ],
   "source": [
    "(_x\n",
    " >> range\n",
    " # print intermediate results\n",
    " << (_x\n",
    "  - [len, sum, _time_ - _x.sub(t) - \"\"\"{} sec\"\"\".format] >> log)\n",
    " >> list\n",
    ") >> call(10)"
   ]
  },
  {
   "cell_type": "code",
   "execution_count": null,
   "metadata": {
    "collapsed": true
   },
   "outputs": [],
   "source": []
  }
 ],
 "metadata": {
  "anaconda-cloud": {},
  "kernelspec": {
   "display_name": "Python 3",
   "language": "python",
   "name": "python3"
  },
  "language_info": {
   "codemirror_mode": {
    "name": "ipython",
    "version": 3
   },
   "file_extension": ".py",
   "mimetype": "text/x-python",
   "name": "python",
   "nbconvert_exporter": "python",
   "pygments_lexer": "ipython3",
   "version": "3.5.3"
  }
 },
 "nbformat": 4,
 "nbformat_minor": 2
}
